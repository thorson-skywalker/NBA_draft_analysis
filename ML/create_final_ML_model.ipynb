{
 "metadata": {
  "language_info": {
   "codemirror_mode": {
    "name": "ipython",
    "version": 3
   },
   "file_extension": ".py",
   "mimetype": "text/x-python",
   "name": "python",
   "nbconvert_exporter": "python",
   "pygments_lexer": "ipython3",
   "version": "3.7.9"
  },
  "orig_nbformat": 2,
  "kernelspec": {
   "name": "python3",
   "display_name": "Python 3.7.9 64-bit ('mlenv': conda)"
  },
  "interpreter": {
   "hash": "fb187ceb99e597fc4fb087033f2a56d4997f1306a985d00c1ac5ca0a4e888195"
  }
 },
 "nbformat": 4,
 "nbformat_minor": 2,
 "cells": [
  {
   "cell_type": "code",
   "execution_count": 1,
   "metadata": {},
   "outputs": [],
   "source": [
    "import pandas as pd\n",
    "from pathlib import Path\n",
    "from sklearn import svm\n",
    "from sklearn.linear_model import LogisticRegression\n",
    "from sklearn.model_selection import train_test_split\n",
    "from sklearn.metrics import accuracy_score, confusion_matrix, classification_report\n",
    "from imblearn.combine import SMOTEENN\n",
    "import pickle"
   ]
  },
  {
   "source": [
    "## Import data from s3.amazonaws"
   ],
   "cell_type": "markdown",
   "metadata": {}
  },
  {
   "cell_type": "code",
   "execution_count": 2,
   "metadata": {},
   "outputs": [],
   "source": [
    "data_2007_2020 = 'https://s3.amazonaws.com/parkerhiggins-nba-draft-bucket/07-20_MBB_StatsAndDraft.csv'\n",
    "\n",
    "raw_df = pd.read_csv(data_2007_2020)"
   ]
  },
  {
   "source": [
    "## Preprocessing: Remove non-numerical columns"
   ],
   "cell_type": "markdown",
   "metadata": {}
  },
  {
   "cell_type": "code",
   "execution_count": 3,
   "metadata": {},
   "outputs": [],
   "source": [
    "numerical_cols = raw_df.dtypes[raw_df.dtypes != 'object'].index.tolist()\n",
    "\n",
    "numerical_df = raw_df[numerical_cols]\n",
    "numerical_df.index = raw_df['#']"
   ]
  },
  {
   "cell_type": "code",
   "execution_count": 4,
   "metadata": {},
   "outputs": [
    {
     "output_type": "stream",
     "name": "stderr",
     "text": [
      "ipykernel_launcher:1: SettingWithCopyWarning: \nA value is trying to be set on a copy of a slice from a DataFrame.\nTry using .loc[row_indexer,col_indexer] = value instead\n\nSee the caveats in the documentation: https://pandas.pydata.org/pandas-docs/stable/user_guide/indexing.html#returning-a-view-versus-a-copy\n"
     ]
    }
   ],
   "source": [
    "numerical_df['draft_status'] = (numerical_df['season_year']==numerical_df['draft_year']).astype(bool)"
   ]
  },
  {
   "source": [
    "## Preprocessing: Select common individual basketball statistics to use as features in the model"
   ],
   "cell_type": "markdown",
   "metadata": {}
  },
  {
   "cell_type": "code",
   "execution_count": 5,
   "metadata": {},
   "outputs": [
    {
     "output_type": "execute_result",
     "data": {
      "text/plain": [
       "Index(['#', 'gp', 'mpg', 'fgm', 'fga', 'FG%', '3PM', '3PA', '3P%', 'ftm',\n",
       "       'fta', 'FT%', 'tov', 'pf', 'orb', 'drb', 'rpg', 'apg', 'spg', 'bpg',\n",
       "       'ppg', 'season_year', 'pk', 'draft_year', 'draft_status'],\n",
       "      dtype='object')"
      ]
     },
     "metadata": {},
     "execution_count": 5
    }
   ],
   "source": [
    "numerical_df.columns"
   ]
  },
  {
   "cell_type": "code",
   "execution_count": 7,
   "metadata": {},
   "outputs": [],
   "source": [
    "selected_features = ['ppg','rpg','apg','spg','tov','draft_status','FG%','3P%','FT%']\n",
    "data_df = numerical_df[selected_features]\n",
    "\n",
    "X = data_df.drop(columns=['draft_status'])\n",
    "y = data_df['draft_status']"
   ]
  },
  {
   "source": [
    "## Preprocessing: Use SMOTEENN to oversample drafted players and undersample undrafted players"
   ],
   "cell_type": "markdown",
   "metadata": {}
  },
  {
   "cell_type": "code",
   "execution_count": 8,
   "metadata": {},
   "outputs": [],
   "source": [
    "smoteenn = SMOTEENN(random_state=1)\n",
    "X_resampled, y_resampled = smoteenn.fit_resample(X,y)"
   ]
  },
  {
   "source": [
    "## Preprocessing: Split into training and test datasets"
   ],
   "cell_type": "markdown",
   "metadata": {}
  },
  {
   "cell_type": "code",
   "execution_count": 9,
   "metadata": {},
   "outputs": [],
   "source": [
    "X_train, X_test, y_train, y_test = train_test_split(X_resampled, y_resampled,random_state=1,test_size=0.05)"
   ]
  },
  {
   "source": [
    "# Logistic Regression Model"
   ],
   "cell_type": "markdown",
   "metadata": {}
  },
  {
   "cell_type": "code",
   "execution_count": 10,
   "metadata": {},
   "outputs": [
    {
     "output_type": "stream",
     "name": "stdout",
     "text": [
      "0.8697378872120731 \n\n[[ 992  186]\n [ 142 1198]] \n\n              precision    recall  f1-score   support\n\n       False       0.87      0.84      0.86      1178\n        True       0.87      0.89      0.88      1340\n\n    accuracy                           0.87      2518\n   macro avg       0.87      0.87      0.87      2518\nweighted avg       0.87      0.87      0.87      2518\n \n\n"
     ]
    }
   ],
   "source": [
    "lr = LogisticRegression(solver='lbfgs',random_state=1, max_iter=1000)\n",
    "lr.fit(X_train,y_train)\n",
    "\n",
    "lr_pred = lr.predict(X_test)\n",
    "\n",
    "lr_acc_score = accuracy_score(y_test,lr_pred)\n",
    "lr_matrix = confusion_matrix(y_test,lr_pred)\n",
    "lr_results = pd.DataFrame({\"Prediction\": lr_pred, \"Actual\": y_test}).reset_index(drop=True)\n",
    "lr_report = classification_report(y_test,lr_pred,zero_division=True)\n",
    "\n",
    "print(lr_acc_score,'\\n')\n",
    "print(lr_matrix,'\\n')\n",
    "print(lr_report,'\\n')\n",
    "\n",
    "model_filename = 'nba_LogReg_model.sav'\n",
    "pickle.dump(lr, open(model_filename, 'wb'))"
   ]
  },
  {
   "source": [
    "# Predict 2021 Draft Picks"
   ],
   "cell_type": "markdown",
   "metadata": {}
  },
  {
   "cell_type": "code",
   "execution_count": 11,
   "metadata": {},
   "outputs": [],
   "source": [
    "nba_2021_url = 'https://parkerhiggins-nba-draft-bucket.s3.amazonaws.com/season_stats_data_2020-2021.csv'\n",
    "\n",
    "raw_2021_data = pd.read_csv(nba_2021_url)"
   ]
  },
  {
   "cell_type": "code",
   "execution_count": 14,
   "metadata": {},
   "outputs": [],
   "source": [
    "numerical_cols_2021 = raw_2021_data.dtypes[raw_2021_data.dtypes != 'object'].index.tolist()\n",
    "\n",
    "numerical_2021 = raw_2021_data[numerical_cols_2021]\n",
    "numerical_2021.index = raw_2021_data['#']\n",
    "\n",
    "selected_features_2021 = ['PPG','RPG','APG','SPG','TOV','FG%','3P%','FT%']\n",
    "\n",
    "X_2021 = numerical_2021[selected_features_2021]"
   ]
  },
  {
   "cell_type": "code",
   "execution_count": 15,
   "metadata": {},
   "outputs": [],
   "source": [
    "pred_2021 = lr.predict(X_2021)"
   ]
  },
  {
   "cell_type": "code",
   "execution_count": 16,
   "metadata": {},
   "outputs": [],
   "source": [
    "draft_prob = lr.predict_proba(X_2021)\n",
    "\n",
    "draft_prob_true = []\n",
    "for prob in draft_prob:\n",
    "    draft_prob_true.append(prob[1])"
   ]
  },
  {
   "cell_type": "code",
   "execution_count": 17,
   "metadata": {},
   "outputs": [
    {
     "output_type": "stream",
     "name": "stderr",
     "text": [
      "ipykernel_launcher:6: SettingWithCopyWarning: \nA value is trying to be set on a copy of a slice from a DataFrame.\nTry using .loc[row_indexer,col_indexer] = value instead\n\nSee the caveats in the documentation: https://pandas.pydata.org/pandas-docs/stable/user_guide/indexing.html#returning-a-view-versus-a-copy\nipykernel_launcher:7: SettingWithCopyWarning: \nA value is trying to be set on a copy of a slice from a DataFrame.\nTry using .loc[row_indexer,col_indexer] = value instead\n\nSee the caveats in the documentation: https://pandas.pydata.org/pandas-docs/stable/user_guide/indexing.html#returning-a-view-versus-a-copy\n"
     ]
    }
   ],
   "source": [
    "prediction_display_features = ['Player','Team']\n",
    "for feature in selected_features_2021:\n",
    "    prediction_display_features.append(feature)\n",
    "\n",
    "draft_predictions_2021 = raw_2021_data[prediction_display_features]\n",
    "draft_predictions_2021['draft_prediction'] = pred_2021\n",
    "draft_predictions_2021['draft_prob'] = draft_prob_true"
   ]
  },
  {
   "cell_type": "code",
   "execution_count": 18,
   "metadata": {},
   "outputs": [],
   "source": [
    "draft_picks_2021 = draft_predictions_2021.sort_values(by='draft_prob',ascending=False).head(60).drop(['draft_prob','draft_prediction'],axis=1)\n",
    "\n",
    "draft_picks_2021 = draft_picks_2021.rename(columns={'FG%':'fgPercent','3P%':'threePointPercent','FT%':'freeThrowPercent'})"
   ]
  },
  {
   "cell_type": "code",
   "execution_count": 19,
   "metadata": {},
   "outputs": [],
   "source": [
    "predictions_filepath = './2021_predictions.json'\n",
    "draft_picks_2021.to_json(predictions_filepath)"
   ]
  }
 ]
}
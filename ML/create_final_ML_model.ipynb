{
 "metadata": {
  "language_info": {
   "codemirror_mode": {
    "name": "ipython",
    "version": 3
   },
   "file_extension": ".py",
   "mimetype": "text/x-python",
   "name": "python",
   "nbconvert_exporter": "python",
   "pygments_lexer": "ipython3",
   "version": "3.7.9"
  },
  "orig_nbformat": 2,
  "kernelspec": {
   "name": "python3",
   "display_name": "Python 3.7.9 64-bit ('mlenv': conda)"
  },
  "interpreter": {
   "hash": "fb187ceb99e597fc4fb087033f2a56d4997f1306a985d00c1ac5ca0a4e888195"
  }
 },
 "nbformat": 4,
 "nbformat_minor": 2,
 "cells": [
  {
   "cell_type": "code",
   "execution_count": 2,
   "metadata": {},
   "outputs": [],
   "source": [
    "import pandas as pd\n",
    "from pathlib import Path\n",
    "from sklearn import svm\n",
    "from sklearn.linear_model import LogisticRegression\n",
    "from sklearn.model_selection import train_test_split\n",
    "from sklearn.metrics import accuracy_score, confusion_matrix, classification_report\n",
    "from imblearn.combine import SMOTEENN\n",
    "import pickle"
   ]
  },
  {
   "source": [
    "## Import data from s3.amazonaws"
   ],
   "cell_type": "markdown",
   "metadata": {}
  },
  {
   "cell_type": "code",
   "execution_count": 3,
   "metadata": {},
   "outputs": [],
   "source": [
    "data_2007_2020 = 'https://s3.amazonaws.com/parkerhiggins-nba-draft-bucket/07-20_MBB_StatsAndDraft.csv'\n",
    "\n",
    "raw_df = pd.read_csv(data_2007_2020)"
   ]
  },
  {
   "source": [
    "## Preprocessing: Remove non-numerical columns"
   ],
   "cell_type": "markdown",
   "metadata": {}
  },
  {
   "cell_type": "code",
   "execution_count": 4,
   "metadata": {},
   "outputs": [],
   "source": [
    "numerical_cols = raw_df.dtypes[raw_df.dtypes != 'object'].index.tolist()\n",
    "\n",
    "numerical_df = raw_df[numerical_cols]\n",
    "numerical_df.index = raw_df['#']"
   ]
  },
  {
   "cell_type": "code",
   "execution_count": 5,
   "metadata": {},
   "outputs": [
    {
     "output_type": "stream",
     "name": "stderr",
     "text": [
      "C:\\Users\\brady\\AppData\\Roaming\\Python\\Python37\\site-packages\\ipykernel_launcher.py:1: SettingWithCopyWarning: \nA value is trying to be set on a copy of a slice from a DataFrame.\nTry using .loc[row_indexer,col_indexer] = value instead\n\nSee the caveats in the documentation: https://pandas.pydata.org/pandas-docs/stable/user_guide/indexing.html#returning-a-view-versus-a-copy\n  \"\"\"Entry point for launching an IPython kernel.\n"
     ]
    }
   ],
   "source": [
    "numerical_df['draft_status'] = (numerical_df['season_year']==numerical_df['draft_year']).astype(bool)"
   ]
  },
  {
   "source": [
    "## Preprocessing: Select common individual basketball statistics to use as features in the model"
   ],
   "cell_type": "markdown",
   "metadata": {}
  },
  {
   "cell_type": "code",
   "execution_count": 6,
   "metadata": {},
   "outputs": [
    {
     "output_type": "execute_result",
     "data": {
      "text/plain": [
       "Index(['#', 'gp', 'mpg', 'fgm', 'fga', 'FG%', '3PM', '3PA', '3P%', 'ftm',\n",
       "       'fta', 'FT%', 'tov', 'pf', 'orb', 'drb', 'rpg', 'apg', 'spg', 'bpg',\n",
       "       'ppg', 'season_year', 'pk', 'draft_year', 'draft_status'],\n",
       "      dtype='object')"
      ]
     },
     "metadata": {},
     "execution_count": 6
    }
   ],
   "source": [
    "numerical_df.columns"
   ]
  },
  {
   "cell_type": "code",
   "execution_count": 52,
   "metadata": {},
   "outputs": [
    {
     "output_type": "execute_result",
     "data": {
      "text/plain": [
       "                    #  gp   mpg  fgm   fga    FG%  3PM   3PA    3P%  ftm  ...  \\\n",
       "player                                                                    ...   \n",
       "Stephen Curry       1  34  33.7  9.2  20.2  0.455  3.8   9.9  0.387  6.5  ...   \n",
       "Markus Howard       1  29  33.2  8.2  19.3  0.422  4.2  10.1  0.412  7.3  ...   \n",
       "Tyler Harvey        1  32  36.9  7.2  15.3  0.469  4.0   9.3  0.431  4.7  ...   \n",
       "Marcus Keene        1  32  36.8  9.8  21.9  0.447  3.9  10.6  0.368  6.5  ...   \n",
       "Reggie Hamilton     1  36  35.6  7.8  17.5  0.447  3.3   7.8  0.420  7.3  ...   \n",
       "...               ...  ..   ...  ...   ...    ...  ...   ...    ...  ...  ...   \n",
       "Cody Riley       2000  30  17.5  2.1   4.4  0.474  0.2   0.7  0.300  1.1  ...   \n",
       "Jahcobi Neath    2000  30  18.4  1.8   4.3  0.422  0.4   0.8  0.480  1.3  ...   \n",
       "C.J. Neumann     2000  32  29.4  1.8   3.7  0.504  0.0   0.1  0.000  1.4  ...   \n",
       "Donnie Carson    2000  28  20.1  1.9   5.4  0.353  0.0   0.3  0.111  0.8  ...   \n",
       "Kevin Ware       2000  37  16.6  1.6   3.6  0.447  0.4   1.0  0.405  0.9  ...   \n",
       "\n",
       "                 rpg  apg  spg  bpg   ppg  season_year    pk  draft_year  \\\n",
       "player                                                                     \n",
       "Stephen Curry    4.4  5.6  2.5  0.2  28.6         2009   7.0      2009.0   \n",
       "Markus Howard    3.5  3.3  0.9  0.0  27.8         2020   NaN         NaN   \n",
       "Tyler Harvey     3.6  2.6  1.1  0.1  23.1         2015  51.0      2015.0   \n",
       "Marcus Keene     4.5  4.9  0.8  0.0  30.0         2017   NaN         NaN   \n",
       "Reggie Hamilton  3.8  5.1  2.0  0.1  26.2         2012   NaN         NaN   \n",
       "...              ...  ...  ...  ...   ...          ...   ...         ...   \n",
       "Cody Riley       4.1  0.7  0.3  0.4   5.5         2019   NaN         NaN   \n",
       "Jahcobi Neath    1.9  2.2  0.5  0.0   5.3         2020   NaN         NaN   \n",
       "C.J. Neumann     7.0  1.2  0.8  0.3   5.1         2016   NaN         NaN   \n",
       "Donnie Carson    3.1  1.5  0.5  0.4   4.6         2010   NaN         NaN   \n",
       "Kevin Ware       1.8  0.8  1.1  0.1   4.5         2013   NaN         NaN   \n",
       "\n",
       "                 draft_status  player  \n",
       "player                                 \n",
       "Stephen Curry            True     NaN  \n",
       "Markus Howard           False     NaN  \n",
       "Tyler Harvey             True     NaN  \n",
       "Marcus Keene            False     NaN  \n",
       "Reggie Hamilton         False     NaN  \n",
       "...                       ...     ...  \n",
       "Cody Riley              False     NaN  \n",
       "Jahcobi Neath           False     NaN  \n",
       "C.J. Neumann            False     NaN  \n",
       "Donnie Carson           False     NaN  \n",
       "Kevin Ware              False     NaN  \n",
       "\n",
       "[28014 rows x 26 columns]"
      ],
      "text/html": "<div>\n<style scoped>\n    .dataframe tbody tr th:only-of-type {\n        vertical-align: middle;\n    }\n\n    .dataframe tbody tr th {\n        vertical-align: top;\n    }\n\n    .dataframe thead th {\n        text-align: right;\n    }\n</style>\n<table border=\"1\" class=\"dataframe\">\n  <thead>\n    <tr style=\"text-align: right;\">\n      <th></th>\n      <th>#</th>\n      <th>gp</th>\n      <th>mpg</th>\n      <th>fgm</th>\n      <th>fga</th>\n      <th>FG%</th>\n      <th>3PM</th>\n      <th>3PA</th>\n      <th>3P%</th>\n      <th>ftm</th>\n      <th>...</th>\n      <th>rpg</th>\n      <th>apg</th>\n      <th>spg</th>\n      <th>bpg</th>\n      <th>ppg</th>\n      <th>season_year</th>\n      <th>pk</th>\n      <th>draft_year</th>\n      <th>draft_status</th>\n      <th>player</th>\n    </tr>\n    <tr>\n      <th>player</th>\n      <th></th>\n      <th></th>\n      <th></th>\n      <th></th>\n      <th></th>\n      <th></th>\n      <th></th>\n      <th></th>\n      <th></th>\n      <th></th>\n      <th></th>\n      <th></th>\n      <th></th>\n      <th></th>\n      <th></th>\n      <th></th>\n      <th></th>\n      <th></th>\n      <th></th>\n      <th></th>\n      <th></th>\n    </tr>\n  </thead>\n  <tbody>\n    <tr>\n      <th>Stephen Curry</th>\n      <td>1</td>\n      <td>34</td>\n      <td>33.7</td>\n      <td>9.2</td>\n      <td>20.2</td>\n      <td>0.455</td>\n      <td>3.8</td>\n      <td>9.9</td>\n      <td>0.387</td>\n      <td>6.5</td>\n      <td>...</td>\n      <td>4.4</td>\n      <td>5.6</td>\n      <td>2.5</td>\n      <td>0.2</td>\n      <td>28.6</td>\n      <td>2009</td>\n      <td>7.0</td>\n      <td>2009.0</td>\n      <td>True</td>\n      <td>NaN</td>\n    </tr>\n    <tr>\n      <th>Markus Howard</th>\n      <td>1</td>\n      <td>29</td>\n      <td>33.2</td>\n      <td>8.2</td>\n      <td>19.3</td>\n      <td>0.422</td>\n      <td>4.2</td>\n      <td>10.1</td>\n      <td>0.412</td>\n      <td>7.3</td>\n      <td>...</td>\n      <td>3.5</td>\n      <td>3.3</td>\n      <td>0.9</td>\n      <td>0.0</td>\n      <td>27.8</td>\n      <td>2020</td>\n      <td>NaN</td>\n      <td>NaN</td>\n      <td>False</td>\n      <td>NaN</td>\n    </tr>\n    <tr>\n      <th>Tyler Harvey</th>\n      <td>1</td>\n      <td>32</td>\n      <td>36.9</td>\n      <td>7.2</td>\n      <td>15.3</td>\n      <td>0.469</td>\n      <td>4.0</td>\n      <td>9.3</td>\n      <td>0.431</td>\n      <td>4.7</td>\n      <td>...</td>\n      <td>3.6</td>\n      <td>2.6</td>\n      <td>1.1</td>\n      <td>0.1</td>\n      <td>23.1</td>\n      <td>2015</td>\n      <td>51.0</td>\n      <td>2015.0</td>\n      <td>True</td>\n      <td>NaN</td>\n    </tr>\n    <tr>\n      <th>Marcus Keene</th>\n      <td>1</td>\n      <td>32</td>\n      <td>36.8</td>\n      <td>9.8</td>\n      <td>21.9</td>\n      <td>0.447</td>\n      <td>3.9</td>\n      <td>10.6</td>\n      <td>0.368</td>\n      <td>6.5</td>\n      <td>...</td>\n      <td>4.5</td>\n      <td>4.9</td>\n      <td>0.8</td>\n      <td>0.0</td>\n      <td>30.0</td>\n      <td>2017</td>\n      <td>NaN</td>\n      <td>NaN</td>\n      <td>False</td>\n      <td>NaN</td>\n    </tr>\n    <tr>\n      <th>Reggie Hamilton</th>\n      <td>1</td>\n      <td>36</td>\n      <td>35.6</td>\n      <td>7.8</td>\n      <td>17.5</td>\n      <td>0.447</td>\n      <td>3.3</td>\n      <td>7.8</td>\n      <td>0.420</td>\n      <td>7.3</td>\n      <td>...</td>\n      <td>3.8</td>\n      <td>5.1</td>\n      <td>2.0</td>\n      <td>0.1</td>\n      <td>26.2</td>\n      <td>2012</td>\n      <td>NaN</td>\n      <td>NaN</td>\n      <td>False</td>\n      <td>NaN</td>\n    </tr>\n    <tr>\n      <th>...</th>\n      <td>...</td>\n      <td>...</td>\n      <td>...</td>\n      <td>...</td>\n      <td>...</td>\n      <td>...</td>\n      <td>...</td>\n      <td>...</td>\n      <td>...</td>\n      <td>...</td>\n      <td>...</td>\n      <td>...</td>\n      <td>...</td>\n      <td>...</td>\n      <td>...</td>\n      <td>...</td>\n      <td>...</td>\n      <td>...</td>\n      <td>...</td>\n      <td>...</td>\n      <td>...</td>\n    </tr>\n    <tr>\n      <th>Cody Riley</th>\n      <td>2000</td>\n      <td>30</td>\n      <td>17.5</td>\n      <td>2.1</td>\n      <td>4.4</td>\n      <td>0.474</td>\n      <td>0.2</td>\n      <td>0.7</td>\n      <td>0.300</td>\n      <td>1.1</td>\n      <td>...</td>\n      <td>4.1</td>\n      <td>0.7</td>\n      <td>0.3</td>\n      <td>0.4</td>\n      <td>5.5</td>\n      <td>2019</td>\n      <td>NaN</td>\n      <td>NaN</td>\n      <td>False</td>\n      <td>NaN</td>\n    </tr>\n    <tr>\n      <th>Jahcobi Neath</th>\n      <td>2000</td>\n      <td>30</td>\n      <td>18.4</td>\n      <td>1.8</td>\n      <td>4.3</td>\n      <td>0.422</td>\n      <td>0.4</td>\n      <td>0.8</td>\n      <td>0.480</td>\n      <td>1.3</td>\n      <td>...</td>\n      <td>1.9</td>\n      <td>2.2</td>\n      <td>0.5</td>\n      <td>0.0</td>\n      <td>5.3</td>\n      <td>2020</td>\n      <td>NaN</td>\n      <td>NaN</td>\n      <td>False</td>\n      <td>NaN</td>\n    </tr>\n    <tr>\n      <th>C.J. Neumann</th>\n      <td>2000</td>\n      <td>32</td>\n      <td>29.4</td>\n      <td>1.8</td>\n      <td>3.7</td>\n      <td>0.504</td>\n      <td>0.0</td>\n      <td>0.1</td>\n      <td>0.000</td>\n      <td>1.4</td>\n      <td>...</td>\n      <td>7.0</td>\n      <td>1.2</td>\n      <td>0.8</td>\n      <td>0.3</td>\n      <td>5.1</td>\n      <td>2016</td>\n      <td>NaN</td>\n      <td>NaN</td>\n      <td>False</td>\n      <td>NaN</td>\n    </tr>\n    <tr>\n      <th>Donnie Carson</th>\n      <td>2000</td>\n      <td>28</td>\n      <td>20.1</td>\n      <td>1.9</td>\n      <td>5.4</td>\n      <td>0.353</td>\n      <td>0.0</td>\n      <td>0.3</td>\n      <td>0.111</td>\n      <td>0.8</td>\n      <td>...</td>\n      <td>3.1</td>\n      <td>1.5</td>\n      <td>0.5</td>\n      <td>0.4</td>\n      <td>4.6</td>\n      <td>2010</td>\n      <td>NaN</td>\n      <td>NaN</td>\n      <td>False</td>\n      <td>NaN</td>\n    </tr>\n    <tr>\n      <th>Kevin Ware</th>\n      <td>2000</td>\n      <td>37</td>\n      <td>16.6</td>\n      <td>1.6</td>\n      <td>3.6</td>\n      <td>0.447</td>\n      <td>0.4</td>\n      <td>1.0</td>\n      <td>0.405</td>\n      <td>0.9</td>\n      <td>...</td>\n      <td>1.8</td>\n      <td>0.8</td>\n      <td>1.1</td>\n      <td>0.1</td>\n      <td>4.5</td>\n      <td>2013</td>\n      <td>NaN</td>\n      <td>NaN</td>\n      <td>False</td>\n      <td>NaN</td>\n    </tr>\n  </tbody>\n</table>\n<p>28014 rows × 26 columns</p>\n</div>"
     },
     "metadata": {},
     "execution_count": 52
    }
   ],
   "source": [
    "all_players_df.sort_values('#')\n",
    "# all_players_df.head()"
   ]
  },
  {
   "cell_type": "code",
   "execution_count": 40,
   "metadata": {},
   "outputs": [
    {
     "output_type": "stream",
     "name": "stderr",
     "text": [
      "C:\\Users\\brady\\AppData\\Roaming\\Python\\Python37\\site-packages\\ipykernel_launcher.py:2: SettingWithCopyWarning: \nA value is trying to be set on a copy of a slice from a DataFrame.\nTry using .loc[row_indexer,col_indexer] = value instead\n\nSee the caveats in the documentation: https://pandas.pydata.org/pandas-docs/stable/user_guide/indexing.html#returning-a-view-versus-a-copy\n  \n"
     ]
    },
    {
     "output_type": "error",
     "ename": "ValueError",
     "evalue": "DataFrame index must be unique for orient='columns'.",
     "traceback": [
      "\u001b[1;31m---------------------------------------------------------------------------\u001b[0m",
      "\u001b[1;31mValueError\u001b[0m                                Traceback (most recent call last)",
      "\u001b[1;32m<ipython-input-40-c87fdb242cb5>\u001b[0m in \u001b[0;36m<module>\u001b[1;34m\u001b[0m\n\u001b[0;32m      1\u001b[0m \u001b[0mall_players_df\u001b[0m \u001b[1;33m=\u001b[0m \u001b[0mnumerical_df\u001b[0m\u001b[1;33m\u001b[0m\u001b[1;33m\u001b[0m\u001b[0m\n\u001b[0;32m      2\u001b[0m \u001b[0mall_players_df\u001b[0m\u001b[1;33m[\u001b[0m\u001b[1;34m'player'\u001b[0m\u001b[1;33m]\u001b[0m \u001b[1;33m=\u001b[0m \u001b[0mraw_df\u001b[0m\u001b[1;33m[\u001b[0m\u001b[1;34m'player'\u001b[0m\u001b[1;33m]\u001b[0m\u001b[1;33m\u001b[0m\u001b[1;33m\u001b[0m\u001b[0m\n\u001b[1;32m----> 3\u001b[1;33m \u001b[0mall_players_df\u001b[0m\u001b[1;33m.\u001b[0m\u001b[0mto_json\u001b[0m\u001b[1;33m(\u001b[0m\u001b[1;34m'./all_player_stats.json'\u001b[0m\u001b[1;33m)\u001b[0m\u001b[1;33m\u001b[0m\u001b[1;33m\u001b[0m\u001b[0m\n\u001b[0m",
      "\u001b[1;32m~\\anaconda3\\envs\\mlenv\\lib\\site-packages\\pandas\\core\\generic.py\u001b[0m in \u001b[0;36mto_json\u001b[1;34m(self, path_or_buf, orient, date_format, double_precision, force_ascii, date_unit, default_handler, lines, compression, index, indent)\u001b[0m\n\u001b[0;32m   2306\u001b[0m             \u001b[0mcompression\u001b[0m\u001b[1;33m=\u001b[0m\u001b[0mcompression\u001b[0m\u001b[1;33m,\u001b[0m\u001b[1;33m\u001b[0m\u001b[1;33m\u001b[0m\u001b[0m\n\u001b[0;32m   2307\u001b[0m             \u001b[0mindex\u001b[0m\u001b[1;33m=\u001b[0m\u001b[0mindex\u001b[0m\u001b[1;33m,\u001b[0m\u001b[1;33m\u001b[0m\u001b[1;33m\u001b[0m\u001b[0m\n\u001b[1;32m-> 2308\u001b[1;33m             \u001b[0mindent\u001b[0m\u001b[1;33m=\u001b[0m\u001b[0mindent\u001b[0m\u001b[1;33m,\u001b[0m\u001b[1;33m\u001b[0m\u001b[1;33m\u001b[0m\u001b[0m\n\u001b[0m\u001b[0;32m   2309\u001b[0m         )\n\u001b[0;32m   2310\u001b[0m \u001b[1;33m\u001b[0m\u001b[0m\n",
      "\u001b[1;32m~\\anaconda3\\envs\\mlenv\\lib\\site-packages\\pandas\\io\\json\\_json.py\u001b[0m in \u001b[0;36mto_json\u001b[1;34m(path_or_buf, obj, orient, date_format, double_precision, force_ascii, date_unit, default_handler, lines, compression, index, indent)\u001b[0m\n\u001b[0;32m     82\u001b[0m         \u001b[0mdefault_handler\u001b[0m\u001b[1;33m=\u001b[0m\u001b[0mdefault_handler\u001b[0m\u001b[1;33m,\u001b[0m\u001b[1;33m\u001b[0m\u001b[1;33m\u001b[0m\u001b[0m\n\u001b[0;32m     83\u001b[0m         \u001b[0mindex\u001b[0m\u001b[1;33m=\u001b[0m\u001b[0mindex\u001b[0m\u001b[1;33m,\u001b[0m\u001b[1;33m\u001b[0m\u001b[1;33m\u001b[0m\u001b[0m\n\u001b[1;32m---> 84\u001b[1;33m         \u001b[0mindent\u001b[0m\u001b[1;33m=\u001b[0m\u001b[0mindent\u001b[0m\u001b[1;33m,\u001b[0m\u001b[1;33m\u001b[0m\u001b[1;33m\u001b[0m\u001b[0m\n\u001b[0m\u001b[0;32m     85\u001b[0m     ).write()\n\u001b[0;32m     86\u001b[0m \u001b[1;33m\u001b[0m\u001b[0m\n",
      "\u001b[1;32m~\\anaconda3\\envs\\mlenv\\lib\\site-packages\\pandas\\io\\json\\_json.py\u001b[0m in \u001b[0;36m__init__\u001b[1;34m(self, obj, orient, date_format, double_precision, ensure_ascii, date_unit, index, default_handler, indent)\u001b[0m\n\u001b[0;32m    128\u001b[0m \u001b[1;33m\u001b[0m\u001b[0m\n\u001b[0;32m    129\u001b[0m         \u001b[0mself\u001b[0m\u001b[1;33m.\u001b[0m\u001b[0mis_copy\u001b[0m \u001b[1;33m=\u001b[0m \u001b[1;32mNone\u001b[0m\u001b[1;33m\u001b[0m\u001b[1;33m\u001b[0m\u001b[0m\n\u001b[1;32m--> 130\u001b[1;33m         \u001b[0mself\u001b[0m\u001b[1;33m.\u001b[0m\u001b[0m_format_axes\u001b[0m\u001b[1;33m(\u001b[0m\u001b[1;33m)\u001b[0m\u001b[1;33m\u001b[0m\u001b[1;33m\u001b[0m\u001b[0m\n\u001b[0m\u001b[0;32m    131\u001b[0m \u001b[1;33m\u001b[0m\u001b[0m\n\u001b[0;32m    132\u001b[0m     \u001b[1;32mdef\u001b[0m \u001b[0m_format_axes\u001b[0m\u001b[1;33m(\u001b[0m\u001b[0mself\u001b[0m\u001b[1;33m)\u001b[0m\u001b[1;33m:\u001b[0m\u001b[1;33m\u001b[0m\u001b[1;33m\u001b[0m\u001b[0m\n",
      "\u001b[1;32m~\\anaconda3\\envs\\mlenv\\lib\\site-packages\\pandas\\io\\json\\_json.py\u001b[0m in \u001b[0;36m_format_axes\u001b[1;34m(self)\u001b[0m\n\u001b[0;32m    209\u001b[0m         \u001b[1;32mif\u001b[0m \u001b[1;32mnot\u001b[0m \u001b[0mself\u001b[0m\u001b[1;33m.\u001b[0m\u001b[0mobj\u001b[0m\u001b[1;33m.\u001b[0m\u001b[0mindex\u001b[0m\u001b[1;33m.\u001b[0m\u001b[0mis_unique\u001b[0m \u001b[1;32mand\u001b[0m \u001b[0mself\u001b[0m\u001b[1;33m.\u001b[0m\u001b[0morient\u001b[0m \u001b[1;32min\u001b[0m \u001b[1;33m(\u001b[0m\u001b[1;34m\"index\"\u001b[0m\u001b[1;33m,\u001b[0m \u001b[1;34m\"columns\"\u001b[0m\u001b[1;33m)\u001b[0m\u001b[1;33m:\u001b[0m\u001b[1;33m\u001b[0m\u001b[1;33m\u001b[0m\u001b[0m\n\u001b[0;32m    210\u001b[0m             raise ValueError(\n\u001b[1;32m--> 211\u001b[1;33m                 \u001b[1;34mf\"DataFrame index must be unique for orient='{self.orient}'.\"\u001b[0m\u001b[1;33m\u001b[0m\u001b[1;33m\u001b[0m\u001b[0m\n\u001b[0m\u001b[0;32m    212\u001b[0m             )\n\u001b[0;32m    213\u001b[0m         if not self.obj.columns.is_unique and self.orient in (\n",
      "\u001b[1;31mValueError\u001b[0m: DataFrame index must be unique for orient='columns'."
     ]
    }
   ],
   "source": [
    "all_players_df = numerical_df\n",
    "all_players_df['player'] = raw_df['player']\n",
    "all_players_df.to_json('./all_player_stats.json')"
   ]
  },
  {
   "cell_type": "code",
   "execution_count": 55,
   "metadata": {},
   "outputs": [
    {
     "output_type": "execute_result",
     "data": {
      "text/plain": [
       "                  ppg   rpg  apg  spg  tov  fgPercent  threePointPercent  \\\n",
       "player                                                                     \n",
       "Blake Griffin    14.8   9.2  1.8  1.0  2.3      0.573              0.000   \n",
       "Anthony Davis    14.2  10.4  1.2  1.4  1.0      0.623              0.150   \n",
       "Derrick Rose     14.9   4.5  4.7  1.2  2.7      0.477              0.337   \n",
       "Blake Griffin    22.7  14.4  2.3  1.1  3.3      0.655              0.333   \n",
       "Anthony Bennett  16.1   8.1  1.0  0.7  1.9      0.533              0.375   \n",
       "...               ...   ...  ...  ...  ...        ...                ...   \n",
       "Marcus Damas     11.1   5.1  1.2  0.5  1.7      0.432              0.350   \n",
       "Marcus Burton    11.0   2.0  1.6  0.6  1.5      0.419              0.373   \n",
       "Gary Bell        11.0   2.9  1.7  1.0  1.0      0.476              0.427   \n",
       "Will Davis       11.0   6.4  0.8  0.5  1.4      0.567              0.000   \n",
       "Gary Johnson     11.0   4.9  1.4  0.6  1.9      0.523              0.250   \n",
       "\n",
       "                 freeThrowPercent  \n",
       "player                             \n",
       "Blake Griffin               0.595  \n",
       "Anthony Davis               0.709  \n",
       "Derrick Rose                0.712  \n",
       "Blake Griffin               0.588  \n",
       "Anthony Bennett             0.701  \n",
       "...                           ...  \n",
       "Marcus Damas                0.730  \n",
       "Marcus Burton               0.868  \n",
       "Gary Bell                   0.786  \n",
       "Will Davis                  0.663  \n",
       "Gary Johnson                0.741  \n",
       "\n",
       "[28014 rows x 8 columns]"
      ],
      "text/html": "<div>\n<style scoped>\n    .dataframe tbody tr th:only-of-type {\n        vertical-align: middle;\n    }\n\n    .dataframe tbody tr th {\n        vertical-align: top;\n    }\n\n    .dataframe thead th {\n        text-align: right;\n    }\n</style>\n<table border=\"1\" class=\"dataframe\">\n  <thead>\n    <tr style=\"text-align: right;\">\n      <th></th>\n      <th>ppg</th>\n      <th>rpg</th>\n      <th>apg</th>\n      <th>spg</th>\n      <th>tov</th>\n      <th>fgPercent</th>\n      <th>threePointPercent</th>\n      <th>freeThrowPercent</th>\n    </tr>\n    <tr>\n      <th>player</th>\n      <th></th>\n      <th></th>\n      <th></th>\n      <th></th>\n      <th></th>\n      <th></th>\n      <th></th>\n      <th></th>\n    </tr>\n  </thead>\n  <tbody>\n    <tr>\n      <th>Blake Griffin</th>\n      <td>14.8</td>\n      <td>9.2</td>\n      <td>1.8</td>\n      <td>1.0</td>\n      <td>2.3</td>\n      <td>0.573</td>\n      <td>0.000</td>\n      <td>0.595</td>\n    </tr>\n    <tr>\n      <th>Anthony Davis</th>\n      <td>14.2</td>\n      <td>10.4</td>\n      <td>1.2</td>\n      <td>1.4</td>\n      <td>1.0</td>\n      <td>0.623</td>\n      <td>0.150</td>\n      <td>0.709</td>\n    </tr>\n    <tr>\n      <th>Derrick Rose</th>\n      <td>14.9</td>\n      <td>4.5</td>\n      <td>4.7</td>\n      <td>1.2</td>\n      <td>2.7</td>\n      <td>0.477</td>\n      <td>0.337</td>\n      <td>0.712</td>\n    </tr>\n    <tr>\n      <th>Blake Griffin</th>\n      <td>22.7</td>\n      <td>14.4</td>\n      <td>2.3</td>\n      <td>1.1</td>\n      <td>3.3</td>\n      <td>0.655</td>\n      <td>0.333</td>\n      <td>0.588</td>\n    </tr>\n    <tr>\n      <th>Anthony Bennett</th>\n      <td>16.1</td>\n      <td>8.1</td>\n      <td>1.0</td>\n      <td>0.7</td>\n      <td>1.9</td>\n      <td>0.533</td>\n      <td>0.375</td>\n      <td>0.701</td>\n    </tr>\n    <tr>\n      <th>...</th>\n      <td>...</td>\n      <td>...</td>\n      <td>...</td>\n      <td>...</td>\n      <td>...</td>\n      <td>...</td>\n      <td>...</td>\n      <td>...</td>\n    </tr>\n    <tr>\n      <th>Marcus Damas</th>\n      <td>11.1</td>\n      <td>5.1</td>\n      <td>1.2</td>\n      <td>0.5</td>\n      <td>1.7</td>\n      <td>0.432</td>\n      <td>0.350</td>\n      <td>0.730</td>\n    </tr>\n    <tr>\n      <th>Marcus Burton</th>\n      <td>11.0</td>\n      <td>2.0</td>\n      <td>1.6</td>\n      <td>0.6</td>\n      <td>1.5</td>\n      <td>0.419</td>\n      <td>0.373</td>\n      <td>0.868</td>\n    </tr>\n    <tr>\n      <th>Gary Bell</th>\n      <td>11.0</td>\n      <td>2.9</td>\n      <td>1.7</td>\n      <td>1.0</td>\n      <td>1.0</td>\n      <td>0.476</td>\n      <td>0.427</td>\n      <td>0.786</td>\n    </tr>\n    <tr>\n      <th>Will Davis</th>\n      <td>11.0</td>\n      <td>6.4</td>\n      <td>0.8</td>\n      <td>0.5</td>\n      <td>1.4</td>\n      <td>0.567</td>\n      <td>0.000</td>\n      <td>0.663</td>\n    </tr>\n    <tr>\n      <th>Gary Johnson</th>\n      <td>11.0</td>\n      <td>4.9</td>\n      <td>1.4</td>\n      <td>0.6</td>\n      <td>1.9</td>\n      <td>0.523</td>\n      <td>0.250</td>\n      <td>0.741</td>\n    </tr>\n  </tbody>\n</table>\n<p>28014 rows × 8 columns</p>\n</div>"
     },
     "metadata": {},
     "execution_count": 55
    }
   ],
   "source": [
    "selected_features = ['ppg','rpg','apg','spg','tov','draft_status','FG%','3P%','FT%']\n",
    "data_df = numerical_df[selected_features]\n",
    "\n",
    "X = data_df.drop(columns=['draft_status'])\n",
    "y = data_df['draft_status']\n"
   ]
  },
  {
   "source": [
    "## Preprocessing: Use SMOTEENN to oversample drafted players and undersample undrafted players"
   ],
   "cell_type": "markdown",
   "metadata": {}
  },
  {
   "cell_type": "code",
   "execution_count": 8,
   "metadata": {},
   "outputs": [],
   "source": [
    "smoteenn = SMOTEENN(random_state=1)\n",
    "X_resampled, y_resampled = smoteenn.fit_resample(X,y)"
   ]
  },
  {
   "source": [
    "## Preprocessing: Split into training and test datasets"
   ],
   "cell_type": "markdown",
   "metadata": {}
  },
  {
   "cell_type": "code",
   "execution_count": 56,
   "metadata": {},
   "outputs": [],
   "source": [
    "X_train, X_test, y_train, y_test = train_test_split(X_resampled, y_resampled,random_state=1,test_size=0.05)"
   ]
  },
  {
   "source": [
    "# Logistic Regression Model"
   ],
   "cell_type": "markdown",
   "metadata": {}
  },
  {
   "cell_type": "code",
   "execution_count": 57,
   "metadata": {},
   "outputs": [
    {
     "output_type": "stream",
     "name": "stdout",
     "text": [
      "0.8697378872120731 \n\n[[ 992  186]\n [ 142 1198]] \n\n              precision    recall  f1-score   support\n\n       False       0.87      0.84      0.86      1178\n        True       0.87      0.89      0.88      1340\n\n    accuracy                           0.87      2518\n   macro avg       0.87      0.87      0.87      2518\nweighted avg       0.87      0.87      0.87      2518\n \n\n"
     ]
    }
   ],
   "source": [
    "lr = LogisticRegression(solver='lbfgs',random_state=1, max_iter=1000)\n",
    "lr.fit(X_train,y_train)\n",
    "\n",
    "lr_pred = lr.predict(X_test)\n",
    "\n",
    "lr_acc_score = accuracy_score(y_test,lr_pred)\n",
    "lr_matrix = confusion_matrix(y_test,lr_pred)\n",
    "lr_results = pd.DataFrame({\"Prediction\": lr_pred, \"Actual\": y_test}).reset_index(drop=True)\n",
    "lr_report = classification_report(y_test,lr_pred,zero_division=True)\n",
    "\n",
    "print(lr_acc_score,'\\n')\n",
    "print(lr_matrix,'\\n')\n",
    "print(lr_report,'\\n')\n",
    "\n",
    "model_filename = 'nba_LogReg_model.sav'\n",
    "pickle.dump(lr, open(model_filename, 'wb'))"
   ]
  },
  {
   "source": [
    "# Predict 2021 Draft Picks"
   ],
   "cell_type": "markdown",
   "metadata": {}
  },
  {
   "cell_type": "code",
   "execution_count": 58,
   "metadata": {},
   "outputs": [],
   "source": [
    "nba_2021_url = 'https://parkerhiggins-nba-draft-bucket.s3.amazonaws.com/season_stats_data_2020-2021.csv'\n",
    "\n",
    "raw_2021_data = pd.read_csv(nba_2021_url)"
   ]
  },
  {
   "cell_type": "code",
   "execution_count": 59,
   "metadata": {},
   "outputs": [
    {
     "output_type": "execute_result",
     "data": {
      "text/plain": [
       "Index(['#', 'Player', 'Team', 'GP', 'MPG', 'FGM', 'FGA', 'FG%', '3PM', '3PA',\n",
       "       '3P%', 'FTM', 'FTA', 'FT%', 'TOV', 'PF', 'ORB', 'DRB', 'RPG', 'APG',\n",
       "       'SPG', 'BPG', 'PPG', 'Season_Year'],\n",
       "      dtype='object')"
      ]
     },
     "metadata": {},
     "execution_count": 59
    }
   ],
   "source": [
    "raw_2021_data.columns"
   ]
  },
  {
   "cell_type": "code",
   "execution_count": 60,
   "metadata": {},
   "outputs": [
    {
     "output_type": "execute_result",
     "data": {
      "text/plain": [
       "   #         Player Team  GP   MPG  FGM   FGA    FG%  3PM   3PA  ...  TOV  \\\n",
       "0  1      Max Abmas  ORU  28  37.0  8.0  16.8  0.478  3.6   8.3  ...  2.3   \n",
       "1  2     Luka Garza   UI  31  31.6  9.1  16.4  0.553  1.4   3.2  ...  1.5   \n",
       "2  3  Antoine Davis  UDM  22  38.5  8.1  19.1  0.424  3.8  10.1  ...  3.3   \n",
       "3  4     Cam Thomas  LSU  29  33.9  7.0  17.2  0.406  2.3   7.2  ...  1.7   \n",
       "4  5     A.J. Green  UNI   3  36.3  8.7  18.7  0.464  3.7   9.0  ...  3.7   \n",
       "\n",
       "    PF  ORB  DRB  RPG  APG  SPG  BPG   PPG  Season_Year  \n",
       "0  2.2  0.4  2.8  3.2  3.9  1.5  0.2  24.6         2021  \n",
       "1  2.3  3.0  5.7  8.7  1.7  0.7  1.6  24.1         2021  \n",
       "2  1.6  0.2  2.7  2.9  4.8  1.5  0.0  24.0         2021  \n",
       "3  1.4  0.6  2.8  3.4  1.4  0.9  0.2  23.0         2021  \n",
       "4  2.0  1.0  4.7  5.7  2.7  1.3  0.7  22.3         2021  \n",
       "\n",
       "[5 rows x 24 columns]"
      ],
      "text/html": "<div>\n<style scoped>\n    .dataframe tbody tr th:only-of-type {\n        vertical-align: middle;\n    }\n\n    .dataframe tbody tr th {\n        vertical-align: top;\n    }\n\n    .dataframe thead th {\n        text-align: right;\n    }\n</style>\n<table border=\"1\" class=\"dataframe\">\n  <thead>\n    <tr style=\"text-align: right;\">\n      <th></th>\n      <th>#</th>\n      <th>Player</th>\n      <th>Team</th>\n      <th>GP</th>\n      <th>MPG</th>\n      <th>FGM</th>\n      <th>FGA</th>\n      <th>FG%</th>\n      <th>3PM</th>\n      <th>3PA</th>\n      <th>...</th>\n      <th>TOV</th>\n      <th>PF</th>\n      <th>ORB</th>\n      <th>DRB</th>\n      <th>RPG</th>\n      <th>APG</th>\n      <th>SPG</th>\n      <th>BPG</th>\n      <th>PPG</th>\n      <th>Season_Year</th>\n    </tr>\n  </thead>\n  <tbody>\n    <tr>\n      <th>0</th>\n      <td>1</td>\n      <td>Max Abmas</td>\n      <td>ORU</td>\n      <td>28</td>\n      <td>37.0</td>\n      <td>8.0</td>\n      <td>16.8</td>\n      <td>0.478</td>\n      <td>3.6</td>\n      <td>8.3</td>\n      <td>...</td>\n      <td>2.3</td>\n      <td>2.2</td>\n      <td>0.4</td>\n      <td>2.8</td>\n      <td>3.2</td>\n      <td>3.9</td>\n      <td>1.5</td>\n      <td>0.2</td>\n      <td>24.6</td>\n      <td>2021</td>\n    </tr>\n    <tr>\n      <th>1</th>\n      <td>2</td>\n      <td>Luka Garza</td>\n      <td>UI</td>\n      <td>31</td>\n      <td>31.6</td>\n      <td>9.1</td>\n      <td>16.4</td>\n      <td>0.553</td>\n      <td>1.4</td>\n      <td>3.2</td>\n      <td>...</td>\n      <td>1.5</td>\n      <td>2.3</td>\n      <td>3.0</td>\n      <td>5.7</td>\n      <td>8.7</td>\n      <td>1.7</td>\n      <td>0.7</td>\n      <td>1.6</td>\n      <td>24.1</td>\n      <td>2021</td>\n    </tr>\n    <tr>\n      <th>2</th>\n      <td>3</td>\n      <td>Antoine Davis</td>\n      <td>UDM</td>\n      <td>22</td>\n      <td>38.5</td>\n      <td>8.1</td>\n      <td>19.1</td>\n      <td>0.424</td>\n      <td>3.8</td>\n      <td>10.1</td>\n      <td>...</td>\n      <td>3.3</td>\n      <td>1.6</td>\n      <td>0.2</td>\n      <td>2.7</td>\n      <td>2.9</td>\n      <td>4.8</td>\n      <td>1.5</td>\n      <td>0.0</td>\n      <td>24.0</td>\n      <td>2021</td>\n    </tr>\n    <tr>\n      <th>3</th>\n      <td>4</td>\n      <td>Cam Thomas</td>\n      <td>LSU</td>\n      <td>29</td>\n      <td>33.9</td>\n      <td>7.0</td>\n      <td>17.2</td>\n      <td>0.406</td>\n      <td>2.3</td>\n      <td>7.2</td>\n      <td>...</td>\n      <td>1.7</td>\n      <td>1.4</td>\n      <td>0.6</td>\n      <td>2.8</td>\n      <td>3.4</td>\n      <td>1.4</td>\n      <td>0.9</td>\n      <td>0.2</td>\n      <td>23.0</td>\n      <td>2021</td>\n    </tr>\n    <tr>\n      <th>4</th>\n      <td>5</td>\n      <td>A.J. Green</td>\n      <td>UNI</td>\n      <td>3</td>\n      <td>36.3</td>\n      <td>8.7</td>\n      <td>18.7</td>\n      <td>0.464</td>\n      <td>3.7</td>\n      <td>9.0</td>\n      <td>...</td>\n      <td>3.7</td>\n      <td>2.0</td>\n      <td>1.0</td>\n      <td>4.7</td>\n      <td>5.7</td>\n      <td>2.7</td>\n      <td>1.3</td>\n      <td>0.7</td>\n      <td>22.3</td>\n      <td>2021</td>\n    </tr>\n  </tbody>\n</table>\n<p>5 rows × 24 columns</p>\n</div>"
     },
     "metadata": {},
     "execution_count": 60
    }
   ],
   "source": [
    "raw_2021_data.head()"
   ]
  },
  {
   "cell_type": "code",
   "execution_count": 61,
   "metadata": {},
   "outputs": [],
   "source": [
    "numerical_cols_2021 = raw_2021_data.dtypes[raw_2021_data.dtypes != 'object'].index.tolist()\n",
    "\n",
    "numerical_2021 = raw_2021_data[numerical_cols_2021]\n",
    "numerical_2021.index = raw_2021_data['#']\n",
    "\n",
    "selected_features_2021 = ['PPG','RPG','APG','SPG','TOV','FG%','3P%','FT%']\n",
    "\n",
    "X_2021 = numerical_2021[selected_features_2021]"
   ]
  },
  {
   "cell_type": "code",
   "execution_count": 62,
   "metadata": {},
   "outputs": [],
   "source": [
    "pred_2021 = lr.predict(X_2021)"
   ]
  },
  {
   "cell_type": "code",
   "execution_count": 63,
   "metadata": {},
   "outputs": [],
   "source": [
    "draft_prob = lr.predict_proba(X_2021)\n",
    "\n",
    "draft_prob_true = []\n",
    "for prob in draft_prob:\n",
    "    draft_prob_true.append(prob[1])"
   ]
  },
  {
   "cell_type": "code",
   "execution_count": 64,
   "metadata": {},
   "outputs": [
    {
     "output_type": "stream",
     "name": "stderr",
     "text": [
      "C:\\Users\\brady\\AppData\\Roaming\\Python\\Python37\\site-packages\\ipykernel_launcher.py:6: SettingWithCopyWarning: \nA value is trying to be set on a copy of a slice from a DataFrame.\nTry using .loc[row_indexer,col_indexer] = value instead\n\nSee the caveats in the documentation: https://pandas.pydata.org/pandas-docs/stable/user_guide/indexing.html#returning-a-view-versus-a-copy\n  \nC:\\Users\\brady\\AppData\\Roaming\\Python\\Python37\\site-packages\\ipykernel_launcher.py:7: SettingWithCopyWarning: \nA value is trying to be set on a copy of a slice from a DataFrame.\nTry using .loc[row_indexer,col_indexer] = value instead\n\nSee the caveats in the documentation: https://pandas.pydata.org/pandas-docs/stable/user_guide/indexing.html#returning-a-view-versus-a-copy\n  import sys\n"
     ]
    }
   ],
   "source": [
    "prediction_display_features = ['Player','Team']\n",
    "for feature in selected_features_2021:\n",
    "    prediction_display_features.append(feature)\n",
    "\n",
    "draft_predictions_2021 = raw_2021_data[prediction_display_features]\n",
    "draft_predictions_2021['draft_prediction'] = pred_2021\n",
    "draft_predictions_2021['draft_prob'] = draft_prob_true"
   ]
  },
  {
   "cell_type": "code",
   "execution_count": 72,
   "metadata": {},
   "outputs": [],
   "source": [
    "draft_picks_2021 = draft_predictions_2021.sort_values(by='draft_prob',ascending=False).head(60).drop(['draft_prob','draft_prediction'],axis=1)\n",
    "\n",
    "draft_picks_2021 = draft_picks_2021.rename(columns={'FG%':'fgPercent','3P%':'threePointPercent','FT%':'freeThrowPercent'})"
   ]
  },
  {
   "cell_type": "code",
   "execution_count": 73,
   "metadata": {},
   "outputs": [],
   "source": [
    "predictions_filepath = './2021_predictions.json'\n",
    "draft_picks_2021.to_json(predictions_filepath)"
   ]
  },
  {
   "cell_type": "code",
   "execution_count": 74,
   "metadata": {},
   "outputs": [
    {
     "output_type": "execute_result",
     "data": {
      "text/plain": [
       "           Player  Team   PPG   RPG  APG  SPG  TOV  fgPercent  \\\n",
       "1      Luka Garza    UI  24.1   8.7  1.7  0.7  1.5      0.553   \n",
       "8    Terry Taylor  APSU  21.6  11.1  1.6  1.2  2.7      0.521   \n",
       "45     Drew Timme    GU  19.0   7.0  2.3  0.7  1.8      0.655   \n",
       "46  Kendric Davis   SMU  19.0   4.2  7.6  1.6  2.4      0.481   \n",
       "49   Hayden Brown   CIT  18.8  10.5  2.8  1.1  2.5      0.508   \n",
       "\n",
       "    threePointPercent  freeThrowPercent  \n",
       "1               0.440             0.709  \n",
       "8               0.279             0.794  \n",
       "45              0.286             0.696  \n",
       "46              0.373             0.833  \n",
       "49              0.286             0.704  "
      ],
      "text/html": "<div>\n<style scoped>\n    .dataframe tbody tr th:only-of-type {\n        vertical-align: middle;\n    }\n\n    .dataframe tbody tr th {\n        vertical-align: top;\n    }\n\n    .dataframe thead th {\n        text-align: right;\n    }\n</style>\n<table border=\"1\" class=\"dataframe\">\n  <thead>\n    <tr style=\"text-align: right;\">\n      <th></th>\n      <th>Player</th>\n      <th>Team</th>\n      <th>PPG</th>\n      <th>RPG</th>\n      <th>APG</th>\n      <th>SPG</th>\n      <th>TOV</th>\n      <th>fgPercent</th>\n      <th>threePointPercent</th>\n      <th>freeThrowPercent</th>\n    </tr>\n  </thead>\n  <tbody>\n    <tr>\n      <th>1</th>\n      <td>Luka Garza</td>\n      <td>UI</td>\n      <td>24.1</td>\n      <td>8.7</td>\n      <td>1.7</td>\n      <td>0.7</td>\n      <td>1.5</td>\n      <td>0.553</td>\n      <td>0.440</td>\n      <td>0.709</td>\n    </tr>\n    <tr>\n      <th>8</th>\n      <td>Terry Taylor</td>\n      <td>APSU</td>\n      <td>21.6</td>\n      <td>11.1</td>\n      <td>1.6</td>\n      <td>1.2</td>\n      <td>2.7</td>\n      <td>0.521</td>\n      <td>0.279</td>\n      <td>0.794</td>\n    </tr>\n    <tr>\n      <th>45</th>\n      <td>Drew Timme</td>\n      <td>GU</td>\n      <td>19.0</td>\n      <td>7.0</td>\n      <td>2.3</td>\n      <td>0.7</td>\n      <td>1.8</td>\n      <td>0.655</td>\n      <td>0.286</td>\n      <td>0.696</td>\n    </tr>\n    <tr>\n      <th>46</th>\n      <td>Kendric Davis</td>\n      <td>SMU</td>\n      <td>19.0</td>\n      <td>4.2</td>\n      <td>7.6</td>\n      <td>1.6</td>\n      <td>2.4</td>\n      <td>0.481</td>\n      <td>0.373</td>\n      <td>0.833</td>\n    </tr>\n    <tr>\n      <th>49</th>\n      <td>Hayden Brown</td>\n      <td>CIT</td>\n      <td>18.8</td>\n      <td>10.5</td>\n      <td>2.8</td>\n      <td>1.1</td>\n      <td>2.5</td>\n      <td>0.508</td>\n      <td>0.286</td>\n      <td>0.704</td>\n    </tr>\n  </tbody>\n</table>\n</div>"
     },
     "metadata": {},
     "execution_count": 74
    }
   ],
   "source": [
    "draft_picks_2021.head()"
   ]
  },
  {
   "cell_type": "code",
   "execution_count": 75,
   "metadata": {},
   "outputs": [
    {
     "output_type": "execute_result",
     "data": {
      "text/plain": [
       "Index(['ppg', 'rpg', 'apg', 'spg', 'tov', 'FG%', '3P%', 'FT%'], dtype='object')"
      ]
     },
     "metadata": {},
     "execution_count": 75
    }
   ],
   "source": [
    "X.columns"
   ]
  },
  {
   "cell_type": "code",
   "execution_count": null,
   "metadata": {},
   "outputs": [],
   "source": []
  }
 ]
}
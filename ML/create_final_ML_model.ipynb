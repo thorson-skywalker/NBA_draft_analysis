{
 "metadata": {
  "language_info": {
   "codemirror_mode": {
    "name": "ipython",
    "version": 3
   },
   "file_extension": ".py",
   "mimetype": "text/x-python",
   "name": "python",
   "nbconvert_exporter": "python",
   "pygments_lexer": "ipython3",
   "version": "3.7.9"
  },
  "orig_nbformat": 2,
  "kernelspec": {
   "name": "python3",
   "display_name": "Python 3.7.9 64-bit ('mlenv': conda)"
  },
  "interpreter": {
   "hash": "fb187ceb99e597fc4fb087033f2a56d4997f1306a985d00c1ac5ca0a4e888195"
  }
 },
 "nbformat": 4,
 "nbformat_minor": 2,
 "cells": [
  {
   "cell_type": "code",
   "execution_count": 48,
   "metadata": {},
   "outputs": [],
   "source": [
    "import pandas as pd\n",
    "from pathlib import Path\n",
    "from sklearn import svm\n",
    "from sklearn.linear_model import LogisticRegression\n",
    "from sklearn.model_selection import train_test_split\n",
    "from sklearn.metrics import accuracy_score, confusion_matrix, classification_report\n",
    "from imblearn.combine import SMOTEENN\n",
    "import pickle"
   ]
  },
  {
   "source": [
    "## Import data from s3.amazonaws"
   ],
   "cell_type": "markdown",
   "metadata": {}
  },
  {
   "cell_type": "code",
   "execution_count": 49,
   "metadata": {},
   "outputs": [],
   "source": [
    "data_2007_2020 = 'https://s3.amazonaws.com/parkerhiggins-nba-draft-bucket/07-20_MBB_StatsAndDraft.csv'\n",
    "\n",
    "raw_df = pd.read_csv(data_2007_2020)"
   ]
  },
  {
   "source": [
    "## Preprocessing: Remove non-numerical columns"
   ],
   "cell_type": "markdown",
   "metadata": {}
  },
  {
   "cell_type": "code",
   "execution_count": 50,
   "metadata": {},
   "outputs": [],
   "source": [
    "numerical_cols = raw_df.dtypes[raw_df.dtypes != 'object'].index.tolist()\n",
    "\n",
    "numerical_df = raw_df[numerical_cols]\n",
    "numerical_df.index = raw_df['#']"
   ]
  },
  {
   "cell_type": "code",
   "execution_count": 51,
   "metadata": {},
   "outputs": [
    {
     "output_type": "stream",
     "name": "stderr",
     "text": [
      "ipykernel_launcher:1: SettingWithCopyWarning: \nA value is trying to be set on a copy of a slice from a DataFrame.\nTry using .loc[row_indexer,col_indexer] = value instead\n\nSee the caveats in the documentation: https://pandas.pydata.org/pandas-docs/stable/user_guide/indexing.html#returning-a-view-versus-a-copy\n"
     ]
    }
   ],
   "source": [
    "numerical_df['draft_status'] = (numerical_df['season_year']==numerical_df['draft_year']).astype(bool)"
   ]
  },
  {
   "source": [
    "## Preprocessing: Select common individual basketball statistics to use as features in the model"
   ],
   "cell_type": "markdown",
   "metadata": {}
  },
  {
   "cell_type": "code",
   "execution_count": 52,
   "metadata": {},
   "outputs": [
    {
     "output_type": "execute_result",
     "data": {
      "text/plain": [
       "Index(['#', 'gp', 'mpg', 'fgm', 'fga', 'FG%', '3PM', '3PA', '3P%', 'ftm',\n",
       "       'fta', 'FT%', 'tov', 'pf', 'orb', 'drb', 'rpg', 'apg', 'spg', 'bpg',\n",
       "       'ppg', 'season_year', 'pk', 'draft_year', 'draft_status'],\n",
       "      dtype='object')"
      ]
     },
     "metadata": {},
     "execution_count": 52
    }
   ],
   "source": [
    "numerical_df.columns"
   ]
  },
  {
   "cell_type": "code",
   "execution_count": 53,
   "metadata": {},
   "outputs": [],
   "source": [
    "selected_features = ['ppg','rpg','apg','spg','tov','draft_status','FG%','3P%','FT%']\n",
    "data_df = numerical_df[selected_features]\n",
    "\n",
    "X = data_df.drop(columns=['draft_status'])\n",
    "y = data_df['draft_status']"
   ]
  },
  {
   "source": [
    "## Preprocessing: Use SMOTEENN to oversample drafted players and undersample undrafted players"
   ],
   "cell_type": "markdown",
   "metadata": {}
  },
  {
   "cell_type": "code",
   "execution_count": 54,
   "metadata": {},
   "outputs": [],
   "source": [
    "smoteenn = SMOTEENN(random_state=1)\n",
    "X_resampled, y_resampled = smoteenn.fit_resample(X,y)"
   ]
  },
  {
   "source": [
    "## Preprocessing: Split into training and test datasets"
   ],
   "cell_type": "markdown",
   "metadata": {}
  },
  {
   "cell_type": "code",
   "execution_count": 55,
   "metadata": {},
   "outputs": [],
   "source": [
    "X_train, X_test, y_train, y_test = train_test_split(X_resampled, y_resampled,random_state=1,test_size=0.05)"
   ]
  },
  {
   "source": [
    "# Logistic Regression Model"
   ],
   "cell_type": "markdown",
   "metadata": {}
  },
  {
   "cell_type": "code",
   "execution_count": 56,
   "metadata": {},
   "outputs": [
    {
     "output_type": "stream",
     "name": "stdout",
     "text": [
      "0.8697378872120731 \n\n[[ 992  186]\n [ 142 1198]] \n\n              precision    recall  f1-score   support\n\n       False       0.87      0.84      0.86      1178\n        True       0.87      0.89      0.88      1340\n\n    accuracy                           0.87      2518\n   macro avg       0.87      0.87      0.87      2518\nweighted avg       0.87      0.87      0.87      2518\n \n\n"
     ]
    }
   ],
   "source": [
    "lr = LogisticRegression(solver='lbfgs',random_state=1, max_iter=1000)\n",
    "lr.fit(X_train,y_train)\n",
    "\n",
    "lr_pred = lr.predict(X_test)\n",
    "\n",
    "lr_acc_score = accuracy_score(y_test,lr_pred)\n",
    "lr_matrix = confusion_matrix(y_test,lr_pred)\n",
    "lr_results = pd.DataFrame({\"Prediction\": lr_pred, \"Actual\": y_test}).reset_index(drop=True)\n",
    "lr_report = classification_report(y_test,lr_pred,zero_division=True)\n",
    "\n",
    "print(lr_acc_score,'\\n')\n",
    "print(lr_matrix,'\\n')\n",
    "print(lr_report,'\\n')\n",
    "\n",
    "model_filename = 'nba_LogReg_model.sav'\n",
    "pickle.dump(lr, open(model_filename, 'wb'))"
   ]
  },
  {
   "source": [
    "# Predict 2021 Draft Picks"
   ],
   "cell_type": "markdown",
   "metadata": {}
  },
  {
   "cell_type": "code",
   "execution_count": 57,
   "metadata": {},
   "outputs": [],
   "source": [
    "nba_2021_url = 'https://parkerhiggins-nba-draft-bucket.s3.amazonaws.com/season_stats_data_2020-2021.csv'\n",
    "\n",
    "raw_2021_data = pd.read_csv(nba_2021_url)"
   ]
  },
  {
   "cell_type": "code",
   "execution_count": 58,
   "metadata": {},
   "outputs": [
    {
     "output_type": "execute_result",
     "data": {
      "text/plain": [
       "Index(['#', 'Player', 'Team', 'GP', 'MPG', 'FGM', 'FGA', 'FG%', '3PM', '3PA',\n",
       "       '3P%', 'FTM', 'FTA', 'FT%', 'TOV', 'PF', 'ORB', 'DRB', 'RPG', 'APG',\n",
       "       'SPG', 'BPG', 'PPG', 'Season_Year'],\n",
       "      dtype='object')"
      ]
     },
     "metadata": {},
     "execution_count": 58
    }
   ],
   "source": [
    "raw_2021_data.columns"
   ]
  },
  {
   "cell_type": "code",
   "execution_count": 59,
   "metadata": {},
   "outputs": [
    {
     "output_type": "execute_result",
     "data": {
      "text/plain": [
       "   #         Player Team  GP   MPG  FGM   FGA    FG%  3PM   3PA  ...  TOV  \\\n",
       "0  1      Max Abmas  ORU  28  37.0  8.0  16.8  0.478  3.6   8.3  ...  2.3   \n",
       "1  2     Luka Garza   UI  31  31.6  9.1  16.4  0.553  1.4   3.2  ...  1.5   \n",
       "2  3  Antoine Davis  UDM  22  38.5  8.1  19.1  0.424  3.8  10.1  ...  3.3   \n",
       "3  4     Cam Thomas  LSU  29  33.9  7.0  17.2  0.406  2.3   7.2  ...  1.7   \n",
       "4  5     A.J. Green  UNI   3  36.3  8.7  18.7  0.464  3.7   9.0  ...  3.7   \n",
       "\n",
       "    PF  ORB  DRB  RPG  APG  SPG  BPG   PPG  Season_Year  \n",
       "0  2.2  0.4  2.8  3.2  3.9  1.5  0.2  24.6         2021  \n",
       "1  2.3  3.0  5.7  8.7  1.7  0.7  1.6  24.1         2021  \n",
       "2  1.6  0.2  2.7  2.9  4.8  1.5  0.0  24.0         2021  \n",
       "3  1.4  0.6  2.8  3.4  1.4  0.9  0.2  23.0         2021  \n",
       "4  2.0  1.0  4.7  5.7  2.7  1.3  0.7  22.3         2021  \n",
       "\n",
       "[5 rows x 24 columns]"
      ],
      "text/html": "<div>\n<style scoped>\n    .dataframe tbody tr th:only-of-type {\n        vertical-align: middle;\n    }\n\n    .dataframe tbody tr th {\n        vertical-align: top;\n    }\n\n    .dataframe thead th {\n        text-align: right;\n    }\n</style>\n<table border=\"1\" class=\"dataframe\">\n  <thead>\n    <tr style=\"text-align: right;\">\n      <th></th>\n      <th>#</th>\n      <th>Player</th>\n      <th>Team</th>\n      <th>GP</th>\n      <th>MPG</th>\n      <th>FGM</th>\n      <th>FGA</th>\n      <th>FG%</th>\n      <th>3PM</th>\n      <th>3PA</th>\n      <th>...</th>\n      <th>TOV</th>\n      <th>PF</th>\n      <th>ORB</th>\n      <th>DRB</th>\n      <th>RPG</th>\n      <th>APG</th>\n      <th>SPG</th>\n      <th>BPG</th>\n      <th>PPG</th>\n      <th>Season_Year</th>\n    </tr>\n  </thead>\n  <tbody>\n    <tr>\n      <th>0</th>\n      <td>1</td>\n      <td>Max Abmas</td>\n      <td>ORU</td>\n      <td>28</td>\n      <td>37.0</td>\n      <td>8.0</td>\n      <td>16.8</td>\n      <td>0.478</td>\n      <td>3.6</td>\n      <td>8.3</td>\n      <td>...</td>\n      <td>2.3</td>\n      <td>2.2</td>\n      <td>0.4</td>\n      <td>2.8</td>\n      <td>3.2</td>\n      <td>3.9</td>\n      <td>1.5</td>\n      <td>0.2</td>\n      <td>24.6</td>\n      <td>2021</td>\n    </tr>\n    <tr>\n      <th>1</th>\n      <td>2</td>\n      <td>Luka Garza</td>\n      <td>UI</td>\n      <td>31</td>\n      <td>31.6</td>\n      <td>9.1</td>\n      <td>16.4</td>\n      <td>0.553</td>\n      <td>1.4</td>\n      <td>3.2</td>\n      <td>...</td>\n      <td>1.5</td>\n      <td>2.3</td>\n      <td>3.0</td>\n      <td>5.7</td>\n      <td>8.7</td>\n      <td>1.7</td>\n      <td>0.7</td>\n      <td>1.6</td>\n      <td>24.1</td>\n      <td>2021</td>\n    </tr>\n    <tr>\n      <th>2</th>\n      <td>3</td>\n      <td>Antoine Davis</td>\n      <td>UDM</td>\n      <td>22</td>\n      <td>38.5</td>\n      <td>8.1</td>\n      <td>19.1</td>\n      <td>0.424</td>\n      <td>3.8</td>\n      <td>10.1</td>\n      <td>...</td>\n      <td>3.3</td>\n      <td>1.6</td>\n      <td>0.2</td>\n      <td>2.7</td>\n      <td>2.9</td>\n      <td>4.8</td>\n      <td>1.5</td>\n      <td>0.0</td>\n      <td>24.0</td>\n      <td>2021</td>\n    </tr>\n    <tr>\n      <th>3</th>\n      <td>4</td>\n      <td>Cam Thomas</td>\n      <td>LSU</td>\n      <td>29</td>\n      <td>33.9</td>\n      <td>7.0</td>\n      <td>17.2</td>\n      <td>0.406</td>\n      <td>2.3</td>\n      <td>7.2</td>\n      <td>...</td>\n      <td>1.7</td>\n      <td>1.4</td>\n      <td>0.6</td>\n      <td>2.8</td>\n      <td>3.4</td>\n      <td>1.4</td>\n      <td>0.9</td>\n      <td>0.2</td>\n      <td>23.0</td>\n      <td>2021</td>\n    </tr>\n    <tr>\n      <th>4</th>\n      <td>5</td>\n      <td>A.J. Green</td>\n      <td>UNI</td>\n      <td>3</td>\n      <td>36.3</td>\n      <td>8.7</td>\n      <td>18.7</td>\n      <td>0.464</td>\n      <td>3.7</td>\n      <td>9.0</td>\n      <td>...</td>\n      <td>3.7</td>\n      <td>2.0</td>\n      <td>1.0</td>\n      <td>4.7</td>\n      <td>5.7</td>\n      <td>2.7</td>\n      <td>1.3</td>\n      <td>0.7</td>\n      <td>22.3</td>\n      <td>2021</td>\n    </tr>\n  </tbody>\n</table>\n<p>5 rows × 24 columns</p>\n</div>"
     },
     "metadata": {},
     "execution_count": 59
    }
   ],
   "source": [
    "raw_2021_data.head()"
   ]
  },
  {
   "cell_type": "code",
   "execution_count": 60,
   "metadata": {},
   "outputs": [],
   "source": [
    "numerical_cols_2021 = raw_2021_data.dtypes[raw_2021_data.dtypes != 'object'].index.tolist()\n",
    "\n",
    "numerical_2021 = raw_2021_data[numerical_cols_2021]\n",
    "numerical_2021.index = raw_2021_data['#']\n",
    "\n",
    "selected_features_2021 = ['PPG','RPG','APG','SPG','TOV','FG%','3P%','FT%']\n",
    "\n",
    "X_2021 = numerical_2021[selected_features_2021]"
   ]
  },
  {
   "cell_type": "code",
   "execution_count": 61,
   "metadata": {},
   "outputs": [],
   "source": [
    "pred_2021 = lr.predict(X_2021)"
   ]
  },
  {
   "cell_type": "code",
   "execution_count": 62,
   "metadata": {},
   "outputs": [],
   "source": [
    "draft_prob = lr.predict_proba(X_2021)\n",
    "\n",
    "draft_prob_true = []\n",
    "for prob in draft_prob:\n",
    "    draft_prob_true.append(prob[1])"
   ]
  },
  {
   "cell_type": "code",
   "execution_count": 63,
   "metadata": {},
   "outputs": [
    {
     "output_type": "stream",
     "name": "stderr",
     "text": [
      "ipykernel_launcher:6: SettingWithCopyWarning: \nA value is trying to be set on a copy of a slice from a DataFrame.\nTry using .loc[row_indexer,col_indexer] = value instead\n\nSee the caveats in the documentation: https://pandas.pydata.org/pandas-docs/stable/user_guide/indexing.html#returning-a-view-versus-a-copy\nipykernel_launcher:7: SettingWithCopyWarning: \nA value is trying to be set on a copy of a slice from a DataFrame.\nTry using .loc[row_indexer,col_indexer] = value instead\n\nSee the caveats in the documentation: https://pandas.pydata.org/pandas-docs/stable/user_guide/indexing.html#returning-a-view-versus-a-copy\n"
     ]
    }
   ],
   "source": [
    "prediction_display_features = ['Player','Team']\n",
    "for feature in selected_features_2021:\n",
    "    prediction_display_features.append(feature)\n",
    "\n",
    "draft_predictions_2021 = raw_2021_data[prediction_display_features]\n",
    "draft_predictions_2021['draft_prediction'] = pred_2021\n",
    "draft_predictions_2021['draft_prob'] = draft_prob_true"
   ]
  },
  {
   "cell_type": "code",
   "execution_count": 68,
   "metadata": {},
   "outputs": [],
   "source": [
    "draft_picks_2021 = draft_predictions_2021.sort_values(by='draft_prob',ascending=False).head(60).drop('draft_prob',axis=1)"
   ]
  },
  {
   "cell_type": "code",
   "execution_count": 69,
   "metadata": {},
   "outputs": [],
   "source": [
    "predictions_filepath = './2021_predictions.csv'\n",
    "draft_picks_2021.to_csv(predictions_filepath)"
   ]
  },
  {
   "cell_type": "code",
   "execution_count": null,
   "metadata": {},
   "outputs": [],
   "source": []
  }
 ]
}
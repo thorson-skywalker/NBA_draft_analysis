{
 "metadata": {
  "language_info": {
   "codemirror_mode": {
    "name": "ipython",
    "version": 3
   },
   "file_extension": ".py",
   "mimetype": "text/x-python",
   "name": "python",
   "nbconvert_exporter": "python",
   "pygments_lexer": "ipython3",
   "version": "3.7.9"
  },
  "orig_nbformat": 2,
  "kernelspec": {
   "name": "python379jvsc74a57bd0fb187ceb99e597fc4fb087033f2a56d4997f1306a985d00c1ac5ca0a4e888195",
   "display_name": "Python 3.7.9 64-bit ('mlenv': conda)"
  }
 },
 "nbformat": 4,
 "nbformat_minor": 2,
 "cells": [
  {
   "cell_type": "code",
   "execution_count": 1,
   "metadata": {},
   "outputs": [],
   "source": [
    "import pandas as pd\n",
    "from pathlib import Path\n",
    "from sklearn.linear_model import LogisticRegression\n",
    "from sklearn.model_selection import train_test_split\n",
    "from sklearn.metrics import accuracy_score, confusion_matrix, classification_report"
   ]
  },
  {
   "cell_type": "code",
   "execution_count": 2,
   "metadata": {},
   "outputs": [],
   "source": [
    "cleaned_data_url = '../../Resources/2018MBB_StatsAndDraft_Cleaned.csv'\n",
    "\n",
    "raw_df = pd.read_csv(cleaned_data_url)"
   ]
  },
  {
   "cell_type": "code",
   "execution_count": 3,
   "metadata": {},
   "outputs": [
    {
     "output_type": "execute_result",
     "data": {
      "text/plain": [
       "                   GP   MPG  FGM   FGA    FG%  3PM   3PA    3P%  FTM  FTA  \\\n",
       "Player                                                                      \n",
       "Deandre Ayton      35  33.5  7.9  12.9  0.612  0.3   1.0  0.343  4.0  5.5   \n",
       "Marvin Bagley III  33  33.9  8.2  13.3  0.614  0.7   1.8  0.397  4.0  6.3   \n",
       "Trae Young         32  35.4  8.2  19.3  0.422  3.7  10.2  0.360  7.4  8.6   \n",
       "Mo Bamba           30  30.2  4.9   9.0  0.541  0.5   1.7  0.275  2.7  4.0   \n",
       "Collin Sexton      33  29.9  5.9  13.3  0.447  1.3   4.0  0.336  5.9  7.6   \n",
       "\n",
       "                   ...  TOV   PF  ORB  DRB   RPG  APG  SPG  BPG   PPG   Pk  \n",
       "Player             ...                                                      \n",
       "Deandre Ayton      ...  2.0  2.3  3.4  8.2  11.6  1.6  0.6  1.9  20.1  1.0  \n",
       "Marvin Bagley III  ...  2.3  1.8  4.0  7.1  11.1  1.5  0.8  0.9  21.0  2.0  \n",
       "Trae Young         ...  5.2  1.8  0.4  3.5   3.9  8.7  1.7  0.2  27.4  5.0  \n",
       "Mo Bamba           ...  1.5  2.5  3.2  7.3  10.5  0.5  0.8  3.7  12.9  6.0  \n",
       "Collin Sexton      ...  2.8  2.5  1.0  2.7   3.8  3.6  0.8  0.1  19.2  8.0  \n",
       "\n",
       "[5 rows x 21 columns]"
      ],
      "text/html": "<div>\n<style scoped>\n    .dataframe tbody tr th:only-of-type {\n        vertical-align: middle;\n    }\n\n    .dataframe tbody tr th {\n        vertical-align: top;\n    }\n\n    .dataframe thead th {\n        text-align: right;\n    }\n</style>\n<table border=\"1\" class=\"dataframe\">\n  <thead>\n    <tr style=\"text-align: right;\">\n      <th></th>\n      <th>GP</th>\n      <th>MPG</th>\n      <th>FGM</th>\n      <th>FGA</th>\n      <th>FG%</th>\n      <th>3PM</th>\n      <th>3PA</th>\n      <th>3P%</th>\n      <th>FTM</th>\n      <th>FTA</th>\n      <th>...</th>\n      <th>TOV</th>\n      <th>PF</th>\n      <th>ORB</th>\n      <th>DRB</th>\n      <th>RPG</th>\n      <th>APG</th>\n      <th>SPG</th>\n      <th>BPG</th>\n      <th>PPG</th>\n      <th>Pk</th>\n    </tr>\n    <tr>\n      <th>Player</th>\n      <th></th>\n      <th></th>\n      <th></th>\n      <th></th>\n      <th></th>\n      <th></th>\n      <th></th>\n      <th></th>\n      <th></th>\n      <th></th>\n      <th></th>\n      <th></th>\n      <th></th>\n      <th></th>\n      <th></th>\n      <th></th>\n      <th></th>\n      <th></th>\n      <th></th>\n      <th></th>\n      <th></th>\n    </tr>\n  </thead>\n  <tbody>\n    <tr>\n      <th>Deandre Ayton</th>\n      <td>35</td>\n      <td>33.5</td>\n      <td>7.9</td>\n      <td>12.9</td>\n      <td>0.612</td>\n      <td>0.3</td>\n      <td>1.0</td>\n      <td>0.343</td>\n      <td>4.0</td>\n      <td>5.5</td>\n      <td>...</td>\n      <td>2.0</td>\n      <td>2.3</td>\n      <td>3.4</td>\n      <td>8.2</td>\n      <td>11.6</td>\n      <td>1.6</td>\n      <td>0.6</td>\n      <td>1.9</td>\n      <td>20.1</td>\n      <td>1.0</td>\n    </tr>\n    <tr>\n      <th>Marvin Bagley III</th>\n      <td>33</td>\n      <td>33.9</td>\n      <td>8.2</td>\n      <td>13.3</td>\n      <td>0.614</td>\n      <td>0.7</td>\n      <td>1.8</td>\n      <td>0.397</td>\n      <td>4.0</td>\n      <td>6.3</td>\n      <td>...</td>\n      <td>2.3</td>\n      <td>1.8</td>\n      <td>4.0</td>\n      <td>7.1</td>\n      <td>11.1</td>\n      <td>1.5</td>\n      <td>0.8</td>\n      <td>0.9</td>\n      <td>21.0</td>\n      <td>2.0</td>\n    </tr>\n    <tr>\n      <th>Trae Young</th>\n      <td>32</td>\n      <td>35.4</td>\n      <td>8.2</td>\n      <td>19.3</td>\n      <td>0.422</td>\n      <td>3.7</td>\n      <td>10.2</td>\n      <td>0.360</td>\n      <td>7.4</td>\n      <td>8.6</td>\n      <td>...</td>\n      <td>5.2</td>\n      <td>1.8</td>\n      <td>0.4</td>\n      <td>3.5</td>\n      <td>3.9</td>\n      <td>8.7</td>\n      <td>1.7</td>\n      <td>0.2</td>\n      <td>27.4</td>\n      <td>5.0</td>\n    </tr>\n    <tr>\n      <th>Mo Bamba</th>\n      <td>30</td>\n      <td>30.2</td>\n      <td>4.9</td>\n      <td>9.0</td>\n      <td>0.541</td>\n      <td>0.5</td>\n      <td>1.7</td>\n      <td>0.275</td>\n      <td>2.7</td>\n      <td>4.0</td>\n      <td>...</td>\n      <td>1.5</td>\n      <td>2.5</td>\n      <td>3.2</td>\n      <td>7.3</td>\n      <td>10.5</td>\n      <td>0.5</td>\n      <td>0.8</td>\n      <td>3.7</td>\n      <td>12.9</td>\n      <td>6.0</td>\n    </tr>\n    <tr>\n      <th>Collin Sexton</th>\n      <td>33</td>\n      <td>29.9</td>\n      <td>5.9</td>\n      <td>13.3</td>\n      <td>0.447</td>\n      <td>1.3</td>\n      <td>4.0</td>\n      <td>0.336</td>\n      <td>5.9</td>\n      <td>7.6</td>\n      <td>...</td>\n      <td>2.8</td>\n      <td>2.5</td>\n      <td>1.0</td>\n      <td>2.7</td>\n      <td>3.8</td>\n      <td>3.6</td>\n      <td>0.8</td>\n      <td>0.1</td>\n      <td>19.2</td>\n      <td>8.0</td>\n    </tr>\n  </tbody>\n</table>\n<p>5 rows × 21 columns</p>\n</div>"
     },
     "metadata": {},
     "execution_count": 3
    }
   ],
   "source": [
    "numerical_cols = raw_df.dtypes[raw_df.dtypes != 'object'].index.tolist()\n",
    "\n",
    "numerical_df = raw_df[numerical_cols]\n",
    "numerical_df.index = raw_df['Player']\n",
    "numerical_df.head()"
   ]
  },
  {
   "cell_type": "code",
   "execution_count": 13,
   "metadata": {},
   "outputs": [],
   "source": [
    "X = numerical_df.drop(columns=['Pk'])\n",
    "y = numerical_df['Pk'].apply(lambda x: 1 if x <= 60 else 0)"
   ]
  },
  {
   "cell_type": "code",
   "execution_count": 14,
   "metadata": {},
   "outputs": [],
   "source": [
    "from imblearn.combine import SMOTEENN"
   ]
  },
  {
   "cell_type": "code",
   "execution_count": 15,
   "metadata": {},
   "outputs": [],
   "source": [
    "smoteenn = SMOTEENN(random_state=1)\n",
    "X_resampled, y_resampled = smoteenn.fit_resample(X,y)"
   ]
  },
  {
   "cell_type": "code",
   "execution_count": 16,
   "metadata": {},
   "outputs": [
    {
     "output_type": "execute_result",
     "data": {
      "text/plain": [
       "      GP        MPG       FGM        FGA       FG%       3PM       3PA  \\\n",
       "0     33  31.900000  6.600000  14.400000  0.456000  2.600000  6.900000   \n",
       "1     32  30.200000  7.100000  15.400000  0.458000  2.200000  5.800000   \n",
       "2     33  31.600000  7.500000  15.400000  0.483000  2.900000  7.000000   \n",
       "3     38  33.500000  5.800000  14.700000  0.397000  3.500000  9.300000   \n",
       "4     35  34.000000  7.100000  13.500000  0.527000  0.500000  1.700000   \n",
       "...   ..        ...       ...        ...       ...       ...       ...   \n",
       "3567  40  29.720553  4.951302  10.176952  0.486924  2.189751  5.425651   \n",
       "3568  27  34.064305  5.975790  13.559522  0.441520  1.556746  4.156746   \n",
       "3569  31  28.457229  4.402950   9.960179  0.447758  1.871978  4.833631   \n",
       "3570  32  32.805981  7.596403  13.526349  0.561563  1.001798  2.667670   \n",
       "3571  34  32.318561  4.036601   8.818561  0.458235  1.549739  3.572158   \n",
       "\n",
       "           3P%       FTM       FTA       FT%       TOV        PF       ORB  \\\n",
       "0     0.380000  4.300000  5.600000  0.772000  2.200000  2.000000  1.100000   \n",
       "1     0.380000  3.500000  5.000000  0.696000  2.400000  2.100000  0.600000   \n",
       "2     0.413000  2.000000  2.700000  0.744000  2.200000  1.700000  0.700000   \n",
       "3     0.378000  4.400000  4.900000  0.888000  1.700000  2.300000  0.400000   \n",
       "4     0.295000  4.700000  6.900000  0.675000  2.100000  2.600000  3.000000   \n",
       "...        ...       ...       ...       ...       ...       ...       ...   \n",
       "3567  0.407103  2.079501  2.825651  0.735310  1.892299  2.100000  1.153850   \n",
       "3568  0.370917  5.413493  6.973014  0.780774  2.889282  2.683732  1.637703   \n",
       "3569  0.389174  2.085251  2.694101  0.777413  1.995575  2.397050  1.808849   \n",
       "3570  0.382665  4.490422  6.639523  0.665102  2.714973  2.026349  2.830532   \n",
       "3571  0.428175  2.432221  2.800522  0.883482  1.232221  1.440980  0.468300   \n",
       "\n",
       "           DRB       RPG       APG       SPG       BPG        PPG  \n",
       "0     3.900000  5.000000  1.700000  1.100000  0.100000  20.100000  \n",
       "1     3.000000  3.500000  2.700000  0.800000  0.200000  19.800000  \n",
       "2     3.200000  3.900000  2.700000  1.000000  0.100000  19.800000  \n",
       "3     3.700000  4.200000  0.900000  0.600000  0.300000  19.500000  \n",
       "4     5.800000  8.700000  1.300000  0.700000  0.100000  19.500000  \n",
       "...        ...       ...       ...       ...       ...        ...  \n",
       "3567  3.671800  4.889751  3.212798  1.171800  0.361551  14.153905  \n",
       "3568  5.211101  6.848804  2.932536  1.670239  0.697225  18.978565  \n",
       "3569  6.111799  7.820648  1.104425  0.504425  0.726547  12.863128  \n",
       "3570  6.986826  9.817357  2.254496  1.064074  0.673651  20.622752  \n",
       "3571  3.804379  4.186340  3.373201  0.995621  0.154640  12.068822  \n",
       "\n",
       "[3572 rows x 20 columns]"
      ],
      "text/html": "<div>\n<style scoped>\n    .dataframe tbody tr th:only-of-type {\n        vertical-align: middle;\n    }\n\n    .dataframe tbody tr th {\n        vertical-align: top;\n    }\n\n    .dataframe thead th {\n        text-align: right;\n    }\n</style>\n<table border=\"1\" class=\"dataframe\">\n  <thead>\n    <tr style=\"text-align: right;\">\n      <th></th>\n      <th>GP</th>\n      <th>MPG</th>\n      <th>FGM</th>\n      <th>FGA</th>\n      <th>FG%</th>\n      <th>3PM</th>\n      <th>3PA</th>\n      <th>3P%</th>\n      <th>FTM</th>\n      <th>FTA</th>\n      <th>FT%</th>\n      <th>TOV</th>\n      <th>PF</th>\n      <th>ORB</th>\n      <th>DRB</th>\n      <th>RPG</th>\n      <th>APG</th>\n      <th>SPG</th>\n      <th>BPG</th>\n      <th>PPG</th>\n    </tr>\n  </thead>\n  <tbody>\n    <tr>\n      <th>0</th>\n      <td>33</td>\n      <td>31.900000</td>\n      <td>6.600000</td>\n      <td>14.400000</td>\n      <td>0.456000</td>\n      <td>2.600000</td>\n      <td>6.900000</td>\n      <td>0.380000</td>\n      <td>4.300000</td>\n      <td>5.600000</td>\n      <td>0.772000</td>\n      <td>2.200000</td>\n      <td>2.000000</td>\n      <td>1.100000</td>\n      <td>3.900000</td>\n      <td>5.000000</td>\n      <td>1.700000</td>\n      <td>1.100000</td>\n      <td>0.100000</td>\n      <td>20.100000</td>\n    </tr>\n    <tr>\n      <th>1</th>\n      <td>32</td>\n      <td>30.200000</td>\n      <td>7.100000</td>\n      <td>15.400000</td>\n      <td>0.458000</td>\n      <td>2.200000</td>\n      <td>5.800000</td>\n      <td>0.380000</td>\n      <td>3.500000</td>\n      <td>5.000000</td>\n      <td>0.696000</td>\n      <td>2.400000</td>\n      <td>2.100000</td>\n      <td>0.600000</td>\n      <td>3.000000</td>\n      <td>3.500000</td>\n      <td>2.700000</td>\n      <td>0.800000</td>\n      <td>0.200000</td>\n      <td>19.800000</td>\n    </tr>\n    <tr>\n      <th>2</th>\n      <td>33</td>\n      <td>31.600000</td>\n      <td>7.500000</td>\n      <td>15.400000</td>\n      <td>0.483000</td>\n      <td>2.900000</td>\n      <td>7.000000</td>\n      <td>0.413000</td>\n      <td>2.000000</td>\n      <td>2.700000</td>\n      <td>0.744000</td>\n      <td>2.200000</td>\n      <td>1.700000</td>\n      <td>0.700000</td>\n      <td>3.200000</td>\n      <td>3.900000</td>\n      <td>2.700000</td>\n      <td>1.000000</td>\n      <td>0.100000</td>\n      <td>19.800000</td>\n    </tr>\n    <tr>\n      <th>3</th>\n      <td>38</td>\n      <td>33.500000</td>\n      <td>5.800000</td>\n      <td>14.700000</td>\n      <td>0.397000</td>\n      <td>3.500000</td>\n      <td>9.300000</td>\n      <td>0.378000</td>\n      <td>4.400000</td>\n      <td>4.900000</td>\n      <td>0.888000</td>\n      <td>1.700000</td>\n      <td>2.300000</td>\n      <td>0.400000</td>\n      <td>3.700000</td>\n      <td>4.200000</td>\n      <td>0.900000</td>\n      <td>0.600000</td>\n      <td>0.300000</td>\n      <td>19.500000</td>\n    </tr>\n    <tr>\n      <th>4</th>\n      <td>35</td>\n      <td>34.000000</td>\n      <td>7.100000</td>\n      <td>13.500000</td>\n      <td>0.527000</td>\n      <td>0.500000</td>\n      <td>1.700000</td>\n      <td>0.295000</td>\n      <td>4.700000</td>\n      <td>6.900000</td>\n      <td>0.675000</td>\n      <td>2.100000</td>\n      <td>2.600000</td>\n      <td>3.000000</td>\n      <td>5.800000</td>\n      <td>8.700000</td>\n      <td>1.300000</td>\n      <td>0.700000</td>\n      <td>0.100000</td>\n      <td>19.500000</td>\n    </tr>\n    <tr>\n      <th>...</th>\n      <td>...</td>\n      <td>...</td>\n      <td>...</td>\n      <td>...</td>\n      <td>...</td>\n      <td>...</td>\n      <td>...</td>\n      <td>...</td>\n      <td>...</td>\n      <td>...</td>\n      <td>...</td>\n      <td>...</td>\n      <td>...</td>\n      <td>...</td>\n      <td>...</td>\n      <td>...</td>\n      <td>...</td>\n      <td>...</td>\n      <td>...</td>\n      <td>...</td>\n    </tr>\n    <tr>\n      <th>3567</th>\n      <td>40</td>\n      <td>29.720553</td>\n      <td>4.951302</td>\n      <td>10.176952</td>\n      <td>0.486924</td>\n      <td>2.189751</td>\n      <td>5.425651</td>\n      <td>0.407103</td>\n      <td>2.079501</td>\n      <td>2.825651</td>\n      <td>0.735310</td>\n      <td>1.892299</td>\n      <td>2.100000</td>\n      <td>1.153850</td>\n      <td>3.671800</td>\n      <td>4.889751</td>\n      <td>3.212798</td>\n      <td>1.171800</td>\n      <td>0.361551</td>\n      <td>14.153905</td>\n    </tr>\n    <tr>\n      <th>3568</th>\n      <td>27</td>\n      <td>34.064305</td>\n      <td>5.975790</td>\n      <td>13.559522</td>\n      <td>0.441520</td>\n      <td>1.556746</td>\n      <td>4.156746</td>\n      <td>0.370917</td>\n      <td>5.413493</td>\n      <td>6.973014</td>\n      <td>0.780774</td>\n      <td>2.889282</td>\n      <td>2.683732</td>\n      <td>1.637703</td>\n      <td>5.211101</td>\n      <td>6.848804</td>\n      <td>2.932536</td>\n      <td>1.670239</td>\n      <td>0.697225</td>\n      <td>18.978565</td>\n    </tr>\n    <tr>\n      <th>3569</th>\n      <td>31</td>\n      <td>28.457229</td>\n      <td>4.402950</td>\n      <td>9.960179</td>\n      <td>0.447758</td>\n      <td>1.871978</td>\n      <td>4.833631</td>\n      <td>0.389174</td>\n      <td>2.085251</td>\n      <td>2.694101</td>\n      <td>0.777413</td>\n      <td>1.995575</td>\n      <td>2.397050</td>\n      <td>1.808849</td>\n      <td>6.111799</td>\n      <td>7.820648</td>\n      <td>1.104425</td>\n      <td>0.504425</td>\n      <td>0.726547</td>\n      <td>12.863128</td>\n    </tr>\n    <tr>\n      <th>3570</th>\n      <td>32</td>\n      <td>32.805981</td>\n      <td>7.596403</td>\n      <td>13.526349</td>\n      <td>0.561563</td>\n      <td>1.001798</td>\n      <td>2.667670</td>\n      <td>0.382665</td>\n      <td>4.490422</td>\n      <td>6.639523</td>\n      <td>0.665102</td>\n      <td>2.714973</td>\n      <td>2.026349</td>\n      <td>2.830532</td>\n      <td>6.986826</td>\n      <td>9.817357</td>\n      <td>2.254496</td>\n      <td>1.064074</td>\n      <td>0.673651</td>\n      <td>20.622752</td>\n    </tr>\n    <tr>\n      <th>3571</th>\n      <td>34</td>\n      <td>32.318561</td>\n      <td>4.036601</td>\n      <td>8.818561</td>\n      <td>0.458235</td>\n      <td>1.549739</td>\n      <td>3.572158</td>\n      <td>0.428175</td>\n      <td>2.432221</td>\n      <td>2.800522</td>\n      <td>0.883482</td>\n      <td>1.232221</td>\n      <td>1.440980</td>\n      <td>0.468300</td>\n      <td>3.804379</td>\n      <td>4.186340</td>\n      <td>3.373201</td>\n      <td>0.995621</td>\n      <td>0.154640</td>\n      <td>12.068822</td>\n    </tr>\n  </tbody>\n</table>\n<p>3572 rows × 20 columns</p>\n</div>"
     },
     "metadata": {},
     "execution_count": 16
    }
   ],
   "source": [
    "X_resampled"
   ]
  },
  {
   "cell_type": "code",
   "execution_count": 17,
   "metadata": {},
   "outputs": [
    {
     "output_type": "execute_result",
     "data": {
      "text/plain": [
       "Counter({1: 37, 0: 1963})"
      ]
     },
     "metadata": {},
     "execution_count": 17
    }
   ],
   "source": [
    "from collections import Counter\n",
    "Counter(y)"
   ]
  },
  {
   "cell_type": "code",
   "execution_count": 18,
   "metadata": {},
   "outputs": [
    {
     "output_type": "execute_result",
     "data": {
      "text/plain": [
       "Counter({0: 1631, 1: 1941})"
      ]
     },
     "metadata": {},
     "execution_count": 18
    }
   ],
   "source": [
    "Counter(y_resampled)"
   ]
  },
  {
   "cell_type": "code",
   "execution_count": 19,
   "metadata": {},
   "outputs": [],
   "source": [
    "X_train, X_test, y_train, y_test = train_test_split(X_resampled,y_resampled,random_state=1)"
   ]
  },
  {
   "cell_type": "code",
   "execution_count": 20,
   "metadata": {},
   "outputs": [
    {
     "output_type": "execute_result",
     "data": {
      "text/plain": [
       "LogisticRegression(max_iter=1000, random_state=1)"
      ]
     },
     "metadata": {},
     "execution_count": 20
    }
   ],
   "source": [
    "classifier = LogisticRegression(solver='lbfgs',random_state=1, max_iter=1000)\n",
    "classifier.fit(X_train,y_train)"
   ]
  },
  {
   "cell_type": "code",
   "execution_count": 21,
   "metadata": {},
   "outputs": [
    {
     "output_type": "execute_result",
     "data": {
      "text/plain": [
       "0.8913773796192609"
      ]
     },
     "metadata": {},
     "execution_count": 21
    }
   ],
   "source": [
    "predictions = classifier.predict(X_test)\n",
    "\n",
    "acc_score = accuracy_score(y_test,predictions)\n",
    "acc_score"
   ]
  },
  {
   "cell_type": "code",
   "execution_count": 22,
   "metadata": {},
   "outputs": [
    {
     "output_type": "stream",
     "name": "stdout",
     "text": [
      "[[357  64]\n [ 33 439]]\n"
     ]
    }
   ],
   "source": [
    "matrix = confusion_matrix(y_test,predictions)\n",
    "print(matrix)"
   ]
  },
  {
   "cell_type": "code",
   "execution_count": 23,
   "metadata": {},
   "outputs": [],
   "source": [
    "results = pd.DataFrame({\"Prediction\": predictions, \"Actual\": y_test}).reset_index(drop=True)"
   ]
  },
  {
   "cell_type": "code",
   "execution_count": 25,
   "metadata": {},
   "outputs": [
    {
     "output_type": "execute_result",
     "data": {
      "text/plain": [
       "     Prediction  Actual\n",
       "12            1       0\n",
       "14            1       0\n",
       "34            1       0\n",
       "53            1       0\n",
       "60            0       1\n",
       "..          ...     ...\n",
       "861           1       0\n",
       "868           1       0\n",
       "871           1       0\n",
       "877           0       1\n",
       "886           1       0\n",
       "\n",
       "[97 rows x 2 columns]"
      ],
      "text/html": "<div>\n<style scoped>\n    .dataframe tbody tr th:only-of-type {\n        vertical-align: middle;\n    }\n\n    .dataframe tbody tr th {\n        vertical-align: top;\n    }\n\n    .dataframe thead th {\n        text-align: right;\n    }\n</style>\n<table border=\"1\" class=\"dataframe\">\n  <thead>\n    <tr style=\"text-align: right;\">\n      <th></th>\n      <th>Prediction</th>\n      <th>Actual</th>\n    </tr>\n  </thead>\n  <tbody>\n    <tr>\n      <th>12</th>\n      <td>1</td>\n      <td>0</td>\n    </tr>\n    <tr>\n      <th>14</th>\n      <td>1</td>\n      <td>0</td>\n    </tr>\n    <tr>\n      <th>34</th>\n      <td>1</td>\n      <td>0</td>\n    </tr>\n    <tr>\n      <th>53</th>\n      <td>1</td>\n      <td>0</td>\n    </tr>\n    <tr>\n      <th>60</th>\n      <td>0</td>\n      <td>1</td>\n    </tr>\n    <tr>\n      <th>...</th>\n      <td>...</td>\n      <td>...</td>\n    </tr>\n    <tr>\n      <th>861</th>\n      <td>1</td>\n      <td>0</td>\n    </tr>\n    <tr>\n      <th>868</th>\n      <td>1</td>\n      <td>0</td>\n    </tr>\n    <tr>\n      <th>871</th>\n      <td>1</td>\n      <td>0</td>\n    </tr>\n    <tr>\n      <th>877</th>\n      <td>0</td>\n      <td>1</td>\n    </tr>\n    <tr>\n      <th>886</th>\n      <td>1</td>\n      <td>0</td>\n    </tr>\n  </tbody>\n</table>\n<p>97 rows × 2 columns</p>\n</div>"
     },
     "metadata": {},
     "execution_count": 25
    }
   ],
   "source": [
    "results[results['Prediction'] != results['Actual']]"
   ]
  },
  {
   "cell_type": "code",
   "execution_count": 26,
   "metadata": {},
   "outputs": [
    {
     "output_type": "stream",
     "name": "stdout",
     "text": [
      "              precision    recall  f1-score   support\n\n           0       0.92      0.85      0.88       421\n           1       0.87      0.93      0.90       472\n\n    accuracy                           0.89       893\n   macro avg       0.89      0.89      0.89       893\nweighted avg       0.89      0.89      0.89       893\n\n"
     ]
    }
   ],
   "source": [
    "report = classification_report(y_test,predictions,zero_division=True)\n",
    "print(report)"
   ]
  },
  {
   "cell_type": "code",
   "execution_count": null,
   "metadata": {},
   "outputs": [],
   "source": []
  }
 ]
}
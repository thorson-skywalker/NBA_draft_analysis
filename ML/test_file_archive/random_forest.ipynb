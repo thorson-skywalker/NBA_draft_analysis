{
 "metadata": {
  "language_info": {
   "codemirror_mode": {
    "name": "ipython",
    "version": 3
   },
   "file_extension": ".py",
   "mimetype": "text/x-python",
   "name": "python",
   "nbconvert_exporter": "python",
   "pygments_lexer": "ipython3",
   "version": "3.7.9"
  },
  "orig_nbformat": 2,
  "kernelspec": {
   "name": "python379jvsc74a57bd0fb187ceb99e597fc4fb087033f2a56d4997f1306a985d00c1ac5ca0a4e888195",
   "display_name": "Python 3.7.9 64-bit ('mlenv': conda)"
  }
 },
 "nbformat": 4,
 "nbformat_minor": 2,
 "cells": [
  {
   "cell_type": "code",
   "execution_count": 14,
   "metadata": {},
   "outputs": [],
   "source": [
    "import pandas as pd\n",
    "from pathlib import Path\n",
    "from sklearn.linear_model import LogisticRegression\n",
    "from sklearn.model_selection import train_test_split\n",
    "from sklearn.metrics import accuracy_score, confusion_matrix, classification_report\n",
    "from imblearn.combine import SMOTEENN\n",
    "from collections import Counter\n",
    "from sklearn.preprocessing import StandardScaler\n",
    "from sklearn.ensemble import RandomForestClassifier"
   ]
  },
  {
   "cell_type": "code",
   "execution_count": 10,
   "metadata": {},
   "outputs": [],
   "source": [
    "cleaned_data_url = '../../Resources/2018MBB_StatsAndDraft_Cleaned.csv'\n",
    "\n",
    "raw_df = pd.read_csv(cleaned_data_url)\n",
    "\n",
    "numerical_cols = raw_df.dtypes[raw_df.dtypes != 'object'].index.tolist()\n",
    "\n",
    "numerical_df = raw_df[numerical_cols]\n",
    "numerical_df.index = raw_df['Player']\n",
    "\n",
    "X = numerical_df.drop(columns=['Pk'])\n",
    "y = numerical_df['Pk'].apply(lambda x: 1 if x <= 60 else 2)"
   ]
  },
  {
   "cell_type": "code",
   "execution_count": 11,
   "metadata": {},
   "outputs": [],
   "source": [
    "smoteenn = SMOTEENN(random_state=1)\n",
    "X_resampled, y_resampled = smoteenn.fit_resample(X,y)"
   ]
  },
  {
   "cell_type": "code",
   "execution_count": 18,
   "metadata": {},
   "outputs": [],
   "source": [
    "X_train, X_test, y_train, y_test = train_test_split(X_resampled,y_resampled,random_state=1)\n",
    "\n",
    "classifier = LogisticRegression(solver='lbfgs',random_state=1, max_iter=1000)\n",
    "classifier.fit(X_train,y_train)\n",
    "\n",
    "lr_pred = classifier.predict(X_test)\n",
    "\n",
    "lr_acc_score = accuracy_score(y_test,lr_pred)\n",
    "lr_matrix = confusion_matrix(y_test,lr_pred)\n",
    "lr_results = pd.DataFrame({\"Prediction\": lr_pred, \"Actual\": y_test}).reset_index(drop=True)\n",
    "lr_report = classification_report(y_test,lr_pred,zero_division=True)"
   ]
  },
  {
   "cell_type": "code",
   "execution_count": 19,
   "metadata": {},
   "outputs": [
    {
     "output_type": "stream",
     "name": "stdout",
     "text": [
      "[[458  33]\n [ 53 349]]\n              precision    recall  f1-score   support\n\n           1       0.90      0.93      0.91       491\n           2       0.91      0.87      0.89       402\n\n    accuracy                           0.90       893\n   macro avg       0.90      0.90      0.90       893\nweighted avg       0.90      0.90      0.90       893\n\n"
     ]
    }
   ],
   "source": [
    "print(lr_matrix)\n",
    "print(lr_report)"
   ]
  },
  {
   "cell_type": "code",
   "execution_count": 15,
   "metadata": {},
   "outputs": [],
   "source": [
    "rf = RandomForestClassifier(n_estimators=120,random_state=1)\n",
    "rf.fit(X_train,y_train)\n",
    "\n",
    "rf_pred = rf.predict(X_test)\n",
    "\n",
    "rf_acc_score = accuracy_score(y_test,rf_pred)\n",
    "rf_matrix = confusion_matrix(y_test,rf_pred)\n",
    "rf_results = pd.DataFrame({\"Prediction\": rf_pred, \"Actual\": y_test}).reset_index(drop=True)\n",
    "rf_report = classification_report(y_test,rf_pred,zero_division=True)"
   ]
  },
  {
   "cell_type": "code",
   "execution_count": 20,
   "metadata": {},
   "outputs": [
    {
     "output_type": "stream",
     "name": "stdout",
     "text": [
      "[[488   3]\n [  9 393]]\n              precision    recall  f1-score   support\n\n           1       0.98      0.99      0.99       491\n           2       0.99      0.98      0.98       402\n\n    accuracy                           0.99       893\n   macro avg       0.99      0.99      0.99       893\nweighted avg       0.99      0.99      0.99       893\n\n"
     ]
    }
   ],
   "source": [
    "print(rf_matrix)\n",
    "print(rf_report)"
   ]
  },
  {
   "cell_type": "code",
   "execution_count": 21,
   "metadata": {},
   "outputs": [],
   "source": [
    "importances = rf.feature_importances_\n",
    "features = X.columns\n",
    "feature_importances = sorted(zip(importances,features),reverse=True)"
   ]
  },
  {
   "cell_type": "code",
   "execution_count": 22,
   "metadata": {},
   "outputs": [
    {
     "output_type": "execute_result",
     "data": {
      "text/plain": [
       "[(0.13749463168119358, 'FGM'),\n",
       " (0.09928689413143799, 'PPG'),\n",
       " (0.08891432818296253, 'MPG'),\n",
       " (0.08070328207504095, 'DRB'),\n",
       " (0.07823615531428209, 'FGA'),\n",
       " (0.05658736532147858, 'GP'),\n",
       " (0.05012630644733565, 'FG%'),\n",
       " (0.04522882567846539, 'FTA'),\n",
       " (0.043954980807591214, 'BPG'),\n",
       " (0.043482714195805905, 'FTM'),\n",
       " (0.04118152452677147, 'PF'),\n",
       " (0.03824726589884613, 'APG'),\n",
       " (0.035845437519958195, 'RPG'),\n",
       " (0.030566178491589786, 'ORB'),\n",
       " (0.02578444987542877, '3PA'),\n",
       " (0.02431641902209148, '3PM'),\n",
       " (0.023827140474352363, 'FT%'),\n",
       " (0.022168483028746844, '3P%'),\n",
       " (0.018540181867432944, 'SPG'),\n",
       " (0.015507435459188274, 'TOV')]"
      ]
     },
     "metadata": {},
     "execution_count": 22
    }
   ],
   "source": [
    "feature_importances"
   ]
  },
  {
   "cell_type": "code",
   "execution_count": 34,
   "metadata": {},
   "outputs": [
    {
     "output_type": "execute_result",
     "data": {
      "text/plain": [
       "10"
      ]
     },
     "metadata": {},
     "execution_count": 34
    }
   ],
   "source": [
    "cutoff = 0.7\n",
    "total = 0\n",
    "features_used = 0\n",
    "\n",
    "for feature in feature_importances:\n",
    "    if total <= cutoff:\n",
    "        total += feature[0]\n",
    "        features_used += 1\n",
    "\n",
    "features_used"
   ]
  },
  {
   "cell_type": "code",
   "execution_count": null,
   "metadata": {},
   "outputs": [],
   "source": []
  }
 ]
}
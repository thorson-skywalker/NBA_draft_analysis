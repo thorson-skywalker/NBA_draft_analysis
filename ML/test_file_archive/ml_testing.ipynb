{
 "metadata": {
  "language_info": {
   "codemirror_mode": {
    "name": "ipython",
    "version": 3
   },
   "file_extension": ".py",
   "mimetype": "text/x-python",
   "name": "python",
   "nbconvert_exporter": "python",
   "pygments_lexer": "ipython3",
   "version": "3.9.1"
  },
  "orig_nbformat": 2,
  "kernelspec": {
   "name": "python391jvsc74a57bd02982cd6141d9c23042547963557bbcc448bfc22ff5c483fa6faf7abc447ba945",
   "display_name": "Python 3.9.1 64-bit"
  }
 },
 "nbformat": 4,
 "nbformat_minor": 2,
 "cells": [
  {
   "source": [
    "# Build Sample Logistic Model to Get Baseline Check of Raw Data"
   ],
   "cell_type": "markdown",
   "metadata": {}
  },
  {
   "source": [
    "## This script will import CSV files directly\n",
    "sql_connection.ipynb will test the connection to the postgres database before both are combined into a .py file"
   ],
   "cell_type": "markdown",
   "metadata": {}
  },
  {
   "cell_type": "code",
   "execution_count": 13,
   "metadata": {},
   "outputs": [],
   "source": [
    "import pandas as pd\n",
    "from pathlib import Path\n",
    "from sklearn.linear_model import LogisticRegression\n",
    "from sklearn.model_selection import train_test_split\n",
    "from sklearn.metrics import accuracy_score, confusion_matrix, classification_report"
   ]
  },
  {
   "cell_type": "code",
   "execution_count": 14,
   "metadata": {},
   "outputs": [],
   "source": [
    "cleaned_data_url = '../../Resources/2018MBB_StatsAndDraft_Cleaned.csv'\n",
    "\n",
    "raw_df = pd.read_csv(cleaned_data_url)"
   ]
  },
  {
   "cell_type": "code",
   "execution_count": 15,
   "metadata": {},
   "outputs": [
    {
     "output_type": "execute_result",
     "data": {
      "text/plain": [
       "              Player    Team  GP   MPG  FGM   FGA    FG%  3PM   3PA    3P%  \\\n",
       "0      Deandre Ayton  U of A  35  33.5  7.9  12.9  0.612  0.3   1.0  0.343   \n",
       "1  Marvin Bagley III    DUKE  33  33.9  8.2  13.3  0.614  0.7   1.8  0.397   \n",
       "2         Trae Young      OU  32  35.4  8.2  19.3  0.422  3.7  10.2  0.360   \n",
       "3           Mo Bamba      UT  30  30.2  4.9   9.0  0.541  0.5   1.7  0.275   \n",
       "4      Collin Sexton      UA  33  29.9  5.9  13.3  0.447  1.3   4.0  0.336   \n",
       "\n",
       "   ...   PF  ORB  DRB   RPG  APG  SPG  BPG   PPG   Pk            Player1  \n",
       "0  ...  2.3  3.4  8.2  11.6  1.6  0.6  1.9  20.1  1.0      Deandre Ayton  \n",
       "1  ...  1.8  4.0  7.1  11.1  1.5  0.8  0.9  21.0  2.0  Marvin Bagley III  \n",
       "2  ...  1.8  0.4  3.5   3.9  8.7  1.7  0.2  27.4  5.0         Trae Young  \n",
       "3  ...  2.5  3.2  7.3  10.5  0.5  0.8  3.7  12.9  6.0           Mo Bamba  \n",
       "4  ...  2.5  1.0  2.7   3.8  3.6  0.8  0.1  19.2  8.0      Collin Sexton  \n",
       "\n",
       "[5 rows x 24 columns]"
      ],
      "text/html": "<div>\n<style scoped>\n    .dataframe tbody tr th:only-of-type {\n        vertical-align: middle;\n    }\n\n    .dataframe tbody tr th {\n        vertical-align: top;\n    }\n\n    .dataframe thead th {\n        text-align: right;\n    }\n</style>\n<table border=\"1\" class=\"dataframe\">\n  <thead>\n    <tr style=\"text-align: right;\">\n      <th></th>\n      <th>Player</th>\n      <th>Team</th>\n      <th>GP</th>\n      <th>MPG</th>\n      <th>FGM</th>\n      <th>FGA</th>\n      <th>FG%</th>\n      <th>3PM</th>\n      <th>3PA</th>\n      <th>3P%</th>\n      <th>...</th>\n      <th>PF</th>\n      <th>ORB</th>\n      <th>DRB</th>\n      <th>RPG</th>\n      <th>APG</th>\n      <th>SPG</th>\n      <th>BPG</th>\n      <th>PPG</th>\n      <th>Pk</th>\n      <th>Player1</th>\n    </tr>\n  </thead>\n  <tbody>\n    <tr>\n      <th>0</th>\n      <td>Deandre Ayton</td>\n      <td>U of A</td>\n      <td>35</td>\n      <td>33.5</td>\n      <td>7.9</td>\n      <td>12.9</td>\n      <td>0.612</td>\n      <td>0.3</td>\n      <td>1.0</td>\n      <td>0.343</td>\n      <td>...</td>\n      <td>2.3</td>\n      <td>3.4</td>\n      <td>8.2</td>\n      <td>11.6</td>\n      <td>1.6</td>\n      <td>0.6</td>\n      <td>1.9</td>\n      <td>20.1</td>\n      <td>1.0</td>\n      <td>Deandre Ayton</td>\n    </tr>\n    <tr>\n      <th>1</th>\n      <td>Marvin Bagley III</td>\n      <td>DUKE</td>\n      <td>33</td>\n      <td>33.9</td>\n      <td>8.2</td>\n      <td>13.3</td>\n      <td>0.614</td>\n      <td>0.7</td>\n      <td>1.8</td>\n      <td>0.397</td>\n      <td>...</td>\n      <td>1.8</td>\n      <td>4.0</td>\n      <td>7.1</td>\n      <td>11.1</td>\n      <td>1.5</td>\n      <td>0.8</td>\n      <td>0.9</td>\n      <td>21.0</td>\n      <td>2.0</td>\n      <td>Marvin Bagley III</td>\n    </tr>\n    <tr>\n      <th>2</th>\n      <td>Trae Young</td>\n      <td>OU</td>\n      <td>32</td>\n      <td>35.4</td>\n      <td>8.2</td>\n      <td>19.3</td>\n      <td>0.422</td>\n      <td>3.7</td>\n      <td>10.2</td>\n      <td>0.360</td>\n      <td>...</td>\n      <td>1.8</td>\n      <td>0.4</td>\n      <td>3.5</td>\n      <td>3.9</td>\n      <td>8.7</td>\n      <td>1.7</td>\n      <td>0.2</td>\n      <td>27.4</td>\n      <td>5.0</td>\n      <td>Trae Young</td>\n    </tr>\n    <tr>\n      <th>3</th>\n      <td>Mo Bamba</td>\n      <td>UT</td>\n      <td>30</td>\n      <td>30.2</td>\n      <td>4.9</td>\n      <td>9.0</td>\n      <td>0.541</td>\n      <td>0.5</td>\n      <td>1.7</td>\n      <td>0.275</td>\n      <td>...</td>\n      <td>2.5</td>\n      <td>3.2</td>\n      <td>7.3</td>\n      <td>10.5</td>\n      <td>0.5</td>\n      <td>0.8</td>\n      <td>3.7</td>\n      <td>12.9</td>\n      <td>6.0</td>\n      <td>Mo Bamba</td>\n    </tr>\n    <tr>\n      <th>4</th>\n      <td>Collin Sexton</td>\n      <td>UA</td>\n      <td>33</td>\n      <td>29.9</td>\n      <td>5.9</td>\n      <td>13.3</td>\n      <td>0.447</td>\n      <td>1.3</td>\n      <td>4.0</td>\n      <td>0.336</td>\n      <td>...</td>\n      <td>2.5</td>\n      <td>1.0</td>\n      <td>2.7</td>\n      <td>3.8</td>\n      <td>3.6</td>\n      <td>0.8</td>\n      <td>0.1</td>\n      <td>19.2</td>\n      <td>8.0</td>\n      <td>Collin Sexton</td>\n    </tr>\n  </tbody>\n</table>\n<p>5 rows × 24 columns</p>\n</div>"
     },
     "metadata": {},
     "execution_count": 15
    }
   ],
   "source": [
    "raw_df.head()"
   ]
  },
  {
   "cell_type": "code",
   "execution_count": 16,
   "metadata": {},
   "outputs": [
    {
     "output_type": "execute_result",
     "data": {
      "text/plain": [
       "                  Player Team  GP   MPG  FGM  FGA    FG%  3PM  3PA    3P%  \\\n",
       "36  Kostas Antetokounmpo  DAY  29  15.1  2.0  3.5  0.574  0.1  0.5  0.133   \n",
       "\n",
       "    ...   PF  ORB  DRB  RPG  APG  SPG  BPG  PPG    Pk               Player1  \n",
       "36  ...  2.3  0.8  2.0  2.9  0.4  0.2  1.1  5.2  60.0  Kostas Antetokounmpo  \n",
       "\n",
       "[1 rows x 24 columns]"
      ],
      "text/html": "<div>\n<style scoped>\n    .dataframe tbody tr th:only-of-type {\n        vertical-align: middle;\n    }\n\n    .dataframe tbody tr th {\n        vertical-align: top;\n    }\n\n    .dataframe thead th {\n        text-align: right;\n    }\n</style>\n<table border=\"1\" class=\"dataframe\">\n  <thead>\n    <tr style=\"text-align: right;\">\n      <th></th>\n      <th>Player</th>\n      <th>Team</th>\n      <th>GP</th>\n      <th>MPG</th>\n      <th>FGM</th>\n      <th>FGA</th>\n      <th>FG%</th>\n      <th>3PM</th>\n      <th>3PA</th>\n      <th>3P%</th>\n      <th>...</th>\n      <th>PF</th>\n      <th>ORB</th>\n      <th>DRB</th>\n      <th>RPG</th>\n      <th>APG</th>\n      <th>SPG</th>\n      <th>BPG</th>\n      <th>PPG</th>\n      <th>Pk</th>\n      <th>Player1</th>\n    </tr>\n  </thead>\n  <tbody>\n    <tr>\n      <th>36</th>\n      <td>Kostas Antetokounmpo</td>\n      <td>DAY</td>\n      <td>29</td>\n      <td>15.1</td>\n      <td>2.0</td>\n      <td>3.5</td>\n      <td>0.574</td>\n      <td>0.1</td>\n      <td>0.5</td>\n      <td>0.133</td>\n      <td>...</td>\n      <td>2.3</td>\n      <td>0.8</td>\n      <td>2.0</td>\n      <td>2.9</td>\n      <td>0.4</td>\n      <td>0.2</td>\n      <td>1.1</td>\n      <td>5.2</td>\n      <td>60.0</td>\n      <td>Kostas Antetokounmpo</td>\n    </tr>\n  </tbody>\n</table>\n<p>1 rows × 24 columns</p>\n</div>"
     },
     "metadata": {},
     "execution_count": 16
    }
   ],
   "source": [
    "raw_df[(raw_df['PPG'] < 10) & (raw_df['Pk'] > 0)]"
   ]
  },
  {
   "cell_type": "code",
   "execution_count": 17,
   "metadata": {},
   "outputs": [
    {
     "output_type": "execute_result",
     "data": {
      "text/plain": [
       "                     Player    Team  GP   MPG  FGM   FGA    FG%  3PM   3PA  \\\n",
       "0             Deandre Ayton  U of A  35  33.5  7.9  12.9  0.612  0.3   1.0   \n",
       "1         Marvin Bagley III    DUKE  33  33.9  8.2  13.3  0.614  0.7   1.8   \n",
       "2                Trae Young      OU  32  35.4  8.2  19.3  0.422  3.7  10.2   \n",
       "3                  Mo Bamba      UT  30  30.2  4.9   9.0  0.541  0.5   1.7   \n",
       "4             Collin Sexton      UA  33  29.9  5.9  13.3  0.447  1.3   4.0   \n",
       "5                Kevin Knox      UK  37  32.4  5.3  11.9  0.445  1.5   4.5   \n",
       "6             Mikal Bridges    VILL  40  32.1  6.1  11.9  0.514  2.6   6.0   \n",
       "7   Shai Gilgeous-Alexander      UK  37  33.7  4.9  10.2  0.485  0.6   1.5   \n",
       "8             Miles Bridges     MSU  34  31.4  6.1  13.4  0.457  2.1   5.7   \n",
       "9           Jerome Robinson      BC  35  36.0  7.1  14.7  0.485  2.3   5.7   \n",
       "10             Zhaire Smith     TTU  37  28.4  4.2   7.5  0.556  0.5   1.1   \n",
       "11         Donte DiVincenzo    VILL  40  29.2  4.7   9.8  0.481  2.1   5.3   \n",
       "12            Lonnie Walker      UM  32  27.8  4.1   9.9  0.415  1.8   5.1   \n",
       "13            Kevin Huerter     UMD  32  34.4  5.1  10.1  0.503  2.3   5.5   \n",
       "14              Josh Okogie      GT  24  36.4  5.5  13.3  0.416  1.6   4.2   \n",
       "15            Grayson Allen    DUKE  37  35.6  4.9  11.7  0.418  2.8   7.5   \n",
       "16       Chandler Hutchison     BSU  31  31.0  6.6  13.9  0.475  1.5   4.1   \n",
       "17            Aaron Holiday    UCLA  33  37.7  6.4  13.9  0.461  2.7   6.2   \n",
       "18            Landry Shamet     WSU  32  31.7  4.8   9.8  0.489  2.6   5.9   \n",
       "19          Robert Williams    TAMU  30  25.6  4.6   7.3  0.632  0.0   0.4   \n",
       "20              Jacob Evans      UC  36  30.8  4.5  10.5  0.427  1.7   4.5   \n",
       "21           Omari Spellman    VILL  40  28.1  4.0   8.4  0.476  1.6   3.8   \n",
       "22             Jevon Carter     WVU  37  34.7  5.8  13.8  0.422  2.1   5.3   \n",
       "23            Jalen Brunson    VILL  40  31.8  6.8  12.9  0.521  2.1   5.3   \n",
       "24          Devonte' Graham      KU  39  37.8  5.1  12.8  0.400  2.8   6.9   \n",
       "25             Khyri Thomas      CU  33  31.7  5.6  10.4  0.538  1.9   4.6   \n",
       "26           Hamidou Diallo      UK  37  24.8  3.6   8.5  0.428  0.7   2.1   \n",
       "27         Keita Bates-Diop     OSU  34  33.1  7.3  15.1  0.480  1.9   5.4   \n",
       "28            Chimezie Metu     USC  34  31.0  6.0  11.5  0.523  0.4   1.2   \n",
       "29            Alize Johnson     MSU  33  31.2  5.2  12.1  0.430  1.2   4.4   \n",
       "30                Tony Carr     PSU  37  35.3  6.6  16.2  0.408  2.4   5.5   \n",
       "31            Vince Edwards      PU  35  31.6  5.1  10.8  0.476  1.5   3.7   \n",
       "32               Devon Hall     UVA  34  32.1  3.9   8.6  0.454  1.7   3.9   \n",
       "33             Kevin Hervey     UTA  33  32.2  7.4  16.5  0.446  2.3   6.9   \n",
       "34             Thomas Welsh    UCLA  33  33.2  4.9  10.1  0.485  1.4   3.4   \n",
       "35              George King      CU  32  28.5  4.4  10.0  0.445  1.9   4.9   \n",
       "36     Kostas Antetokounmpo     DAY  29  15.1  2.0   3.5  0.574  0.1   0.5   \n",
       "\n",
       "      3P%  ...   PF  ORB  DRB   RPG  APG  SPG  BPG   PPG    Pk  \\\n",
       "0   0.343  ...  2.3  3.4  8.2  11.6  1.6  0.6  1.9  20.1   1.0   \n",
       "1   0.397  ...  1.8  4.0  7.1  11.1  1.5  0.8  0.9  21.0   2.0   \n",
       "2   0.360  ...  1.8  0.4  3.5   3.9  8.7  1.7  0.2  27.4   5.0   \n",
       "3   0.275  ...  2.5  3.2  7.3  10.5  0.5  0.8  3.7  12.9   6.0   \n",
       "4   0.336  ...  2.5  1.0  2.7   3.8  3.6  0.8  0.1  19.2   8.0   \n",
       "5   0.341  ...  2.2  0.9  4.5   5.4  1.4  0.8  0.3  15.6   9.0   \n",
       "6   0.435  ...  2.1  1.4  4.0   5.3  1.9  1.5  1.1  17.6  10.0   \n",
       "7   0.404  ...  1.7  0.9  3.2   4.1  5.1  1.6  0.5  14.4  11.0   \n",
       "8   0.364  ...  1.6  1.3  5.7   7.0  2.7  0.6  0.8  17.1  12.0   \n",
       "9   0.409  ...  2.5  0.5  3.1   3.6  3.3  0.9  0.1  20.7  13.0   \n",
       "10  0.450  ...  1.8  2.2  2.8   5.0  1.8  1.1  1.1  11.3  16.0   \n",
       "11  0.401  ...  2.1  1.1  3.6   4.8  3.5  1.1  0.2  13.4  17.0   \n",
       "12  0.346  ...  1.6  0.4  2.2   2.6  1.9  0.9  0.5  11.5  18.0   \n",
       "13  0.417  ...  2.4  1.0  4.1   5.0  3.4  0.6  0.7  14.8  19.0   \n",
       "14  0.380  ...  2.9  2.2  4.0   6.2  2.5  1.8  1.0  18.2  20.0   \n",
       "15  0.370  ...  2.1  0.5  2.8   3.3  4.6  1.7  0.1  15.5  21.0   \n",
       "16  0.359  ...  2.4  0.9  6.8   7.7  3.5  1.5  0.3  20.0  22.0   \n",
       "17  0.429  ...  2.6  0.5  3.2   3.7  5.8  1.3  0.2  20.3  23.0   \n",
       "18  0.442  ...  1.9  0.4  2.8   3.2  5.2  0.7  0.2  14.9  26.0   \n",
       "19  0.000  ...  2.2  2.4  6.9   9.2  1.4  0.8  2.5  10.4  27.0   \n",
       "20  0.370  ...  2.0  1.4  3.3   4.7  3.1  1.3  1.0  13.0  28.0   \n",
       "21  0.433  ...  2.3  2.2  5.8   8.0  0.8  0.7  1.5  10.8  30.0   \n",
       "22  0.393  ...  3.0  0.8  3.9   4.6  6.6  3.0  0.4  17.3  32.0   \n",
       "23  0.408  ...  1.9  0.3  2.8   3.0  4.6  0.9  0.0  18.9  33.0   \n",
       "24  0.406  ...  1.4  0.6  3.4   4.0  7.2  1.6  0.1  17.3  34.0   \n",
       "25  0.411  ...  1.9  1.1  3.3   4.4  2.8  1.7  0.2  15.1  38.0   \n",
       "26  0.338  ...  2.6  0.9  2.8   3.6  1.2  0.8  0.4  10.0  45.0   \n",
       "27  0.359  ...  1.7  1.5  7.2   8.7  1.6  0.9  1.6  19.8  48.0   \n",
       "28  0.300  ...  2.6  1.9  5.6   7.4  1.6  0.8  1.7  15.7  49.0   \n",
       "29  0.281  ...  2.1  3.2  8.5  11.6  2.8  0.5  0.4  15.0  50.0   \n",
       "30  0.433  ...  1.8  0.9  4.1   4.9  5.0  0.8  0.3  19.6  51.0   \n",
       "31  0.398  ...  1.8  2.0  5.4   7.4  2.9  0.5  0.6  14.6  52.0   \n",
       "32  0.432  ...  1.4  0.4  3.9   4.2  3.1  0.9  0.1  11.7  53.0   \n",
       "33  0.339  ...  1.8  2.3  6.2   8.5  2.2  1.2  0.6  20.5  57.0   \n",
       "34  0.402  ...  2.4  2.6  8.2  10.8  1.4  0.7  0.9  12.6  58.0   \n",
       "35  0.395  ...  2.4  1.8  6.1   7.8  1.1  0.5  0.7  12.9  59.0   \n",
       "36  0.133  ...  2.3  0.8  2.0   2.9  0.4  0.2  1.1   5.2  60.0   \n",
       "\n",
       "                    Player1  \n",
       "0             Deandre Ayton  \n",
       "1         Marvin Bagley III  \n",
       "2                Trae Young  \n",
       "3                  Mo Bamba  \n",
       "4             Collin Sexton  \n",
       "5                Kevin Knox  \n",
       "6             Mikal Bridges  \n",
       "7   Shai Gilgeous-Alexander  \n",
       "8             Miles Bridges  \n",
       "9           Jerome Robinson  \n",
       "10             Zhaire Smith  \n",
       "11         Donte DiVincenzo  \n",
       "12            Lonnie Walker  \n",
       "13            Kevin Huerter  \n",
       "14              Josh Okogie  \n",
       "15            Grayson Allen  \n",
       "16       Chandler Hutchison  \n",
       "17            Aaron Holiday  \n",
       "18            Landry Shamet  \n",
       "19          Robert Williams  \n",
       "20              Jacob Evans  \n",
       "21           Omari Spellman  \n",
       "22             Jevon Carter  \n",
       "23            Jalen Brunson  \n",
       "24          Devonte' Graham  \n",
       "25             Khyri Thomas  \n",
       "26           Hamidou Diallo  \n",
       "27         Keita Bates-Diop  \n",
       "28            Chimezie Metu  \n",
       "29            Alize Johnson  \n",
       "30                Tony Carr  \n",
       "31            Vince Edwards  \n",
       "32               Devon Hall  \n",
       "33             Kevin Hervey  \n",
       "34             Thomas Welsh  \n",
       "35              George King  \n",
       "36     Kostas Antetokounmpo  \n",
       "\n",
       "[37 rows x 24 columns]"
      ],
      "text/html": "<div>\n<style scoped>\n    .dataframe tbody tr th:only-of-type {\n        vertical-align: middle;\n    }\n\n    .dataframe tbody tr th {\n        vertical-align: top;\n    }\n\n    .dataframe thead th {\n        text-align: right;\n    }\n</style>\n<table border=\"1\" class=\"dataframe\">\n  <thead>\n    <tr style=\"text-align: right;\">\n      <th></th>\n      <th>Player</th>\n      <th>Team</th>\n      <th>GP</th>\n      <th>MPG</th>\n      <th>FGM</th>\n      <th>FGA</th>\n      <th>FG%</th>\n      <th>3PM</th>\n      <th>3PA</th>\n      <th>3P%</th>\n      <th>...</th>\n      <th>PF</th>\n      <th>ORB</th>\n      <th>DRB</th>\n      <th>RPG</th>\n      <th>APG</th>\n      <th>SPG</th>\n      <th>BPG</th>\n      <th>PPG</th>\n      <th>Pk</th>\n      <th>Player1</th>\n    </tr>\n  </thead>\n  <tbody>\n    <tr>\n      <th>0</th>\n      <td>Deandre Ayton</td>\n      <td>U of A</td>\n      <td>35</td>\n      <td>33.5</td>\n      <td>7.9</td>\n      <td>12.9</td>\n      <td>0.612</td>\n      <td>0.3</td>\n      <td>1.0</td>\n      <td>0.343</td>\n      <td>...</td>\n      <td>2.3</td>\n      <td>3.4</td>\n      <td>8.2</td>\n      <td>11.6</td>\n      <td>1.6</td>\n      <td>0.6</td>\n      <td>1.9</td>\n      <td>20.1</td>\n      <td>1.0</td>\n      <td>Deandre Ayton</td>\n    </tr>\n    <tr>\n      <th>1</th>\n      <td>Marvin Bagley III</td>\n      <td>DUKE</td>\n      <td>33</td>\n      <td>33.9</td>\n      <td>8.2</td>\n      <td>13.3</td>\n      <td>0.614</td>\n      <td>0.7</td>\n      <td>1.8</td>\n      <td>0.397</td>\n      <td>...</td>\n      <td>1.8</td>\n      <td>4.0</td>\n      <td>7.1</td>\n      <td>11.1</td>\n      <td>1.5</td>\n      <td>0.8</td>\n      <td>0.9</td>\n      <td>21.0</td>\n      <td>2.0</td>\n      <td>Marvin Bagley III</td>\n    </tr>\n    <tr>\n      <th>2</th>\n      <td>Trae Young</td>\n      <td>OU</td>\n      <td>32</td>\n      <td>35.4</td>\n      <td>8.2</td>\n      <td>19.3</td>\n      <td>0.422</td>\n      <td>3.7</td>\n      <td>10.2</td>\n      <td>0.360</td>\n      <td>...</td>\n      <td>1.8</td>\n      <td>0.4</td>\n      <td>3.5</td>\n      <td>3.9</td>\n      <td>8.7</td>\n      <td>1.7</td>\n      <td>0.2</td>\n      <td>27.4</td>\n      <td>5.0</td>\n      <td>Trae Young</td>\n    </tr>\n    <tr>\n      <th>3</th>\n      <td>Mo Bamba</td>\n      <td>UT</td>\n      <td>30</td>\n      <td>30.2</td>\n      <td>4.9</td>\n      <td>9.0</td>\n      <td>0.541</td>\n      <td>0.5</td>\n      <td>1.7</td>\n      <td>0.275</td>\n      <td>...</td>\n      <td>2.5</td>\n      <td>3.2</td>\n      <td>7.3</td>\n      <td>10.5</td>\n      <td>0.5</td>\n      <td>0.8</td>\n      <td>3.7</td>\n      <td>12.9</td>\n      <td>6.0</td>\n      <td>Mo Bamba</td>\n    </tr>\n    <tr>\n      <th>4</th>\n      <td>Collin Sexton</td>\n      <td>UA</td>\n      <td>33</td>\n      <td>29.9</td>\n      <td>5.9</td>\n      <td>13.3</td>\n      <td>0.447</td>\n      <td>1.3</td>\n      <td>4.0</td>\n      <td>0.336</td>\n      <td>...</td>\n      <td>2.5</td>\n      <td>1.0</td>\n      <td>2.7</td>\n      <td>3.8</td>\n      <td>3.6</td>\n      <td>0.8</td>\n      <td>0.1</td>\n      <td>19.2</td>\n      <td>8.0</td>\n      <td>Collin Sexton</td>\n    </tr>\n    <tr>\n      <th>5</th>\n      <td>Kevin Knox</td>\n      <td>UK</td>\n      <td>37</td>\n      <td>32.4</td>\n      <td>5.3</td>\n      <td>11.9</td>\n      <td>0.445</td>\n      <td>1.5</td>\n      <td>4.5</td>\n      <td>0.341</td>\n      <td>...</td>\n      <td>2.2</td>\n      <td>0.9</td>\n      <td>4.5</td>\n      <td>5.4</td>\n      <td>1.4</td>\n      <td>0.8</td>\n      <td>0.3</td>\n      <td>15.6</td>\n      <td>9.0</td>\n      <td>Kevin Knox</td>\n    </tr>\n    <tr>\n      <th>6</th>\n      <td>Mikal Bridges</td>\n      <td>VILL</td>\n      <td>40</td>\n      <td>32.1</td>\n      <td>6.1</td>\n      <td>11.9</td>\n      <td>0.514</td>\n      <td>2.6</td>\n      <td>6.0</td>\n      <td>0.435</td>\n      <td>...</td>\n      <td>2.1</td>\n      <td>1.4</td>\n      <td>4.0</td>\n      <td>5.3</td>\n      <td>1.9</td>\n      <td>1.5</td>\n      <td>1.1</td>\n      <td>17.6</td>\n      <td>10.0</td>\n      <td>Mikal Bridges</td>\n    </tr>\n    <tr>\n      <th>7</th>\n      <td>Shai Gilgeous-Alexander</td>\n      <td>UK</td>\n      <td>37</td>\n      <td>33.7</td>\n      <td>4.9</td>\n      <td>10.2</td>\n      <td>0.485</td>\n      <td>0.6</td>\n      <td>1.5</td>\n      <td>0.404</td>\n      <td>...</td>\n      <td>1.7</td>\n      <td>0.9</td>\n      <td>3.2</td>\n      <td>4.1</td>\n      <td>5.1</td>\n      <td>1.6</td>\n      <td>0.5</td>\n      <td>14.4</td>\n      <td>11.0</td>\n      <td>Shai Gilgeous-Alexander</td>\n    </tr>\n    <tr>\n      <th>8</th>\n      <td>Miles Bridges</td>\n      <td>MSU</td>\n      <td>34</td>\n      <td>31.4</td>\n      <td>6.1</td>\n      <td>13.4</td>\n      <td>0.457</td>\n      <td>2.1</td>\n      <td>5.7</td>\n      <td>0.364</td>\n      <td>...</td>\n      <td>1.6</td>\n      <td>1.3</td>\n      <td>5.7</td>\n      <td>7.0</td>\n      <td>2.7</td>\n      <td>0.6</td>\n      <td>0.8</td>\n      <td>17.1</td>\n      <td>12.0</td>\n      <td>Miles Bridges</td>\n    </tr>\n    <tr>\n      <th>9</th>\n      <td>Jerome Robinson</td>\n      <td>BC</td>\n      <td>35</td>\n      <td>36.0</td>\n      <td>7.1</td>\n      <td>14.7</td>\n      <td>0.485</td>\n      <td>2.3</td>\n      <td>5.7</td>\n      <td>0.409</td>\n      <td>...</td>\n      <td>2.5</td>\n      <td>0.5</td>\n      <td>3.1</td>\n      <td>3.6</td>\n      <td>3.3</td>\n      <td>0.9</td>\n      <td>0.1</td>\n      <td>20.7</td>\n      <td>13.0</td>\n      <td>Jerome Robinson</td>\n    </tr>\n    <tr>\n      <th>10</th>\n      <td>Zhaire Smith</td>\n      <td>TTU</td>\n      <td>37</td>\n      <td>28.4</td>\n      <td>4.2</td>\n      <td>7.5</td>\n      <td>0.556</td>\n      <td>0.5</td>\n      <td>1.1</td>\n      <td>0.450</td>\n      <td>...</td>\n      <td>1.8</td>\n      <td>2.2</td>\n      <td>2.8</td>\n      <td>5.0</td>\n      <td>1.8</td>\n      <td>1.1</td>\n      <td>1.1</td>\n      <td>11.3</td>\n      <td>16.0</td>\n      <td>Zhaire Smith</td>\n    </tr>\n    <tr>\n      <th>11</th>\n      <td>Donte DiVincenzo</td>\n      <td>VILL</td>\n      <td>40</td>\n      <td>29.2</td>\n      <td>4.7</td>\n      <td>9.8</td>\n      <td>0.481</td>\n      <td>2.1</td>\n      <td>5.3</td>\n      <td>0.401</td>\n      <td>...</td>\n      <td>2.1</td>\n      <td>1.1</td>\n      <td>3.6</td>\n      <td>4.8</td>\n      <td>3.5</td>\n      <td>1.1</td>\n      <td>0.2</td>\n      <td>13.4</td>\n      <td>17.0</td>\n      <td>Donte DiVincenzo</td>\n    </tr>\n    <tr>\n      <th>12</th>\n      <td>Lonnie Walker</td>\n      <td>UM</td>\n      <td>32</td>\n      <td>27.8</td>\n      <td>4.1</td>\n      <td>9.9</td>\n      <td>0.415</td>\n      <td>1.8</td>\n      <td>5.1</td>\n      <td>0.346</td>\n      <td>...</td>\n      <td>1.6</td>\n      <td>0.4</td>\n      <td>2.2</td>\n      <td>2.6</td>\n      <td>1.9</td>\n      <td>0.9</td>\n      <td>0.5</td>\n      <td>11.5</td>\n      <td>18.0</td>\n      <td>Lonnie Walker</td>\n    </tr>\n    <tr>\n      <th>13</th>\n      <td>Kevin Huerter</td>\n      <td>UMD</td>\n      <td>32</td>\n      <td>34.4</td>\n      <td>5.1</td>\n      <td>10.1</td>\n      <td>0.503</td>\n      <td>2.3</td>\n      <td>5.5</td>\n      <td>0.417</td>\n      <td>...</td>\n      <td>2.4</td>\n      <td>1.0</td>\n      <td>4.1</td>\n      <td>5.0</td>\n      <td>3.4</td>\n      <td>0.6</td>\n      <td>0.7</td>\n      <td>14.8</td>\n      <td>19.0</td>\n      <td>Kevin Huerter</td>\n    </tr>\n    <tr>\n      <th>14</th>\n      <td>Josh Okogie</td>\n      <td>GT</td>\n      <td>24</td>\n      <td>36.4</td>\n      <td>5.5</td>\n      <td>13.3</td>\n      <td>0.416</td>\n      <td>1.6</td>\n      <td>4.2</td>\n      <td>0.380</td>\n      <td>...</td>\n      <td>2.9</td>\n      <td>2.2</td>\n      <td>4.0</td>\n      <td>6.2</td>\n      <td>2.5</td>\n      <td>1.8</td>\n      <td>1.0</td>\n      <td>18.2</td>\n      <td>20.0</td>\n      <td>Josh Okogie</td>\n    </tr>\n    <tr>\n      <th>15</th>\n      <td>Grayson Allen</td>\n      <td>DUKE</td>\n      <td>37</td>\n      <td>35.6</td>\n      <td>4.9</td>\n      <td>11.7</td>\n      <td>0.418</td>\n      <td>2.8</td>\n      <td>7.5</td>\n      <td>0.370</td>\n      <td>...</td>\n      <td>2.1</td>\n      <td>0.5</td>\n      <td>2.8</td>\n      <td>3.3</td>\n      <td>4.6</td>\n      <td>1.7</td>\n      <td>0.1</td>\n      <td>15.5</td>\n      <td>21.0</td>\n      <td>Grayson Allen</td>\n    </tr>\n    <tr>\n      <th>16</th>\n      <td>Chandler Hutchison</td>\n      <td>BSU</td>\n      <td>31</td>\n      <td>31.0</td>\n      <td>6.6</td>\n      <td>13.9</td>\n      <td>0.475</td>\n      <td>1.5</td>\n      <td>4.1</td>\n      <td>0.359</td>\n      <td>...</td>\n      <td>2.4</td>\n      <td>0.9</td>\n      <td>6.8</td>\n      <td>7.7</td>\n      <td>3.5</td>\n      <td>1.5</td>\n      <td>0.3</td>\n      <td>20.0</td>\n      <td>22.0</td>\n      <td>Chandler Hutchison</td>\n    </tr>\n    <tr>\n      <th>17</th>\n      <td>Aaron Holiday</td>\n      <td>UCLA</td>\n      <td>33</td>\n      <td>37.7</td>\n      <td>6.4</td>\n      <td>13.9</td>\n      <td>0.461</td>\n      <td>2.7</td>\n      <td>6.2</td>\n      <td>0.429</td>\n      <td>...</td>\n      <td>2.6</td>\n      <td>0.5</td>\n      <td>3.2</td>\n      <td>3.7</td>\n      <td>5.8</td>\n      <td>1.3</td>\n      <td>0.2</td>\n      <td>20.3</td>\n      <td>23.0</td>\n      <td>Aaron Holiday</td>\n    </tr>\n    <tr>\n      <th>18</th>\n      <td>Landry Shamet</td>\n      <td>WSU</td>\n      <td>32</td>\n      <td>31.7</td>\n      <td>4.8</td>\n      <td>9.8</td>\n      <td>0.489</td>\n      <td>2.6</td>\n      <td>5.9</td>\n      <td>0.442</td>\n      <td>...</td>\n      <td>1.9</td>\n      <td>0.4</td>\n      <td>2.8</td>\n      <td>3.2</td>\n      <td>5.2</td>\n      <td>0.7</td>\n      <td>0.2</td>\n      <td>14.9</td>\n      <td>26.0</td>\n      <td>Landry Shamet</td>\n    </tr>\n    <tr>\n      <th>19</th>\n      <td>Robert Williams</td>\n      <td>TAMU</td>\n      <td>30</td>\n      <td>25.6</td>\n      <td>4.6</td>\n      <td>7.3</td>\n      <td>0.632</td>\n      <td>0.0</td>\n      <td>0.4</td>\n      <td>0.000</td>\n      <td>...</td>\n      <td>2.2</td>\n      <td>2.4</td>\n      <td>6.9</td>\n      <td>9.2</td>\n      <td>1.4</td>\n      <td>0.8</td>\n      <td>2.5</td>\n      <td>10.4</td>\n      <td>27.0</td>\n      <td>Robert Williams</td>\n    </tr>\n    <tr>\n      <th>20</th>\n      <td>Jacob Evans</td>\n      <td>UC</td>\n      <td>36</td>\n      <td>30.8</td>\n      <td>4.5</td>\n      <td>10.5</td>\n      <td>0.427</td>\n      <td>1.7</td>\n      <td>4.5</td>\n      <td>0.370</td>\n      <td>...</td>\n      <td>2.0</td>\n      <td>1.4</td>\n      <td>3.3</td>\n      <td>4.7</td>\n      <td>3.1</td>\n      <td>1.3</td>\n      <td>1.0</td>\n      <td>13.0</td>\n      <td>28.0</td>\n      <td>Jacob Evans</td>\n    </tr>\n    <tr>\n      <th>21</th>\n      <td>Omari Spellman</td>\n      <td>VILL</td>\n      <td>40</td>\n      <td>28.1</td>\n      <td>4.0</td>\n      <td>8.4</td>\n      <td>0.476</td>\n      <td>1.6</td>\n      <td>3.8</td>\n      <td>0.433</td>\n      <td>...</td>\n      <td>2.3</td>\n      <td>2.2</td>\n      <td>5.8</td>\n      <td>8.0</td>\n      <td>0.8</td>\n      <td>0.7</td>\n      <td>1.5</td>\n      <td>10.8</td>\n      <td>30.0</td>\n      <td>Omari Spellman</td>\n    </tr>\n    <tr>\n      <th>22</th>\n      <td>Jevon Carter</td>\n      <td>WVU</td>\n      <td>37</td>\n      <td>34.7</td>\n      <td>5.8</td>\n      <td>13.8</td>\n      <td>0.422</td>\n      <td>2.1</td>\n      <td>5.3</td>\n      <td>0.393</td>\n      <td>...</td>\n      <td>3.0</td>\n      <td>0.8</td>\n      <td>3.9</td>\n      <td>4.6</td>\n      <td>6.6</td>\n      <td>3.0</td>\n      <td>0.4</td>\n      <td>17.3</td>\n      <td>32.0</td>\n      <td>Jevon Carter</td>\n    </tr>\n    <tr>\n      <th>23</th>\n      <td>Jalen Brunson</td>\n      <td>VILL</td>\n      <td>40</td>\n      <td>31.8</td>\n      <td>6.8</td>\n      <td>12.9</td>\n      <td>0.521</td>\n      <td>2.1</td>\n      <td>5.3</td>\n      <td>0.408</td>\n      <td>...</td>\n      <td>1.9</td>\n      <td>0.3</td>\n      <td>2.8</td>\n      <td>3.0</td>\n      <td>4.6</td>\n      <td>0.9</td>\n      <td>0.0</td>\n      <td>18.9</td>\n      <td>33.0</td>\n      <td>Jalen Brunson</td>\n    </tr>\n    <tr>\n      <th>24</th>\n      <td>Devonte' Graham</td>\n      <td>KU</td>\n      <td>39</td>\n      <td>37.8</td>\n      <td>5.1</td>\n      <td>12.8</td>\n      <td>0.400</td>\n      <td>2.8</td>\n      <td>6.9</td>\n      <td>0.406</td>\n      <td>...</td>\n      <td>1.4</td>\n      <td>0.6</td>\n      <td>3.4</td>\n      <td>4.0</td>\n      <td>7.2</td>\n      <td>1.6</td>\n      <td>0.1</td>\n      <td>17.3</td>\n      <td>34.0</td>\n      <td>Devonte' Graham</td>\n    </tr>\n    <tr>\n      <th>25</th>\n      <td>Khyri Thomas</td>\n      <td>CU</td>\n      <td>33</td>\n      <td>31.7</td>\n      <td>5.6</td>\n      <td>10.4</td>\n      <td>0.538</td>\n      <td>1.9</td>\n      <td>4.6</td>\n      <td>0.411</td>\n      <td>...</td>\n      <td>1.9</td>\n      <td>1.1</td>\n      <td>3.3</td>\n      <td>4.4</td>\n      <td>2.8</td>\n      <td>1.7</td>\n      <td>0.2</td>\n      <td>15.1</td>\n      <td>38.0</td>\n      <td>Khyri Thomas</td>\n    </tr>\n    <tr>\n      <th>26</th>\n      <td>Hamidou Diallo</td>\n      <td>UK</td>\n      <td>37</td>\n      <td>24.8</td>\n      <td>3.6</td>\n      <td>8.5</td>\n      <td>0.428</td>\n      <td>0.7</td>\n      <td>2.1</td>\n      <td>0.338</td>\n      <td>...</td>\n      <td>2.6</td>\n      <td>0.9</td>\n      <td>2.8</td>\n      <td>3.6</td>\n      <td>1.2</td>\n      <td>0.8</td>\n      <td>0.4</td>\n      <td>10.0</td>\n      <td>45.0</td>\n      <td>Hamidou Diallo</td>\n    </tr>\n    <tr>\n      <th>27</th>\n      <td>Keita Bates-Diop</td>\n      <td>OSU</td>\n      <td>34</td>\n      <td>33.1</td>\n      <td>7.3</td>\n      <td>15.1</td>\n      <td>0.480</td>\n      <td>1.9</td>\n      <td>5.4</td>\n      <td>0.359</td>\n      <td>...</td>\n      <td>1.7</td>\n      <td>1.5</td>\n      <td>7.2</td>\n      <td>8.7</td>\n      <td>1.6</td>\n      <td>0.9</td>\n      <td>1.6</td>\n      <td>19.8</td>\n      <td>48.0</td>\n      <td>Keita Bates-Diop</td>\n    </tr>\n    <tr>\n      <th>28</th>\n      <td>Chimezie Metu</td>\n      <td>USC</td>\n      <td>34</td>\n      <td>31.0</td>\n      <td>6.0</td>\n      <td>11.5</td>\n      <td>0.523</td>\n      <td>0.4</td>\n      <td>1.2</td>\n      <td>0.300</td>\n      <td>...</td>\n      <td>2.6</td>\n      <td>1.9</td>\n      <td>5.6</td>\n      <td>7.4</td>\n      <td>1.6</td>\n      <td>0.8</td>\n      <td>1.7</td>\n      <td>15.7</td>\n      <td>49.0</td>\n      <td>Chimezie Metu</td>\n    </tr>\n    <tr>\n      <th>29</th>\n      <td>Alize Johnson</td>\n      <td>MSU</td>\n      <td>33</td>\n      <td>31.2</td>\n      <td>5.2</td>\n      <td>12.1</td>\n      <td>0.430</td>\n      <td>1.2</td>\n      <td>4.4</td>\n      <td>0.281</td>\n      <td>...</td>\n      <td>2.1</td>\n      <td>3.2</td>\n      <td>8.5</td>\n      <td>11.6</td>\n      <td>2.8</td>\n      <td>0.5</td>\n      <td>0.4</td>\n      <td>15.0</td>\n      <td>50.0</td>\n      <td>Alize Johnson</td>\n    </tr>\n    <tr>\n      <th>30</th>\n      <td>Tony Carr</td>\n      <td>PSU</td>\n      <td>37</td>\n      <td>35.3</td>\n      <td>6.6</td>\n      <td>16.2</td>\n      <td>0.408</td>\n      <td>2.4</td>\n      <td>5.5</td>\n      <td>0.433</td>\n      <td>...</td>\n      <td>1.8</td>\n      <td>0.9</td>\n      <td>4.1</td>\n      <td>4.9</td>\n      <td>5.0</td>\n      <td>0.8</td>\n      <td>0.3</td>\n      <td>19.6</td>\n      <td>51.0</td>\n      <td>Tony Carr</td>\n    </tr>\n    <tr>\n      <th>31</th>\n      <td>Vince Edwards</td>\n      <td>PU</td>\n      <td>35</td>\n      <td>31.6</td>\n      <td>5.1</td>\n      <td>10.8</td>\n      <td>0.476</td>\n      <td>1.5</td>\n      <td>3.7</td>\n      <td>0.398</td>\n      <td>...</td>\n      <td>1.8</td>\n      <td>2.0</td>\n      <td>5.4</td>\n      <td>7.4</td>\n      <td>2.9</td>\n      <td>0.5</td>\n      <td>0.6</td>\n      <td>14.6</td>\n      <td>52.0</td>\n      <td>Vince Edwards</td>\n    </tr>\n    <tr>\n      <th>32</th>\n      <td>Devon Hall</td>\n      <td>UVA</td>\n      <td>34</td>\n      <td>32.1</td>\n      <td>3.9</td>\n      <td>8.6</td>\n      <td>0.454</td>\n      <td>1.7</td>\n      <td>3.9</td>\n      <td>0.432</td>\n      <td>...</td>\n      <td>1.4</td>\n      <td>0.4</td>\n      <td>3.9</td>\n      <td>4.2</td>\n      <td>3.1</td>\n      <td>0.9</td>\n      <td>0.1</td>\n      <td>11.7</td>\n      <td>53.0</td>\n      <td>Devon Hall</td>\n    </tr>\n    <tr>\n      <th>33</th>\n      <td>Kevin Hervey</td>\n      <td>UTA</td>\n      <td>33</td>\n      <td>32.2</td>\n      <td>7.4</td>\n      <td>16.5</td>\n      <td>0.446</td>\n      <td>2.3</td>\n      <td>6.9</td>\n      <td>0.339</td>\n      <td>...</td>\n      <td>1.8</td>\n      <td>2.3</td>\n      <td>6.2</td>\n      <td>8.5</td>\n      <td>2.2</td>\n      <td>1.2</td>\n      <td>0.6</td>\n      <td>20.5</td>\n      <td>57.0</td>\n      <td>Kevin Hervey</td>\n    </tr>\n    <tr>\n      <th>34</th>\n      <td>Thomas Welsh</td>\n      <td>UCLA</td>\n      <td>33</td>\n      <td>33.2</td>\n      <td>4.9</td>\n      <td>10.1</td>\n      <td>0.485</td>\n      <td>1.4</td>\n      <td>3.4</td>\n      <td>0.402</td>\n      <td>...</td>\n      <td>2.4</td>\n      <td>2.6</td>\n      <td>8.2</td>\n      <td>10.8</td>\n      <td>1.4</td>\n      <td>0.7</td>\n      <td>0.9</td>\n      <td>12.6</td>\n      <td>58.0</td>\n      <td>Thomas Welsh</td>\n    </tr>\n    <tr>\n      <th>35</th>\n      <td>George King</td>\n      <td>CU</td>\n      <td>32</td>\n      <td>28.5</td>\n      <td>4.4</td>\n      <td>10.0</td>\n      <td>0.445</td>\n      <td>1.9</td>\n      <td>4.9</td>\n      <td>0.395</td>\n      <td>...</td>\n      <td>2.4</td>\n      <td>1.8</td>\n      <td>6.1</td>\n      <td>7.8</td>\n      <td>1.1</td>\n      <td>0.5</td>\n      <td>0.7</td>\n      <td>12.9</td>\n      <td>59.0</td>\n      <td>George King</td>\n    </tr>\n    <tr>\n      <th>36</th>\n      <td>Kostas Antetokounmpo</td>\n      <td>DAY</td>\n      <td>29</td>\n      <td>15.1</td>\n      <td>2.0</td>\n      <td>3.5</td>\n      <td>0.574</td>\n      <td>0.1</td>\n      <td>0.5</td>\n      <td>0.133</td>\n      <td>...</td>\n      <td>2.3</td>\n      <td>0.8</td>\n      <td>2.0</td>\n      <td>2.9</td>\n      <td>0.4</td>\n      <td>0.2</td>\n      <td>1.1</td>\n      <td>5.2</td>\n      <td>60.0</td>\n      <td>Kostas Antetokounmpo</td>\n    </tr>\n  </tbody>\n</table>\n<p>37 rows × 24 columns</p>\n</div>"
     },
     "metadata": {},
     "execution_count": 17
    }
   ],
   "source": [
    "raw_df[raw_df['Pk'] > 0].sort_values('Pk')"
   ]
  },
  {
   "source": [
    "## Preprocessing\n",
    "Limited preprocessing done at this time\n",
    "* No scaling or encoding  \n",
    "* All numerical data used as-is  \n",
    "* All categorical & text data dropped"
   ],
   "cell_type": "markdown",
   "metadata": {}
  },
  {
   "cell_type": "code",
   "execution_count": 18,
   "metadata": {},
   "outputs": [],
   "source": [
    "numerical_cols = raw_df.dtypes[raw_df.dtypes != 'object'].index.tolist()"
   ]
  },
  {
   "cell_type": "code",
   "execution_count": 19,
   "metadata": {},
   "outputs": [
    {
     "output_type": "execute_result",
     "data": {
      "text/plain": [
       "                   GP   MPG  FGM   FGA    FG%  3PM   3PA    3P%  FTM  FTA  \\\n",
       "Player                                                                      \n",
       "Deandre Ayton      35  33.5  7.9  12.9  0.612  0.3   1.0  0.343  4.0  5.5   \n",
       "Marvin Bagley III  33  33.9  8.2  13.3  0.614  0.7   1.8  0.397  4.0  6.3   \n",
       "Trae Young         32  35.4  8.2  19.3  0.422  3.7  10.2  0.360  7.4  8.6   \n",
       "Mo Bamba           30  30.2  4.9   9.0  0.541  0.5   1.7  0.275  2.7  4.0   \n",
       "Collin Sexton      33  29.9  5.9  13.3  0.447  1.3   4.0  0.336  5.9  7.6   \n",
       "\n",
       "                   ...  TOV   PF  ORB  DRB   RPG  APG  SPG  BPG   PPG   Pk  \n",
       "Player             ...                                                      \n",
       "Deandre Ayton      ...  2.0  2.3  3.4  8.2  11.6  1.6  0.6  1.9  20.1  1.0  \n",
       "Marvin Bagley III  ...  2.3  1.8  4.0  7.1  11.1  1.5  0.8  0.9  21.0  2.0  \n",
       "Trae Young         ...  5.2  1.8  0.4  3.5   3.9  8.7  1.7  0.2  27.4  5.0  \n",
       "Mo Bamba           ...  1.5  2.5  3.2  7.3  10.5  0.5  0.8  3.7  12.9  6.0  \n",
       "Collin Sexton      ...  2.8  2.5  1.0  2.7   3.8  3.6  0.8  0.1  19.2  8.0  \n",
       "\n",
       "[5 rows x 21 columns]"
      ],
      "text/html": "<div>\n<style scoped>\n    .dataframe tbody tr th:only-of-type {\n        vertical-align: middle;\n    }\n\n    .dataframe tbody tr th {\n        vertical-align: top;\n    }\n\n    .dataframe thead th {\n        text-align: right;\n    }\n</style>\n<table border=\"1\" class=\"dataframe\">\n  <thead>\n    <tr style=\"text-align: right;\">\n      <th></th>\n      <th>GP</th>\n      <th>MPG</th>\n      <th>FGM</th>\n      <th>FGA</th>\n      <th>FG%</th>\n      <th>3PM</th>\n      <th>3PA</th>\n      <th>3P%</th>\n      <th>FTM</th>\n      <th>FTA</th>\n      <th>...</th>\n      <th>TOV</th>\n      <th>PF</th>\n      <th>ORB</th>\n      <th>DRB</th>\n      <th>RPG</th>\n      <th>APG</th>\n      <th>SPG</th>\n      <th>BPG</th>\n      <th>PPG</th>\n      <th>Pk</th>\n    </tr>\n    <tr>\n      <th>Player</th>\n      <th></th>\n      <th></th>\n      <th></th>\n      <th></th>\n      <th></th>\n      <th></th>\n      <th></th>\n      <th></th>\n      <th></th>\n      <th></th>\n      <th></th>\n      <th></th>\n      <th></th>\n      <th></th>\n      <th></th>\n      <th></th>\n      <th></th>\n      <th></th>\n      <th></th>\n      <th></th>\n      <th></th>\n    </tr>\n  </thead>\n  <tbody>\n    <tr>\n      <th>Deandre Ayton</th>\n      <td>35</td>\n      <td>33.5</td>\n      <td>7.9</td>\n      <td>12.9</td>\n      <td>0.612</td>\n      <td>0.3</td>\n      <td>1.0</td>\n      <td>0.343</td>\n      <td>4.0</td>\n      <td>5.5</td>\n      <td>...</td>\n      <td>2.0</td>\n      <td>2.3</td>\n      <td>3.4</td>\n      <td>8.2</td>\n      <td>11.6</td>\n      <td>1.6</td>\n      <td>0.6</td>\n      <td>1.9</td>\n      <td>20.1</td>\n      <td>1.0</td>\n    </tr>\n    <tr>\n      <th>Marvin Bagley III</th>\n      <td>33</td>\n      <td>33.9</td>\n      <td>8.2</td>\n      <td>13.3</td>\n      <td>0.614</td>\n      <td>0.7</td>\n      <td>1.8</td>\n      <td>0.397</td>\n      <td>4.0</td>\n      <td>6.3</td>\n      <td>...</td>\n      <td>2.3</td>\n      <td>1.8</td>\n      <td>4.0</td>\n      <td>7.1</td>\n      <td>11.1</td>\n      <td>1.5</td>\n      <td>0.8</td>\n      <td>0.9</td>\n      <td>21.0</td>\n      <td>2.0</td>\n    </tr>\n    <tr>\n      <th>Trae Young</th>\n      <td>32</td>\n      <td>35.4</td>\n      <td>8.2</td>\n      <td>19.3</td>\n      <td>0.422</td>\n      <td>3.7</td>\n      <td>10.2</td>\n      <td>0.360</td>\n      <td>7.4</td>\n      <td>8.6</td>\n      <td>...</td>\n      <td>5.2</td>\n      <td>1.8</td>\n      <td>0.4</td>\n      <td>3.5</td>\n      <td>3.9</td>\n      <td>8.7</td>\n      <td>1.7</td>\n      <td>0.2</td>\n      <td>27.4</td>\n      <td>5.0</td>\n    </tr>\n    <tr>\n      <th>Mo Bamba</th>\n      <td>30</td>\n      <td>30.2</td>\n      <td>4.9</td>\n      <td>9.0</td>\n      <td>0.541</td>\n      <td>0.5</td>\n      <td>1.7</td>\n      <td>0.275</td>\n      <td>2.7</td>\n      <td>4.0</td>\n      <td>...</td>\n      <td>1.5</td>\n      <td>2.5</td>\n      <td>3.2</td>\n      <td>7.3</td>\n      <td>10.5</td>\n      <td>0.5</td>\n      <td>0.8</td>\n      <td>3.7</td>\n      <td>12.9</td>\n      <td>6.0</td>\n    </tr>\n    <tr>\n      <th>Collin Sexton</th>\n      <td>33</td>\n      <td>29.9</td>\n      <td>5.9</td>\n      <td>13.3</td>\n      <td>0.447</td>\n      <td>1.3</td>\n      <td>4.0</td>\n      <td>0.336</td>\n      <td>5.9</td>\n      <td>7.6</td>\n      <td>...</td>\n      <td>2.8</td>\n      <td>2.5</td>\n      <td>1.0</td>\n      <td>2.7</td>\n      <td>3.8</td>\n      <td>3.6</td>\n      <td>0.8</td>\n      <td>0.1</td>\n      <td>19.2</td>\n      <td>8.0</td>\n    </tr>\n  </tbody>\n</table>\n<p>5 rows × 21 columns</p>\n</div>"
     },
     "metadata": {},
     "execution_count": 19
    }
   ],
   "source": [
    "numerical_df = raw_df[numerical_cols]\n",
    "numerical_df.index = raw_df['Player']\n",
    "numerical_df.head()"
   ]
  },
  {
   "cell_type": "code",
   "execution_count": 20,
   "metadata": {},
   "outputs": [
    {
     "output_type": "error",
     "ename": "NameError",
     "evalue": "name 'y' is not defined",
     "traceback": [
      "\u001b[1;31m---------------------------------------------------------------------------\u001b[0m",
      "\u001b[1;31mNameError\u001b[0m                                 Traceback (most recent call last)",
      "\u001b[1;32m<ipython-input-20-3d1fed58b86b>\u001b[0m in \u001b[0;36m<module>\u001b[1;34m\u001b[0m\n\u001b[1;32m----> 1\u001b[1;33m \u001b[0my\u001b[0m\u001b[1;33m.\u001b[0m\u001b[0mvalue_counts\u001b[0m\u001b[1;33m(\u001b[0m\u001b[1;33m)\u001b[0m\u001b[1;33m\u001b[0m\u001b[1;33m\u001b[0m\u001b[0m\n\u001b[0m",
      "\u001b[1;31mNameError\u001b[0m: name 'y' is not defined"
     ]
    }
   ],
   "source": [
    "y.value_counts()"
   ]
  },
  {
   "cell_type": "code",
   "execution_count": 21,
   "metadata": {},
   "outputs": [],
   "source": [
    "X = numerical_df.drop(columns=['Pk'])\n",
    "y = numerical_df['Pk'].apply(lambda x: 1 if x <= 60 else 0)"
   ]
  },
  {
   "cell_type": "code",
   "execution_count": 22,
   "metadata": {},
   "outputs": [],
   "source": [
    "X_train, X_test, y_train, y_test = train_test_split(X,y,random_state=1)"
   ]
  },
  {
   "source": [
    "## Set up sample Logistic Regression Model"
   ],
   "cell_type": "markdown",
   "metadata": {}
  },
  {
   "cell_type": "code",
   "execution_count": 23,
   "metadata": {},
   "outputs": [
    {
     "output_type": "execute_result",
     "data": {
      "text/plain": [
       "LogisticRegression(max_iter=1000, random_state=1)"
      ]
     },
     "metadata": {},
     "execution_count": 23
    }
   ],
   "source": [
    "classifier = LogisticRegression(solver='lbfgs',random_state=1, max_iter=1000)\n",
    "classifier.fit(X_train,y_train)"
   ]
  },
  {
   "cell_type": "code",
   "execution_count": 24,
   "metadata": {},
   "outputs": [],
   "source": [
    "predictions = classifier.predict(X_test)"
   ]
  },
  {
   "cell_type": "code",
   "execution_count": 25,
   "metadata": {},
   "outputs": [
    {
     "output_type": "execute_result",
     "data": {
      "text/plain": [
       "0.988"
      ]
     },
     "metadata": {},
     "execution_count": 25
    }
   ],
   "source": [
    "acc_score = accuracy_score(y_test,predictions)\n",
    "acc_score"
   ]
  },
  {
   "cell_type": "code",
   "execution_count": 26,
   "metadata": {},
   "outputs": [
    {
     "output_type": "stream",
     "name": "stdout",
     "text": [
      "[[493   1]\n [  5   1]]\n"
     ]
    }
   ],
   "source": [
    "matrix = confusion_matrix(y_test,predictions)\n",
    "print(matrix)"
   ]
  },
  {
   "cell_type": "code",
   "execution_count": 27,
   "metadata": {},
   "outputs": [],
   "source": [
    "results = pd.DataFrame({\"Prediction\": predictions, \"Actual\": y_test}).reset_index(drop=True)"
   ]
  },
  {
   "cell_type": "code",
   "execution_count": 28,
   "metadata": {},
   "outputs": [
    {
     "output_type": "execute_result",
     "data": {
      "text/plain": [
       "     Prediction  Actual\n",
       "93            1       0\n",
       "400           1       1"
      ],
      "text/html": "<div>\n<style scoped>\n    .dataframe tbody tr th:only-of-type {\n        vertical-align: middle;\n    }\n\n    .dataframe tbody tr th {\n        vertical-align: top;\n    }\n\n    .dataframe thead th {\n        text-align: right;\n    }\n</style>\n<table border=\"1\" class=\"dataframe\">\n  <thead>\n    <tr style=\"text-align: right;\">\n      <th></th>\n      <th>Prediction</th>\n      <th>Actual</th>\n    </tr>\n  </thead>\n  <tbody>\n    <tr>\n      <th>93</th>\n      <td>1</td>\n      <td>0</td>\n    </tr>\n    <tr>\n      <th>400</th>\n      <td>1</td>\n      <td>1</td>\n    </tr>\n  </tbody>\n</table>\n</div>"
     },
     "metadata": {},
     "execution_count": 28
    }
   ],
   "source": [
    "results[results['Prediction'] != 0]"
   ]
  },
  {
   "cell_type": "code",
   "execution_count": 29,
   "metadata": {},
   "outputs": [],
   "source": [
    "report = classification_report(y_test,predictions,zero_division=True)"
   ]
  },
  {
   "cell_type": "code",
   "execution_count": 30,
   "metadata": {},
   "outputs": [
    {
     "output_type": "stream",
     "name": "stdout",
     "text": [
      "              precision    recall  f1-score   support\n\n           0       0.99      1.00      0.99       494\n           1       0.50      0.17      0.25         6\n\n    accuracy                           0.99       500\n   macro avg       0.74      0.58      0.62       500\nweighted avg       0.98      0.99      0.99       500\n\n"
     ]
    }
   ],
   "source": [
    "print(report)"
   ]
  },
  {
   "source": [
    "## Next Steps:\n",
    "1. Obtain more data for draft picks, either through additional seasons or by oversampling the drafted players' data\n",
    "    CORRECTION: Undersample the majority class (not drafted)\n",
    "2. Test additional ML models, including RandomForest & SVM\n",
    "3. Use PCA to find the most important features\n",
    "4. Retest the various ML models"
   ],
   "cell_type": "markdown",
   "metadata": {}
  },
  {
   "cell_type": "code",
   "execution_count": null,
   "metadata": {},
   "outputs": [],
   "source": []
  }
 ]
}
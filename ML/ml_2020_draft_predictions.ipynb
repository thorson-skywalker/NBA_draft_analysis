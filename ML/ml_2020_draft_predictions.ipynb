{
 "metadata": {
  "language_info": {
   "codemirror_mode": {
    "name": "ipython",
    "version": 3
   },
   "file_extension": ".py",
   "mimetype": "text/x-python",
   "name": "python",
   "nbconvert_exporter": "python",
   "pygments_lexer": "ipython3",
   "version": "3.7.9"
  },
  "orig_nbformat": 2,
  "kernelspec": {
   "name": "python379jvsc74a57bd0fb187ceb99e597fc4fb087033f2a56d4997f1306a985d00c1ac5ca0a4e888195",
   "display_name": "Python 3.7.9 64-bit ('mlenv': conda)"
  }
 },
 "nbformat": 4,
 "nbformat_minor": 2,
 "cells": [
  {
   "cell_type": "code",
   "execution_count": 209,
   "metadata": {},
   "outputs": [],
   "source": [
    "import pandas as pd\n",
    "import pickle\n",
    "from sklearn.metrics import accuracy_score, confusion_matrix, classification_report\n",
    "from sklearn.preprocessing import StandardScaler"
   ]
  },
  {
   "cell_type": "code",
   "execution_count": 385,
   "metadata": {},
   "outputs": [],
   "source": [
    "data_2020 = 'https://s3.amazonaws.com/parkerhiggins-nba-draft-bucket/19-20_MBB_StatsAndDraft.csv'\n",
    "raw_2020_data = pd.read_csv(data_2020)"
   ]
  },
  {
   "cell_type": "code",
   "execution_count": 386,
   "metadata": {},
   "outputs": [],
   "source": [
    "conf_data = pd.read_csv('https://s3.amazonaws.com/parkerhiggins-nba-draft-bucket/NCAA_conference_data_cleaned.csv')"
   ]
  },
  {
   "cell_type": "code",
   "execution_count": 387,
   "metadata": {},
   "outputs": [
    {
     "output_type": "execute_result",
     "data": {
      "text/plain": [
       "       TEAM CONF\n",
       "0  Michigan  B10\n",
       "1    Baylor  B12\n",
       "2  Illinois  B10\n",
       "3   Gonzaga  WCC\n",
       "4      Iowa  B10"
      ],
      "text/html": "<div>\n<style scoped>\n    .dataframe tbody tr th:only-of-type {\n        vertical-align: middle;\n    }\n\n    .dataframe tbody tr th {\n        vertical-align: top;\n    }\n\n    .dataframe thead th {\n        text-align: right;\n    }\n</style>\n<table border=\"1\" class=\"dataframe\">\n  <thead>\n    <tr style=\"text-align: right;\">\n      <th></th>\n      <th>TEAM</th>\n      <th>CONF</th>\n    </tr>\n  </thead>\n  <tbody>\n    <tr>\n      <th>0</th>\n      <td>Michigan</td>\n      <td>B10</td>\n    </tr>\n    <tr>\n      <th>1</th>\n      <td>Baylor</td>\n      <td>B12</td>\n    </tr>\n    <tr>\n      <th>2</th>\n      <td>Illinois</td>\n      <td>B10</td>\n    </tr>\n    <tr>\n      <th>3</th>\n      <td>Gonzaga</td>\n      <td>WCC</td>\n    </tr>\n    <tr>\n      <th>4</th>\n      <td>Iowa</td>\n      <td>B10</td>\n    </tr>\n  </tbody>\n</table>\n</div>"
     },
     "metadata": {},
     "execution_count": 387
    }
   ],
   "source": [
    "conf_data.head()"
   ]
  },
  {
   "cell_type": "code",
   "execution_count": 388,
   "metadata": {},
   "outputs": [
    {
     "output_type": "execute_result",
     "data": {
      "text/plain": [
       "      #            player team  gp   mpg  fgm   fga    FG%  3PM  3PA  ...  \\\n",
       "0    47   Anthony Edwards  UGA  32  33.0  6.3  15.8  0.402  2.2  7.7  ...   \n",
       "1  1085  Patrick Williams  FSU  29  22.5  3.3   7.1  0.459  0.6  1.7  ...   \n",
       "2   487       Isaac Okoro   AU  28  31.5  4.5   8.8  0.510  0.7  2.5  ...   \n",
       "3   164    Onyeka Okongwu  USC  28  30.6  6.2  10.1  0.616  0.0  0.1  ...   \n",
       "4    27        Obi Toppin  DAY  31  31.6  7.9  12.5  0.633  1.0  2.6  ...   \n",
       "\n",
       "    pf  orb  drb  rpg  apg  spg  bpg   ppg   Pk           Player1  \n",
       "0  2.2  0.8  4.5  5.2  2.8  1.3  0.6  19.1  1.0   Anthony Edwards  \n",
       "1  1.6  1.3  2.7  4.0  1.0  1.0  1.0   9.2  4.0  Patrick Williams  \n",
       "2  2.7  1.9  2.5  4.4  2.0  0.9  0.9  12.8  5.0       Isaac Okoro  \n",
       "3  2.7  3.3  5.4  8.6  1.1  1.2  2.7  16.2  6.0    Onyeka Okongwu  \n",
       "4  1.6  1.2  6.4  7.5  2.2  1.0  1.2  20.0  8.0        Obi Toppin  \n",
       "\n",
       "[5 rows x 25 columns]"
      ],
      "text/html": "<div>\n<style scoped>\n    .dataframe tbody tr th:only-of-type {\n        vertical-align: middle;\n    }\n\n    .dataframe tbody tr th {\n        vertical-align: top;\n    }\n\n    .dataframe thead th {\n        text-align: right;\n    }\n</style>\n<table border=\"1\" class=\"dataframe\">\n  <thead>\n    <tr style=\"text-align: right;\">\n      <th></th>\n      <th>#</th>\n      <th>player</th>\n      <th>team</th>\n      <th>gp</th>\n      <th>mpg</th>\n      <th>fgm</th>\n      <th>fga</th>\n      <th>FG%</th>\n      <th>3PM</th>\n      <th>3PA</th>\n      <th>...</th>\n      <th>pf</th>\n      <th>orb</th>\n      <th>drb</th>\n      <th>rpg</th>\n      <th>apg</th>\n      <th>spg</th>\n      <th>bpg</th>\n      <th>ppg</th>\n      <th>Pk</th>\n      <th>Player1</th>\n    </tr>\n  </thead>\n  <tbody>\n    <tr>\n      <th>0</th>\n      <td>47</td>\n      <td>Anthony Edwards</td>\n      <td>UGA</td>\n      <td>32</td>\n      <td>33.0</td>\n      <td>6.3</td>\n      <td>15.8</td>\n      <td>0.402</td>\n      <td>2.2</td>\n      <td>7.7</td>\n      <td>...</td>\n      <td>2.2</td>\n      <td>0.8</td>\n      <td>4.5</td>\n      <td>5.2</td>\n      <td>2.8</td>\n      <td>1.3</td>\n      <td>0.6</td>\n      <td>19.1</td>\n      <td>1.0</td>\n      <td>Anthony Edwards</td>\n    </tr>\n    <tr>\n      <th>1</th>\n      <td>1085</td>\n      <td>Patrick Williams</td>\n      <td>FSU</td>\n      <td>29</td>\n      <td>22.5</td>\n      <td>3.3</td>\n      <td>7.1</td>\n      <td>0.459</td>\n      <td>0.6</td>\n      <td>1.7</td>\n      <td>...</td>\n      <td>1.6</td>\n      <td>1.3</td>\n      <td>2.7</td>\n      <td>4.0</td>\n      <td>1.0</td>\n      <td>1.0</td>\n      <td>1.0</td>\n      <td>9.2</td>\n      <td>4.0</td>\n      <td>Patrick Williams</td>\n    </tr>\n    <tr>\n      <th>2</th>\n      <td>487</td>\n      <td>Isaac Okoro</td>\n      <td>AU</td>\n      <td>28</td>\n      <td>31.5</td>\n      <td>4.5</td>\n      <td>8.8</td>\n      <td>0.510</td>\n      <td>0.7</td>\n      <td>2.5</td>\n      <td>...</td>\n      <td>2.7</td>\n      <td>1.9</td>\n      <td>2.5</td>\n      <td>4.4</td>\n      <td>2.0</td>\n      <td>0.9</td>\n      <td>0.9</td>\n      <td>12.8</td>\n      <td>5.0</td>\n      <td>Isaac Okoro</td>\n    </tr>\n    <tr>\n      <th>3</th>\n      <td>164</td>\n      <td>Onyeka Okongwu</td>\n      <td>USC</td>\n      <td>28</td>\n      <td>30.6</td>\n      <td>6.2</td>\n      <td>10.1</td>\n      <td>0.616</td>\n      <td>0.0</td>\n      <td>0.1</td>\n      <td>...</td>\n      <td>2.7</td>\n      <td>3.3</td>\n      <td>5.4</td>\n      <td>8.6</td>\n      <td>1.1</td>\n      <td>1.2</td>\n      <td>2.7</td>\n      <td>16.2</td>\n      <td>6.0</td>\n      <td>Onyeka Okongwu</td>\n    </tr>\n    <tr>\n      <th>4</th>\n      <td>27</td>\n      <td>Obi Toppin</td>\n      <td>DAY</td>\n      <td>31</td>\n      <td>31.6</td>\n      <td>7.9</td>\n      <td>12.5</td>\n      <td>0.633</td>\n      <td>1.0</td>\n      <td>2.6</td>\n      <td>...</td>\n      <td>1.6</td>\n      <td>1.2</td>\n      <td>6.4</td>\n      <td>7.5</td>\n      <td>2.2</td>\n      <td>1.0</td>\n      <td>1.2</td>\n      <td>20.0</td>\n      <td>8.0</td>\n      <td>Obi Toppin</td>\n    </tr>\n  </tbody>\n</table>\n<p>5 rows × 25 columns</p>\n</div>"
     },
     "metadata": {},
     "execution_count": 388
    }
   ],
   "source": [
    "raw_2020_data.head()"
   ]
  },
  {
   "cell_type": "code",
   "execution_count": 389,
   "metadata": {},
   "outputs": [
    {
     "output_type": "execute_result",
     "data": {
      "text/plain": [
       "Index(['ppg', 'mpg', 'rpg', 'apg', 'spg', 'gp', 'tov'], dtype='object')"
      ]
     },
     "metadata": {},
     "execution_count": 389
    }
   ],
   "source": [
    "X.columns"
   ]
  },
  {
   "cell_type": "code",
   "execution_count": 603,
   "metadata": {},
   "outputs": [
    {
     "output_type": "stream",
     "name": "stderr",
     "text": [
      "ipykernel_launcher:6: SettingWithCopyWarning: \nA value is trying to be set on a copy of a slice from a DataFrame.\nTry using .loc[row_indexer,col_indexer] = value instead\n\nSee the caveats in the documentation: https://pandas.pydata.org/pandas-docs/stable/user_guide/indexing.html#returning-a-view-versus-a-copy\n"
     ]
    }
   ],
   "source": [
    "numerical_cols = raw_2020_data.dtypes[raw_2020_data.dtypes != 'object'].index.tolist()\n",
    "\n",
    "numerical_df = raw_2020_data[numerical_cols]\n",
    "numerical_df.index = raw_2020_data['#']\n",
    "\n",
    "numerical_df['draft_status'] = numerical_df['Pk'].apply(lambda x: True if x <= 60 else False)\n",
    "\n",
    "# selected_features = ['ppg','mpg','rpg','apg','spg','gp','tov','draft_status']\n",
    "selected_features = ['ppg','rpg','apg','spg','tov','draft_status','FG%','3P%','FT%']\n",
    "data_df = numerical_df[selected_features]\n",
    "\n",
    "# X = numerical_df.drop(columns=['Pk','#','pf','draft_status'])\n",
    "X = data_df.drop(columns=['draft_status'])\n",
    "y = data_df['draft_status']\n",
    "\n",
    "# scaler = StandardScaler()\n",
    "# X = scaler.fit_transform(X)"
   ]
  },
  {
   "cell_type": "code",
   "execution_count": 604,
   "metadata": {},
   "outputs": [
    {
     "output_type": "execute_result",
     "data": {
      "text/plain": [
       "8"
      ]
     },
     "metadata": {},
     "execution_count": 604
    }
   ],
   "source": [
    "len(selected_features)-1"
   ]
  },
  {
   "cell_type": "code",
   "execution_count": 632,
   "metadata": {},
   "outputs": [],
   "source": [
    "model_filename = './svm_2007_2019.sav'\n",
    "loaded_model = pickle.load(open(model_filename, 'rb'))"
   ]
  },
  {
   "cell_type": "code",
   "execution_count": 633,
   "metadata": {},
   "outputs": [
    {
     "output_type": "stream",
     "name": "stdout",
     "text": [
      "0.7405\n"
     ]
    }
   ],
   "source": [
    "predictions = loaded_model.predict(X)\n",
    "results = loaded_model.score(X,y)\n",
    "print(results)"
   ]
  },
  {
   "cell_type": "code",
   "execution_count": 634,
   "metadata": {},
   "outputs": [],
   "source": [
    "draft_prob = loaded_model.predict_proba(X)"
   ]
  },
  {
   "cell_type": "code",
   "execution_count": 635,
   "metadata": {},
   "outputs": [],
   "source": [
    "draft_prob_true = []\n",
    "for prob in draft_prob:\n",
    "    draft_prob_true.append(prob[1])"
   ]
  },
  {
   "cell_type": "code",
   "execution_count": 636,
   "metadata": {},
   "outputs": [],
   "source": [
    "numerical_df['draft_prob_true'] = draft_prob_true\n",
    "numerical_df['predictions'] = predictions"
   ]
  },
  {
   "cell_type": "code",
   "execution_count": 637,
   "metadata": {},
   "outputs": [],
   "source": [
    "# numerical_df[numerical_df['Pk'] <= 60].sort_values(by='draft_prob_true',ascending=False)"
   ]
  },
  {
   "cell_type": "code",
   "execution_count": 638,
   "metadata": {},
   "outputs": [],
   "source": [
    "# numerical_df.sort_values(by=['draft_prob_true'],ascending=False).head(2S)"
   ]
  },
  {
   "cell_type": "code",
   "execution_count": 639,
   "metadata": {},
   "outputs": [
    {
     "output_type": "stream",
     "name": "stdout",
     "text": [
      "0.7405 \n\n[[1447  514]\n [   5   34]] \n\n              precision    recall  f1-score   support\n\n       False       1.00      0.74      0.85      1961\n        True       0.06      0.87      0.12        39\n\n    accuracy                           0.74      2000\n   macro avg       0.53      0.80      0.48      2000\nweighted avg       0.98      0.74      0.83      2000\n \n\n"
     ]
    },
    {
     "output_type": "execute_result",
     "data": {
      "text/plain": [
       "draft_status\n",
       "False    30\n",
       "True      9\n",
       "dtype: int64"
      ]
     },
     "metadata": {},
     "execution_count": 639
    }
   ],
   "source": [
    "acc_score = accuracy_score(y,predictions)\n",
    "matrix = confusion_matrix(y,predictions)\n",
    "results = pd.DataFrame({\"Prediction\": predictions, \"Actual\": y}).reset_index(drop=True)\n",
    "report = classification_report(y,predictions,zero_division=True)\n",
    "\n",
    "print(acc_score,'\\n')\n",
    "print(matrix,'\\n')\n",
    "print(report,'\\n')\n",
    "\n",
    "# numerical_df[['draft_status','draft_prob_true']].sort_values(by='draft_prob_true',ascending=False).head(39).value_counts().groupby('draft_status').count()\n",
    "numerical_df[['draft_prob_true','draft_status']].sort_values(by='draft_prob_true',ascending=False).head(39).value_counts().groupby('draft_status').sum()"
   ]
  },
  {
   "cell_type": "code",
   "execution_count": 640,
   "metadata": {},
   "outputs": [],
   "source": [
    "# numerical_df[['draft_status','draft_prob_true']].sort_values(by='draft_prob_true',ascending=False).head(39).value_counts().groupby('draft_status').count()\n",
    "# numerical_df[['draft_status','draft_prob_true']].groupby(by='draft_status',axis=1,as_index=False).count()"
   ]
  },
  {
   "cell_type": "code",
   "execution_count": null,
   "metadata": {},
   "outputs": [],
   "source": []
  }
 ]
}
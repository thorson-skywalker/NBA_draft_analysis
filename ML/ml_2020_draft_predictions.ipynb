{
 "metadata": {
  "language_info": {
   "codemirror_mode": {
    "name": "ipython",
    "version": 3
   },
   "file_extension": ".py",
   "mimetype": "text/x-python",
   "name": "python",
   "nbconvert_exporter": "python",
   "pygments_lexer": "ipython3",
   "version": "3.7.9"
  },
  "orig_nbformat": 2,
  "kernelspec": {
   "name": "python3",
   "display_name": "Python 3.7.9 64-bit ('mlenv': conda)"
  },
  "interpreter": {
   "hash": "fb187ceb99e597fc4fb087033f2a56d4997f1306a985d00c1ac5ca0a4e888195"
  }
 },
 "nbformat": 4,
 "nbformat_minor": 2,
 "cells": [
  {
   "cell_type": "code",
   "execution_count": 1,
   "metadata": {},
   "outputs": [],
   "source": [
    "import pandas as pd\n",
    "import pickle\n",
    "from sklearn.metrics import accuracy_score, confusion_matrix, classification_report\n",
    "from sklearn.preprocessing import StandardScaler"
   ]
  },
  {
   "cell_type": "code",
   "execution_count": 2,
   "metadata": {},
   "outputs": [],
   "source": [
    "data_2020 = 'https://s3.amazonaws.com/parkerhiggins-nba-draft-bucket/19-20_MBB_StatsAndDraft.csv'\n",
    "raw_2020_data = pd.read_csv(data_2020)"
   ]
  },
  {
   "cell_type": "code",
   "execution_count": 3,
   "metadata": {},
   "outputs": [],
   "source": [
    "conf_data = pd.read_csv('https://s3.amazonaws.com/parkerhiggins-nba-draft-bucket/NCAA_conference_data_cleaned.csv')"
   ]
  },
  {
   "cell_type": "code",
   "execution_count": 4,
   "metadata": {},
   "outputs": [
    {
     "output_type": "execute_result",
     "data": {
      "text/plain": [
       "       TEAM CONF\n",
       "0  Michigan  B10\n",
       "1    Baylor  B12\n",
       "2  Illinois  B10\n",
       "3   Gonzaga  WCC\n",
       "4      Iowa  B10"
      ],
      "text/html": "<div>\n<style scoped>\n    .dataframe tbody tr th:only-of-type {\n        vertical-align: middle;\n    }\n\n    .dataframe tbody tr th {\n        vertical-align: top;\n    }\n\n    .dataframe thead th {\n        text-align: right;\n    }\n</style>\n<table border=\"1\" class=\"dataframe\">\n  <thead>\n    <tr style=\"text-align: right;\">\n      <th></th>\n      <th>TEAM</th>\n      <th>CONF</th>\n    </tr>\n  </thead>\n  <tbody>\n    <tr>\n      <th>0</th>\n      <td>Michigan</td>\n      <td>B10</td>\n    </tr>\n    <tr>\n      <th>1</th>\n      <td>Baylor</td>\n      <td>B12</td>\n    </tr>\n    <tr>\n      <th>2</th>\n      <td>Illinois</td>\n      <td>B10</td>\n    </tr>\n    <tr>\n      <th>3</th>\n      <td>Gonzaga</td>\n      <td>WCC</td>\n    </tr>\n    <tr>\n      <th>4</th>\n      <td>Iowa</td>\n      <td>B10</td>\n    </tr>\n  </tbody>\n</table>\n</div>"
     },
     "metadata": {},
     "execution_count": 4
    }
   ],
   "source": [
    "conf_data.head()"
   ]
  },
  {
   "cell_type": "code",
   "execution_count": 5,
   "metadata": {},
   "outputs": [
    {
     "output_type": "execute_result",
     "data": {
      "text/plain": [
       "      #            player team  gp   mpg  fgm   fga    FG%  3PM  3PA  ...  \\\n",
       "0    47   Anthony Edwards  UGA  32  33.0  6.3  15.8  0.402  2.2  7.7  ...   \n",
       "1  1085  Patrick Williams  FSU  29  22.5  3.3   7.1  0.459  0.6  1.7  ...   \n",
       "2   487       Isaac Okoro   AU  28  31.5  4.5   8.8  0.510  0.7  2.5  ...   \n",
       "3   164    Onyeka Okongwu  USC  28  30.6  6.2  10.1  0.616  0.0  0.1  ...   \n",
       "4    27        Obi Toppin  DAY  31  31.6  7.9  12.5  0.633  1.0  2.6  ...   \n",
       "\n",
       "    pf  orb  drb  rpg  apg  spg  bpg   ppg   Pk           Player1  \n",
       "0  2.2  0.8  4.5  5.2  2.8  1.3  0.6  19.1  1.0   Anthony Edwards  \n",
       "1  1.6  1.3  2.7  4.0  1.0  1.0  1.0   9.2  4.0  Patrick Williams  \n",
       "2  2.7  1.9  2.5  4.4  2.0  0.9  0.9  12.8  5.0       Isaac Okoro  \n",
       "3  2.7  3.3  5.4  8.6  1.1  1.2  2.7  16.2  6.0    Onyeka Okongwu  \n",
       "4  1.6  1.2  6.4  7.5  2.2  1.0  1.2  20.0  8.0        Obi Toppin  \n",
       "\n",
       "[5 rows x 25 columns]"
      ],
      "text/html": "<div>\n<style scoped>\n    .dataframe tbody tr th:only-of-type {\n        vertical-align: middle;\n    }\n\n    .dataframe tbody tr th {\n        vertical-align: top;\n    }\n\n    .dataframe thead th {\n        text-align: right;\n    }\n</style>\n<table border=\"1\" class=\"dataframe\">\n  <thead>\n    <tr style=\"text-align: right;\">\n      <th></th>\n      <th>#</th>\n      <th>player</th>\n      <th>team</th>\n      <th>gp</th>\n      <th>mpg</th>\n      <th>fgm</th>\n      <th>fga</th>\n      <th>FG%</th>\n      <th>3PM</th>\n      <th>3PA</th>\n      <th>...</th>\n      <th>pf</th>\n      <th>orb</th>\n      <th>drb</th>\n      <th>rpg</th>\n      <th>apg</th>\n      <th>spg</th>\n      <th>bpg</th>\n      <th>ppg</th>\n      <th>Pk</th>\n      <th>Player1</th>\n    </tr>\n  </thead>\n  <tbody>\n    <tr>\n      <th>0</th>\n      <td>47</td>\n      <td>Anthony Edwards</td>\n      <td>UGA</td>\n      <td>32</td>\n      <td>33.0</td>\n      <td>6.3</td>\n      <td>15.8</td>\n      <td>0.402</td>\n      <td>2.2</td>\n      <td>7.7</td>\n      <td>...</td>\n      <td>2.2</td>\n      <td>0.8</td>\n      <td>4.5</td>\n      <td>5.2</td>\n      <td>2.8</td>\n      <td>1.3</td>\n      <td>0.6</td>\n      <td>19.1</td>\n      <td>1.0</td>\n      <td>Anthony Edwards</td>\n    </tr>\n    <tr>\n      <th>1</th>\n      <td>1085</td>\n      <td>Patrick Williams</td>\n      <td>FSU</td>\n      <td>29</td>\n      <td>22.5</td>\n      <td>3.3</td>\n      <td>7.1</td>\n      <td>0.459</td>\n      <td>0.6</td>\n      <td>1.7</td>\n      <td>...</td>\n      <td>1.6</td>\n      <td>1.3</td>\n      <td>2.7</td>\n      <td>4.0</td>\n      <td>1.0</td>\n      <td>1.0</td>\n      <td>1.0</td>\n      <td>9.2</td>\n      <td>4.0</td>\n      <td>Patrick Williams</td>\n    </tr>\n    <tr>\n      <th>2</th>\n      <td>487</td>\n      <td>Isaac Okoro</td>\n      <td>AU</td>\n      <td>28</td>\n      <td>31.5</td>\n      <td>4.5</td>\n      <td>8.8</td>\n      <td>0.510</td>\n      <td>0.7</td>\n      <td>2.5</td>\n      <td>...</td>\n      <td>2.7</td>\n      <td>1.9</td>\n      <td>2.5</td>\n      <td>4.4</td>\n      <td>2.0</td>\n      <td>0.9</td>\n      <td>0.9</td>\n      <td>12.8</td>\n      <td>5.0</td>\n      <td>Isaac Okoro</td>\n    </tr>\n    <tr>\n      <th>3</th>\n      <td>164</td>\n      <td>Onyeka Okongwu</td>\n      <td>USC</td>\n      <td>28</td>\n      <td>30.6</td>\n      <td>6.2</td>\n      <td>10.1</td>\n      <td>0.616</td>\n      <td>0.0</td>\n      <td>0.1</td>\n      <td>...</td>\n      <td>2.7</td>\n      <td>3.3</td>\n      <td>5.4</td>\n      <td>8.6</td>\n      <td>1.1</td>\n      <td>1.2</td>\n      <td>2.7</td>\n      <td>16.2</td>\n      <td>6.0</td>\n      <td>Onyeka Okongwu</td>\n    </tr>\n    <tr>\n      <th>4</th>\n      <td>27</td>\n      <td>Obi Toppin</td>\n      <td>DAY</td>\n      <td>31</td>\n      <td>31.6</td>\n      <td>7.9</td>\n      <td>12.5</td>\n      <td>0.633</td>\n      <td>1.0</td>\n      <td>2.6</td>\n      <td>...</td>\n      <td>1.6</td>\n      <td>1.2</td>\n      <td>6.4</td>\n      <td>7.5</td>\n      <td>2.2</td>\n      <td>1.0</td>\n      <td>1.2</td>\n      <td>20.0</td>\n      <td>8.0</td>\n      <td>Obi Toppin</td>\n    </tr>\n  </tbody>\n</table>\n<p>5 rows × 25 columns</p>\n</div>"
     },
     "metadata": {},
     "execution_count": 5
    }
   ],
   "source": [
    "raw_2020_data.head()"
   ]
  },
  {
   "cell_type": "code",
   "execution_count": 6,
   "metadata": {},
   "outputs": [
    {
     "output_type": "stream",
     "name": "stderr",
     "text": [
      "ipykernel_launcher:6: SettingWithCopyWarning: \nA value is trying to be set on a copy of a slice from a DataFrame.\nTry using .loc[row_indexer,col_indexer] = value instead\n\nSee the caveats in the documentation: https://pandas.pydata.org/pandas-docs/stable/user_guide/indexing.html#returning-a-view-versus-a-copy\n"
     ]
    }
   ],
   "source": [
    "numerical_cols = raw_2020_data.dtypes[raw_2020_data.dtypes != 'object'].index.tolist()\n",
    "\n",
    "numerical_df = raw_2020_data[numerical_cols]\n",
    "numerical_df.index = raw_2020_data['#']\n",
    "\n",
    "numerical_df['draft_status'] = numerical_df['Pk'].apply(lambda x: True if x <= 60 else False)\n",
    "\n",
    "# selected_features = ['ppg','mpg','rpg','apg','spg','gp','tov','draft_status']\n",
    "selected_features = ['ppg','rpg','apg','spg','tov','FG%','3P%','FT%','draft_status']\n",
    "data_df = numerical_df[selected_features]\n",
    "\n",
    "# X = numerical_df.drop(columns=['Pk','#','pf','draft_status'])\n",
    "X = data_df.drop(columns=['draft_status'])\n",
    "y = data_df['draft_status']\n",
    "\n",
    "# scaler = StandardScaler()\n",
    "# X = scaler.fit_transform(X)"
   ]
  },
  {
   "cell_type": "code",
   "execution_count": 7,
   "metadata": {},
   "outputs": [
    {
     "output_type": "execute_result",
     "data": {
      "text/plain": [
       "8"
      ]
     },
     "metadata": {},
     "execution_count": 7
    }
   ],
   "source": [
    "len(selected_features)-1"
   ]
  },
  {
   "cell_type": "code",
   "execution_count": 29,
   "metadata": {},
   "outputs": [],
   "source": [
    "model_filename = './svm_2007_2019.sav'\n",
    "loaded_model = pickle.load(open(model_filename, 'rb'))"
   ]
  },
  {
   "cell_type": "code",
   "execution_count": 30,
   "metadata": {},
   "outputs": [
    {
     "output_type": "stream",
     "name": "stdout",
     "text": [
      "0.7405\n"
     ]
    }
   ],
   "source": [
    "predictions = loaded_model.predict(X)\n",
    "results = loaded_model.score(X,y)\n",
    "print(results)"
   ]
  },
  {
   "cell_type": "code",
   "execution_count": 31,
   "metadata": {},
   "outputs": [],
   "source": [
    "draft_prob = loaded_model.predict_proba(X)"
   ]
  },
  {
   "cell_type": "code",
   "execution_count": 32,
   "metadata": {},
   "outputs": [],
   "source": [
    "draft_prob_true = []\n",
    "for prob in draft_prob:\n",
    "    draft_prob_true.append(prob[1])"
   ]
  },
  {
   "cell_type": "code",
   "execution_count": 33,
   "metadata": {},
   "outputs": [],
   "source": [
    "numerical_df['draft_prob_true'] = draft_prob_true\n",
    "numerical_df['predictions'] = predictions"
   ]
  },
  {
   "cell_type": "code",
   "execution_count": 34,
   "metadata": {},
   "outputs": [],
   "source": [
    "# numerical_df[numerical_df['Pk'] <= 60].sort_values(by='draft_prob_true',ascending=False)"
   ]
  },
  {
   "cell_type": "code",
   "execution_count": 35,
   "metadata": {},
   "outputs": [],
   "source": [
    "# numerical_df.sort_values(by=['draft_prob_true'],ascending=False).head(2S)"
   ]
  },
  {
   "cell_type": "code",
   "execution_count": 36,
   "metadata": {},
   "outputs": [
    {
     "output_type": "stream",
     "name": "stdout",
     "text": [
      "0.7405 \n\n[[1447  514]\n [   5   34]] \n\n              precision    recall  f1-score   support\n\n       False       1.00      0.74      0.85      1961\n        True       0.06      0.87      0.12        39\n\n    accuracy                           0.74      2000\n   macro avg       0.53      0.80      0.48      2000\nweighted avg       0.98      0.74      0.83      2000\n \n\n"
     ]
    },
    {
     "output_type": "execute_result",
     "data": {
      "text/plain": [
       "draft_status\n",
       "False    30\n",
       "True      9\n",
       "dtype: int64"
      ]
     },
     "metadata": {},
     "execution_count": 36
    }
   ],
   "source": [
    "acc_score = accuracy_score(y,predictions)\n",
    "matrix = confusion_matrix(y,predictions)\n",
    "results = pd.DataFrame({\"Prediction\": predictions, \"Actual\": y}).reset_index(drop=True)\n",
    "report = classification_report(y,predictions,zero_division=True)\n",
    "\n",
    "print(acc_score,'\\n')\n",
    "print(matrix,'\\n')\n",
    "print(report,'\\n')\n",
    "\n",
    "# numerical_df[['draft_status','draft_prob_true']].sort_values(by='draft_prob_true',ascending=False).head(39).value_counts().groupby('draft_status').count()\n",
    "numerical_df[['draft_prob_true','draft_status']].sort_values(by='draft_prob_true',ascending=False).head(39).value_counts().groupby('draft_status').sum()"
   ]
  },
  {
   "cell_type": "code",
   "execution_count": 37,
   "metadata": {},
   "outputs": [],
   "source": [
    "# numerical_df[['draft_status','draft_prob_true']].sort_values(by='draft_prob_true',ascending=False).head(39).value_counts().groupby('draft_status').count()\n",
    "# numerical_df[['draft_status','draft_prob_true']].groupby(by='draft_status',axis=1,as_index=False).count()"
   ]
  },
  {
   "cell_type": "code",
   "execution_count": 38,
   "metadata": {},
   "outputs": [],
   "source": [
    "raw_2020_data['predictions'] = predictions\n",
    "raw_2020_data['draft_prob'] = draft_prob_true"
   ]
  },
  {
   "cell_type": "code",
   "execution_count": 39,
   "metadata": {},
   "outputs": [
    {
     "output_type": "execute_result",
     "data": {
      "text/plain": [
       "        #                          player    team  gp   mpg  fgm   fga    FG%  \\\n",
       "1019    5                      Luka Garza      UI  31  32.0  9.3  17.1  0.542   \n",
       "121    60               Shamarkus Kennedy     MSU  31  31.8  7.3  10.7  0.679   \n",
       "344    13                    Terry Taylor    APSU  33  36.6  8.6  15.7  0.550   \n",
       "4      27                      Obi Toppin     DAY  31  31.6  7.9  12.5  0.633   \n",
       "21     26                    Daniel Oturu  U of M  31  34.0  7.7  13.6  0.563   \n",
       "390    19                   Nathan Knight     W&M  32  29.6  7.1  13.5  0.524   \n",
       "384   168                     John Mooney      ND  31  32.7  6.4  14.0  0.460   \n",
       "1169  110                    A.J. Brodeur    PENN  27  34.7  6.9  13.7  0.504   \n",
       "1547   61                 Ahsan Asadullah     LIP  31  29.9  8.1  15.6  0.520   \n",
       "1368   28                    Carlik Jones      RU  32  33.1  6.8  14.0  0.488   \n",
       "1691    9                     Ben Stanley      HU  34  35.1  8.7  15.1  0.574   \n",
       "529   112                  Mason Peatling     EWU  31  30.7  6.7  12.2  0.554   \n",
       "558   149                 Jonah Radebaugh     UNC  31  37.7  6.3  12.6  0.495   \n",
       "1425  435                    James Butler    DREX  33  32.5  5.4  10.1  0.530   \n",
       "854     3                 Jermaine Marrow      HU  28  37.8  7.9  19.4  0.407   \n",
       "726     2                 Jhivvan Jackson    UTSA  32  34.5  9.1  21.7  0.418   \n",
       "37     14                    Jalen Harris     UNR  30  33.0  7.4  16.7  0.446   \n",
       "1778   36                  Jayden Gardner     ECU  31  34.4  7.2  13.8  0.521   \n",
       "599    98                   Paul Atkinson    YALE  30  31.8  6.9  10.9  0.630   \n",
       "1281   25                    Quintin Dove     UTM  29  33.8  7.3  13.0  0.565   \n",
       "1969  157  Emmanuel Chukwubuikem Nzekwesi     ORU  25  29.4  6.5  11.7  0.555   \n",
       "174   131                   Jason Preston      OU  32  38.1  6.3  12.3  0.515   \n",
       "1409   86               Vernon Carey, Jr.    DUKE  31  24.8  6.4  11.1  0.577   \n",
       "16    375                  Udoka Azubuike      KU  31  27.7  5.8   7.8  0.748   \n",
       "1108  381             Xavier Tillman, Sr.     MSU  31  32.1  5.3   9.7  0.550   \n",
       "15     23                Payton Pritchard      UO  31  36.5  7.0  14.9  0.468   \n",
       "1856   79                  Tyler Hagedorn     USD  32  29.8  6.0  11.1  0.544   \n",
       "1221   20              Terrell Brown, Jr.     SEA  29  36.0  7.8  18.8  0.414   \n",
       "35     11                    Grant Riller  C of C  31  33.5  7.3  14.7  0.499   \n",
       "5     221                     Jalen Smith     UMD  31  31.2  5.4  10.1  0.538   \n",
       "1594  195                    E.J. Anosike     SHU  33  33.2  5.5  11.4  0.484   \n",
       "3     164                  Onyeka Okongwu     USC  28  30.6  6.2  10.1  0.616   \n",
       "632     1                   Markus Howard      MU  29  33.2  8.2  19.3  0.422   \n",
       "1124  215                     Max Mahoney      BU  34  27.1  6.2  10.8  0.575   \n",
       "1038  255             Ronald Jackson, Jr.  NC A&T  32  31.9  5.1   9.5  0.538   \n",
       "7     239               Tyrese Haliburton     ISU  22  36.7  5.6  11.1  0.504   \n",
       "1769   44                    Jibri Blount    NCCU  31  36.8  7.0  13.4  0.525   \n",
       "102    33                 Sayeed Pridgett      UM  31  36.2  8.1  15.8  0.511   \n",
       "93    122                      Tyson Ward    NDSU  33  31.0  6.2  11.6  0.530   \n",
       "36    107                    Reggie Perry     MSU  31  31.1  5.9  11.8  0.500   \n",
       "1551   21                       Ryan Daly     SJU  30  34.6  7.2  17.0  0.425   \n",
       "38     39                     Sam Merrill     USU  32  35.0  6.1  13.2  0.461   \n",
       "1330  250                 Cameron Krutwig    L-IL  32  31.3  6.3  11.2  0.563   \n",
       "1000  243                  Paul Reed, Jr.     DEP  29  31.7  6.3  12.2  0.516   \n",
       "1395  347                   Tyrique Jones     XAV  32  28.2  5.4   9.7  0.557   \n",
       "437   127                 Garrison Brooks     UNC  32  34.8  6.5  12.1  0.535   \n",
       "1354   12                     Jordan Ford     SMC  34  38.0  7.9  16.1  0.492   \n",
       "179   209                   Carlos Dotson     WCU  30  27.2  6.0   9.8  0.610   \n",
       "1914    6                      Mike Smith     COM  30  37.8  8.3  19.3  0.431   \n",
       "1228   57                   Malik Ellison     UHA  23  34.8  7.4  14.5  0.514   \n",
       "843   102                  Filip Petrusev      GU  33  25.9  6.3  11.3  0.562   \n",
       "1908   43                Christian Lutete     UML  32  33.7  6.9  13.3  0.516   \n",
       "1200  121               Isaiah Stewart II      UW  32  32.3  6.0  10.5  0.570   \n",
       "18     96                   Malachi Flynn    SDSU  32  33.5  5.8  13.0  0.441   \n",
       "1074  100                      Tommy Funk    USMA  30  37.1  6.4  14.3  0.448   \n",
       "578   970                  Grayson Murphy     BEL  33  29.9  4.0   7.7  0.522   \n",
       "690    64                     Doug Wilson    SDSU  29  29.7  7.7  12.2  0.628   \n",
       "1244   99                   Keith Braxton     SFU  32  36.1  6.1  13.2  0.464   \n",
       "1017  626                     Justin Bean     USU  34  29.7  4.6   8.8  0.518   \n",
       "809     8                     Mason Jones  U of A  31  33.8  6.2  13.6  0.453   \n",
       "\n",
       "      3PM   3PA  ...  drb   rpg  apg  spg  bpg   ppg    Pk            Player1  \\\n",
       "1019  1.3   3.5  ...  6.3   9.8  1.2  0.8  1.8  23.9   NaN                NaN   \n",
       "121   0.0   0.1  ...  7.5  10.9  1.5  0.7  2.6  18.6   NaN                NaN   \n",
       "344   1.2   3.9  ...  7.0  11.0  1.4  1.3  1.3  21.8   NaN                NaN   \n",
       "4     1.0   2.6  ...  6.4   7.5  2.2  1.0  1.2  20.0   8.0         Obi Toppin   \n",
       "21    0.6   1.7  ...  7.5  11.3  1.1  0.5  2.5  20.1  33.0       Daniel Oturu   \n",
       "390   0.9   3.0  ...  7.8  10.5  1.8  0.8  1.5  20.7   NaN                NaN   \n",
       "384   1.0   3.4  ...  9.0  12.7  1.7  1.3  0.7  16.2   NaN                NaN   \n",
       "1169  0.6   2.3  ...  6.7   8.9  5.2  1.1  1.8  17.3   NaN                NaN   \n",
       "1547  0.1   0.5  ...  7.4  10.1  3.9  1.2  1.2  18.6   NaN                NaN   \n",
       "1368  1.5   3.6  ...  4.5   5.1  5.5  1.4  0.2  20.0   NaN                NaN   \n",
       "1691  0.4   1.3  ...  4.9   7.2  0.7  0.4  1.5  22.0   NaN                NaN   \n",
       "529   0.7   2.1  ...  5.7   9.1  3.2  0.7  1.5  17.2   NaN                NaN   \n",
       "558   1.6   3.7  ...  5.2   6.3  6.5  1.5  0.2  16.5   NaN                NaN   \n",
       "1425  0.1   0.2  ...  8.0  11.7  2.2  0.6  1.0  13.2   NaN                NaN   \n",
       "854   2.1   7.2  ...  2.5   3.2  6.5  1.2  0.1  24.8   NaN                NaN   \n",
       "726   3.8  10.7  ...  4.7   5.6  2.4  1.4  0.2  26.8   NaN                NaN   \n",
       "37    2.2   6.2  ...  5.7   6.4  3.9  1.1  0.1  21.6  59.0       Jalen Harris   \n",
       "1778  0.1   0.6  ...  6.3   9.2  2.2  1.1  0.5  19.7   NaN                NaN   \n",
       "599   0.1   0.4  ...  5.1   7.3  1.5  1.2  0.8  17.6   NaN                NaN   \n",
       "1281  0.7   2.1  ...  4.1   7.9  1.0  0.4  0.3  20.2   NaN                NaN   \n",
       "1969  0.2   0.6  ...  6.8   9.9  0.8  1.1  0.7  16.3   NaN                NaN   \n",
       "174   1.2   2.8  ...  5.7   6.4  7.4  1.4  0.1  16.8   NaN                NaN   \n",
       "1409  0.3   0.7  ...  6.1   8.8  1.0  0.7  1.6  17.8   NaN                NaN   \n",
       "16    0.0   0.0  ...  7.0  10.5  0.9  0.5  2.6  13.7  27.0     Udoka Azubuike   \n",
       "1108  0.4   1.6  ...  7.6  10.3  3.0  1.2  2.1  13.7   NaN                NaN   \n",
       "15    2.8   6.8  ...  3.6   4.3  5.5  1.5  0.0  20.5  26.0   Payton Pritchard   \n",
       "1856  2.2   4.4  ...  5.8   6.9  1.7  0.3  0.7  18.1   NaN                NaN   \n",
       "1221  0.6   1.9  ...  4.8   6.2  4.9  1.6  0.4  20.7   NaN                NaN   \n",
       "35    1.5   4.2  ...  4.6   5.1  3.9  1.6  0.3  21.9  56.0       Grant Riller   \n",
       "5     1.0   2.8  ...  7.3  10.5  0.8  0.7  2.4  15.5  10.0        Jalen Smith   \n",
       "1594  0.6   2.4  ...  7.4  11.6  1.7  1.0  0.3  15.7   NaN                NaN   \n",
       "3     0.0   0.1  ...  5.4   8.6  1.1  1.2  2.7  16.2   6.0     Onyeka Okongwu   \n",
       "632   4.2  10.1  ...  2.9   3.5  3.3  0.9  0.0  27.8   NaN                NaN   \n",
       "1124  0.0   0.0  ...  5.5   8.3  2.6  1.1  0.5  15.5   NaN                NaN   \n",
       "1038  0.7   2.2  ...  7.1  10.4  0.9  1.2  0.5  15.0   NaN                NaN   \n",
       "7     2.4   5.6  ...  4.4   5.9  6.5  2.5  0.7  15.2  12.0  Tyrese Haliburton   \n",
       "1769  0.8   2.4  ...  6.8   9.4  1.7  2.2  0.6  19.2   NaN                NaN   \n",
       "102   0.4   1.6  ...  5.7   7.2  3.9  1.5  0.5  19.8   NaN                NaN   \n",
       "93    1.0   2.5  ...  5.2   7.2  2.8  0.7  0.6  16.9   NaN                NaN   \n",
       "36    0.7   2.3  ...  6.9  10.1  2.3  0.8  1.2  17.4  57.0       Reggie Perry   \n",
       "1551  1.9   6.0  ...  5.4   6.9  4.3  1.2  0.4  20.6   NaN                NaN   \n",
       "38    2.8   6.8  ...  3.9   4.1  3.9  0.9  0.1  19.7  60.0        Sam Merrill   \n",
       "1330  0.0   0.1  ...  6.3   8.1  4.2  1.2  0.6  15.1   NaN                NaN   \n",
       "1000  0.6   1.8  ...  7.4  10.7  1.6  1.9  2.6  15.1   NaN                NaN   \n",
       "1395  0.0   0.0  ...  6.7  11.0  1.5  1.0  1.1  14.0   NaN                NaN   \n",
       "437   0.1   0.2  ...  5.3   8.5  2.0  0.5  0.5  16.8   NaN                NaN   \n",
       "1354  2.5   6.1  ...  2.5   3.0  2.3  1.4  0.0  21.9   NaN                NaN   \n",
       "179   0.0   0.0  ...  6.9   9.7  1.9  0.6  0.2  15.5   NaN                NaN   \n",
       "1914  2.1   6.1  ...  3.7   4.1  4.5  1.5  0.0  22.8   NaN                NaN   \n",
       "1228  0.1   0.6  ...  7.1   9.7  1.7  0.8  1.1  18.7   NaN                NaN   \n",
       "843   0.1   0.3  ...  5.6   7.9  1.5  0.6  0.8  17.5   NaN                NaN   \n",
       "1908  2.0   5.4  ...  5.0   7.0  1.6  0.8  0.1  19.3   NaN                NaN   \n",
       "1200  0.2   0.6  ...  6.0   8.8  0.8  0.5  2.1  17.0   NaN                NaN   \n",
       "18    2.4   6.4  ...  3.8   4.5  5.1  1.8  0.1  17.6  29.0      Malachi Flynn   \n",
       "1074  2.0   5.7  ...  4.1   4.4  7.1  0.9  0.1  17.5   NaN                NaN   \n",
       "578   0.7   2.1  ...  6.0   7.4  6.2  2.6  0.2   9.8   NaN                NaN   \n",
       "690   0.0   0.2  ...  3.5   6.4  1.8  0.8  0.8  18.6   NaN                NaN   \n",
       "1244  1.2   3.7  ...  6.3   7.5  3.8  1.3  0.2  17.6   NaN                NaN   \n",
       "1017  0.2   0.9  ...  6.9  10.5  2.1  1.5  0.7  11.9   NaN                NaN   \n",
       "809   2.2   6.3  ...  4.7   5.5  3.4  1.6  0.2  22.0   NaN                NaN   \n",
       "\n",
       "      predictions  draft_prob  \n",
       "1019         True    0.999998  \n",
       "121          True    0.999997  \n",
       "344          True    0.999995  \n",
       "4            True    0.999981  \n",
       "21           True    0.996855  \n",
       "390          True    0.996833  \n",
       "384          True    0.995945  \n",
       "1169         True    0.994650  \n",
       "1547         True    0.994486  \n",
       "1368         True    0.994315  \n",
       "1691         True    0.994082  \n",
       "529          True    0.994068  \n",
       "558          True    0.992900  \n",
       "1425         True    0.992581  \n",
       "854          True    0.992128  \n",
       "726          True    0.991918  \n",
       "37           True    0.991661  \n",
       "1778         True    0.990883  \n",
       "599          True    0.990818  \n",
       "1281         True    0.990481  \n",
       "1969         True    0.990274  \n",
       "174          True    0.990141  \n",
       "1409         True    0.989378  \n",
       "16           True    0.989087  \n",
       "1108         True    0.988656  \n",
       "15           True    0.987450  \n",
       "1856         True    0.986567  \n",
       "1221         True    0.986556  \n",
       "35           True    0.985872  \n",
       "5            True    0.985830  \n",
       "1594         True    0.985782  \n",
       "3            True    0.985715  \n",
       "632          True    0.985096  \n",
       "1124         True    0.984733  \n",
       "1038         True    0.984623  \n",
       "7            True    0.984517  \n",
       "1769         True    0.984353  \n",
       "102          True    0.984352  \n",
       "93           True    0.982967  \n",
       "36           True    0.982666  \n",
       "1551         True    0.982479  \n",
       "38           True    0.981237  \n",
       "1330         True    0.981212  \n",
       "1000         True    0.979523  \n",
       "1395         True    0.979213  \n",
       "437          True    0.978988  \n",
       "1354         True    0.977423  \n",
       "179          True    0.976243  \n",
       "1914         True    0.976202  \n",
       "1228         True    0.975969  \n",
       "843          True    0.975843  \n",
       "1908         True    0.975836  \n",
       "1200         True    0.975735  \n",
       "18           True    0.974970  \n",
       "1074         True    0.974099  \n",
       "578          True    0.974048  \n",
       "690          True    0.973777  \n",
       "1244         True    0.973400  \n",
       "1017         True    0.973300  \n",
       "809          True    0.971579  \n",
       "\n",
       "[60 rows x 27 columns]"
      ],
      "text/html": "<div>\n<style scoped>\n    .dataframe tbody tr th:only-of-type {\n        vertical-align: middle;\n    }\n\n    .dataframe tbody tr th {\n        vertical-align: top;\n    }\n\n    .dataframe thead th {\n        text-align: right;\n    }\n</style>\n<table border=\"1\" class=\"dataframe\">\n  <thead>\n    <tr style=\"text-align: right;\">\n      <th></th>\n      <th>#</th>\n      <th>player</th>\n      <th>team</th>\n      <th>gp</th>\n      <th>mpg</th>\n      <th>fgm</th>\n      <th>fga</th>\n      <th>FG%</th>\n      <th>3PM</th>\n      <th>3PA</th>\n      <th>...</th>\n      <th>drb</th>\n      <th>rpg</th>\n      <th>apg</th>\n      <th>spg</th>\n      <th>bpg</th>\n      <th>ppg</th>\n      <th>Pk</th>\n      <th>Player1</th>\n      <th>predictions</th>\n      <th>draft_prob</th>\n    </tr>\n  </thead>\n  <tbody>\n    <tr>\n      <th>1019</th>\n      <td>5</td>\n      <td>Luka Garza</td>\n      <td>UI</td>\n      <td>31</td>\n      <td>32.0</td>\n      <td>9.3</td>\n      <td>17.1</td>\n      <td>0.542</td>\n      <td>1.3</td>\n      <td>3.5</td>\n      <td>...</td>\n      <td>6.3</td>\n      <td>9.8</td>\n      <td>1.2</td>\n      <td>0.8</td>\n      <td>1.8</td>\n      <td>23.9</td>\n      <td>NaN</td>\n      <td>NaN</td>\n      <td>True</td>\n      <td>0.999998</td>\n    </tr>\n    <tr>\n      <th>121</th>\n      <td>60</td>\n      <td>Shamarkus Kennedy</td>\n      <td>MSU</td>\n      <td>31</td>\n      <td>31.8</td>\n      <td>7.3</td>\n      <td>10.7</td>\n      <td>0.679</td>\n      <td>0.0</td>\n      <td>0.1</td>\n      <td>...</td>\n      <td>7.5</td>\n      <td>10.9</td>\n      <td>1.5</td>\n      <td>0.7</td>\n      <td>2.6</td>\n      <td>18.6</td>\n      <td>NaN</td>\n      <td>NaN</td>\n      <td>True</td>\n      <td>0.999997</td>\n    </tr>\n    <tr>\n      <th>344</th>\n      <td>13</td>\n      <td>Terry Taylor</td>\n      <td>APSU</td>\n      <td>33</td>\n      <td>36.6</td>\n      <td>8.6</td>\n      <td>15.7</td>\n      <td>0.550</td>\n      <td>1.2</td>\n      <td>3.9</td>\n      <td>...</td>\n      <td>7.0</td>\n      <td>11.0</td>\n      <td>1.4</td>\n      <td>1.3</td>\n      <td>1.3</td>\n      <td>21.8</td>\n      <td>NaN</td>\n      <td>NaN</td>\n      <td>True</td>\n      <td>0.999995</td>\n    </tr>\n    <tr>\n      <th>4</th>\n      <td>27</td>\n      <td>Obi Toppin</td>\n      <td>DAY</td>\n      <td>31</td>\n      <td>31.6</td>\n      <td>7.9</td>\n      <td>12.5</td>\n      <td>0.633</td>\n      <td>1.0</td>\n      <td>2.6</td>\n      <td>...</td>\n      <td>6.4</td>\n      <td>7.5</td>\n      <td>2.2</td>\n      <td>1.0</td>\n      <td>1.2</td>\n      <td>20.0</td>\n      <td>8.0</td>\n      <td>Obi Toppin</td>\n      <td>True</td>\n      <td>0.999981</td>\n    </tr>\n    <tr>\n      <th>21</th>\n      <td>26</td>\n      <td>Daniel Oturu</td>\n      <td>U of M</td>\n      <td>31</td>\n      <td>34.0</td>\n      <td>7.7</td>\n      <td>13.6</td>\n      <td>0.563</td>\n      <td>0.6</td>\n      <td>1.7</td>\n      <td>...</td>\n      <td>7.5</td>\n      <td>11.3</td>\n      <td>1.1</td>\n      <td>0.5</td>\n      <td>2.5</td>\n      <td>20.1</td>\n      <td>33.0</td>\n      <td>Daniel Oturu</td>\n      <td>True</td>\n      <td>0.996855</td>\n    </tr>\n    <tr>\n      <th>390</th>\n      <td>19</td>\n      <td>Nathan Knight</td>\n      <td>W&amp;M</td>\n      <td>32</td>\n      <td>29.6</td>\n      <td>7.1</td>\n      <td>13.5</td>\n      <td>0.524</td>\n      <td>0.9</td>\n      <td>3.0</td>\n      <td>...</td>\n      <td>7.8</td>\n      <td>10.5</td>\n      <td>1.8</td>\n      <td>0.8</td>\n      <td>1.5</td>\n      <td>20.7</td>\n      <td>NaN</td>\n      <td>NaN</td>\n      <td>True</td>\n      <td>0.996833</td>\n    </tr>\n    <tr>\n      <th>384</th>\n      <td>168</td>\n      <td>John Mooney</td>\n      <td>ND</td>\n      <td>31</td>\n      <td>32.7</td>\n      <td>6.4</td>\n      <td>14.0</td>\n      <td>0.460</td>\n      <td>1.0</td>\n      <td>3.4</td>\n      <td>...</td>\n      <td>9.0</td>\n      <td>12.7</td>\n      <td>1.7</td>\n      <td>1.3</td>\n      <td>0.7</td>\n      <td>16.2</td>\n      <td>NaN</td>\n      <td>NaN</td>\n      <td>True</td>\n      <td>0.995945</td>\n    </tr>\n    <tr>\n      <th>1169</th>\n      <td>110</td>\n      <td>A.J. Brodeur</td>\n      <td>PENN</td>\n      <td>27</td>\n      <td>34.7</td>\n      <td>6.9</td>\n      <td>13.7</td>\n      <td>0.504</td>\n      <td>0.6</td>\n      <td>2.3</td>\n      <td>...</td>\n      <td>6.7</td>\n      <td>8.9</td>\n      <td>5.2</td>\n      <td>1.1</td>\n      <td>1.8</td>\n      <td>17.3</td>\n      <td>NaN</td>\n      <td>NaN</td>\n      <td>True</td>\n      <td>0.994650</td>\n    </tr>\n    <tr>\n      <th>1547</th>\n      <td>61</td>\n      <td>Ahsan Asadullah</td>\n      <td>LIP</td>\n      <td>31</td>\n      <td>29.9</td>\n      <td>8.1</td>\n      <td>15.6</td>\n      <td>0.520</td>\n      <td>0.1</td>\n      <td>0.5</td>\n      <td>...</td>\n      <td>7.4</td>\n      <td>10.1</td>\n      <td>3.9</td>\n      <td>1.2</td>\n      <td>1.2</td>\n      <td>18.6</td>\n      <td>NaN</td>\n      <td>NaN</td>\n      <td>True</td>\n      <td>0.994486</td>\n    </tr>\n    <tr>\n      <th>1368</th>\n      <td>28</td>\n      <td>Carlik Jones</td>\n      <td>RU</td>\n      <td>32</td>\n      <td>33.1</td>\n      <td>6.8</td>\n      <td>14.0</td>\n      <td>0.488</td>\n      <td>1.5</td>\n      <td>3.6</td>\n      <td>...</td>\n      <td>4.5</td>\n      <td>5.1</td>\n      <td>5.5</td>\n      <td>1.4</td>\n      <td>0.2</td>\n      <td>20.0</td>\n      <td>NaN</td>\n      <td>NaN</td>\n      <td>True</td>\n      <td>0.994315</td>\n    </tr>\n    <tr>\n      <th>1691</th>\n      <td>9</td>\n      <td>Ben Stanley</td>\n      <td>HU</td>\n      <td>34</td>\n      <td>35.1</td>\n      <td>8.7</td>\n      <td>15.1</td>\n      <td>0.574</td>\n      <td>0.4</td>\n      <td>1.3</td>\n      <td>...</td>\n      <td>4.9</td>\n      <td>7.2</td>\n      <td>0.7</td>\n      <td>0.4</td>\n      <td>1.5</td>\n      <td>22.0</td>\n      <td>NaN</td>\n      <td>NaN</td>\n      <td>True</td>\n      <td>0.994082</td>\n    </tr>\n    <tr>\n      <th>529</th>\n      <td>112</td>\n      <td>Mason Peatling</td>\n      <td>EWU</td>\n      <td>31</td>\n      <td>30.7</td>\n      <td>6.7</td>\n      <td>12.2</td>\n      <td>0.554</td>\n      <td>0.7</td>\n      <td>2.1</td>\n      <td>...</td>\n      <td>5.7</td>\n      <td>9.1</td>\n      <td>3.2</td>\n      <td>0.7</td>\n      <td>1.5</td>\n      <td>17.2</td>\n      <td>NaN</td>\n      <td>NaN</td>\n      <td>True</td>\n      <td>0.994068</td>\n    </tr>\n    <tr>\n      <th>558</th>\n      <td>149</td>\n      <td>Jonah Radebaugh</td>\n      <td>UNC</td>\n      <td>31</td>\n      <td>37.7</td>\n      <td>6.3</td>\n      <td>12.6</td>\n      <td>0.495</td>\n      <td>1.6</td>\n      <td>3.7</td>\n      <td>...</td>\n      <td>5.2</td>\n      <td>6.3</td>\n      <td>6.5</td>\n      <td>1.5</td>\n      <td>0.2</td>\n      <td>16.5</td>\n      <td>NaN</td>\n      <td>NaN</td>\n      <td>True</td>\n      <td>0.992900</td>\n    </tr>\n    <tr>\n      <th>1425</th>\n      <td>435</td>\n      <td>James Butler</td>\n      <td>DREX</td>\n      <td>33</td>\n      <td>32.5</td>\n      <td>5.4</td>\n      <td>10.1</td>\n      <td>0.530</td>\n      <td>0.1</td>\n      <td>0.2</td>\n      <td>...</td>\n      <td>8.0</td>\n      <td>11.7</td>\n      <td>2.2</td>\n      <td>0.6</td>\n      <td>1.0</td>\n      <td>13.2</td>\n      <td>NaN</td>\n      <td>NaN</td>\n      <td>True</td>\n      <td>0.992581</td>\n    </tr>\n    <tr>\n      <th>854</th>\n      <td>3</td>\n      <td>Jermaine Marrow</td>\n      <td>HU</td>\n      <td>28</td>\n      <td>37.8</td>\n      <td>7.9</td>\n      <td>19.4</td>\n      <td>0.407</td>\n      <td>2.1</td>\n      <td>7.2</td>\n      <td>...</td>\n      <td>2.5</td>\n      <td>3.2</td>\n      <td>6.5</td>\n      <td>1.2</td>\n      <td>0.1</td>\n      <td>24.8</td>\n      <td>NaN</td>\n      <td>NaN</td>\n      <td>True</td>\n      <td>0.992128</td>\n    </tr>\n    <tr>\n      <th>726</th>\n      <td>2</td>\n      <td>Jhivvan Jackson</td>\n      <td>UTSA</td>\n      <td>32</td>\n      <td>34.5</td>\n      <td>9.1</td>\n      <td>21.7</td>\n      <td>0.418</td>\n      <td>3.8</td>\n      <td>10.7</td>\n      <td>...</td>\n      <td>4.7</td>\n      <td>5.6</td>\n      <td>2.4</td>\n      <td>1.4</td>\n      <td>0.2</td>\n      <td>26.8</td>\n      <td>NaN</td>\n      <td>NaN</td>\n      <td>True</td>\n      <td>0.991918</td>\n    </tr>\n    <tr>\n      <th>37</th>\n      <td>14</td>\n      <td>Jalen Harris</td>\n      <td>UNR</td>\n      <td>30</td>\n      <td>33.0</td>\n      <td>7.4</td>\n      <td>16.7</td>\n      <td>0.446</td>\n      <td>2.2</td>\n      <td>6.2</td>\n      <td>...</td>\n      <td>5.7</td>\n      <td>6.4</td>\n      <td>3.9</td>\n      <td>1.1</td>\n      <td>0.1</td>\n      <td>21.6</td>\n      <td>59.0</td>\n      <td>Jalen Harris</td>\n      <td>True</td>\n      <td>0.991661</td>\n    </tr>\n    <tr>\n      <th>1778</th>\n      <td>36</td>\n      <td>Jayden Gardner</td>\n      <td>ECU</td>\n      <td>31</td>\n      <td>34.4</td>\n      <td>7.2</td>\n      <td>13.8</td>\n      <td>0.521</td>\n      <td>0.1</td>\n      <td>0.6</td>\n      <td>...</td>\n      <td>6.3</td>\n      <td>9.2</td>\n      <td>2.2</td>\n      <td>1.1</td>\n      <td>0.5</td>\n      <td>19.7</td>\n      <td>NaN</td>\n      <td>NaN</td>\n      <td>True</td>\n      <td>0.990883</td>\n    </tr>\n    <tr>\n      <th>599</th>\n      <td>98</td>\n      <td>Paul Atkinson</td>\n      <td>YALE</td>\n      <td>30</td>\n      <td>31.8</td>\n      <td>6.9</td>\n      <td>10.9</td>\n      <td>0.630</td>\n      <td>0.1</td>\n      <td>0.4</td>\n      <td>...</td>\n      <td>5.1</td>\n      <td>7.3</td>\n      <td>1.5</td>\n      <td>1.2</td>\n      <td>0.8</td>\n      <td>17.6</td>\n      <td>NaN</td>\n      <td>NaN</td>\n      <td>True</td>\n      <td>0.990818</td>\n    </tr>\n    <tr>\n      <th>1281</th>\n      <td>25</td>\n      <td>Quintin Dove</td>\n      <td>UTM</td>\n      <td>29</td>\n      <td>33.8</td>\n      <td>7.3</td>\n      <td>13.0</td>\n      <td>0.565</td>\n      <td>0.7</td>\n      <td>2.1</td>\n      <td>...</td>\n      <td>4.1</td>\n      <td>7.9</td>\n      <td>1.0</td>\n      <td>0.4</td>\n      <td>0.3</td>\n      <td>20.2</td>\n      <td>NaN</td>\n      <td>NaN</td>\n      <td>True</td>\n      <td>0.990481</td>\n    </tr>\n    <tr>\n      <th>1969</th>\n      <td>157</td>\n      <td>Emmanuel Chukwubuikem Nzekwesi</td>\n      <td>ORU</td>\n      <td>25</td>\n      <td>29.4</td>\n      <td>6.5</td>\n      <td>11.7</td>\n      <td>0.555</td>\n      <td>0.2</td>\n      <td>0.6</td>\n      <td>...</td>\n      <td>6.8</td>\n      <td>9.9</td>\n      <td>0.8</td>\n      <td>1.1</td>\n      <td>0.7</td>\n      <td>16.3</td>\n      <td>NaN</td>\n      <td>NaN</td>\n      <td>True</td>\n      <td>0.990274</td>\n    </tr>\n    <tr>\n      <th>174</th>\n      <td>131</td>\n      <td>Jason Preston</td>\n      <td>OU</td>\n      <td>32</td>\n      <td>38.1</td>\n      <td>6.3</td>\n      <td>12.3</td>\n      <td>0.515</td>\n      <td>1.2</td>\n      <td>2.8</td>\n      <td>...</td>\n      <td>5.7</td>\n      <td>6.4</td>\n      <td>7.4</td>\n      <td>1.4</td>\n      <td>0.1</td>\n      <td>16.8</td>\n      <td>NaN</td>\n      <td>NaN</td>\n      <td>True</td>\n      <td>0.990141</td>\n    </tr>\n    <tr>\n      <th>1409</th>\n      <td>86</td>\n      <td>Vernon Carey, Jr.</td>\n      <td>DUKE</td>\n      <td>31</td>\n      <td>24.8</td>\n      <td>6.4</td>\n      <td>11.1</td>\n      <td>0.577</td>\n      <td>0.3</td>\n      <td>0.7</td>\n      <td>...</td>\n      <td>6.1</td>\n      <td>8.8</td>\n      <td>1.0</td>\n      <td>0.7</td>\n      <td>1.6</td>\n      <td>17.8</td>\n      <td>NaN</td>\n      <td>NaN</td>\n      <td>True</td>\n      <td>0.989378</td>\n    </tr>\n    <tr>\n      <th>16</th>\n      <td>375</td>\n      <td>Udoka Azubuike</td>\n      <td>KU</td>\n      <td>31</td>\n      <td>27.7</td>\n      <td>5.8</td>\n      <td>7.8</td>\n      <td>0.748</td>\n      <td>0.0</td>\n      <td>0.0</td>\n      <td>...</td>\n      <td>7.0</td>\n      <td>10.5</td>\n      <td>0.9</td>\n      <td>0.5</td>\n      <td>2.6</td>\n      <td>13.7</td>\n      <td>27.0</td>\n      <td>Udoka Azubuike</td>\n      <td>True</td>\n      <td>0.989087</td>\n    </tr>\n    <tr>\n      <th>1108</th>\n      <td>381</td>\n      <td>Xavier Tillman, Sr.</td>\n      <td>MSU</td>\n      <td>31</td>\n      <td>32.1</td>\n      <td>5.3</td>\n      <td>9.7</td>\n      <td>0.550</td>\n      <td>0.4</td>\n      <td>1.6</td>\n      <td>...</td>\n      <td>7.6</td>\n      <td>10.3</td>\n      <td>3.0</td>\n      <td>1.2</td>\n      <td>2.1</td>\n      <td>13.7</td>\n      <td>NaN</td>\n      <td>NaN</td>\n      <td>True</td>\n      <td>0.988656</td>\n    </tr>\n    <tr>\n      <th>15</th>\n      <td>23</td>\n      <td>Payton Pritchard</td>\n      <td>UO</td>\n      <td>31</td>\n      <td>36.5</td>\n      <td>7.0</td>\n      <td>14.9</td>\n      <td>0.468</td>\n      <td>2.8</td>\n      <td>6.8</td>\n      <td>...</td>\n      <td>3.6</td>\n      <td>4.3</td>\n      <td>5.5</td>\n      <td>1.5</td>\n      <td>0.0</td>\n      <td>20.5</td>\n      <td>26.0</td>\n      <td>Payton Pritchard</td>\n      <td>True</td>\n      <td>0.987450</td>\n    </tr>\n    <tr>\n      <th>1856</th>\n      <td>79</td>\n      <td>Tyler Hagedorn</td>\n      <td>USD</td>\n      <td>32</td>\n      <td>29.8</td>\n      <td>6.0</td>\n      <td>11.1</td>\n      <td>0.544</td>\n      <td>2.2</td>\n      <td>4.4</td>\n      <td>...</td>\n      <td>5.8</td>\n      <td>6.9</td>\n      <td>1.7</td>\n      <td>0.3</td>\n      <td>0.7</td>\n      <td>18.1</td>\n      <td>NaN</td>\n      <td>NaN</td>\n      <td>True</td>\n      <td>0.986567</td>\n    </tr>\n    <tr>\n      <th>1221</th>\n      <td>20</td>\n      <td>Terrell Brown, Jr.</td>\n      <td>SEA</td>\n      <td>29</td>\n      <td>36.0</td>\n      <td>7.8</td>\n      <td>18.8</td>\n      <td>0.414</td>\n      <td>0.6</td>\n      <td>1.9</td>\n      <td>...</td>\n      <td>4.8</td>\n      <td>6.2</td>\n      <td>4.9</td>\n      <td>1.6</td>\n      <td>0.4</td>\n      <td>20.7</td>\n      <td>NaN</td>\n      <td>NaN</td>\n      <td>True</td>\n      <td>0.986556</td>\n    </tr>\n    <tr>\n      <th>35</th>\n      <td>11</td>\n      <td>Grant Riller</td>\n      <td>C of C</td>\n      <td>31</td>\n      <td>33.5</td>\n      <td>7.3</td>\n      <td>14.7</td>\n      <td>0.499</td>\n      <td>1.5</td>\n      <td>4.2</td>\n      <td>...</td>\n      <td>4.6</td>\n      <td>5.1</td>\n      <td>3.9</td>\n      <td>1.6</td>\n      <td>0.3</td>\n      <td>21.9</td>\n      <td>56.0</td>\n      <td>Grant Riller</td>\n      <td>True</td>\n      <td>0.985872</td>\n    </tr>\n    <tr>\n      <th>5</th>\n      <td>221</td>\n      <td>Jalen Smith</td>\n      <td>UMD</td>\n      <td>31</td>\n      <td>31.2</td>\n      <td>5.4</td>\n      <td>10.1</td>\n      <td>0.538</td>\n      <td>1.0</td>\n      <td>2.8</td>\n      <td>...</td>\n      <td>7.3</td>\n      <td>10.5</td>\n      <td>0.8</td>\n      <td>0.7</td>\n      <td>2.4</td>\n      <td>15.5</td>\n      <td>10.0</td>\n      <td>Jalen Smith</td>\n      <td>True</td>\n      <td>0.985830</td>\n    </tr>\n    <tr>\n      <th>1594</th>\n      <td>195</td>\n      <td>E.J. Anosike</td>\n      <td>SHU</td>\n      <td>33</td>\n      <td>33.2</td>\n      <td>5.5</td>\n      <td>11.4</td>\n      <td>0.484</td>\n      <td>0.6</td>\n      <td>2.4</td>\n      <td>...</td>\n      <td>7.4</td>\n      <td>11.6</td>\n      <td>1.7</td>\n      <td>1.0</td>\n      <td>0.3</td>\n      <td>15.7</td>\n      <td>NaN</td>\n      <td>NaN</td>\n      <td>True</td>\n      <td>0.985782</td>\n    </tr>\n    <tr>\n      <th>3</th>\n      <td>164</td>\n      <td>Onyeka Okongwu</td>\n      <td>USC</td>\n      <td>28</td>\n      <td>30.6</td>\n      <td>6.2</td>\n      <td>10.1</td>\n      <td>0.616</td>\n      <td>0.0</td>\n      <td>0.1</td>\n      <td>...</td>\n      <td>5.4</td>\n      <td>8.6</td>\n      <td>1.1</td>\n      <td>1.2</td>\n      <td>2.7</td>\n      <td>16.2</td>\n      <td>6.0</td>\n      <td>Onyeka Okongwu</td>\n      <td>True</td>\n      <td>0.985715</td>\n    </tr>\n    <tr>\n      <th>632</th>\n      <td>1</td>\n      <td>Markus Howard</td>\n      <td>MU</td>\n      <td>29</td>\n      <td>33.2</td>\n      <td>8.2</td>\n      <td>19.3</td>\n      <td>0.422</td>\n      <td>4.2</td>\n      <td>10.1</td>\n      <td>...</td>\n      <td>2.9</td>\n      <td>3.5</td>\n      <td>3.3</td>\n      <td>0.9</td>\n      <td>0.0</td>\n      <td>27.8</td>\n      <td>NaN</td>\n      <td>NaN</td>\n      <td>True</td>\n      <td>0.985096</td>\n    </tr>\n    <tr>\n      <th>1124</th>\n      <td>215</td>\n      <td>Max Mahoney</td>\n      <td>BU</td>\n      <td>34</td>\n      <td>27.1</td>\n      <td>6.2</td>\n      <td>10.8</td>\n      <td>0.575</td>\n      <td>0.0</td>\n      <td>0.0</td>\n      <td>...</td>\n      <td>5.5</td>\n      <td>8.3</td>\n      <td>2.6</td>\n      <td>1.1</td>\n      <td>0.5</td>\n      <td>15.5</td>\n      <td>NaN</td>\n      <td>NaN</td>\n      <td>True</td>\n      <td>0.984733</td>\n    </tr>\n    <tr>\n      <th>1038</th>\n      <td>255</td>\n      <td>Ronald Jackson, Jr.</td>\n      <td>NC A&amp;T</td>\n      <td>32</td>\n      <td>31.9</td>\n      <td>5.1</td>\n      <td>9.5</td>\n      <td>0.538</td>\n      <td>0.7</td>\n      <td>2.2</td>\n      <td>...</td>\n      <td>7.1</td>\n      <td>10.4</td>\n      <td>0.9</td>\n      <td>1.2</td>\n      <td>0.5</td>\n      <td>15.0</td>\n      <td>NaN</td>\n      <td>NaN</td>\n      <td>True</td>\n      <td>0.984623</td>\n    </tr>\n    <tr>\n      <th>7</th>\n      <td>239</td>\n      <td>Tyrese Haliburton</td>\n      <td>ISU</td>\n      <td>22</td>\n      <td>36.7</td>\n      <td>5.6</td>\n      <td>11.1</td>\n      <td>0.504</td>\n      <td>2.4</td>\n      <td>5.6</td>\n      <td>...</td>\n      <td>4.4</td>\n      <td>5.9</td>\n      <td>6.5</td>\n      <td>2.5</td>\n      <td>0.7</td>\n      <td>15.2</td>\n      <td>12.0</td>\n      <td>Tyrese Haliburton</td>\n      <td>True</td>\n      <td>0.984517</td>\n    </tr>\n    <tr>\n      <th>1769</th>\n      <td>44</td>\n      <td>Jibri Blount</td>\n      <td>NCCU</td>\n      <td>31</td>\n      <td>36.8</td>\n      <td>7.0</td>\n      <td>13.4</td>\n      <td>0.525</td>\n      <td>0.8</td>\n      <td>2.4</td>\n      <td>...</td>\n      <td>6.8</td>\n      <td>9.4</td>\n      <td>1.7</td>\n      <td>2.2</td>\n      <td>0.6</td>\n      <td>19.2</td>\n      <td>NaN</td>\n      <td>NaN</td>\n      <td>True</td>\n      <td>0.984353</td>\n    </tr>\n    <tr>\n      <th>102</th>\n      <td>33</td>\n      <td>Sayeed Pridgett</td>\n      <td>UM</td>\n      <td>31</td>\n      <td>36.2</td>\n      <td>8.1</td>\n      <td>15.8</td>\n      <td>0.511</td>\n      <td>0.4</td>\n      <td>1.6</td>\n      <td>...</td>\n      <td>5.7</td>\n      <td>7.2</td>\n      <td>3.9</td>\n      <td>1.5</td>\n      <td>0.5</td>\n      <td>19.8</td>\n      <td>NaN</td>\n      <td>NaN</td>\n      <td>True</td>\n      <td>0.984352</td>\n    </tr>\n    <tr>\n      <th>93</th>\n      <td>122</td>\n      <td>Tyson Ward</td>\n      <td>NDSU</td>\n      <td>33</td>\n      <td>31.0</td>\n      <td>6.2</td>\n      <td>11.6</td>\n      <td>0.530</td>\n      <td>1.0</td>\n      <td>2.5</td>\n      <td>...</td>\n      <td>5.2</td>\n      <td>7.2</td>\n      <td>2.8</td>\n      <td>0.7</td>\n      <td>0.6</td>\n      <td>16.9</td>\n      <td>NaN</td>\n      <td>NaN</td>\n      <td>True</td>\n      <td>0.982967</td>\n    </tr>\n    <tr>\n      <th>36</th>\n      <td>107</td>\n      <td>Reggie Perry</td>\n      <td>MSU</td>\n      <td>31</td>\n      <td>31.1</td>\n      <td>5.9</td>\n      <td>11.8</td>\n      <td>0.500</td>\n      <td>0.7</td>\n      <td>2.3</td>\n      <td>...</td>\n      <td>6.9</td>\n      <td>10.1</td>\n      <td>2.3</td>\n      <td>0.8</td>\n      <td>1.2</td>\n      <td>17.4</td>\n      <td>57.0</td>\n      <td>Reggie Perry</td>\n      <td>True</td>\n      <td>0.982666</td>\n    </tr>\n    <tr>\n      <th>1551</th>\n      <td>21</td>\n      <td>Ryan Daly</td>\n      <td>SJU</td>\n      <td>30</td>\n      <td>34.6</td>\n      <td>7.2</td>\n      <td>17.0</td>\n      <td>0.425</td>\n      <td>1.9</td>\n      <td>6.0</td>\n      <td>...</td>\n      <td>5.4</td>\n      <td>6.9</td>\n      <td>4.3</td>\n      <td>1.2</td>\n      <td>0.4</td>\n      <td>20.6</td>\n      <td>NaN</td>\n      <td>NaN</td>\n      <td>True</td>\n      <td>0.982479</td>\n    </tr>\n    <tr>\n      <th>38</th>\n      <td>39</td>\n      <td>Sam Merrill</td>\n      <td>USU</td>\n      <td>32</td>\n      <td>35.0</td>\n      <td>6.1</td>\n      <td>13.2</td>\n      <td>0.461</td>\n      <td>2.8</td>\n      <td>6.8</td>\n      <td>...</td>\n      <td>3.9</td>\n      <td>4.1</td>\n      <td>3.9</td>\n      <td>0.9</td>\n      <td>0.1</td>\n      <td>19.7</td>\n      <td>60.0</td>\n      <td>Sam Merrill</td>\n      <td>True</td>\n      <td>0.981237</td>\n    </tr>\n    <tr>\n      <th>1330</th>\n      <td>250</td>\n      <td>Cameron Krutwig</td>\n      <td>L-IL</td>\n      <td>32</td>\n      <td>31.3</td>\n      <td>6.3</td>\n      <td>11.2</td>\n      <td>0.563</td>\n      <td>0.0</td>\n      <td>0.1</td>\n      <td>...</td>\n      <td>6.3</td>\n      <td>8.1</td>\n      <td>4.2</td>\n      <td>1.2</td>\n      <td>0.6</td>\n      <td>15.1</td>\n      <td>NaN</td>\n      <td>NaN</td>\n      <td>True</td>\n      <td>0.981212</td>\n    </tr>\n    <tr>\n      <th>1000</th>\n      <td>243</td>\n      <td>Paul Reed, Jr.</td>\n      <td>DEP</td>\n      <td>29</td>\n      <td>31.7</td>\n      <td>6.3</td>\n      <td>12.2</td>\n      <td>0.516</td>\n      <td>0.6</td>\n      <td>1.8</td>\n      <td>...</td>\n      <td>7.4</td>\n      <td>10.7</td>\n      <td>1.6</td>\n      <td>1.9</td>\n      <td>2.6</td>\n      <td>15.1</td>\n      <td>NaN</td>\n      <td>NaN</td>\n      <td>True</td>\n      <td>0.979523</td>\n    </tr>\n    <tr>\n      <th>1395</th>\n      <td>347</td>\n      <td>Tyrique Jones</td>\n      <td>XAV</td>\n      <td>32</td>\n      <td>28.2</td>\n      <td>5.4</td>\n      <td>9.7</td>\n      <td>0.557</td>\n      <td>0.0</td>\n      <td>0.0</td>\n      <td>...</td>\n      <td>6.7</td>\n      <td>11.0</td>\n      <td>1.5</td>\n      <td>1.0</td>\n      <td>1.1</td>\n      <td>14.0</td>\n      <td>NaN</td>\n      <td>NaN</td>\n      <td>True</td>\n      <td>0.979213</td>\n    </tr>\n    <tr>\n      <th>437</th>\n      <td>127</td>\n      <td>Garrison Brooks</td>\n      <td>UNC</td>\n      <td>32</td>\n      <td>34.8</td>\n      <td>6.5</td>\n      <td>12.1</td>\n      <td>0.535</td>\n      <td>0.1</td>\n      <td>0.2</td>\n      <td>...</td>\n      <td>5.3</td>\n      <td>8.5</td>\n      <td>2.0</td>\n      <td>0.5</td>\n      <td>0.5</td>\n      <td>16.8</td>\n      <td>NaN</td>\n      <td>NaN</td>\n      <td>True</td>\n      <td>0.978988</td>\n    </tr>\n    <tr>\n      <th>1354</th>\n      <td>12</td>\n      <td>Jordan Ford</td>\n      <td>SMC</td>\n      <td>34</td>\n      <td>38.0</td>\n      <td>7.9</td>\n      <td>16.1</td>\n      <td>0.492</td>\n      <td>2.5</td>\n      <td>6.1</td>\n      <td>...</td>\n      <td>2.5</td>\n      <td>3.0</td>\n      <td>2.3</td>\n      <td>1.4</td>\n      <td>0.0</td>\n      <td>21.9</td>\n      <td>NaN</td>\n      <td>NaN</td>\n      <td>True</td>\n      <td>0.977423</td>\n    </tr>\n    <tr>\n      <th>179</th>\n      <td>209</td>\n      <td>Carlos Dotson</td>\n      <td>WCU</td>\n      <td>30</td>\n      <td>27.2</td>\n      <td>6.0</td>\n      <td>9.8</td>\n      <td>0.610</td>\n      <td>0.0</td>\n      <td>0.0</td>\n      <td>...</td>\n      <td>6.9</td>\n      <td>9.7</td>\n      <td>1.9</td>\n      <td>0.6</td>\n      <td>0.2</td>\n      <td>15.5</td>\n      <td>NaN</td>\n      <td>NaN</td>\n      <td>True</td>\n      <td>0.976243</td>\n    </tr>\n    <tr>\n      <th>1914</th>\n      <td>6</td>\n      <td>Mike Smith</td>\n      <td>COM</td>\n      <td>30</td>\n      <td>37.8</td>\n      <td>8.3</td>\n      <td>19.3</td>\n      <td>0.431</td>\n      <td>2.1</td>\n      <td>6.1</td>\n      <td>...</td>\n      <td>3.7</td>\n      <td>4.1</td>\n      <td>4.5</td>\n      <td>1.5</td>\n      <td>0.0</td>\n      <td>22.8</td>\n      <td>NaN</td>\n      <td>NaN</td>\n      <td>True</td>\n      <td>0.976202</td>\n    </tr>\n    <tr>\n      <th>1228</th>\n      <td>57</td>\n      <td>Malik Ellison</td>\n      <td>UHA</td>\n      <td>23</td>\n      <td>34.8</td>\n      <td>7.4</td>\n      <td>14.5</td>\n      <td>0.514</td>\n      <td>0.1</td>\n      <td>0.6</td>\n      <td>...</td>\n      <td>7.1</td>\n      <td>9.7</td>\n      <td>1.7</td>\n      <td>0.8</td>\n      <td>1.1</td>\n      <td>18.7</td>\n      <td>NaN</td>\n      <td>NaN</td>\n      <td>True</td>\n      <td>0.975969</td>\n    </tr>\n    <tr>\n      <th>843</th>\n      <td>102</td>\n      <td>Filip Petrusev</td>\n      <td>GU</td>\n      <td>33</td>\n      <td>25.9</td>\n      <td>6.3</td>\n      <td>11.3</td>\n      <td>0.562</td>\n      <td>0.1</td>\n      <td>0.3</td>\n      <td>...</td>\n      <td>5.6</td>\n      <td>7.9</td>\n      <td>1.5</td>\n      <td>0.6</td>\n      <td>0.8</td>\n      <td>17.5</td>\n      <td>NaN</td>\n      <td>NaN</td>\n      <td>True</td>\n      <td>0.975843</td>\n    </tr>\n    <tr>\n      <th>1908</th>\n      <td>43</td>\n      <td>Christian Lutete</td>\n      <td>UML</td>\n      <td>32</td>\n      <td>33.7</td>\n      <td>6.9</td>\n      <td>13.3</td>\n      <td>0.516</td>\n      <td>2.0</td>\n      <td>5.4</td>\n      <td>...</td>\n      <td>5.0</td>\n      <td>7.0</td>\n      <td>1.6</td>\n      <td>0.8</td>\n      <td>0.1</td>\n      <td>19.3</td>\n      <td>NaN</td>\n      <td>NaN</td>\n      <td>True</td>\n      <td>0.975836</td>\n    </tr>\n    <tr>\n      <th>1200</th>\n      <td>121</td>\n      <td>Isaiah Stewart II</td>\n      <td>UW</td>\n      <td>32</td>\n      <td>32.3</td>\n      <td>6.0</td>\n      <td>10.5</td>\n      <td>0.570</td>\n      <td>0.2</td>\n      <td>0.6</td>\n      <td>...</td>\n      <td>6.0</td>\n      <td>8.8</td>\n      <td>0.8</td>\n      <td>0.5</td>\n      <td>2.1</td>\n      <td>17.0</td>\n      <td>NaN</td>\n      <td>NaN</td>\n      <td>True</td>\n      <td>0.975735</td>\n    </tr>\n    <tr>\n      <th>18</th>\n      <td>96</td>\n      <td>Malachi Flynn</td>\n      <td>SDSU</td>\n      <td>32</td>\n      <td>33.5</td>\n      <td>5.8</td>\n      <td>13.0</td>\n      <td>0.441</td>\n      <td>2.4</td>\n      <td>6.4</td>\n      <td>...</td>\n      <td>3.8</td>\n      <td>4.5</td>\n      <td>5.1</td>\n      <td>1.8</td>\n      <td>0.1</td>\n      <td>17.6</td>\n      <td>29.0</td>\n      <td>Malachi Flynn</td>\n      <td>True</td>\n      <td>0.974970</td>\n    </tr>\n    <tr>\n      <th>1074</th>\n      <td>100</td>\n      <td>Tommy Funk</td>\n      <td>USMA</td>\n      <td>30</td>\n      <td>37.1</td>\n      <td>6.4</td>\n      <td>14.3</td>\n      <td>0.448</td>\n      <td>2.0</td>\n      <td>5.7</td>\n      <td>...</td>\n      <td>4.1</td>\n      <td>4.4</td>\n      <td>7.1</td>\n      <td>0.9</td>\n      <td>0.1</td>\n      <td>17.5</td>\n      <td>NaN</td>\n      <td>NaN</td>\n      <td>True</td>\n      <td>0.974099</td>\n    </tr>\n    <tr>\n      <th>578</th>\n      <td>970</td>\n      <td>Grayson Murphy</td>\n      <td>BEL</td>\n      <td>33</td>\n      <td>29.9</td>\n      <td>4.0</td>\n      <td>7.7</td>\n      <td>0.522</td>\n      <td>0.7</td>\n      <td>2.1</td>\n      <td>...</td>\n      <td>6.0</td>\n      <td>7.4</td>\n      <td>6.2</td>\n      <td>2.6</td>\n      <td>0.2</td>\n      <td>9.8</td>\n      <td>NaN</td>\n      <td>NaN</td>\n      <td>True</td>\n      <td>0.974048</td>\n    </tr>\n    <tr>\n      <th>690</th>\n      <td>64</td>\n      <td>Doug Wilson</td>\n      <td>SDSU</td>\n      <td>29</td>\n      <td>29.7</td>\n      <td>7.7</td>\n      <td>12.2</td>\n      <td>0.628</td>\n      <td>0.0</td>\n      <td>0.2</td>\n      <td>...</td>\n      <td>3.5</td>\n      <td>6.4</td>\n      <td>1.8</td>\n      <td>0.8</td>\n      <td>0.8</td>\n      <td>18.6</td>\n      <td>NaN</td>\n      <td>NaN</td>\n      <td>True</td>\n      <td>0.973777</td>\n    </tr>\n    <tr>\n      <th>1244</th>\n      <td>99</td>\n      <td>Keith Braxton</td>\n      <td>SFU</td>\n      <td>32</td>\n      <td>36.1</td>\n      <td>6.1</td>\n      <td>13.2</td>\n      <td>0.464</td>\n      <td>1.2</td>\n      <td>3.7</td>\n      <td>...</td>\n      <td>6.3</td>\n      <td>7.5</td>\n      <td>3.8</td>\n      <td>1.3</td>\n      <td>0.2</td>\n      <td>17.6</td>\n      <td>NaN</td>\n      <td>NaN</td>\n      <td>True</td>\n      <td>0.973400</td>\n    </tr>\n    <tr>\n      <th>1017</th>\n      <td>626</td>\n      <td>Justin Bean</td>\n      <td>USU</td>\n      <td>34</td>\n      <td>29.7</td>\n      <td>4.6</td>\n      <td>8.8</td>\n      <td>0.518</td>\n      <td>0.2</td>\n      <td>0.9</td>\n      <td>...</td>\n      <td>6.9</td>\n      <td>10.5</td>\n      <td>2.1</td>\n      <td>1.5</td>\n      <td>0.7</td>\n      <td>11.9</td>\n      <td>NaN</td>\n      <td>NaN</td>\n      <td>True</td>\n      <td>0.973300</td>\n    </tr>\n    <tr>\n      <th>809</th>\n      <td>8</td>\n      <td>Mason Jones</td>\n      <td>U of A</td>\n      <td>31</td>\n      <td>33.8</td>\n      <td>6.2</td>\n      <td>13.6</td>\n      <td>0.453</td>\n      <td>2.2</td>\n      <td>6.3</td>\n      <td>...</td>\n      <td>4.7</td>\n      <td>5.5</td>\n      <td>3.4</td>\n      <td>1.6</td>\n      <td>0.2</td>\n      <td>22.0</td>\n      <td>NaN</td>\n      <td>NaN</td>\n      <td>True</td>\n      <td>0.971579</td>\n    </tr>\n  </tbody>\n</table>\n<p>60 rows × 27 columns</p>\n</div>"
     },
     "metadata": {},
     "execution_count": 39
    }
   ],
   "source": [
    "raw_2020_data.sort_values(by='draft_prob',ascending=False).head(60)"
   ]
  },
  {
   "cell_type": "code",
   "execution_count": null,
   "metadata": {},
   "outputs": [],
   "source": []
  }
 ]
}
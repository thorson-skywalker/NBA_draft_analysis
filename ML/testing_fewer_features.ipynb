{
 "metadata": {
  "language_info": {
   "codemirror_mode": {
    "name": "ipython",
    "version": 3
   },
   "file_extension": ".py",
   "mimetype": "text/x-python",
   "name": "python",
   "nbconvert_exporter": "python",
   "pygments_lexer": "ipython3",
   "version": "3.7.9"
  },
  "orig_nbformat": 2,
  "kernelspec": {
   "name": "python379jvsc74a57bd0fb187ceb99e597fc4fb087033f2a56d4997f1306a985d00c1ac5ca0a4e888195",
   "display_name": "Python 3.7.9 64-bit ('mlenv': conda)"
  }
 },
 "nbformat": 4,
 "nbformat_minor": 2,
 "cells": [
  {
   "cell_type": "code",
   "execution_count": 1,
   "metadata": {},
   "outputs": [],
   "source": [
    "import pandas as pd\n",
    "from pathlib import Path\n",
    "from sklearn.linear_model import LogisticRegression\n",
    "from sklearn.model_selection import train_test_split\n",
    "from sklearn.metrics import accuracy_score, confusion_matrix, classification_report\n",
    "from imblearn.combine import SMOTEENN\n",
    "from collections import Counter\n",
    "from sklearn.preprocessing import StandardScaler\n",
    "from sklearn.ensemble import RandomForestClassifier"
   ]
  },
  {
   "cell_type": "code",
   "execution_count": 2,
   "metadata": {},
   "outputs": [],
   "source": [
    "cleaned_data_url = '../Resources/2018MBB_StatsAndDraft_Cleaned.csv'\n",
    "\n",
    "raw_df = pd.read_csv(cleaned_data_url)\n",
    "\n",
    "numerical_cols = raw_df.dtypes[raw_df.dtypes != 'object'].index.tolist()\n",
    "\n",
    "numerical_df = raw_df[numerical_cols]\n",
    "numerical_df.index = raw_df['Player']\n",
    "\n",
    "# X = numerical_df.drop(columns=['Pk'])\n",
    "# y = numerical_df['Pk'].apply(lambda x: 1 if x <= 60 else 2)\n",
    "\n",
    "# smoteenn = SMOTEENN(random_state=1)\n",
    "# X_resampled, y_resampled = smoteenn.fit_resample(X,y)\n",
    "\n",
    "# X_train, X_test, y_train, y_test = train_test_split(X_resampled,y_resampled,random_state=1)"
   ]
  },
  {
   "cell_type": "code",
   "execution_count": 3,
   "metadata": {},
   "outputs": [],
   "source": [
    "rf = RandomForestClassifier(n_estimators=120,random_state=1)\n",
    "rf.fit(X_train,y_train)\n",
    "\n",
    "rf_pred = rf.predict(X_test)\n",
    "\n",
    "rf_acc_score = accuracy_score(y_test,rf_pred)\n",
    "rf_matrix = confusion_matrix(y_test,rf_pred)\n",
    "rf_results = pd.DataFrame({\"Prediction\": rf_pred, \"Actual\": y_test}).reset_index(drop=True)\n",
    "rf_report = classification_report(y_test,rf_pred,zero_division=True)"
   ]
  },
  {
   "cell_type": "code",
   "execution_count": 4,
   "metadata": {},
   "outputs": [],
   "source": [
    "importances = rf.feature_importances_\n",
    "features = X.columns\n",
    "feature_importances = sorted(zip(importances,features),reverse=True)"
   ]
  },
  {
   "cell_type": "code",
   "execution_count": 5,
   "metadata": {},
   "outputs": [
    {
     "output_type": "execute_result",
     "data": {
      "text/plain": [
       "[(0.13749463168119358, 'FGM'),\n",
       " (0.09928689413143799, 'PPG'),\n",
       " (0.08891432818296253, 'MPG'),\n",
       " (0.08070328207504095, 'DRB'),\n",
       " (0.07823615531428209, 'FGA'),\n",
       " (0.05658736532147858, 'GP'),\n",
       " (0.05012630644733565, 'FG%'),\n",
       " (0.04522882567846539, 'FTA'),\n",
       " (0.043954980807591214, 'BPG'),\n",
       " (0.043482714195805905, 'FTM'),\n",
       " (0.04118152452677147, 'PF'),\n",
       " (0.03824726589884613, 'APG'),\n",
       " (0.035845437519958195, 'RPG'),\n",
       " (0.030566178491589786, 'ORB'),\n",
       " (0.02578444987542877, '3PA'),\n",
       " (0.02431641902209148, '3PM'),\n",
       " (0.023827140474352363, 'FT%'),\n",
       " (0.022168483028746844, '3P%'),\n",
       " (0.018540181867432944, 'SPG'),\n",
       " (0.015507435459188274, 'TOV')]"
      ]
     },
     "metadata": {},
     "execution_count": 5
    }
   ],
   "source": [
    "feature_importances"
   ]
  },
  {
   "cell_type": "code",
   "execution_count": 3,
   "metadata": {},
   "outputs": [],
   "source": [
    "redundant_features = ['FGM','FGA','FTA','FTM','3PA','3PM','DRB','ORB']"
   ]
  },
  {
   "cell_type": "code",
   "execution_count": 7,
   "metadata": {},
   "outputs": [],
   "source": [
    "num_features_desired = 5\n",
    "important_features = []\n",
    "\n",
    "for i in range(0,num_features_desired):\n",
    "    important_features.append(feature_importances[i][1])"
   ]
  },
  {
   "cell_type": "code",
   "execution_count": 8,
   "metadata": {},
   "outputs": [
    {
     "output_type": "execute_result",
     "data": {
      "text/plain": [
       "['FGM', 'PPG', 'MPG', 'DRB', 'FGA']"
      ]
     },
     "metadata": {},
     "execution_count": 8
    }
   ],
   "source": [
    "important_features"
   ]
  },
  {
   "cell_type": "code",
   "execution_count": 4,
   "metadata": {},
   "outputs": [
    {
     "output_type": "execute_result",
     "data": {
      "text/plain": [
       "                   GP   MPG    FG%    3P%    FT%  TOV   PF   RPG  APG  SPG  \\\n",
       "Player                                                                       \n",
       "Deandre Ayton      35  33.5  0.612  0.343  0.733  2.0  2.3  11.6  1.6  0.6   \n",
       "Marvin Bagley III  33  33.9  0.614  0.397  0.627  2.3  1.8  11.1  1.5  0.8   \n",
       "Trae Young         32  35.4  0.422  0.360  0.861  5.2  1.8   3.9  8.7  1.7   \n",
       "Mo Bamba           30  30.2  0.541  0.275  0.681  1.5  2.5  10.5  0.5  0.8   \n",
       "Collin Sexton      33  29.9  0.447  0.336  0.778  2.8  2.5   3.8  3.6  0.8   \n",
       "\n",
       "                   BPG   PPG   Pk  \n",
       "Player                             \n",
       "Deandre Ayton      1.9  20.1  1.0  \n",
       "Marvin Bagley III  0.9  21.0  2.0  \n",
       "Trae Young         0.2  27.4  5.0  \n",
       "Mo Bamba           3.7  12.9  6.0  \n",
       "Collin Sexton      0.1  19.2  8.0  "
      ],
      "text/html": "<div>\n<style scoped>\n    .dataframe tbody tr th:only-of-type {\n        vertical-align: middle;\n    }\n\n    .dataframe tbody tr th {\n        vertical-align: top;\n    }\n\n    .dataframe thead th {\n        text-align: right;\n    }\n</style>\n<table border=\"1\" class=\"dataframe\">\n  <thead>\n    <tr style=\"text-align: right;\">\n      <th></th>\n      <th>GP</th>\n      <th>MPG</th>\n      <th>FG%</th>\n      <th>3P%</th>\n      <th>FT%</th>\n      <th>TOV</th>\n      <th>PF</th>\n      <th>RPG</th>\n      <th>APG</th>\n      <th>SPG</th>\n      <th>BPG</th>\n      <th>PPG</th>\n      <th>Pk</th>\n    </tr>\n    <tr>\n      <th>Player</th>\n      <th></th>\n      <th></th>\n      <th></th>\n      <th></th>\n      <th></th>\n      <th></th>\n      <th></th>\n      <th></th>\n      <th></th>\n      <th></th>\n      <th></th>\n      <th></th>\n      <th></th>\n    </tr>\n  </thead>\n  <tbody>\n    <tr>\n      <th>Deandre Ayton</th>\n      <td>35</td>\n      <td>33.5</td>\n      <td>0.612</td>\n      <td>0.343</td>\n      <td>0.733</td>\n      <td>2.0</td>\n      <td>2.3</td>\n      <td>11.6</td>\n      <td>1.6</td>\n      <td>0.6</td>\n      <td>1.9</td>\n      <td>20.1</td>\n      <td>1.0</td>\n    </tr>\n    <tr>\n      <th>Marvin Bagley III</th>\n      <td>33</td>\n      <td>33.9</td>\n      <td>0.614</td>\n      <td>0.397</td>\n      <td>0.627</td>\n      <td>2.3</td>\n      <td>1.8</td>\n      <td>11.1</td>\n      <td>1.5</td>\n      <td>0.8</td>\n      <td>0.9</td>\n      <td>21.0</td>\n      <td>2.0</td>\n    </tr>\n    <tr>\n      <th>Trae Young</th>\n      <td>32</td>\n      <td>35.4</td>\n      <td>0.422</td>\n      <td>0.360</td>\n      <td>0.861</td>\n      <td>5.2</td>\n      <td>1.8</td>\n      <td>3.9</td>\n      <td>8.7</td>\n      <td>1.7</td>\n      <td>0.2</td>\n      <td>27.4</td>\n      <td>5.0</td>\n    </tr>\n    <tr>\n      <th>Mo Bamba</th>\n      <td>30</td>\n      <td>30.2</td>\n      <td>0.541</td>\n      <td>0.275</td>\n      <td>0.681</td>\n      <td>1.5</td>\n      <td>2.5</td>\n      <td>10.5</td>\n      <td>0.5</td>\n      <td>0.8</td>\n      <td>3.7</td>\n      <td>12.9</td>\n      <td>6.0</td>\n    </tr>\n    <tr>\n      <th>Collin Sexton</th>\n      <td>33</td>\n      <td>29.9</td>\n      <td>0.447</td>\n      <td>0.336</td>\n      <td>0.778</td>\n      <td>2.8</td>\n      <td>2.5</td>\n      <td>3.8</td>\n      <td>3.6</td>\n      <td>0.8</td>\n      <td>0.1</td>\n      <td>19.2</td>\n      <td>8.0</td>\n    </tr>\n  </tbody>\n</table>\n</div>"
     },
     "metadata": {},
     "execution_count": 4
    }
   ],
   "source": [
    "non_redundant_df = numerical_df.drop(columns=redundant_features)\n",
    "non_redundant_df.head()"
   ]
  },
  {
   "cell_type": "code",
   "execution_count": 6,
   "metadata": {},
   "outputs": [],
   "source": [
    "X_non_redundant = non_redundant_df.drop(columns=['Pk'])\n",
    "y_non_redundant = non_redundant_df['Pk'].apply(lambda x: 1 if x <= 60 else 2)\n",
    "\n",
    "smoteenn = SMOTEENN(random_state=1)\n",
    "X_non_r_resampled, y_non_r_resampled = smoteenn.fit_resample(X_non_redundant,y_non_redundant)\n",
    "\n",
    "X_non_r_train, X_non_r_test, y_non_r_train, y_non_r_test = train_test_split(X_non_r_resampled, y_non_r_resampled,random_state=1)"
   ]
  },
  {
   "cell_type": "code",
   "execution_count": 9,
   "metadata": {},
   "outputs": [],
   "source": [
    "rf_non_r = RandomForestClassifier(n_estimators=120,random_state=1)\n",
    "rf_non_r.fit(X_non_r_train,y_non_r_train)\n",
    "\n",
    "rf_non_r_pred = rf_non_r.predict(X_non_r_test)\n",
    "\n",
    "rf_non_r_acc_score = accuracy_score(y_non_r_test,rf_non_r_pred)\n",
    "rf_non_r_matrix = confusion_matrix(y_non_r_test,rf_non_r_pred)\n",
    "rf_non_r_results = pd.DataFrame({\"Prediction\": rf_non_r_pred, \"Actual\": y_non_r_test}).reset_index(drop=True)\n",
    "rf_non_r_report = classification_report(y_non_r_test,rf_non_r_pred,zero_division=True)"
   ]
  },
  {
   "cell_type": "code",
   "execution_count": 10,
   "metadata": {},
   "outputs": [
    {
     "output_type": "stream",
     "name": "stdout",
     "text": [
      "0.9898876404494382\n[[481   3]\n [  6 400]]\n              precision    recall  f1-score   support\n\n           1       0.99      0.99      0.99       484\n           2       0.99      0.99      0.99       406\n\n    accuracy                           0.99       890\n   macro avg       0.99      0.99      0.99       890\nweighted avg       0.99      0.99      0.99       890\n\n"
     ]
    }
   ],
   "source": [
    "print(rf_non_r_acc_score)\n",
    "print(rf_non_r_matrix)\n",
    "print(rf_non_r_report)"
   ]
  },
  {
   "cell_type": "code",
   "execution_count": 11,
   "metadata": {},
   "outputs": [],
   "source": [
    "non_r_importances = rf_non_r.feature_importances_\n",
    "non_r_features = X_non_redundant.columns\n",
    "non_r_feature_importances = sorted(zip(non_r_importances,non_r_features),reverse=True)"
   ]
  },
  {
   "cell_type": "code",
   "execution_count": 12,
   "metadata": {},
   "outputs": [
    {
     "output_type": "execute_result",
     "data": {
      "text/plain": [
       "[(0.21739713761595422, 'PPG'),\n",
       " (0.14749448400825696, 'MPG'),\n",
       " (0.12049196632339824, 'RPG'),\n",
       " (0.09091624976742692, 'BPG'),\n",
       " (0.07369602602477157, 'APG'),\n",
       " (0.07027117369869237, 'GP'),\n",
       " (0.060494505785005495, 'FG%'),\n",
       " (0.053289504576064475, 'PF'),\n",
       " (0.049606607836634994, 'FT%'),\n",
       " (0.04895767358842511, '3P%'),\n",
       " (0.03776388217214145, 'TOV'),\n",
       " (0.029620788603228237, 'SPG')]"
      ]
     },
     "metadata": {},
     "execution_count": 12
    }
   ],
   "source": [
    "non_r_feature_importances"
   ]
  },
  {
   "cell_type": "code",
   "execution_count": 18,
   "metadata": {},
   "outputs": [],
   "source": [
    "num_features_desired = 6\n",
    "important_features = []\n",
    "\n",
    "for i in range(0,num_features_desired):\n",
    "    important_features.append(non_r_feature_importances[i][1])\n",
    "    \n",
    "important_features.append('Pk')"
   ]
  },
  {
   "cell_type": "code",
   "execution_count": 19,
   "metadata": {},
   "outputs": [
    {
     "output_type": "execute_result",
     "data": {
      "text/plain": [
       "                    PPG   MPG   RPG  BPG  APG  GP   Pk\n",
       "Player                                                \n",
       "Deandre Ayton      20.1  33.5  11.6  1.9  1.6  35  1.0\n",
       "Marvin Bagley III  21.0  33.9  11.1  0.9  1.5  33  2.0\n",
       "Trae Young         27.4  35.4   3.9  0.2  8.7  32  5.0\n",
       "Mo Bamba           12.9  30.2  10.5  3.7  0.5  30  6.0\n",
       "Collin Sexton      19.2  29.9   3.8  0.1  3.6  33  8.0"
      ],
      "text/html": "<div>\n<style scoped>\n    .dataframe tbody tr th:only-of-type {\n        vertical-align: middle;\n    }\n\n    .dataframe tbody tr th {\n        vertical-align: top;\n    }\n\n    .dataframe thead th {\n        text-align: right;\n    }\n</style>\n<table border=\"1\" class=\"dataframe\">\n  <thead>\n    <tr style=\"text-align: right;\">\n      <th></th>\n      <th>PPG</th>\n      <th>MPG</th>\n      <th>RPG</th>\n      <th>BPG</th>\n      <th>APG</th>\n      <th>GP</th>\n      <th>Pk</th>\n    </tr>\n    <tr>\n      <th>Player</th>\n      <th></th>\n      <th></th>\n      <th></th>\n      <th></th>\n      <th></th>\n      <th></th>\n      <th></th>\n    </tr>\n  </thead>\n  <tbody>\n    <tr>\n      <th>Deandre Ayton</th>\n      <td>20.1</td>\n      <td>33.5</td>\n      <td>11.6</td>\n      <td>1.9</td>\n      <td>1.6</td>\n      <td>35</td>\n      <td>1.0</td>\n    </tr>\n    <tr>\n      <th>Marvin Bagley III</th>\n      <td>21.0</td>\n      <td>33.9</td>\n      <td>11.1</td>\n      <td>0.9</td>\n      <td>1.5</td>\n      <td>33</td>\n      <td>2.0</td>\n    </tr>\n    <tr>\n      <th>Trae Young</th>\n      <td>27.4</td>\n      <td>35.4</td>\n      <td>3.9</td>\n      <td>0.2</td>\n      <td>8.7</td>\n      <td>32</td>\n      <td>5.0</td>\n    </tr>\n    <tr>\n      <th>Mo Bamba</th>\n      <td>12.9</td>\n      <td>30.2</td>\n      <td>10.5</td>\n      <td>3.7</td>\n      <td>0.5</td>\n      <td>30</td>\n      <td>6.0</td>\n    </tr>\n    <tr>\n      <th>Collin Sexton</th>\n      <td>19.2</td>\n      <td>29.9</td>\n      <td>3.8</td>\n      <td>0.1</td>\n      <td>3.6</td>\n      <td>33</td>\n      <td>8.0</td>\n    </tr>\n  </tbody>\n</table>\n</div>"
     },
     "metadata": {},
     "execution_count": 19
    }
   ],
   "source": [
    "important_df = non_redundant_df[important_features]\n",
    "important_df.head()"
   ]
  },
  {
   "cell_type": "code",
   "execution_count": 20,
   "metadata": {},
   "outputs": [],
   "source": [
    "X_important = important_df.drop(columns=['Pk'])\n",
    "y_important = important_df['Pk'].apply(lambda x: 1 if x <= 60 else 2)\n",
    "\n",
    "smoteenn = SMOTEENN(random_state=1)\n",
    "X_important_resampled, y_important_resampled = smoteenn.fit_resample(X_important,y_important)\n",
    "\n",
    "X_important_train, X_important_test, y_important_train, y_important_test = train_test_split(X_important_resampled, y_important_resampled,random_state=1)"
   ]
  },
  {
   "cell_type": "code",
   "execution_count": 21,
   "metadata": {},
   "outputs": [],
   "source": [
    "rf_important = RandomForestClassifier(n_estimators=120,random_state=1)\n",
    "rf_important.fit(X_important_train,y_important_train)\n",
    "\n",
    "rf_important_pred = rf_important.predict(X_important_test)\n",
    "\n",
    "rf_important_acc_score = accuracy_score(y_important_test,rf_important_pred)\n",
    "rf_important_matrix = confusion_matrix(y_important_test,rf_important_pred)\n",
    "rf_important_results = pd.DataFrame({\"Prediction\": rf_important_pred, \"Actual\": y_important_test}).reset_index(drop=True)\n",
    "rf_important_report = classification_report(y_important_test,rf_important_pred,zero_division=True)"
   ]
  },
  {
   "cell_type": "code",
   "execution_count": 22,
   "metadata": {},
   "outputs": [
    {
     "output_type": "stream",
     "name": "stdout",
     "text": [
      "0.9887766554433222\n[[479   1]\n [  9 402]]\n              precision    recall  f1-score   support\n\n           1       0.98      1.00      0.99       480\n           2       1.00      0.98      0.99       411\n\n    accuracy                           0.99       891\n   macro avg       0.99      0.99      0.99       891\nweighted avg       0.99      0.99      0.99       891\n\n"
     ]
    }
   ],
   "source": [
    "print(rf_important_acc_score)\n",
    "print(rf_important_matrix)\n",
    "print(rf_important_report)"
   ]
  },
  {
   "cell_type": "code",
   "execution_count": 23,
   "metadata": {},
   "outputs": [],
   "source": [
    "important_importances = rf_important.feature_importances_\n",
    "important_features = X_important.columns\n",
    "important_feature_importances = sorted(zip(important_importances,important_features),reverse=True)"
   ]
  },
  {
   "cell_type": "code",
   "execution_count": 24,
   "metadata": {},
   "outputs": [
    {
     "output_type": "execute_result",
     "data": {
      "text/plain": [
       "[(0.2931423133640146, 'PPG'),\n",
       " (0.18694986821879278, 'MPG'),\n",
       " (0.15979886219634157, 'RPG'),\n",
       " (0.1402717236195784, 'BPG'),\n",
       " (0.11860179750170616, 'APG'),\n",
       " (0.10123543509956646, 'GP')]"
      ]
     },
     "metadata": {},
     "execution_count": 24
    }
   ],
   "source": [
    "important_feature_importances"
   ]
  },
  {
   "cell_type": "code",
   "execution_count": null,
   "metadata": {},
   "outputs": [],
   "source": []
  }
 ]
}
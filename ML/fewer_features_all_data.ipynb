{
 "metadata": {
  "language_info": {
   "codemirror_mode": {
    "name": "ipython",
    "version": 3
   },
   "file_extension": ".py",
   "mimetype": "text/x-python",
   "name": "python",
   "nbconvert_exporter": "python",
   "pygments_lexer": "ipython3",
   "version": "3.7.9"
  },
  "orig_nbformat": 2,
  "kernelspec": {
   "name": "python379jvsc74a57bd0fb187ceb99e597fc4fb087033f2a56d4997f1306a985d00c1ac5ca0a4e888195",
   "display_name": "Python 3.7.9 64-bit ('mlenv': conda)"
  }
 },
 "nbformat": 4,
 "nbformat_minor": 2,
 "cells": [
  {
   "cell_type": "code",
   "execution_count": 2,
   "metadata": {},
   "outputs": [],
   "source": [
    "import pandas as pd\n",
    "from pathlib import Path\n",
    "from sklearn.linear_model import LogisticRegression\n",
    "from sklearn.model_selection import train_test_split\n",
    "from sklearn.metrics import accuracy_score, confusion_matrix, classification_report\n",
    "from imblearn.combine import SMOTEENN\n",
    "from collections import Counter\n",
    "from sklearn.preprocessing import StandardScaler\n",
    "from sklearn.ensemble import RandomForestClassifier"
   ]
  },
  {
   "cell_type": "code",
   "execution_count": 5,
   "metadata": {},
   "outputs": [],
   "source": [
    "cleaned_data_url = '../sample_data/MBB_StatsAndDraft.csv'\n",
    "\n",
    "raw_df = pd.read_csv(cleaned_data_url)\n",
    "\n",
    "numerical_cols = raw_df.dtypes[raw_df.dtypes != 'object'].index.tolist()\n",
    "\n",
    "numerical_df = raw_df[numerical_cols]\n",
    "numerical_df.index = raw_df['Player']\n",
    "\n",
    "X = numerical_df.drop(columns=['Pk','#'])\n",
    "y = numerical_df['Pk'].apply(lambda x: 1 if x <= 60 else 2)\n",
    "\n",
    "smoteenn = SMOTEENN(random_state=1)\n",
    "X_resampled, y_resampled = smoteenn.fit_resample(X,y)\n",
    "\n",
    "X_train, X_test, y_train, y_test = train_test_split(X_resampled,y_resampled,random_state=1)"
   ]
  },
  {
   "cell_type": "code",
   "execution_count": 6,
   "metadata": {},
   "outputs": [
    {
     "output_type": "execute_result",
     "data": {
      "text/plain": [
       "       GP        MPG       FGM        FGA       FG%       3PM       3PA  \\\n",
       "35452  31  28.500000  3.400000   6.500000  0.512000  0.000000  0.000000   \n",
       "20690  31  37.235739  7.000000  15.301312  0.458636  2.264917  6.131146   \n",
       "38776  31  31.000000  3.300000   6.900000  0.481000  0.000000  0.400000   \n",
       "32204  30  28.500000  4.600000   9.400000  0.488000  0.000000  0.300000   \n",
       "14121  34  21.271227  3.066745   7.885848  0.384861  1.242924  3.785848   \n",
       "\n",
       "            3P%       FTM       FTA       FT%       TOV        PF       ORB  \\\n",
       "35452  0.000000  1.600000  2.300000  0.729000  1.500000  1.500000  2.400000   \n",
       "20690  0.373531  3.499344  4.500000  0.779531  2.700000  2.066885  0.766885   \n",
       "38776  0.000000  1.300000  2.400000  0.520000  1.600000  2.000000  2.500000   \n",
       "32204  0.100000  1.900000  2.900000  0.674000  2.400000  3.200000  2.100000   \n",
       "14121  0.336814  1.633255  2.204717  0.715885  1.476179  1.604717  0.619104   \n",
       "\n",
       "            DRB       RPG      APG       SPG       BPG        PPG  \n",
       "35452  4.300000  6.600000  2.20000  0.900000  2.100000   8.400000  \n",
       "20690  3.533115  4.233115  4.63049  1.366229  0.000000  19.831146  \n",
       "38776  2.700000  5.200000  2.40000  1.100000  0.600000   7.900000  \n",
       "32204  2.900000  5.000000  1.10000  0.600000  0.800000  11.100000  \n",
       "14121  2.471462  3.090566  1.50000  0.647641  0.628538   8.933490  "
      ],
      "text/html": "<div>\n<style scoped>\n    .dataframe tbody tr th:only-of-type {\n        vertical-align: middle;\n    }\n\n    .dataframe tbody tr th {\n        vertical-align: top;\n    }\n\n    .dataframe thead th {\n        text-align: right;\n    }\n</style>\n<table border=\"1\" class=\"dataframe\">\n  <thead>\n    <tr style=\"text-align: right;\">\n      <th></th>\n      <th>GP</th>\n      <th>MPG</th>\n      <th>FGM</th>\n      <th>FGA</th>\n      <th>FG%</th>\n      <th>3PM</th>\n      <th>3PA</th>\n      <th>3P%</th>\n      <th>FTM</th>\n      <th>FTA</th>\n      <th>FT%</th>\n      <th>TOV</th>\n      <th>PF</th>\n      <th>ORB</th>\n      <th>DRB</th>\n      <th>RPG</th>\n      <th>APG</th>\n      <th>SPG</th>\n      <th>BPG</th>\n      <th>PPG</th>\n    </tr>\n  </thead>\n  <tbody>\n    <tr>\n      <th>35452</th>\n      <td>31</td>\n      <td>28.500000</td>\n      <td>3.400000</td>\n      <td>6.500000</td>\n      <td>0.512000</td>\n      <td>0.000000</td>\n      <td>0.000000</td>\n      <td>0.000000</td>\n      <td>1.600000</td>\n      <td>2.300000</td>\n      <td>0.729000</td>\n      <td>1.500000</td>\n      <td>1.500000</td>\n      <td>2.400000</td>\n      <td>4.300000</td>\n      <td>6.600000</td>\n      <td>2.20000</td>\n      <td>0.900000</td>\n      <td>2.100000</td>\n      <td>8.400000</td>\n    </tr>\n    <tr>\n      <th>20690</th>\n      <td>31</td>\n      <td>37.235739</td>\n      <td>7.000000</td>\n      <td>15.301312</td>\n      <td>0.458636</td>\n      <td>2.264917</td>\n      <td>6.131146</td>\n      <td>0.373531</td>\n      <td>3.499344</td>\n      <td>4.500000</td>\n      <td>0.779531</td>\n      <td>2.700000</td>\n      <td>2.066885</td>\n      <td>0.766885</td>\n      <td>3.533115</td>\n      <td>4.233115</td>\n      <td>4.63049</td>\n      <td>1.366229</td>\n      <td>0.000000</td>\n      <td>19.831146</td>\n    </tr>\n    <tr>\n      <th>38776</th>\n      <td>31</td>\n      <td>31.000000</td>\n      <td>3.300000</td>\n      <td>6.900000</td>\n      <td>0.481000</td>\n      <td>0.000000</td>\n      <td>0.400000</td>\n      <td>0.000000</td>\n      <td>1.300000</td>\n      <td>2.400000</td>\n      <td>0.520000</td>\n      <td>1.600000</td>\n      <td>2.000000</td>\n      <td>2.500000</td>\n      <td>2.700000</td>\n      <td>5.200000</td>\n      <td>2.40000</td>\n      <td>1.100000</td>\n      <td>0.600000</td>\n      <td>7.900000</td>\n    </tr>\n    <tr>\n      <th>32204</th>\n      <td>30</td>\n      <td>28.500000</td>\n      <td>4.600000</td>\n      <td>9.400000</td>\n      <td>0.488000</td>\n      <td>0.000000</td>\n      <td>0.300000</td>\n      <td>0.100000</td>\n      <td>1.900000</td>\n      <td>2.900000</td>\n      <td>0.674000</td>\n      <td>2.400000</td>\n      <td>3.200000</td>\n      <td>2.100000</td>\n      <td>2.900000</td>\n      <td>5.000000</td>\n      <td>1.10000</td>\n      <td>0.600000</td>\n      <td>0.800000</td>\n      <td>11.100000</td>\n    </tr>\n    <tr>\n      <th>14121</th>\n      <td>34</td>\n      <td>21.271227</td>\n      <td>3.066745</td>\n      <td>7.885848</td>\n      <td>0.384861</td>\n      <td>1.242924</td>\n      <td>3.785848</td>\n      <td>0.336814</td>\n      <td>1.633255</td>\n      <td>2.204717</td>\n      <td>0.715885</td>\n      <td>1.476179</td>\n      <td>1.604717</td>\n      <td>0.619104</td>\n      <td>2.471462</td>\n      <td>3.090566</td>\n      <td>1.50000</td>\n      <td>0.647641</td>\n      <td>0.628538</td>\n      <td>8.933490</td>\n    </tr>\n  </tbody>\n</table>\n</div>"
     },
     "metadata": {},
     "execution_count": 6
    }
   ],
   "source": [
    "X_train.head()"
   ]
  },
  {
   "cell_type": "code",
   "execution_count": 7,
   "metadata": {},
   "outputs": [],
   "source": [
    "rf = RandomForestClassifier(n_estimators=120,random_state=1)\n",
    "rf.fit(X_train,y_train)\n",
    "\n",
    "rf_pred = rf.predict(X_test)\n",
    "\n",
    "rf_acc_score = accuracy_score(y_test,rf_pred)\n",
    "rf_matrix = confusion_matrix(y_test,rf_pred)\n",
    "rf_results = pd.DataFrame({\"Prediction\": rf_pred, \"Actual\": y_test}).reset_index(drop=True)\n",
    "rf_report = classification_report(y_test,rf_pred,zero_division=True)"
   ]
  },
  {
   "cell_type": "code",
   "execution_count": 10,
   "metadata": {},
   "outputs": [
    {
     "output_type": "stream",
     "name": "stdout",
     "text": [
      "0.9761639372374175\n[[6575   51]\n [ 227 4810]]\n              precision    recall  f1-score   support\n\n           1       0.97      0.99      0.98      6626\n           2       0.99      0.95      0.97      5037\n\n    accuracy                           0.98     11663\n   macro avg       0.98      0.97      0.98     11663\nweighted avg       0.98      0.98      0.98     11663\n\n"
     ]
    }
   ],
   "source": [
    "print(rf_acc_score)\n",
    "print(rf_matrix)\n",
    "print(rf_report)"
   ]
  },
  {
   "cell_type": "code",
   "execution_count": 8,
   "metadata": {},
   "outputs": [],
   "source": [
    "importances = rf.feature_importances_\n",
    "features = X.columns\n",
    "feature_importances = sorted(zip(importances,features),reverse=True)"
   ]
  },
  {
   "cell_type": "code",
   "execution_count": 9,
   "metadata": {},
   "outputs": [
    {
     "output_type": "execute_result",
     "data": {
      "text/plain": [
       "[(0.13694578402737617, 'GP'),\n",
       " (0.12728251059490786, 'BPG'),\n",
       " (0.08990333715318416, 'FGM'),\n",
       " (0.07797534603770345, 'PPG'),\n",
       " (0.05186175682781996, 'FG%'),\n",
       " (0.05070109593354251, 'FTM'),\n",
       " (0.04509907872224088, 'DRB'),\n",
       " (0.04410947545845876, 'PF'),\n",
       " (0.04190343998496972, 'FTA'),\n",
       " (0.0409661112455823, 'RPG'),\n",
       " (0.03702738939697323, 'FGA'),\n",
       " (0.03644396857532796, 'MPG'),\n",
       " (0.03205763966955923, 'APG'),\n",
       " (0.032001270207207395, 'SPG'),\n",
       " (0.03160952400892236, 'ORB'),\n",
       " (0.025581819108962085, '3PA'),\n",
       " (0.02549574850601654, 'FT%'),\n",
       " (0.024652858609055243, 'TOV'),\n",
       " (0.0244640151037693, '3P%'),\n",
       " (0.02391783082842114, '3PM')]"
      ]
     },
     "metadata": {},
     "execution_count": 9
    }
   ],
   "source": [
    "feature_importances"
   ]
  },
  {
   "cell_type": "code",
   "execution_count": 11,
   "metadata": {},
   "outputs": [],
   "source": [
    "redundant_features = ['FGM','FGA','FTA','FTM','3PA','3PM','DRB','ORB']"
   ]
  },
  {
   "cell_type": "code",
   "execution_count": 12,
   "metadata": {},
   "outputs": [
    {
     "output_type": "execute_result",
     "data": {
      "text/plain": [
       "                   #  GP   MPG    FG%    3P%    FT%  TOV   PF   RPG  APG  SPG  \\\n",
       "Player                                                                          \n",
       "Anthony Bennett  124  35  27.1  0.533  0.375  0.701  1.9  2.3   8.1  1.0  0.7   \n",
       "Andrew Wiggins   135  35  32.8  0.448  0.341  0.775  2.3  2.7   5.9  1.5  1.2   \n",
       "John Wall        122  37  34.8  0.461  0.325  0.754  4.0  1.9   4.3  6.4  1.8   \n",
       "Blake Griffin     12  35  33.3  0.655  0.333  0.588  3.3  2.6  14.4  2.3  1.1   \n",
       "Blake Griffin    240  33  28.4  0.573  0.000  0.595  2.3  2.5   9.2  1.8  1.0   \n",
       "\n",
       "                 BPG   PPG   Pk  \n",
       "Player                           \n",
       "Anthony Bennett  1.2  16.1  1.0  \n",
       "Andrew Wiggins   1.0  17.1  1.0  \n",
       "John Wall        0.5  16.6  1.0  \n",
       "Blake Griffin    1.2  22.7  1.0  \n",
       "Blake Griffin    0.8  14.8  1.0  "
      ],
      "text/html": "<div>\n<style scoped>\n    .dataframe tbody tr th:only-of-type {\n        vertical-align: middle;\n    }\n\n    .dataframe tbody tr th {\n        vertical-align: top;\n    }\n\n    .dataframe thead th {\n        text-align: right;\n    }\n</style>\n<table border=\"1\" class=\"dataframe\">\n  <thead>\n    <tr style=\"text-align: right;\">\n      <th></th>\n      <th>#</th>\n      <th>GP</th>\n      <th>MPG</th>\n      <th>FG%</th>\n      <th>3P%</th>\n      <th>FT%</th>\n      <th>TOV</th>\n      <th>PF</th>\n      <th>RPG</th>\n      <th>APG</th>\n      <th>SPG</th>\n      <th>BPG</th>\n      <th>PPG</th>\n      <th>Pk</th>\n    </tr>\n    <tr>\n      <th>Player</th>\n      <th></th>\n      <th></th>\n      <th></th>\n      <th></th>\n      <th></th>\n      <th></th>\n      <th></th>\n      <th></th>\n      <th></th>\n      <th></th>\n      <th></th>\n      <th></th>\n      <th></th>\n      <th></th>\n    </tr>\n  </thead>\n  <tbody>\n    <tr>\n      <th>Anthony Bennett</th>\n      <td>124</td>\n      <td>35</td>\n      <td>27.1</td>\n      <td>0.533</td>\n      <td>0.375</td>\n      <td>0.701</td>\n      <td>1.9</td>\n      <td>2.3</td>\n      <td>8.1</td>\n      <td>1.0</td>\n      <td>0.7</td>\n      <td>1.2</td>\n      <td>16.1</td>\n      <td>1.0</td>\n    </tr>\n    <tr>\n      <th>Andrew Wiggins</th>\n      <td>135</td>\n      <td>35</td>\n      <td>32.8</td>\n      <td>0.448</td>\n      <td>0.341</td>\n      <td>0.775</td>\n      <td>2.3</td>\n      <td>2.7</td>\n      <td>5.9</td>\n      <td>1.5</td>\n      <td>1.2</td>\n      <td>1.0</td>\n      <td>17.1</td>\n      <td>1.0</td>\n    </tr>\n    <tr>\n      <th>John Wall</th>\n      <td>122</td>\n      <td>37</td>\n      <td>34.8</td>\n      <td>0.461</td>\n      <td>0.325</td>\n      <td>0.754</td>\n      <td>4.0</td>\n      <td>1.9</td>\n      <td>4.3</td>\n      <td>6.4</td>\n      <td>1.8</td>\n      <td>0.5</td>\n      <td>16.6</td>\n      <td>1.0</td>\n    </tr>\n    <tr>\n      <th>Blake Griffin</th>\n      <td>12</td>\n      <td>35</td>\n      <td>33.3</td>\n      <td>0.655</td>\n      <td>0.333</td>\n      <td>0.588</td>\n      <td>3.3</td>\n      <td>2.6</td>\n      <td>14.4</td>\n      <td>2.3</td>\n      <td>1.1</td>\n      <td>1.2</td>\n      <td>22.7</td>\n      <td>1.0</td>\n    </tr>\n    <tr>\n      <th>Blake Griffin</th>\n      <td>240</td>\n      <td>33</td>\n      <td>28.4</td>\n      <td>0.573</td>\n      <td>0.000</td>\n      <td>0.595</td>\n      <td>2.3</td>\n      <td>2.5</td>\n      <td>9.2</td>\n      <td>1.8</td>\n      <td>1.0</td>\n      <td>0.8</td>\n      <td>14.8</td>\n      <td>1.0</td>\n    </tr>\n  </tbody>\n</table>\n</div>"
     },
     "metadata": {},
     "execution_count": 12
    }
   ],
   "source": [
    "non_redundant_df = numerical_df.drop(columns=redundant_features)\n",
    "non_redundant_df.head()"
   ]
  },
  {
   "cell_type": "code",
   "execution_count": 14,
   "metadata": {},
   "outputs": [],
   "source": [
    "X_non_redundant = non_redundant_df.drop(columns=['Pk','#'])\n",
    "y_non_redundant = non_redundant_df['Pk'].apply(lambda x: 1 if x <= 60 else 2)\n",
    "\n",
    "smoteenn = SMOTEENN(random_state=1)\n",
    "X_non_r_resampled, y_non_r_resampled = smoteenn.fit_resample(X_non_redundant,y_non_redundant)\n",
    "\n",
    "X_non_r_train, X_non_r_test, y_non_r_train, y_non_r_test = train_test_split(X_non_r_resampled, y_non_r_resampled,random_state=1)"
   ]
  },
  {
   "cell_type": "code",
   "execution_count": 15,
   "metadata": {},
   "outputs": [],
   "source": [
    "rf_non_r = RandomForestClassifier(n_estimators=120,random_state=1)\n",
    "rf_non_r.fit(X_non_r_train,y_non_r_train)\n",
    "\n",
    "rf_non_r_pred = rf_non_r.predict(X_non_r_test)\n",
    "\n",
    "rf_non_r_acc_score = accuracy_score(y_non_r_test,rf_non_r_pred)\n",
    "rf_non_r_matrix = confusion_matrix(y_non_r_test,rf_non_r_pred)\n",
    "rf_non_r_results = pd.DataFrame({\"Prediction\": rf_non_r_pred, \"Actual\": y_non_r_test}).reset_index(drop=True)\n",
    "rf_non_r_report = classification_report(y_non_r_test,rf_non_r_pred,zero_division=True)"
   ]
  },
  {
   "cell_type": "code",
   "execution_count": 16,
   "metadata": {},
   "outputs": [
    {
     "output_type": "stream",
     "name": "stdout",
     "text": [
      "0.9742694044474738\n[[6538   79]\n [ 223 4897]]\n              precision    recall  f1-score   support\n\n           1       0.97      0.99      0.98      6617\n           2       0.98      0.96      0.97      5120\n\n    accuracy                           0.97     11737\n   macro avg       0.98      0.97      0.97     11737\nweighted avg       0.97      0.97      0.97     11737\n\n"
     ]
    }
   ],
   "source": [
    "print(rf_non_r_acc_score)\n",
    "print(rf_non_r_matrix)\n",
    "print(rf_non_r_report)"
   ]
  },
  {
   "cell_type": "code",
   "execution_count": 17,
   "metadata": {},
   "outputs": [],
   "source": [
    "non_r_importances = rf_non_r.feature_importances_\n",
    "non_r_features = X_non_redundant.columns\n",
    "non_r_feature_importances = sorted(zip(non_r_importances,non_r_features),reverse=True)"
   ]
  },
  {
   "cell_type": "code",
   "execution_count": 18,
   "metadata": {},
   "outputs": [
    {
     "output_type": "execute_result",
     "data": {
      "text/plain": [
       "[(0.1643679351592678, 'BPG'),\n",
       " (0.15420740117322598, 'PPG'),\n",
       " (0.143551853866313, 'GP'),\n",
       " (0.08496468563285693, 'FG%'),\n",
       " (0.08280571838967381, 'RPG'),\n",
       " (0.06788294739699462, 'MPG'),\n",
       " (0.06450361352345983, 'SPG'),\n",
       " (0.060410857480198706, 'PF'),\n",
       " (0.04944445505162307, 'APG'),\n",
       " (0.04593996660978706, 'TOV'),\n",
       " (0.041298367818869974, '3P%'),\n",
       " (0.04062219789772928, 'FT%')]"
      ]
     },
     "metadata": {},
     "execution_count": 18
    }
   ],
   "source": [
    "non_r_feature_importances"
   ]
  },
  {
   "cell_type": "code",
   "execution_count": 19,
   "metadata": {},
   "outputs": [],
   "source": [
    "num_features_desired = 6\n",
    "important_features = []\n",
    "\n",
    "for i in range(0,num_features_desired):\n",
    "    important_features.append(non_r_feature_importances[i][1])\n",
    "    \n",
    "important_features.append('Pk')"
   ]
  },
  {
   "cell_type": "code",
   "execution_count": 20,
   "metadata": {},
   "outputs": [
    {
     "output_type": "execute_result",
     "data": {
      "text/plain": [
       "                 BPG   PPG  GP    FG%   RPG   MPG   Pk\n",
       "Player                                                \n",
       "Anthony Bennett  1.2  16.1  35  0.533   8.1  27.1  1.0\n",
       "Andrew Wiggins   1.0  17.1  35  0.448   5.9  32.8  1.0\n",
       "John Wall        0.5  16.6  37  0.461   4.3  34.8  1.0\n",
       "Blake Griffin    1.2  22.7  35  0.655  14.4  33.3  1.0\n",
       "Blake Griffin    0.8  14.8  33  0.573   9.2  28.4  1.0"
      ],
      "text/html": "<div>\n<style scoped>\n    .dataframe tbody tr th:only-of-type {\n        vertical-align: middle;\n    }\n\n    .dataframe tbody tr th {\n        vertical-align: top;\n    }\n\n    .dataframe thead th {\n        text-align: right;\n    }\n</style>\n<table border=\"1\" class=\"dataframe\">\n  <thead>\n    <tr style=\"text-align: right;\">\n      <th></th>\n      <th>BPG</th>\n      <th>PPG</th>\n      <th>GP</th>\n      <th>FG%</th>\n      <th>RPG</th>\n      <th>MPG</th>\n      <th>Pk</th>\n    </tr>\n    <tr>\n      <th>Player</th>\n      <th></th>\n      <th></th>\n      <th></th>\n      <th></th>\n      <th></th>\n      <th></th>\n      <th></th>\n    </tr>\n  </thead>\n  <tbody>\n    <tr>\n      <th>Anthony Bennett</th>\n      <td>1.2</td>\n      <td>16.1</td>\n      <td>35</td>\n      <td>0.533</td>\n      <td>8.1</td>\n      <td>27.1</td>\n      <td>1.0</td>\n    </tr>\n    <tr>\n      <th>Andrew Wiggins</th>\n      <td>1.0</td>\n      <td>17.1</td>\n      <td>35</td>\n      <td>0.448</td>\n      <td>5.9</td>\n      <td>32.8</td>\n      <td>1.0</td>\n    </tr>\n    <tr>\n      <th>John Wall</th>\n      <td>0.5</td>\n      <td>16.6</td>\n      <td>37</td>\n      <td>0.461</td>\n      <td>4.3</td>\n      <td>34.8</td>\n      <td>1.0</td>\n    </tr>\n    <tr>\n      <th>Blake Griffin</th>\n      <td>1.2</td>\n      <td>22.7</td>\n      <td>35</td>\n      <td>0.655</td>\n      <td>14.4</td>\n      <td>33.3</td>\n      <td>1.0</td>\n    </tr>\n    <tr>\n      <th>Blake Griffin</th>\n      <td>0.8</td>\n      <td>14.8</td>\n      <td>33</td>\n      <td>0.573</td>\n      <td>9.2</td>\n      <td>28.4</td>\n      <td>1.0</td>\n    </tr>\n  </tbody>\n</table>\n</div>"
     },
     "metadata": {},
     "execution_count": 20
    }
   ],
   "source": [
    "important_df = non_redundant_df[important_features]\n",
    "important_df.head()"
   ]
  },
  {
   "cell_type": "code",
   "execution_count": 21,
   "metadata": {},
   "outputs": [],
   "source": [
    "X_important = important_df.drop(columns=['Pk'])\n",
    "y_important = important_df['Pk'].apply(lambda x: 1 if x <= 60 else 2)\n",
    "\n",
    "smoteenn = SMOTEENN(random_state=1)\n",
    "X_important_resampled, y_important_resampled = smoteenn.fit_resample(X_important,y_important)\n",
    "\n",
    "X_important_train, X_important_test, y_important_train, y_important_test = train_test_split(X_important_resampled, y_important_resampled,random_state=1)"
   ]
  },
  {
   "cell_type": "code",
   "execution_count": 22,
   "metadata": {},
   "outputs": [],
   "source": [
    "rf_important = RandomForestClassifier(n_estimators=120,random_state=1)\n",
    "rf_important.fit(X_important_train,y_important_train)\n",
    "\n",
    "rf_important_pred = rf_important.predict(X_important_test)\n",
    "\n",
    "rf_important_acc_score = accuracy_score(y_important_test,rf_important_pred)\n",
    "rf_important_matrix = confusion_matrix(y_important_test,rf_important_pred)\n",
    "rf_important_results = pd.DataFrame({\"Prediction\": rf_important_pred, \"Actual\": y_important_test}).reset_index(drop=True)\n",
    "rf_important_report = classification_report(y_important_test,rf_important_pred,zero_division=True)"
   ]
  },
  {
   "cell_type": "code",
   "execution_count": 23,
   "metadata": {},
   "outputs": [
    {
     "output_type": "stream",
     "name": "stdout",
     "text": [
      "0.9716940548911641\n[[6266   92]\n [ 237 5028]]\n              precision    recall  f1-score   support\n\n           1       0.96      0.99      0.97      6358\n           2       0.98      0.95      0.97      5265\n\n    accuracy                           0.97     11623\n   macro avg       0.97      0.97      0.97     11623\nweighted avg       0.97      0.97      0.97     11623\n\n"
     ]
    }
   ],
   "source": [
    "print(rf_important_acc_score)\n",
    "print(rf_important_matrix)\n",
    "print(rf_important_report)"
   ]
  },
  {
   "cell_type": "code",
   "execution_count": 24,
   "metadata": {},
   "outputs": [],
   "source": [
    "important_importances = rf_important.feature_importances_\n",
    "important_features = X_important.columns\n",
    "important_feature_importances = sorted(zip(important_importances,important_features),reverse=True)"
   ]
  },
  {
   "cell_type": "code",
   "execution_count": 25,
   "metadata": {},
   "outputs": [
    {
     "output_type": "execute_result",
     "data": {
      "text/plain": [
       "[(0.23769831163545901, 'BPG'),\n",
       " (0.22624464574570374, 'PPG'),\n",
       " (0.18417074975713235, 'GP'),\n",
       " (0.12009105926048, 'RPG'),\n",
       " (0.11921314417138132, 'MPG'),\n",
       " (0.11258208942984364, 'FG%')]"
      ]
     },
     "metadata": {},
     "execution_count": 25
    }
   ],
   "source": [
    "important_feature_importances"
   ]
  },
  {
   "cell_type": "code",
   "execution_count": 27,
   "metadata": {},
   "outputs": [],
   "source": [
    "selected_features = ['PPG','MPG','RPG','APG','SPG','GP','TOV','Pk']\n",
    "selected_df = non_redundant_df[selected_features]\n",
    "\n",
    "X_selected = selected_df.drop(columns=['Pk'])\n",
    "y_selected = selected_df['Pk'].apply(lambda x: 1 if x <= 60 else 2)\n",
    "\n",
    "smoteenn = SMOTEENN(random_state=1)\n",
    "X_selected_resampled, y_selected_resampled = smoteenn.fit_resample(X_selected,y_selected)\n",
    "\n",
    "X_selected_train, X_selected_test, y_selected_train, y_selected_test = train_test_split(X_selected_resampled, y_selected_resampled,random_state=1)"
   ]
  },
  {
   "cell_type": "code",
   "execution_count": 28,
   "metadata": {},
   "outputs": [],
   "source": [
    "rf_selected = RandomForestClassifier(n_estimators=120,random_state=1)\n",
    "rf_selected.fit(X_selected_train,y_selected_train)\n",
    "\n",
    "rf_selected_pred = rf_selected.predict(X_selected_test)\n",
    "\n",
    "rf_selected_acc_score = accuracy_score(y_selected_test,rf_selected_pred)\n",
    "rf_selected_matrix = confusion_matrix(y_selected_test,rf_selected_pred)\n",
    "rf_selected_results = pd.DataFrame({\"Prediction\": rf_selected_pred, \"Actual\": y_selected_test}).reset_index(drop=True)\n",
    "rf_selected_report = classification_report(y_selected_test,rf_selected_pred,zero_division=True)"
   ]
  },
  {
   "cell_type": "code",
   "execution_count": 29,
   "metadata": {},
   "outputs": [
    {
     "output_type": "stream",
     "name": "stdout",
     "text": [
      "0.9709511568123393\n[[6403   92]\n [ 247 4928]]\n              precision    recall  f1-score   support\n\n           1       0.96      0.99      0.97      6495\n           2       0.98      0.95      0.97      5175\n\n    accuracy                           0.97     11670\n   macro avg       0.97      0.97      0.97     11670\nweighted avg       0.97      0.97      0.97     11670\n\n"
     ]
    }
   ],
   "source": [
    "print(rf_selected_acc_score)\n",
    "print(rf_selected_matrix)\n",
    "print(rf_selected_report)"
   ]
  },
  {
   "cell_type": "code",
   "execution_count": 30,
   "metadata": {},
   "outputs": [],
   "source": [
    "selected_importances = rf_selected.feature_importances_\n",
    "selected_features = X_selected.columns\n",
    "selected_feature_importances = sorted(zip(selected_importances,selected_features),reverse=True)"
   ]
  },
  {
   "cell_type": "code",
   "execution_count": 31,
   "metadata": {},
   "outputs": [
    {
     "output_type": "execute_result",
     "data": {
      "text/plain": [
       "[(0.21204171234219257, 'PPG'),\n",
       " (0.2038338120947399, 'GP'),\n",
       " (0.17300283843533654, 'RPG'),\n",
       " (0.11863168662266475, 'MPG'),\n",
       " (0.10985075702599387, 'SPG'),\n",
       " (0.1002331066601409, 'TOV'),\n",
       " (0.08240608681893141, 'APG')]"
      ]
     },
     "metadata": {},
     "execution_count": 31
    }
   ],
   "source": [
    "selected_feature_importances"
   ]
  },
  {
   "cell_type": "code",
   "execution_count": 32,
   "metadata": {},
   "outputs": [
    {
     "output_type": "execute_result",
     "data": {
      "text/plain": [
       "1.0"
      ]
     },
     "metadata": {},
     "execution_count": 32
    }
   ],
   "source": [
    "total = 0\n",
    "for feature in selected_feature_importances:\n",
    "    total += feature[0]\n",
    "\n",
    "total"
   ]
  },
  {
   "cell_type": "code",
   "execution_count": null,
   "metadata": {},
   "outputs": [],
   "source": []
  }
 ]
}
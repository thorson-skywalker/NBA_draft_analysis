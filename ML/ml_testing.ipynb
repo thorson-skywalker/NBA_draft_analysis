{
 "metadata": {
  "language_info": {
   "codemirror_mode": {
    "name": "ipython",
    "version": 3
   },
   "file_extension": ".py",
   "mimetype": "text/x-python",
   "name": "python",
   "nbconvert_exporter": "python",
   "pygments_lexer": "ipython3",
   "version": "3.9.1"
  },
  "orig_nbformat": 2,
  "kernelspec": {
   "name": "python391jvsc74a57bd02982cd6141d9c23042547963557bbcc448bfc22ff5c483fa6faf7abc447ba945",
   "display_name": "Python 3.9.1 64-bit"
  }
 },
 "nbformat": 4,
 "nbformat_minor": 2,
 "cells": [
  {
   "source": [
    "# Build Sample Logistic Model to Get Baseline Check of Raw Data"
   ],
   "cell_type": "markdown",
   "metadata": {}
  },
  {
   "source": [
    "## This script will import CSV files directly\n",
    "sql_connection.ipynb will test the connection to the postgres database before both are combined into a .py file"
   ],
   "cell_type": "markdown",
   "metadata": {}
  },
  {
   "cell_type": "code",
   "execution_count": 11,
   "metadata": {},
   "outputs": [],
   "source": [
    "import pandas as pd\n",
    "from pathlib import Path\n",
    "from sklearn.linear_model import LogisticRegression\n",
    "from sklearn.model_selection import train_test_split\n",
    "from sklearn.metrics import accuracy_score, confusion_matrix, classification_report"
   ]
  },
  {
   "cell_type": "code",
   "execution_count": 2,
   "metadata": {},
   "outputs": [],
   "source": [
    "cleaned_data_url = '../Resources/2018MBB_StatsAndDraft_Cleaned.csv'\n",
    "\n",
    "raw_df = pd.read_csv(cleaned_data_url)"
   ]
  },
  {
   "cell_type": "code",
   "execution_count": 3,
   "metadata": {},
   "outputs": [
    {
     "output_type": "execute_result",
     "data": {
      "text/plain": [
       "              Player    Team  GP   MPG  FGM   FGA    FG%  3PM   3PA    3P%  \\\n",
       "0      Deandre Ayton  U of A  35  33.5  7.9  12.9  0.612  0.3   1.0  0.343   \n",
       "1  Marvin Bagley III    DUKE  33  33.9  8.2  13.3  0.614  0.7   1.8  0.397   \n",
       "2         Trae Young      OU  32  35.4  8.2  19.3  0.422  3.7  10.2  0.360   \n",
       "3           Mo Bamba      UT  30  30.2  4.9   9.0  0.541  0.5   1.7  0.275   \n",
       "4      Collin Sexton      UA  33  29.9  5.9  13.3  0.447  1.3   4.0  0.336   \n",
       "\n",
       "   ...   PF  ORB  DRB   RPG  APG  SPG  BPG   PPG   Pk            Player1  \n",
       "0  ...  2.3  3.4  8.2  11.6  1.6  0.6  1.9  20.1  1.0      Deandre Ayton  \n",
       "1  ...  1.8  4.0  7.1  11.1  1.5  0.8  0.9  21.0  2.0  Marvin Bagley III  \n",
       "2  ...  1.8  0.4  3.5   3.9  8.7  1.7  0.2  27.4  5.0         Trae Young  \n",
       "3  ...  2.5  3.2  7.3  10.5  0.5  0.8  3.7  12.9  6.0           Mo Bamba  \n",
       "4  ...  2.5  1.0  2.7   3.8  3.6  0.8  0.1  19.2  8.0      Collin Sexton  \n",
       "\n",
       "[5 rows x 24 columns]"
      ],
      "text/html": "<div>\n<style scoped>\n    .dataframe tbody tr th:only-of-type {\n        vertical-align: middle;\n    }\n\n    .dataframe tbody tr th {\n        vertical-align: top;\n    }\n\n    .dataframe thead th {\n        text-align: right;\n    }\n</style>\n<table border=\"1\" class=\"dataframe\">\n  <thead>\n    <tr style=\"text-align: right;\">\n      <th></th>\n      <th>Player</th>\n      <th>Team</th>\n      <th>GP</th>\n      <th>MPG</th>\n      <th>FGM</th>\n      <th>FGA</th>\n      <th>FG%</th>\n      <th>3PM</th>\n      <th>3PA</th>\n      <th>3P%</th>\n      <th>...</th>\n      <th>PF</th>\n      <th>ORB</th>\n      <th>DRB</th>\n      <th>RPG</th>\n      <th>APG</th>\n      <th>SPG</th>\n      <th>BPG</th>\n      <th>PPG</th>\n      <th>Pk</th>\n      <th>Player1</th>\n    </tr>\n  </thead>\n  <tbody>\n    <tr>\n      <th>0</th>\n      <td>Deandre Ayton</td>\n      <td>U of A</td>\n      <td>35</td>\n      <td>33.5</td>\n      <td>7.9</td>\n      <td>12.9</td>\n      <td>0.612</td>\n      <td>0.3</td>\n      <td>1.0</td>\n      <td>0.343</td>\n      <td>...</td>\n      <td>2.3</td>\n      <td>3.4</td>\n      <td>8.2</td>\n      <td>11.6</td>\n      <td>1.6</td>\n      <td>0.6</td>\n      <td>1.9</td>\n      <td>20.1</td>\n      <td>1.0</td>\n      <td>Deandre Ayton</td>\n    </tr>\n    <tr>\n      <th>1</th>\n      <td>Marvin Bagley III</td>\n      <td>DUKE</td>\n      <td>33</td>\n      <td>33.9</td>\n      <td>8.2</td>\n      <td>13.3</td>\n      <td>0.614</td>\n      <td>0.7</td>\n      <td>1.8</td>\n      <td>0.397</td>\n      <td>...</td>\n      <td>1.8</td>\n      <td>4.0</td>\n      <td>7.1</td>\n      <td>11.1</td>\n      <td>1.5</td>\n      <td>0.8</td>\n      <td>0.9</td>\n      <td>21.0</td>\n      <td>2.0</td>\n      <td>Marvin Bagley III</td>\n    </tr>\n    <tr>\n      <th>2</th>\n      <td>Trae Young</td>\n      <td>OU</td>\n      <td>32</td>\n      <td>35.4</td>\n      <td>8.2</td>\n      <td>19.3</td>\n      <td>0.422</td>\n      <td>3.7</td>\n      <td>10.2</td>\n      <td>0.360</td>\n      <td>...</td>\n      <td>1.8</td>\n      <td>0.4</td>\n      <td>3.5</td>\n      <td>3.9</td>\n      <td>8.7</td>\n      <td>1.7</td>\n      <td>0.2</td>\n      <td>27.4</td>\n      <td>5.0</td>\n      <td>Trae Young</td>\n    </tr>\n    <tr>\n      <th>3</th>\n      <td>Mo Bamba</td>\n      <td>UT</td>\n      <td>30</td>\n      <td>30.2</td>\n      <td>4.9</td>\n      <td>9.0</td>\n      <td>0.541</td>\n      <td>0.5</td>\n      <td>1.7</td>\n      <td>0.275</td>\n      <td>...</td>\n      <td>2.5</td>\n      <td>3.2</td>\n      <td>7.3</td>\n      <td>10.5</td>\n      <td>0.5</td>\n      <td>0.8</td>\n      <td>3.7</td>\n      <td>12.9</td>\n      <td>6.0</td>\n      <td>Mo Bamba</td>\n    </tr>\n    <tr>\n      <th>4</th>\n      <td>Collin Sexton</td>\n      <td>UA</td>\n      <td>33</td>\n      <td>29.9</td>\n      <td>5.9</td>\n      <td>13.3</td>\n      <td>0.447</td>\n      <td>1.3</td>\n      <td>4.0</td>\n      <td>0.336</td>\n      <td>...</td>\n      <td>2.5</td>\n      <td>1.0</td>\n      <td>2.7</td>\n      <td>3.8</td>\n      <td>3.6</td>\n      <td>0.8</td>\n      <td>0.1</td>\n      <td>19.2</td>\n      <td>8.0</td>\n      <td>Collin Sexton</td>\n    </tr>\n  </tbody>\n</table>\n<p>5 rows × 24 columns</p>\n</div>"
     },
     "metadata": {},
     "execution_count": 3
    }
   ],
   "source": [
    "raw_df.head()"
   ]
  },
  {
   "source": [
    "## Preprocessing\n",
    "Limited preprocessing done at this time\n",
    "* No scaling or encoding  \n",
    "* All numerical data used as-is  \n",
    "* All categorical & text data dropped"
   ],
   "cell_type": "markdown",
   "metadata": {}
  },
  {
   "cell_type": "code",
   "execution_count": 4,
   "metadata": {},
   "outputs": [],
   "source": [
    "numerical_cols = raw_df.dtypes[raw_df.dtypes != 'object'].index.tolist()"
   ]
  },
  {
   "cell_type": "code",
   "execution_count": 5,
   "metadata": {},
   "outputs": [
    {
     "output_type": "execute_result",
     "data": {
      "text/plain": [
       "                   GP   MPG  FGM   FGA    FG%  3PM   3PA    3P%  FTM  FTA  \\\n",
       "Player                                                                      \n",
       "Deandre Ayton      35  33.5  7.9  12.9  0.612  0.3   1.0  0.343  4.0  5.5   \n",
       "Marvin Bagley III  33  33.9  8.2  13.3  0.614  0.7   1.8  0.397  4.0  6.3   \n",
       "Trae Young         32  35.4  8.2  19.3  0.422  3.7  10.2  0.360  7.4  8.6   \n",
       "Mo Bamba           30  30.2  4.9   9.0  0.541  0.5   1.7  0.275  2.7  4.0   \n",
       "Collin Sexton      33  29.9  5.9  13.3  0.447  1.3   4.0  0.336  5.9  7.6   \n",
       "\n",
       "                   ...  TOV   PF  ORB  DRB   RPG  APG  SPG  BPG   PPG   Pk  \n",
       "Player             ...                                                      \n",
       "Deandre Ayton      ...  2.0  2.3  3.4  8.2  11.6  1.6  0.6  1.9  20.1  1.0  \n",
       "Marvin Bagley III  ...  2.3  1.8  4.0  7.1  11.1  1.5  0.8  0.9  21.0  2.0  \n",
       "Trae Young         ...  5.2  1.8  0.4  3.5   3.9  8.7  1.7  0.2  27.4  5.0  \n",
       "Mo Bamba           ...  1.5  2.5  3.2  7.3  10.5  0.5  0.8  3.7  12.9  6.0  \n",
       "Collin Sexton      ...  2.8  2.5  1.0  2.7   3.8  3.6  0.8  0.1  19.2  8.0  \n",
       "\n",
       "[5 rows x 21 columns]"
      ],
      "text/html": "<div>\n<style scoped>\n    .dataframe tbody tr th:only-of-type {\n        vertical-align: middle;\n    }\n\n    .dataframe tbody tr th {\n        vertical-align: top;\n    }\n\n    .dataframe thead th {\n        text-align: right;\n    }\n</style>\n<table border=\"1\" class=\"dataframe\">\n  <thead>\n    <tr style=\"text-align: right;\">\n      <th></th>\n      <th>GP</th>\n      <th>MPG</th>\n      <th>FGM</th>\n      <th>FGA</th>\n      <th>FG%</th>\n      <th>3PM</th>\n      <th>3PA</th>\n      <th>3P%</th>\n      <th>FTM</th>\n      <th>FTA</th>\n      <th>...</th>\n      <th>TOV</th>\n      <th>PF</th>\n      <th>ORB</th>\n      <th>DRB</th>\n      <th>RPG</th>\n      <th>APG</th>\n      <th>SPG</th>\n      <th>BPG</th>\n      <th>PPG</th>\n      <th>Pk</th>\n    </tr>\n    <tr>\n      <th>Player</th>\n      <th></th>\n      <th></th>\n      <th></th>\n      <th></th>\n      <th></th>\n      <th></th>\n      <th></th>\n      <th></th>\n      <th></th>\n      <th></th>\n      <th></th>\n      <th></th>\n      <th></th>\n      <th></th>\n      <th></th>\n      <th></th>\n      <th></th>\n      <th></th>\n      <th></th>\n      <th></th>\n      <th></th>\n    </tr>\n  </thead>\n  <tbody>\n    <tr>\n      <th>Deandre Ayton</th>\n      <td>35</td>\n      <td>33.5</td>\n      <td>7.9</td>\n      <td>12.9</td>\n      <td>0.612</td>\n      <td>0.3</td>\n      <td>1.0</td>\n      <td>0.343</td>\n      <td>4.0</td>\n      <td>5.5</td>\n      <td>...</td>\n      <td>2.0</td>\n      <td>2.3</td>\n      <td>3.4</td>\n      <td>8.2</td>\n      <td>11.6</td>\n      <td>1.6</td>\n      <td>0.6</td>\n      <td>1.9</td>\n      <td>20.1</td>\n      <td>1.0</td>\n    </tr>\n    <tr>\n      <th>Marvin Bagley III</th>\n      <td>33</td>\n      <td>33.9</td>\n      <td>8.2</td>\n      <td>13.3</td>\n      <td>0.614</td>\n      <td>0.7</td>\n      <td>1.8</td>\n      <td>0.397</td>\n      <td>4.0</td>\n      <td>6.3</td>\n      <td>...</td>\n      <td>2.3</td>\n      <td>1.8</td>\n      <td>4.0</td>\n      <td>7.1</td>\n      <td>11.1</td>\n      <td>1.5</td>\n      <td>0.8</td>\n      <td>0.9</td>\n      <td>21.0</td>\n      <td>2.0</td>\n    </tr>\n    <tr>\n      <th>Trae Young</th>\n      <td>32</td>\n      <td>35.4</td>\n      <td>8.2</td>\n      <td>19.3</td>\n      <td>0.422</td>\n      <td>3.7</td>\n      <td>10.2</td>\n      <td>0.360</td>\n      <td>7.4</td>\n      <td>8.6</td>\n      <td>...</td>\n      <td>5.2</td>\n      <td>1.8</td>\n      <td>0.4</td>\n      <td>3.5</td>\n      <td>3.9</td>\n      <td>8.7</td>\n      <td>1.7</td>\n      <td>0.2</td>\n      <td>27.4</td>\n      <td>5.0</td>\n    </tr>\n    <tr>\n      <th>Mo Bamba</th>\n      <td>30</td>\n      <td>30.2</td>\n      <td>4.9</td>\n      <td>9.0</td>\n      <td>0.541</td>\n      <td>0.5</td>\n      <td>1.7</td>\n      <td>0.275</td>\n      <td>2.7</td>\n      <td>4.0</td>\n      <td>...</td>\n      <td>1.5</td>\n      <td>2.5</td>\n      <td>3.2</td>\n      <td>7.3</td>\n      <td>10.5</td>\n      <td>0.5</td>\n      <td>0.8</td>\n      <td>3.7</td>\n      <td>12.9</td>\n      <td>6.0</td>\n    </tr>\n    <tr>\n      <th>Collin Sexton</th>\n      <td>33</td>\n      <td>29.9</td>\n      <td>5.9</td>\n      <td>13.3</td>\n      <td>0.447</td>\n      <td>1.3</td>\n      <td>4.0</td>\n      <td>0.336</td>\n      <td>5.9</td>\n      <td>7.6</td>\n      <td>...</td>\n      <td>2.8</td>\n      <td>2.5</td>\n      <td>1.0</td>\n      <td>2.7</td>\n      <td>3.8</td>\n      <td>3.6</td>\n      <td>0.8</td>\n      <td>0.1</td>\n      <td>19.2</td>\n      <td>8.0</td>\n    </tr>\n  </tbody>\n</table>\n<p>5 rows × 21 columns</p>\n</div>"
     },
     "metadata": {},
     "execution_count": 5
    }
   ],
   "source": [
    "numerical_df = raw_df[numerical_cols]\n",
    "numerical_df.index = raw_df['Player']\n",
    "numerical_df.head()"
   ]
  },
  {
   "cell_type": "code",
   "execution_count": 28,
   "metadata": {},
   "outputs": [
    {
     "output_type": "execute_result",
     "data": {
      "text/plain": [
       "0    1963\n",
       "1      22\n",
       "2      15\n",
       "Name: Pk, dtype: int64"
      ]
     },
     "metadata": {},
     "execution_count": 28
    }
   ],
   "source": [
    "y.value_counts()"
   ]
  },
  {
   "cell_type": "code",
   "execution_count": 6,
   "metadata": {},
   "outputs": [],
   "source": [
    "X = numerical_df.drop(columns=['Pk'])\n",
    "y = numerical_df['Pk'].apply(lambda x: 1 if x <= 30 else 2 if x <= 60 else 0)"
   ]
  },
  {
   "cell_type": "code",
   "execution_count": 7,
   "metadata": {},
   "outputs": [],
   "source": [
    "X_train, X_test, y_train, y_test = train_test_split(X,y,random_state=1)"
   ]
  },
  {
   "source": [
    "## Set up sample Logistic Regression Model"
   ],
   "cell_type": "markdown",
   "metadata": {}
  },
  {
   "cell_type": "code",
   "execution_count": 8,
   "metadata": {},
   "outputs": [
    {
     "output_type": "execute_result",
     "data": {
      "text/plain": [
       "LogisticRegression(max_iter=1000, random_state=1)"
      ]
     },
     "metadata": {},
     "execution_count": 8
    }
   ],
   "source": [
    "classifier = LogisticRegression(solver='lbfgs',random_state=1, max_iter=1000)\n",
    "classifier.fit(X_train,y_train)"
   ]
  },
  {
   "cell_type": "code",
   "execution_count": 9,
   "metadata": {},
   "outputs": [],
   "source": [
    "predictions = classifier.predict(X_test)"
   ]
  },
  {
   "cell_type": "code",
   "execution_count": 10,
   "metadata": {},
   "outputs": [
    {
     "output_type": "execute_result",
     "data": {
      "text/plain": [
       "0.986"
      ]
     },
     "metadata": {},
     "execution_count": 10
    }
   ],
   "source": [
    "acc_score = accuracy_score(y_test,predictions)\n",
    "acc_score"
   ]
  },
  {
   "cell_type": "code",
   "execution_count": 14,
   "metadata": {},
   "outputs": [
    {
     "output_type": "stream",
     "name": "stdout",
     "text": [
      "[[493   1   0]\n [  5   0   0]\n [  1   0   0]]\n"
     ]
    }
   ],
   "source": [
    "matrix = confusion_matrix(y_test,predictions)\n",
    "print(matrix)"
   ]
  },
  {
   "cell_type": "code",
   "execution_count": 15,
   "metadata": {},
   "outputs": [],
   "source": [
    "results = pd.DataFrame({\"Prediction\": predictions, \"Actual\": y_test}).reset_index(drop=True)"
   ]
  },
  {
   "cell_type": "code",
   "execution_count": 22,
   "metadata": {},
   "outputs": [
    {
     "output_type": "execute_result",
     "data": {
      "text/plain": [
       "    Prediction  Actual\n",
       "93           1       0"
      ],
      "text/html": "<div>\n<style scoped>\n    .dataframe tbody tr th:only-of-type {\n        vertical-align: middle;\n    }\n\n    .dataframe tbody tr th {\n        vertical-align: top;\n    }\n\n    .dataframe thead th {\n        text-align: right;\n    }\n</style>\n<table border=\"1\" class=\"dataframe\">\n  <thead>\n    <tr style=\"text-align: right;\">\n      <th></th>\n      <th>Prediction</th>\n      <th>Actual</th>\n    </tr>\n  </thead>\n  <tbody>\n    <tr>\n      <th>93</th>\n      <td>1</td>\n      <td>0</td>\n    </tr>\n  </tbody>\n</table>\n</div>"
     },
     "metadata": {},
     "execution_count": 22
    }
   ],
   "source": [
    "results[results['Prediction'] != 0]"
   ]
  },
  {
   "cell_type": "code",
   "execution_count": 24,
   "metadata": {},
   "outputs": [],
   "source": [
    "report = classification_report(y_test,predictions,zero_division=True)"
   ]
  },
  {
   "cell_type": "code",
   "execution_count": 25,
   "metadata": {},
   "outputs": [
    {
     "output_type": "stream",
     "name": "stdout",
     "text": [
      "              precision    recall  f1-score   support\n\n           0       0.99      1.00      0.99       494\n           1       0.00      0.00      0.00         5\n           2       1.00      0.00      0.00         1\n\n    accuracy                           0.99       500\n   macro avg       0.66      0.33      0.33       500\nweighted avg       0.98      0.99      0.98       500\n\n"
     ]
    }
   ],
   "source": [
    "print(report)"
   ]
  },
  {
   "source": [
    "## Next steps:\n",
    "1. Test other models, starting with SVM (binary classifier)\n",
    "2. PCA to find most important features"
   ],
   "cell_type": "markdown",
   "metadata": {}
  },
  {
   "cell_type": "code",
   "execution_count": null,
   "metadata": {},
   "outputs": [],
   "source": []
  }
 ]
}
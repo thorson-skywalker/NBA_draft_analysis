{
 "metadata": {
  "language_info": {
   "codemirror_mode": {
    "name": "ipython",
    "version": 3
   },
   "file_extension": ".py",
   "mimetype": "text/x-python",
   "name": "python",
   "nbconvert_exporter": "python",
   "pygments_lexer": "ipython3",
   "version": "3.7.9"
  },
  "orig_nbformat": 2,
  "kernelspec": {
   "name": "pythondata",
   "display_name": "PythonData",
   "language": "python"
  }
 },
 "nbformat": 4,
 "nbformat_minor": 2,
 "cells": [
  {
   "cell_type": "code",
   "execution_count": 1,
   "metadata": {},
   "outputs": [],
   "source": [
    "import pandas as pd\n",
    "import datetime as dt"
   ]
  },
  {
   "cell_type": "code",
   "execution_count": 2,
   "metadata": {},
   "outputs": [],
   "source": [
    "def current_season_cleaner(current_season=dt.datetime.now().year):\n",
    "\n",
    "    # Create empty DF for data to be combined into\n",
    "    season_stats_data = pd.DataFrame(columns=['#', 'Player', 'Team', 'GP', 'MPG', 'FGM', 'FGA', 'FG%', '3PM', '3PA', '3P%', 'FTM', 'FTA', 'FT%','TOV', 'PF', 'ORB', 'DRB', 'RPG', 'APG', 'SPG', 'BPG', 'PPG'])\n",
    "\n",
    "    # Go through each year in inputted range\n",
    "    for year in range(current_season,current_season+1):\n",
    "\n",
    "        # Read csv into DF \n",
    "        df = pd.read_csv(f\"./data/{year-1}-{year}stats.csv\")\n",
    "\n",
    "        # Add a column for the season the data is coming from\n",
    "        df['Year'] = f'{year}'\n",
    "\n",
    "        # Use RegEx to conform Player name data to a standard\n",
    "        season_stats_data['Player'] = season_stats_data['Player'].str.replace(',? [J|S]r\\.$| I*$','', regex=True)\\\n",
    "        .str.replace('[ëèéê]','e', regex=True)\\\n",
    "        .str.replace('[áàãăâ]','a', regex=True)\\\n",
    "        .str.replace('[ćċčçȼḉƈ]','c', regex=True)\n",
    "        \n",
    "        # Append the latest data to the main DataFrame\n",
    "        season_stats_data = season_stats_data.append(df, ignore_index=True)\n",
    "        \n",
    "    # Export the DataFrame \n",
    "    season_stats_data.to_csv(f\"./data/most_recent_season/season_stats_data_{current_season-1}-{current_season}.csv\",index=False)\n"
   ]
  },
  {
   "cell_type": "code",
   "execution_count": 3,
   "metadata": {},
   "outputs": [],
   "source": [
    "current_season_cleaner()"
   ]
  },
  {
   "cell_type": "code",
   "execution_count": null,
   "metadata": {},
   "outputs": [],
   "source": []
  }
 ]
}
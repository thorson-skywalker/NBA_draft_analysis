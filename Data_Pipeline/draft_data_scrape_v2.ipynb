{
 "metadata": {
  "language_info": {
   "codemirror_mode": {
    "name": "ipython",
    "version": 3
   },
   "file_extension": ".py",
   "mimetype": "text/x-python",
   "name": "python",
   "nbconvert_exporter": "python",
   "pygments_lexer": "ipython3",
   "version": "3.7.9"
  },
  "orig_nbformat": 2,
  "kernelspec": {
   "name": "pythondata",
   "display_name": "PythonData",
   "language": "python"
  }
 },
 "nbformat": 4,
 "nbformat_minor": 2,
 "cells": [
  {
   "cell_type": "code",
   "execution_count": 13,
   "metadata": {},
   "outputs": [],
   "source": [
    "# Import dependencies\n",
    "from splinter import Browser\n",
    "from bs4 import BeautifulSoup as soup\n",
    "import pandas as pd"
   ]
  },
  {
   "cell_type": "code",
   "execution_count": 14,
   "metadata": {},
   "outputs": [
    {
     "output_type": "stream",
     "name": "stdout",
     "text": [
      "/usr/local/bin/chromedriver\n"
     ]
    }
   ],
   "source": [
    "# Path to chromedriver (using a Macbook Pro)\n",
    "!which chromedriver"
   ]
  },
  {
   "cell_type": "code",
   "execution_count": 15,
   "metadata": {},
   "outputs": [],
   "source": [
    "# Not necessary but can watch browser move through web pages\n",
    "executable_path = {'executable_path':'/usr/local/bin/chromedriver'}\n",
    "browser = Browser('chrome',**executable_path)"
   ]
  },
  {
   "cell_type": "code",
   "execution_count": 16,
   "metadata": {},
   "outputs": [],
   "source": [
    "# Going to make this into a function\n",
    "def draft_scrape(year_start,year_end):\n",
    "    \n",
    "    # Cycle through years of interest\n",
    "    for year in range(year_start,year_end+1):\n",
    "\n",
    "        # f-string to change the url visited through each loop\n",
    "        url = f\"https://www.basketball-reference.com/draft/NBA_{year}.html\"\n",
    "        \n",
    "        # Have pandas pull the table from the html\n",
    "        df = pd.read_html(url)\n",
    "        draft_df = df[0]\n",
    "        \n",
    "        # CLEAN THE DF\n",
    "\n",
    "        # drop extra index in column names\n",
    "        draft_df.columns = draft_df.columns.droplevel(0)\n",
    "\n",
    "        # drop extra rows between first and second round\n",
    "        draft_df.drop([30,31],inplace=True)\n",
    "\n",
    "        # Drop players without college basketball data\n",
    "        clean_draft_df = draft_df.dropna(subset=[\"College\"])\n",
    "\n",
    "        # Select columns for final DataFrame \n",
    "        final_draft_df = clean_draft_df[[\"Pk\",\"Tm\",\"Player\",\"College\"]] \n",
    "\n",
    "        # Save as CSV file with draft year\n",
    "        final_draft_df.to_csv(f'./data/{year}draft.csv',index=False)\n",
    "        print(f\"Completed scraping: {url}\")"
   ]
  },
  {
   "cell_type": "code",
   "execution_count": 17,
   "metadata": {},
   "outputs": [
    {
     "output_type": "stream",
     "name": "stdout",
     "text": [
      "Completed scraping: https://www.basketball-reference.com/draft/NBA_2007.html\n",
      "Completed scraping: https://www.basketball-reference.com/draft/NBA_2008.html\n",
      "Completed scraping: https://www.basketball-reference.com/draft/NBA_2009.html\n",
      "Completed scraping: https://www.basketball-reference.com/draft/NBA_2010.html\n",
      "Completed scraping: https://www.basketball-reference.com/draft/NBA_2011.html\n",
      "Completed scraping: https://www.basketball-reference.com/draft/NBA_2012.html\n",
      "Completed scraping: https://www.basketball-reference.com/draft/NBA_2013.html\n",
      "Completed scraping: https://www.basketball-reference.com/draft/NBA_2014.html\n",
      "Completed scraping: https://www.basketball-reference.com/draft/NBA_2015.html\n",
      "Completed scraping: https://www.basketball-reference.com/draft/NBA_2016.html\n",
      "Completed scraping: https://www.basketball-reference.com/draft/NBA_2017.html\n",
      "Completed scraping: https://www.basketball-reference.com/draft/NBA_2018.html\n"
     ]
    }
   ],
   "source": [
    "draft_scrape(2007,2018)"
   ]
  },
  {
   "cell_type": "code",
   "execution_count": null,
   "metadata": {},
   "outputs": [],
   "source": []
  }
 ]
}
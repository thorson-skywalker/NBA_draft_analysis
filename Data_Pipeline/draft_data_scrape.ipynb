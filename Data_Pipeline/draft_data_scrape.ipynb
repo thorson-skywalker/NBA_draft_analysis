{
 "metadata": {
  "language_info": {
   "codemirror_mode": {
    "name": "ipython",
    "version": 3
   },
   "file_extension": ".py",
   "mimetype": "text/x-python",
   "name": "python",
   "nbconvert_exporter": "python",
   "pygments_lexer": "ipython3",
   "version": "3.7.9"
  },
  "orig_nbformat": 2,
  "kernelspec": {
   "name": "pythondata",
   "display_name": "PythonData",
   "language": "python"
  }
 },
 "nbformat": 4,
 "nbformat_minor": 2,
 "cells": [
  {
   "cell_type": "code",
   "execution_count": 1,
   "metadata": {},
   "outputs": [],
   "source": [
    "# Import dependencies\n",
    "from splinter import Browser\n",
    "from bs4 import BeautifulSoup as soup\n",
    "import pandas as pd"
   ]
  },
  {
   "cell_type": "code",
   "execution_count": 2,
   "metadata": {},
   "outputs": [
    {
     "output_type": "stream",
     "name": "stdout",
     "text": [
      "/usr/local/bin/chromedriver\n"
     ]
    }
   ],
   "source": [
    "# Path to chromedriver (using a Macbook Pro)\n",
    "!which chromedriver"
   ]
  },
  {
   "cell_type": "code",
   "execution_count": 3,
   "metadata": {},
   "outputs": [],
   "source": [
    "executable_path = {'executable_path':'/usr/local/bin/chromedriver'}\n",
    "browser = Browser('chrome',**executable_path)"
   ]
  },
  {
   "cell_type": "code",
   "execution_count": 4,
   "metadata": {},
   "outputs": [],
   "source": [
    "# Go to site with draft data\n",
    "url = \"https://www.basketball-reference.com/draft/NBA_2007.html\"\n",
    "browser.visit(url)"
   ]
  },
  {
   "cell_type": "code",
   "execution_count": 5,
   "metadata": {},
   "outputs": [
    {
     "output_type": "execute_result",
     "data": {
      "text/plain": [
       "   Unnamed: 0_level_0 Unnamed: 1_level_0 Unnamed: 2_level_0  \\\n",
       "                   Rk                 Pk                 Tm   \n",
       "0                   1                  1                POR   \n",
       "1                   2                  2                SEA   \n",
       "2                   3                  3                ATL   \n",
       "3                   4                  4                MEM   \n",
       "4                   5                  5                BOS   \n",
       "..                ...                ...                ...   \n",
       "57                 56                 56                MIL   \n",
       "58                 57                 57                DET   \n",
       "59                 58                 58                SAS   \n",
       "60                 59                 59                PHO   \n",
       "61                 60                 60                DAL   \n",
       "\n",
       "               Round 1             Unnamed: 5_level_0 Totals                \\\n",
       "                Player     College                Yrs      G     MP    PTS   \n",
       "0            Greg Oden  Ohio State                  3    105   2028    840   \n",
       "1         Kevin Durant       Texas                 13    884  32462  23883   \n",
       "2           Al Horford     Florida                 14    881  28592  12288   \n",
       "3          Mike Conley  Ohio State                 14    886  28561  13235   \n",
       "4           Jeff Green  Georgetown                 13    976  28614  12523   \n",
       "..                 ...         ...                ...    ...    ...    ...   \n",
       "57      Ramon Sessions      Nevada                 11    691  16119   7141   \n",
       "58         Sammy Mejia      DePaul                NaN    NaN    NaN    NaN   \n",
       "59  Georgios Printezis         NaN                NaN    NaN    NaN    NaN   \n",
       "60     D.J. Strawberry    Maryland                  1     33    270     73   \n",
       "61     Milovan Raković         NaN                NaN    NaN    NaN    NaN   \n",
       "\n",
       "          ... Shooting       Per Game                 Advanced               \\\n",
       "     TRB  ...      3P%   FT%       MP   PTS  TRB  AST       WS  WS/48   BPM   \n",
       "0    656  ...      NaN  .658     19.3   8.0  6.2  0.5      7.3   .174  -0.4   \n",
       "1   6239  ...     .384  .883     36.7  27.0  7.1  4.2    146.7   .217   6.7   \n",
       "2   7241  ...     .364  .755     32.5  13.9  8.2  3.3     92.8   .156   2.8   \n",
       "3   2655  ...     .379  .821     32.2  14.9  3.0  5.7     80.1   .135   2.4   \n",
       "4   4271  ...     .340  .804     29.3  12.8  4.4  1.6     46.4   .078  -1.3   \n",
       "..   ...  ...      ...   ...      ...   ...  ...  ...      ...    ...   ...   \n",
       "57  1840  ...     .316  .791     23.3  10.3  2.7  4.1     28.8   .086  -0.7   \n",
       "58   NaN  ...      NaN   NaN      NaN   NaN  NaN  NaN      NaN    NaN   NaN   \n",
       "59   NaN  ...      NaN   NaN      NaN   NaN  NaN  NaN      NaN    NaN   NaN   \n",
       "60    28  ...     .240  .474      8.2   2.2  0.8  0.9     -0.2  -.031  -5.6   \n",
       "61   NaN  ...      NaN   NaN      NaN   NaN  NaN  NaN      NaN    NaN   NaN   \n",
       "\n",
       "          \n",
       "    VORP  \n",
       "0    0.8  \n",
       "1   71.6  \n",
       "2   34.7  \n",
       "3   31.9  \n",
       "4    4.9  \n",
       "..   ...  \n",
       "57   5.2  \n",
       "58   NaN  \n",
       "59   NaN  \n",
       "60  -0.2  \n",
       "61   NaN  \n",
       "\n",
       "[62 rows x 22 columns]"
      ],
      "text/html": "<div>\n<style scoped>\n    .dataframe tbody tr th:only-of-type {\n        vertical-align: middle;\n    }\n\n    .dataframe tbody tr th {\n        vertical-align: top;\n    }\n\n    .dataframe thead tr th {\n        text-align: left;\n    }\n</style>\n<table border=\"1\" class=\"dataframe\">\n  <thead>\n    <tr>\n      <th></th>\n      <th>Unnamed: 0_level_0</th>\n      <th>Unnamed: 1_level_0</th>\n      <th>Unnamed: 2_level_0</th>\n      <th colspan=\"2\" halign=\"left\">Round 1</th>\n      <th>Unnamed: 5_level_0</th>\n      <th colspan=\"4\" halign=\"left\">Totals</th>\n      <th>...</th>\n      <th colspan=\"2\" halign=\"left\">Shooting</th>\n      <th colspan=\"4\" halign=\"left\">Per Game</th>\n      <th colspan=\"4\" halign=\"left\">Advanced</th>\n    </tr>\n    <tr>\n      <th></th>\n      <th>Rk</th>\n      <th>Pk</th>\n      <th>Tm</th>\n      <th>Player</th>\n      <th>College</th>\n      <th>Yrs</th>\n      <th>G</th>\n      <th>MP</th>\n      <th>PTS</th>\n      <th>TRB</th>\n      <th>...</th>\n      <th>3P%</th>\n      <th>FT%</th>\n      <th>MP</th>\n      <th>PTS</th>\n      <th>TRB</th>\n      <th>AST</th>\n      <th>WS</th>\n      <th>WS/48</th>\n      <th>BPM</th>\n      <th>VORP</th>\n    </tr>\n  </thead>\n  <tbody>\n    <tr>\n      <th>0</th>\n      <td>1</td>\n      <td>1</td>\n      <td>POR</td>\n      <td>Greg Oden</td>\n      <td>Ohio State</td>\n      <td>3</td>\n      <td>105</td>\n      <td>2028</td>\n      <td>840</td>\n      <td>656</td>\n      <td>...</td>\n      <td>NaN</td>\n      <td>.658</td>\n      <td>19.3</td>\n      <td>8.0</td>\n      <td>6.2</td>\n      <td>0.5</td>\n      <td>7.3</td>\n      <td>.174</td>\n      <td>-0.4</td>\n      <td>0.8</td>\n    </tr>\n    <tr>\n      <th>1</th>\n      <td>2</td>\n      <td>2</td>\n      <td>SEA</td>\n      <td>Kevin Durant</td>\n      <td>Texas</td>\n      <td>13</td>\n      <td>884</td>\n      <td>32462</td>\n      <td>23883</td>\n      <td>6239</td>\n      <td>...</td>\n      <td>.384</td>\n      <td>.883</td>\n      <td>36.7</td>\n      <td>27.0</td>\n      <td>7.1</td>\n      <td>4.2</td>\n      <td>146.7</td>\n      <td>.217</td>\n      <td>6.7</td>\n      <td>71.6</td>\n    </tr>\n    <tr>\n      <th>2</th>\n      <td>3</td>\n      <td>3</td>\n      <td>ATL</td>\n      <td>Al Horford</td>\n      <td>Florida</td>\n      <td>14</td>\n      <td>881</td>\n      <td>28592</td>\n      <td>12288</td>\n      <td>7241</td>\n      <td>...</td>\n      <td>.364</td>\n      <td>.755</td>\n      <td>32.5</td>\n      <td>13.9</td>\n      <td>8.2</td>\n      <td>3.3</td>\n      <td>92.8</td>\n      <td>.156</td>\n      <td>2.8</td>\n      <td>34.7</td>\n    </tr>\n    <tr>\n      <th>3</th>\n      <td>4</td>\n      <td>4</td>\n      <td>MEM</td>\n      <td>Mike Conley</td>\n      <td>Ohio State</td>\n      <td>14</td>\n      <td>886</td>\n      <td>28561</td>\n      <td>13235</td>\n      <td>2655</td>\n      <td>...</td>\n      <td>.379</td>\n      <td>.821</td>\n      <td>32.2</td>\n      <td>14.9</td>\n      <td>3.0</td>\n      <td>5.7</td>\n      <td>80.1</td>\n      <td>.135</td>\n      <td>2.4</td>\n      <td>31.9</td>\n    </tr>\n    <tr>\n      <th>4</th>\n      <td>5</td>\n      <td>5</td>\n      <td>BOS</td>\n      <td>Jeff Green</td>\n      <td>Georgetown</td>\n      <td>13</td>\n      <td>976</td>\n      <td>28614</td>\n      <td>12523</td>\n      <td>4271</td>\n      <td>...</td>\n      <td>.340</td>\n      <td>.804</td>\n      <td>29.3</td>\n      <td>12.8</td>\n      <td>4.4</td>\n      <td>1.6</td>\n      <td>46.4</td>\n      <td>.078</td>\n      <td>-1.3</td>\n      <td>4.9</td>\n    </tr>\n    <tr>\n      <th>...</th>\n      <td>...</td>\n      <td>...</td>\n      <td>...</td>\n      <td>...</td>\n      <td>...</td>\n      <td>...</td>\n      <td>...</td>\n      <td>...</td>\n      <td>...</td>\n      <td>...</td>\n      <td>...</td>\n      <td>...</td>\n      <td>...</td>\n      <td>...</td>\n      <td>...</td>\n      <td>...</td>\n      <td>...</td>\n      <td>...</td>\n      <td>...</td>\n      <td>...</td>\n      <td>...</td>\n    </tr>\n    <tr>\n      <th>57</th>\n      <td>56</td>\n      <td>56</td>\n      <td>MIL</td>\n      <td>Ramon Sessions</td>\n      <td>Nevada</td>\n      <td>11</td>\n      <td>691</td>\n      <td>16119</td>\n      <td>7141</td>\n      <td>1840</td>\n      <td>...</td>\n      <td>.316</td>\n      <td>.791</td>\n      <td>23.3</td>\n      <td>10.3</td>\n      <td>2.7</td>\n      <td>4.1</td>\n      <td>28.8</td>\n      <td>.086</td>\n      <td>-0.7</td>\n      <td>5.2</td>\n    </tr>\n    <tr>\n      <th>58</th>\n      <td>57</td>\n      <td>57</td>\n      <td>DET</td>\n      <td>Sammy Mejia</td>\n      <td>DePaul</td>\n      <td>NaN</td>\n      <td>NaN</td>\n      <td>NaN</td>\n      <td>NaN</td>\n      <td>NaN</td>\n      <td>...</td>\n      <td>NaN</td>\n      <td>NaN</td>\n      <td>NaN</td>\n      <td>NaN</td>\n      <td>NaN</td>\n      <td>NaN</td>\n      <td>NaN</td>\n      <td>NaN</td>\n      <td>NaN</td>\n      <td>NaN</td>\n    </tr>\n    <tr>\n      <th>59</th>\n      <td>58</td>\n      <td>58</td>\n      <td>SAS</td>\n      <td>Georgios Printezis</td>\n      <td>NaN</td>\n      <td>NaN</td>\n      <td>NaN</td>\n      <td>NaN</td>\n      <td>NaN</td>\n      <td>NaN</td>\n      <td>...</td>\n      <td>NaN</td>\n      <td>NaN</td>\n      <td>NaN</td>\n      <td>NaN</td>\n      <td>NaN</td>\n      <td>NaN</td>\n      <td>NaN</td>\n      <td>NaN</td>\n      <td>NaN</td>\n      <td>NaN</td>\n    </tr>\n    <tr>\n      <th>60</th>\n      <td>59</td>\n      <td>59</td>\n      <td>PHO</td>\n      <td>D.J. Strawberry</td>\n      <td>Maryland</td>\n      <td>1</td>\n      <td>33</td>\n      <td>270</td>\n      <td>73</td>\n      <td>28</td>\n      <td>...</td>\n      <td>.240</td>\n      <td>.474</td>\n      <td>8.2</td>\n      <td>2.2</td>\n      <td>0.8</td>\n      <td>0.9</td>\n      <td>-0.2</td>\n      <td>-.031</td>\n      <td>-5.6</td>\n      <td>-0.2</td>\n    </tr>\n    <tr>\n      <th>61</th>\n      <td>60</td>\n      <td>60</td>\n      <td>DAL</td>\n      <td>Milovan Raković</td>\n      <td>NaN</td>\n      <td>NaN</td>\n      <td>NaN</td>\n      <td>NaN</td>\n      <td>NaN</td>\n      <td>NaN</td>\n      <td>...</td>\n      <td>NaN</td>\n      <td>NaN</td>\n      <td>NaN</td>\n      <td>NaN</td>\n      <td>NaN</td>\n      <td>NaN</td>\n      <td>NaN</td>\n      <td>NaN</td>\n      <td>NaN</td>\n      <td>NaN</td>\n    </tr>\n  </tbody>\n</table>\n<p>62 rows × 22 columns</p>\n</div>"
     },
     "metadata": {},
     "execution_count": 5
    }
   ],
   "source": [
    "df = pd.read_html(url)\n",
    "draft_df = df[0]\n",
    "draft_df"
   ]
  },
  {
   "cell_type": "code",
   "execution_count": 6,
   "metadata": {},
   "outputs": [
    {
     "output_type": "execute_result",
     "data": {
      "text/plain": [
       "MultiIndex([('Unnamed: 0_level_0',      'Rk'),\n",
       "            ('Unnamed: 1_level_0',      'Pk'),\n",
       "            ('Unnamed: 2_level_0',      'Tm'),\n",
       "            (           'Round 1',  'Player'),\n",
       "            (           'Round 1', 'College'),\n",
       "            ('Unnamed: 5_level_0',     'Yrs'),\n",
       "            (            'Totals',       'G'),\n",
       "            (            'Totals',      'MP'),\n",
       "            (            'Totals',     'PTS'),\n",
       "            (            'Totals',     'TRB'),\n",
       "            (            'Totals',     'AST'),\n",
       "            (          'Shooting',     'FG%'),\n",
       "            (          'Shooting',     '3P%'),\n",
       "            (          'Shooting',     'FT%'),\n",
       "            (          'Per Game',      'MP'),\n",
       "            (          'Per Game',     'PTS'),\n",
       "            (          'Per Game',     'TRB'),\n",
       "            (          'Per Game',     'AST'),\n",
       "            (          'Advanced',      'WS'),\n",
       "            (          'Advanced',   'WS/48'),\n",
       "            (          'Advanced',     'BPM'),\n",
       "            (          'Advanced',    'VORP')],\n",
       "           )"
      ]
     },
     "metadata": {},
     "execution_count": 6
    }
   ],
   "source": [
    "draft_df.columns"
   ]
  },
  {
   "cell_type": "code",
   "execution_count": 7,
   "metadata": {},
   "outputs": [
    {
     "output_type": "execute_result",
     "data": {
      "text/plain": [
       "    Rk  Pk   Tm              Player     College  Yrs    G     MP    PTS   TRB  \\\n",
       "0    1   1  POR           Greg Oden  Ohio State    3  105   2028    840   656   \n",
       "1    2   2  SEA        Kevin Durant       Texas   13  884  32462  23883  6239   \n",
       "2    3   3  ATL          Al Horford     Florida   14  881  28592  12288  7241   \n",
       "3    4   4  MEM         Mike Conley  Ohio State   14  886  28561  13235  2655   \n",
       "4    5   5  BOS          Jeff Green  Georgetown   13  976  28614  12523  4271   \n",
       "..  ..  ..  ...                 ...         ...  ...  ...    ...    ...   ...   \n",
       "57  56  56  MIL      Ramon Sessions      Nevada   11  691  16119   7141  1840   \n",
       "58  57  57  DET         Sammy Mejia      DePaul  NaN  NaN    NaN    NaN   NaN   \n",
       "59  58  58  SAS  Georgios Printezis         NaN  NaN  NaN    NaN    NaN   NaN   \n",
       "60  59  59  PHO     D.J. Strawberry    Maryland    1   33    270     73    28   \n",
       "61  60  60  DAL     Milovan Raković         NaN  NaN  NaN    NaN    NaN   NaN   \n",
       "\n",
       "    ...   3P%   FT%    MP   PTS  TRB  AST     WS  WS/48   BPM  VORP  \n",
       "0   ...   NaN  .658  19.3   8.0  6.2  0.5    7.3   .174  -0.4   0.8  \n",
       "1   ...  .384  .883  36.7  27.0  7.1  4.2  146.7   .217   6.7  71.6  \n",
       "2   ...  .364  .755  32.5  13.9  8.2  3.3   92.8   .156   2.8  34.7  \n",
       "3   ...  .379  .821  32.2  14.9  3.0  5.7   80.1   .135   2.4  31.9  \n",
       "4   ...  .340  .804  29.3  12.8  4.4  1.6   46.4   .078  -1.3   4.9  \n",
       "..  ...   ...   ...   ...   ...  ...  ...    ...    ...   ...   ...  \n",
       "57  ...  .316  .791  23.3  10.3  2.7  4.1   28.8   .086  -0.7   5.2  \n",
       "58  ...   NaN   NaN   NaN   NaN  NaN  NaN    NaN    NaN   NaN   NaN  \n",
       "59  ...   NaN   NaN   NaN   NaN  NaN  NaN    NaN    NaN   NaN   NaN  \n",
       "60  ...  .240  .474   8.2   2.2  0.8  0.9   -0.2  -.031  -5.6  -0.2  \n",
       "61  ...   NaN   NaN   NaN   NaN  NaN  NaN    NaN    NaN   NaN   NaN  \n",
       "\n",
       "[62 rows x 22 columns]"
      ],
      "text/html": "<div>\n<style scoped>\n    .dataframe tbody tr th:only-of-type {\n        vertical-align: middle;\n    }\n\n    .dataframe tbody tr th {\n        vertical-align: top;\n    }\n\n    .dataframe thead th {\n        text-align: right;\n    }\n</style>\n<table border=\"1\" class=\"dataframe\">\n  <thead>\n    <tr style=\"text-align: right;\">\n      <th></th>\n      <th>Rk</th>\n      <th>Pk</th>\n      <th>Tm</th>\n      <th>Player</th>\n      <th>College</th>\n      <th>Yrs</th>\n      <th>G</th>\n      <th>MP</th>\n      <th>PTS</th>\n      <th>TRB</th>\n      <th>...</th>\n      <th>3P%</th>\n      <th>FT%</th>\n      <th>MP</th>\n      <th>PTS</th>\n      <th>TRB</th>\n      <th>AST</th>\n      <th>WS</th>\n      <th>WS/48</th>\n      <th>BPM</th>\n      <th>VORP</th>\n    </tr>\n  </thead>\n  <tbody>\n    <tr>\n      <th>0</th>\n      <td>1</td>\n      <td>1</td>\n      <td>POR</td>\n      <td>Greg Oden</td>\n      <td>Ohio State</td>\n      <td>3</td>\n      <td>105</td>\n      <td>2028</td>\n      <td>840</td>\n      <td>656</td>\n      <td>...</td>\n      <td>NaN</td>\n      <td>.658</td>\n      <td>19.3</td>\n      <td>8.0</td>\n      <td>6.2</td>\n      <td>0.5</td>\n      <td>7.3</td>\n      <td>.174</td>\n      <td>-0.4</td>\n      <td>0.8</td>\n    </tr>\n    <tr>\n      <th>1</th>\n      <td>2</td>\n      <td>2</td>\n      <td>SEA</td>\n      <td>Kevin Durant</td>\n      <td>Texas</td>\n      <td>13</td>\n      <td>884</td>\n      <td>32462</td>\n      <td>23883</td>\n      <td>6239</td>\n      <td>...</td>\n      <td>.384</td>\n      <td>.883</td>\n      <td>36.7</td>\n      <td>27.0</td>\n      <td>7.1</td>\n      <td>4.2</td>\n      <td>146.7</td>\n      <td>.217</td>\n      <td>6.7</td>\n      <td>71.6</td>\n    </tr>\n    <tr>\n      <th>2</th>\n      <td>3</td>\n      <td>3</td>\n      <td>ATL</td>\n      <td>Al Horford</td>\n      <td>Florida</td>\n      <td>14</td>\n      <td>881</td>\n      <td>28592</td>\n      <td>12288</td>\n      <td>7241</td>\n      <td>...</td>\n      <td>.364</td>\n      <td>.755</td>\n      <td>32.5</td>\n      <td>13.9</td>\n      <td>8.2</td>\n      <td>3.3</td>\n      <td>92.8</td>\n      <td>.156</td>\n      <td>2.8</td>\n      <td>34.7</td>\n    </tr>\n    <tr>\n      <th>3</th>\n      <td>4</td>\n      <td>4</td>\n      <td>MEM</td>\n      <td>Mike Conley</td>\n      <td>Ohio State</td>\n      <td>14</td>\n      <td>886</td>\n      <td>28561</td>\n      <td>13235</td>\n      <td>2655</td>\n      <td>...</td>\n      <td>.379</td>\n      <td>.821</td>\n      <td>32.2</td>\n      <td>14.9</td>\n      <td>3.0</td>\n      <td>5.7</td>\n      <td>80.1</td>\n      <td>.135</td>\n      <td>2.4</td>\n      <td>31.9</td>\n    </tr>\n    <tr>\n      <th>4</th>\n      <td>5</td>\n      <td>5</td>\n      <td>BOS</td>\n      <td>Jeff Green</td>\n      <td>Georgetown</td>\n      <td>13</td>\n      <td>976</td>\n      <td>28614</td>\n      <td>12523</td>\n      <td>4271</td>\n      <td>...</td>\n      <td>.340</td>\n      <td>.804</td>\n      <td>29.3</td>\n      <td>12.8</td>\n      <td>4.4</td>\n      <td>1.6</td>\n      <td>46.4</td>\n      <td>.078</td>\n      <td>-1.3</td>\n      <td>4.9</td>\n    </tr>\n    <tr>\n      <th>...</th>\n      <td>...</td>\n      <td>...</td>\n      <td>...</td>\n      <td>...</td>\n      <td>...</td>\n      <td>...</td>\n      <td>...</td>\n      <td>...</td>\n      <td>...</td>\n      <td>...</td>\n      <td>...</td>\n      <td>...</td>\n      <td>...</td>\n      <td>...</td>\n      <td>...</td>\n      <td>...</td>\n      <td>...</td>\n      <td>...</td>\n      <td>...</td>\n      <td>...</td>\n      <td>...</td>\n    </tr>\n    <tr>\n      <th>57</th>\n      <td>56</td>\n      <td>56</td>\n      <td>MIL</td>\n      <td>Ramon Sessions</td>\n      <td>Nevada</td>\n      <td>11</td>\n      <td>691</td>\n      <td>16119</td>\n      <td>7141</td>\n      <td>1840</td>\n      <td>...</td>\n      <td>.316</td>\n      <td>.791</td>\n      <td>23.3</td>\n      <td>10.3</td>\n      <td>2.7</td>\n      <td>4.1</td>\n      <td>28.8</td>\n      <td>.086</td>\n      <td>-0.7</td>\n      <td>5.2</td>\n    </tr>\n    <tr>\n      <th>58</th>\n      <td>57</td>\n      <td>57</td>\n      <td>DET</td>\n      <td>Sammy Mejia</td>\n      <td>DePaul</td>\n      <td>NaN</td>\n      <td>NaN</td>\n      <td>NaN</td>\n      <td>NaN</td>\n      <td>NaN</td>\n      <td>...</td>\n      <td>NaN</td>\n      <td>NaN</td>\n      <td>NaN</td>\n      <td>NaN</td>\n      <td>NaN</td>\n      <td>NaN</td>\n      <td>NaN</td>\n      <td>NaN</td>\n      <td>NaN</td>\n      <td>NaN</td>\n    </tr>\n    <tr>\n      <th>59</th>\n      <td>58</td>\n      <td>58</td>\n      <td>SAS</td>\n      <td>Georgios Printezis</td>\n      <td>NaN</td>\n      <td>NaN</td>\n      <td>NaN</td>\n      <td>NaN</td>\n      <td>NaN</td>\n      <td>NaN</td>\n      <td>...</td>\n      <td>NaN</td>\n      <td>NaN</td>\n      <td>NaN</td>\n      <td>NaN</td>\n      <td>NaN</td>\n      <td>NaN</td>\n      <td>NaN</td>\n      <td>NaN</td>\n      <td>NaN</td>\n      <td>NaN</td>\n    </tr>\n    <tr>\n      <th>60</th>\n      <td>59</td>\n      <td>59</td>\n      <td>PHO</td>\n      <td>D.J. Strawberry</td>\n      <td>Maryland</td>\n      <td>1</td>\n      <td>33</td>\n      <td>270</td>\n      <td>73</td>\n      <td>28</td>\n      <td>...</td>\n      <td>.240</td>\n      <td>.474</td>\n      <td>8.2</td>\n      <td>2.2</td>\n      <td>0.8</td>\n      <td>0.9</td>\n      <td>-0.2</td>\n      <td>-.031</td>\n      <td>-5.6</td>\n      <td>-0.2</td>\n    </tr>\n    <tr>\n      <th>61</th>\n      <td>60</td>\n      <td>60</td>\n      <td>DAL</td>\n      <td>Milovan Raković</td>\n      <td>NaN</td>\n      <td>NaN</td>\n      <td>NaN</td>\n      <td>NaN</td>\n      <td>NaN</td>\n      <td>NaN</td>\n      <td>...</td>\n      <td>NaN</td>\n      <td>NaN</td>\n      <td>NaN</td>\n      <td>NaN</td>\n      <td>NaN</td>\n      <td>NaN</td>\n      <td>NaN</td>\n      <td>NaN</td>\n      <td>NaN</td>\n      <td>NaN</td>\n    </tr>\n  </tbody>\n</table>\n<p>62 rows × 22 columns</p>\n</div>"
     },
     "metadata": {},
     "execution_count": 7
    }
   ],
   "source": [
    "draft_df.columns = draft_df.columns.droplevel(0)\n",
    "draft_df.head(62)"
   ]
  },
  {
   "cell_type": "code",
   "execution_count": 8,
   "metadata": {},
   "outputs": [
    {
     "output_type": "execute_result",
     "data": {
      "text/plain": [
       "     Rk   Pk   Tm           Player  College  Yrs       G      MP     PTS  \\\n",
       "30  NaN  NaN  NaN          Round 2  Round 2  NaN  Totals  Totals  Totals   \n",
       "31   Rk   Pk   Tm           Player  College  Yrs       G      MP     PTS   \n",
       "32   31   31  SEA      Carl Landry   Purdue    9     513   11524    5541   \n",
       "33   32   32  BOS      Gabe Pruitt      USC    2      62     461     125   \n",
       "34   33   33  SAS  Marcus Williams  Arizona    2      13      39      14   \n",
       "\n",
       "       TRB  ...       3P%       FT%        MP       PTS       TRB       AST  \\\n",
       "30  Totals  ...  Shooting  Shooting  Per Game  Per Game  Per Game  Per Game   \n",
       "31     TRB  ...       3P%       FT%        MP       PTS       TRB       AST   \n",
       "32    2533  ...      .300      .785      22.5      10.8       4.9       0.7   \n",
       "33      51  ...      .283      .783       7.4       2.0       0.8       0.8   \n",
       "34      12  ...       NaN       NaN       3.0       1.1       0.9       0.2   \n",
       "\n",
       "          WS     WS/48       BPM      VORP  \n",
       "30  Advanced  Advanced  Advanced  Advanced  \n",
       "31        WS     WS/48       BPM      VORP  \n",
       "32      35.9      .149      -0.3       5.0  \n",
       "33       0.4      .043      -2.8      -0.1  \n",
       "34      -0.1     -.084      -5.4       0.0  \n",
       "\n",
       "[5 rows x 22 columns]"
      ],
      "text/html": "<div>\n<style scoped>\n    .dataframe tbody tr th:only-of-type {\n        vertical-align: middle;\n    }\n\n    .dataframe tbody tr th {\n        vertical-align: top;\n    }\n\n    .dataframe thead th {\n        text-align: right;\n    }\n</style>\n<table border=\"1\" class=\"dataframe\">\n  <thead>\n    <tr style=\"text-align: right;\">\n      <th></th>\n      <th>Rk</th>\n      <th>Pk</th>\n      <th>Tm</th>\n      <th>Player</th>\n      <th>College</th>\n      <th>Yrs</th>\n      <th>G</th>\n      <th>MP</th>\n      <th>PTS</th>\n      <th>TRB</th>\n      <th>...</th>\n      <th>3P%</th>\n      <th>FT%</th>\n      <th>MP</th>\n      <th>PTS</th>\n      <th>TRB</th>\n      <th>AST</th>\n      <th>WS</th>\n      <th>WS/48</th>\n      <th>BPM</th>\n      <th>VORP</th>\n    </tr>\n  </thead>\n  <tbody>\n    <tr>\n      <th>30</th>\n      <td>NaN</td>\n      <td>NaN</td>\n      <td>NaN</td>\n      <td>Round 2</td>\n      <td>Round 2</td>\n      <td>NaN</td>\n      <td>Totals</td>\n      <td>Totals</td>\n      <td>Totals</td>\n      <td>Totals</td>\n      <td>...</td>\n      <td>Shooting</td>\n      <td>Shooting</td>\n      <td>Per Game</td>\n      <td>Per Game</td>\n      <td>Per Game</td>\n      <td>Per Game</td>\n      <td>Advanced</td>\n      <td>Advanced</td>\n      <td>Advanced</td>\n      <td>Advanced</td>\n    </tr>\n    <tr>\n      <th>31</th>\n      <td>Rk</td>\n      <td>Pk</td>\n      <td>Tm</td>\n      <td>Player</td>\n      <td>College</td>\n      <td>Yrs</td>\n      <td>G</td>\n      <td>MP</td>\n      <td>PTS</td>\n      <td>TRB</td>\n      <td>...</td>\n      <td>3P%</td>\n      <td>FT%</td>\n      <td>MP</td>\n      <td>PTS</td>\n      <td>TRB</td>\n      <td>AST</td>\n      <td>WS</td>\n      <td>WS/48</td>\n      <td>BPM</td>\n      <td>VORP</td>\n    </tr>\n    <tr>\n      <th>32</th>\n      <td>31</td>\n      <td>31</td>\n      <td>SEA</td>\n      <td>Carl Landry</td>\n      <td>Purdue</td>\n      <td>9</td>\n      <td>513</td>\n      <td>11524</td>\n      <td>5541</td>\n      <td>2533</td>\n      <td>...</td>\n      <td>.300</td>\n      <td>.785</td>\n      <td>22.5</td>\n      <td>10.8</td>\n      <td>4.9</td>\n      <td>0.7</td>\n      <td>35.9</td>\n      <td>.149</td>\n      <td>-0.3</td>\n      <td>5.0</td>\n    </tr>\n    <tr>\n      <th>33</th>\n      <td>32</td>\n      <td>32</td>\n      <td>BOS</td>\n      <td>Gabe Pruitt</td>\n      <td>USC</td>\n      <td>2</td>\n      <td>62</td>\n      <td>461</td>\n      <td>125</td>\n      <td>51</td>\n      <td>...</td>\n      <td>.283</td>\n      <td>.783</td>\n      <td>7.4</td>\n      <td>2.0</td>\n      <td>0.8</td>\n      <td>0.8</td>\n      <td>0.4</td>\n      <td>.043</td>\n      <td>-2.8</td>\n      <td>-0.1</td>\n    </tr>\n    <tr>\n      <th>34</th>\n      <td>33</td>\n      <td>33</td>\n      <td>SAS</td>\n      <td>Marcus Williams</td>\n      <td>Arizona</td>\n      <td>2</td>\n      <td>13</td>\n      <td>39</td>\n      <td>14</td>\n      <td>12</td>\n      <td>...</td>\n      <td>NaN</td>\n      <td>NaN</td>\n      <td>3.0</td>\n      <td>1.1</td>\n      <td>0.9</td>\n      <td>0.2</td>\n      <td>-0.1</td>\n      <td>-.084</td>\n      <td>-5.4</td>\n      <td>0.0</td>\n    </tr>\n  </tbody>\n</table>\n<p>5 rows × 22 columns</p>\n</div>"
     },
     "metadata": {},
     "execution_count": 8
    }
   ],
   "source": [
    "draft_df.iloc[30:35]"
   ]
  },
  {
   "cell_type": "code",
   "execution_count": 9,
   "metadata": {},
   "outputs": [
    {
     "output_type": "execute_result",
     "data": {
      "text/plain": [
       "    Rk  Pk   Tm           Player  College Yrs    G     MP   PTS   TRB  ...  \\\n",
       "32  31  31  SEA      Carl Landry   Purdue   9  513  11524  5541  2533  ...   \n",
       "33  32  32  BOS      Gabe Pruitt      USC   2   62    461   125    51  ...   \n",
       "34  33  33  SAS  Marcus Williams  Arizona   2   13     39    14    12  ...   \n",
       "35  34  34  DAL     Nick Fazekas   Nevada   1   26    269   107    89  ...   \n",
       "36  35  35  SEA       Glen Davis      LSU   8  514  10865  4111  2236  ...   \n",
       "\n",
       "     3P%   FT%    MP   PTS  TRB  AST    WS  WS/48   BPM  VORP  \n",
       "32  .300  .785  22.5  10.8  4.9  0.7  35.9   .149  -0.3   5.0  \n",
       "33  .283  .783   7.4   2.0  0.8  0.8   0.4   .043  -2.8  -0.1  \n",
       "34   NaN   NaN   3.0   1.1  0.9  0.2  -0.1  -.084  -5.4   0.0  \n",
       "35  .000  .682  10.3   4.1  3.4  0.4   0.8   .148   0.5   0.2  \n",
       "36  .182  .700  21.1   8.0  4.4  0.9  18.6   .082  -2.6  -1.7  \n",
       "\n",
       "[5 rows x 22 columns]"
      ],
      "text/html": "<div>\n<style scoped>\n    .dataframe tbody tr th:only-of-type {\n        vertical-align: middle;\n    }\n\n    .dataframe tbody tr th {\n        vertical-align: top;\n    }\n\n    .dataframe thead th {\n        text-align: right;\n    }\n</style>\n<table border=\"1\" class=\"dataframe\">\n  <thead>\n    <tr style=\"text-align: right;\">\n      <th></th>\n      <th>Rk</th>\n      <th>Pk</th>\n      <th>Tm</th>\n      <th>Player</th>\n      <th>College</th>\n      <th>Yrs</th>\n      <th>G</th>\n      <th>MP</th>\n      <th>PTS</th>\n      <th>TRB</th>\n      <th>...</th>\n      <th>3P%</th>\n      <th>FT%</th>\n      <th>MP</th>\n      <th>PTS</th>\n      <th>TRB</th>\n      <th>AST</th>\n      <th>WS</th>\n      <th>WS/48</th>\n      <th>BPM</th>\n      <th>VORP</th>\n    </tr>\n  </thead>\n  <tbody>\n    <tr>\n      <th>32</th>\n      <td>31</td>\n      <td>31</td>\n      <td>SEA</td>\n      <td>Carl Landry</td>\n      <td>Purdue</td>\n      <td>9</td>\n      <td>513</td>\n      <td>11524</td>\n      <td>5541</td>\n      <td>2533</td>\n      <td>...</td>\n      <td>.300</td>\n      <td>.785</td>\n      <td>22.5</td>\n      <td>10.8</td>\n      <td>4.9</td>\n      <td>0.7</td>\n      <td>35.9</td>\n      <td>.149</td>\n      <td>-0.3</td>\n      <td>5.0</td>\n    </tr>\n    <tr>\n      <th>33</th>\n      <td>32</td>\n      <td>32</td>\n      <td>BOS</td>\n      <td>Gabe Pruitt</td>\n      <td>USC</td>\n      <td>2</td>\n      <td>62</td>\n      <td>461</td>\n      <td>125</td>\n      <td>51</td>\n      <td>...</td>\n      <td>.283</td>\n      <td>.783</td>\n      <td>7.4</td>\n      <td>2.0</td>\n      <td>0.8</td>\n      <td>0.8</td>\n      <td>0.4</td>\n      <td>.043</td>\n      <td>-2.8</td>\n      <td>-0.1</td>\n    </tr>\n    <tr>\n      <th>34</th>\n      <td>33</td>\n      <td>33</td>\n      <td>SAS</td>\n      <td>Marcus Williams</td>\n      <td>Arizona</td>\n      <td>2</td>\n      <td>13</td>\n      <td>39</td>\n      <td>14</td>\n      <td>12</td>\n      <td>...</td>\n      <td>NaN</td>\n      <td>NaN</td>\n      <td>3.0</td>\n      <td>1.1</td>\n      <td>0.9</td>\n      <td>0.2</td>\n      <td>-0.1</td>\n      <td>-.084</td>\n      <td>-5.4</td>\n      <td>0.0</td>\n    </tr>\n    <tr>\n      <th>35</th>\n      <td>34</td>\n      <td>34</td>\n      <td>DAL</td>\n      <td>Nick Fazekas</td>\n      <td>Nevada</td>\n      <td>1</td>\n      <td>26</td>\n      <td>269</td>\n      <td>107</td>\n      <td>89</td>\n      <td>...</td>\n      <td>.000</td>\n      <td>.682</td>\n      <td>10.3</td>\n      <td>4.1</td>\n      <td>3.4</td>\n      <td>0.4</td>\n      <td>0.8</td>\n      <td>.148</td>\n      <td>0.5</td>\n      <td>0.2</td>\n    </tr>\n    <tr>\n      <th>36</th>\n      <td>35</td>\n      <td>35</td>\n      <td>SEA</td>\n      <td>Glen Davis</td>\n      <td>LSU</td>\n      <td>8</td>\n      <td>514</td>\n      <td>10865</td>\n      <td>4111</td>\n      <td>2236</td>\n      <td>...</td>\n      <td>.182</td>\n      <td>.700</td>\n      <td>21.1</td>\n      <td>8.0</td>\n      <td>4.4</td>\n      <td>0.9</td>\n      <td>18.6</td>\n      <td>.082</td>\n      <td>-2.6</td>\n      <td>-1.7</td>\n    </tr>\n  </tbody>\n</table>\n<p>5 rows × 22 columns</p>\n</div>"
     },
     "metadata": {},
     "execution_count": 9
    }
   ],
   "source": [
    "draft_df.drop([30,31],inplace=True)\n",
    "draft_df.iloc[30:35]"
   ]
  },
  {
   "cell_type": "code",
   "execution_count": 10,
   "metadata": {},
   "outputs": [
    {
     "output_type": "execute_result",
     "data": {
      "text/plain": [
       "    Rk  Pk   Tm              Player             College  Yrs     G     MP  \\\n",
       "0    1   1  POR           Greg Oden          Ohio State    3   105   2028   \n",
       "1    2   2  SEA        Kevin Durant               Texas   13   884  32462   \n",
       "2    3   3  ATL          Al Horford             Florida   14   881  28592   \n",
       "3    4   4  MEM         Mike Conley          Ohio State   14   886  28561   \n",
       "4    5   5  BOS          Jeff Green          Georgetown   13   976  28614   \n",
       "6    7   7  MIN        Corey Brewer             Florida   13   819  18771   \n",
       "7    8   8  CHA      Brandan Wright                 UNC   10   428   6949   \n",
       "8    9   9  CHI         Joakim Noah             Florida   13   672  18646   \n",
       "9   10  10  SAC       Spencer Hawes          Washington   10   684  15541   \n",
       "10  11  11  ATL            Acie Law           Texas A&M    4   188   2385   \n",
       "11  12  12  PHI      Thaddeus Young        Georgia Tech   14  1033  30933   \n",
       "12  13  13  NOK       Julian Wright              Kansas    4   231   3049   \n",
       "13  14  14  LAC         Al Thornton       Florida State    4   296   8274   \n",
       "14  15  15  DET      Rodney Stuckey  Eastern Washington   10   651  17890   \n",
       "15  16  16  WAS          Nick Young                 USC   12   720  16419   \n",
       "16  17  17  NJN       Sean Williams      Boston College    4   137   1978   \n",
       "18  19  19  LAL  Javaris Crittenton        Georgia Tech    2   113   1853   \n",
       "19  20  20  MIA         Jason Smith      Colorado State   11   616  10029   \n",
       "20  21  21  PHI        Daequan Cook          Ohio State    6   328   5993   \n",
       "21  22  22  CHA        Jared Dudley      Boston College   14   904  20117   \n",
       "22  23  23  NYK     Wilson Chandler              DePaul   12   676  20287   \n",
       "24  25  25  UTA       Morris Almond     Rice University    3    38    361   \n",
       "25  26  26  HOU        Aaron Brooks              Oregon   10   645  13439   \n",
       "26  27  27  DET       Arron Afflalo                UCLA   11   762  20829   \n",
       "28  29  29  PHO       Alando Tucker           Wisconsin    3    51    426   \n",
       "32  31  31  SEA         Carl Landry              Purdue    9   513  11524   \n",
       "33  32  32  BOS         Gabe Pruitt                 USC    2    62    461   \n",
       "34  33  33  SAS     Marcus Williams             Arizona    2    13     39   \n",
       "35  34  34  DAL        Nick Fazekas              Nevada    1    26    269   \n",
       "36  35  35  SEA          Glen Davis                 LSU    8   514  10865   \n",
       "37  36  36  GSW   Jermareo Davidson             Alabama    2    52    433   \n",
       "38  37  37  POR      Josh McRoberts                Duke   11   433   8271   \n",
       "42  41  41  MIN       Chris Richard             Florida    2    70    780   \n",
       "43  42  42  POR       Derrick Byars          Vanderbilt    1     2     37   \n",
       "44  43  43  NOK        Adam Haluska                Iowa  NaN   NaN    NaN   \n",
       "45  44  44  ORL      Reyshawn Terry                 UNC  NaN   NaN    NaN   \n",
       "46  45  45  LAC        Jared Jordan      Marist College  NaN   NaN    NaN   \n",
       "47  46  46  GSW      Stéphane Lasme               UMass    1    16    303   \n",
       "48  47  47  WAS     Dominic McGuire        Fresno State    6   342   5348   \n",
       "50  49  49  CHI          Aaron Gray                Pitt    7   318   3851   \n",
       "52  51  51  CHI       JamesOn Curry      Oklahoma State    1     1      0   \n",
       "53  52  52  POR       Taurean Green             Florida    1    17     74   \n",
       "54  53  53  POR    Demetris Nichols            Syracuse    2    18     58   \n",
       "56  55  55  UTA        Herbert Hill          Providence  NaN   NaN    NaN   \n",
       "57  56  56  MIL      Ramon Sessions              Nevada   11   691  16119   \n",
       "58  57  57  DET         Sammy Mejia              DePaul  NaN   NaN    NaN   \n",
       "60  59  59  PHO     D.J. Strawberry            Maryland    1    33    270   \n",
       "\n",
       "      PTS   TRB  ...   3P%    FT%    MP   PTS  TRB  AST     WS  WS/48    BPM  \\\n",
       "0     840   656  ...   NaN   .658  19.3   8.0  6.2  0.5    7.3   .174   -0.4   \n",
       "1   23883  6239  ...  .384   .883  36.7  27.0  7.1  4.2  146.7   .217    6.7   \n",
       "2   12288  7241  ...  .364   .755  32.5  13.9  8.2  3.3   92.8   .156    2.8   \n",
       "3   13235  2655  ...  .379   .821  32.2  14.9  3.0  5.7   80.1   .135    2.4   \n",
       "4   12523  4271  ...  .340   .804  29.3  12.8  4.4  1.6   46.4   .078   -1.3   \n",
       "6    7097  2287  ...  .284   .713  22.9   8.7  2.8  1.5   22.5   .058   -1.6   \n",
       "7    2976  1560  ...  .000   .674  16.2   7.0  3.6  0.5   26.2   .181    2.3   \n",
       "8    5881  6058  ...  .000   .700  27.7   8.8  9.0  2.8   61.9   .159    2.5   \n",
       "9    5932  3893  ...  .350   .716  22.7   8.7  5.7  1.9   22.6   .070   -1.1   \n",
       "10    725   195  ...  .235   .778  12.7   3.9  1.0  1.6    1.6   .032   -3.9   \n",
       "11  13526  6137  ...  .331   .667  29.9  13.1  5.9  1.8   66.7   .103    0.4   \n",
       "12    907   531  ...  .262   .584  13.2   3.9  2.3  0.8    3.9   .061   -0.5   \n",
       "13   3527  1233  ...  .293   .747  28.0  11.9  4.2  1.2    6.1   .035   -3.5   \n",
       "14   8185  1912  ...  .300   .824  27.5  12.6  2.9  3.6   28.7   .077   -0.9   \n",
       "15   8194  1427  ...  .376   .836  22.8  11.4  2.0  1.0   18.6   .054   -2.2   \n",
       "16    581   472  ...  .000   .624  14.4   4.2  3.4  0.3    3.0   .073   -3.1   \n",
       "18    595   276  ...  .231   .638  16.4   5.3  2.4  1.8    0.1   .002   -4.2   \n",
       "19   3777  2075  ...  .333   .783  16.3   6.1  3.4  0.7   14.1   .067   -2.9   \n",
       "20   2114   703  ...  .359   .813  18.3   6.4  2.1  0.7    4.9   .039   -2.7   \n",
       "21   6633  2849  ...  .393   .732  22.3   7.3  3.2  1.5   43.0   .103    0.2   \n",
       "22   8463  3574  ...  .341   .770  30.0  12.5  5.3  1.8   29.0   .069   -1.3   \n",
       "24    119    46  ...  .292   .743   9.5   3.1  1.2  0.3    0.0   .005   -6.1   \n",
       "25   6259  1079  ...  .370   .837  20.8   9.7  1.7  3.0   19.2   .069   -1.2   \n",
       "26   8198  2176  ...  .386   .825  27.3  10.8  2.9  1.8   33.5   .077   -1.5   \n",
       "28    211    49  ...  .294   .783   8.4   4.1  1.0  0.3    0.4   .045   -4.5   \n",
       "32   5541  2533  ...  .300   .785  22.5  10.8  4.9  0.7   35.9   .149   -0.3   \n",
       "33    125    51  ...  .283   .783   7.4   2.0  0.8  0.8    0.4   .043   -2.8   \n",
       "34     14    12  ...   NaN    NaN   3.0   1.1  0.9  0.2   -0.1  -.084   -5.4   \n",
       "35    107    89  ...  .000   .682  10.3   4.1  3.4  0.4    0.8   .148    0.5   \n",
       "36   4111  2236  ...  .182   .700  21.1   8.0  4.4  0.9   18.6   .082   -2.6   \n",
       "37    162    96  ...   NaN   .578   8.3   3.1  1.8  0.3    0.0   .000   -5.2   \n",
       "38   2333  1686  ...  .340   .705  19.1   5.4  3.9  2.1   18.5   .107    0.3   \n",
       "42    135   194  ...   NaN   .605  11.1   1.9  2.8  0.4    0.7   .045   -5.7   \n",
       "43     10    11  ...  .000  1.000  18.5   5.0  5.5  0.5    0.1   .147   -4.7   \n",
       "44    NaN   NaN  ...   NaN    NaN   NaN   NaN  NaN  NaN    NaN    NaN    NaN   \n",
       "45    NaN   NaN  ...   NaN    NaN   NaN   NaN  NaN  NaN    NaN    NaN    NaN   \n",
       "46    NaN   NaN  ...   NaN    NaN   NaN   NaN  NaN  NaN    NaN    NaN    NaN   \n",
       "47     83    53  ...   NaN   .594  18.9   5.2  3.3  0.2    0.3   .041   -4.4   \n",
       "48    939  1169  ...  .188   .658  15.6   2.7  3.4  1.2    4.1   .037   -2.1   \n",
       "50   1066  1190  ...  .000   .562  12.1   3.4  3.7  0.7    6.2   .077   -3.6   \n",
       "52      0     0  ...   NaN    NaN   0.0   0.0  0.0  0.0    0.0    NaN    NaN   \n",
       "53     27    10  ...  .182   .917   4.4   1.6  0.6  0.6   -0.1  -.066   -7.5   \n",
       "54     22     7  ...  .200   .500   3.2   1.2  0.4  0.1   -0.2  -.203  -10.3   \n",
       "56    NaN   NaN  ...   NaN    NaN   NaN   NaN  NaN  NaN    NaN    NaN    NaN   \n",
       "57   7141  1840  ...  .316   .791  23.3  10.3  2.7  4.1   28.8   .086   -0.7   \n",
       "58    NaN   NaN  ...   NaN    NaN   NaN   NaN  NaN  NaN    NaN    NaN    NaN   \n",
       "60     73    28  ...  .240   .474   8.2   2.2  0.8  0.9   -0.2  -.031   -5.6   \n",
       "\n",
       "    VORP  \n",
       "0    0.8  \n",
       "1   71.6  \n",
       "2   34.7  \n",
       "3   31.9  \n",
       "4    4.9  \n",
       "6    2.0  \n",
       "7    7.5  \n",
       "8   20.9  \n",
       "9    3.4  \n",
       "10  -1.1  \n",
       "11  19.0  \n",
       "12   1.2  \n",
       "13  -3.2  \n",
       "14   4.9  \n",
       "15  -0.8  \n",
       "16  -0.6  \n",
       "18  -1.0  \n",
       "19  -2.4  \n",
       "20  -1.1  \n",
       "21  11.0  \n",
       "22   3.5  \n",
       "24  -0.4  \n",
       "25   2.7  \n",
       "26   2.4  \n",
       "28  -0.3  \n",
       "32   5.0  \n",
       "33  -0.1  \n",
       "34   0.0  \n",
       "35   0.2  \n",
       "36  -1.7  \n",
       "37  -0.3  \n",
       "38   4.7  \n",
       "42  -0.7  \n",
       "43   0.0  \n",
       "44   NaN  \n",
       "45   NaN  \n",
       "46   NaN  \n",
       "47  -0.2  \n",
       "48  -0.1  \n",
       "50  -1.5  \n",
       "52   0.0  \n",
       "53  -0.1  \n",
       "54  -0.1  \n",
       "56   NaN  \n",
       "57   5.2  \n",
       "58   NaN  \n",
       "60  -0.2  \n",
       "\n",
       "[47 rows x 22 columns]"
      ],
      "text/html": "<div>\n<style scoped>\n    .dataframe tbody tr th:only-of-type {\n        vertical-align: middle;\n    }\n\n    .dataframe tbody tr th {\n        vertical-align: top;\n    }\n\n    .dataframe thead th {\n        text-align: right;\n    }\n</style>\n<table border=\"1\" class=\"dataframe\">\n  <thead>\n    <tr style=\"text-align: right;\">\n      <th></th>\n      <th>Rk</th>\n      <th>Pk</th>\n      <th>Tm</th>\n      <th>Player</th>\n      <th>College</th>\n      <th>Yrs</th>\n      <th>G</th>\n      <th>MP</th>\n      <th>PTS</th>\n      <th>TRB</th>\n      <th>...</th>\n      <th>3P%</th>\n      <th>FT%</th>\n      <th>MP</th>\n      <th>PTS</th>\n      <th>TRB</th>\n      <th>AST</th>\n      <th>WS</th>\n      <th>WS/48</th>\n      <th>BPM</th>\n      <th>VORP</th>\n    </tr>\n  </thead>\n  <tbody>\n    <tr>\n      <th>0</th>\n      <td>1</td>\n      <td>1</td>\n      <td>POR</td>\n      <td>Greg Oden</td>\n      <td>Ohio State</td>\n      <td>3</td>\n      <td>105</td>\n      <td>2028</td>\n      <td>840</td>\n      <td>656</td>\n      <td>...</td>\n      <td>NaN</td>\n      <td>.658</td>\n      <td>19.3</td>\n      <td>8.0</td>\n      <td>6.2</td>\n      <td>0.5</td>\n      <td>7.3</td>\n      <td>.174</td>\n      <td>-0.4</td>\n      <td>0.8</td>\n    </tr>\n    <tr>\n      <th>1</th>\n      <td>2</td>\n      <td>2</td>\n      <td>SEA</td>\n      <td>Kevin Durant</td>\n      <td>Texas</td>\n      <td>13</td>\n      <td>884</td>\n      <td>32462</td>\n      <td>23883</td>\n      <td>6239</td>\n      <td>...</td>\n      <td>.384</td>\n      <td>.883</td>\n      <td>36.7</td>\n      <td>27.0</td>\n      <td>7.1</td>\n      <td>4.2</td>\n      <td>146.7</td>\n      <td>.217</td>\n      <td>6.7</td>\n      <td>71.6</td>\n    </tr>\n    <tr>\n      <th>2</th>\n      <td>3</td>\n      <td>3</td>\n      <td>ATL</td>\n      <td>Al Horford</td>\n      <td>Florida</td>\n      <td>14</td>\n      <td>881</td>\n      <td>28592</td>\n      <td>12288</td>\n      <td>7241</td>\n      <td>...</td>\n      <td>.364</td>\n      <td>.755</td>\n      <td>32.5</td>\n      <td>13.9</td>\n      <td>8.2</td>\n      <td>3.3</td>\n      <td>92.8</td>\n      <td>.156</td>\n      <td>2.8</td>\n      <td>34.7</td>\n    </tr>\n    <tr>\n      <th>3</th>\n      <td>4</td>\n      <td>4</td>\n      <td>MEM</td>\n      <td>Mike Conley</td>\n      <td>Ohio State</td>\n      <td>14</td>\n      <td>886</td>\n      <td>28561</td>\n      <td>13235</td>\n      <td>2655</td>\n      <td>...</td>\n      <td>.379</td>\n      <td>.821</td>\n      <td>32.2</td>\n      <td>14.9</td>\n      <td>3.0</td>\n      <td>5.7</td>\n      <td>80.1</td>\n      <td>.135</td>\n      <td>2.4</td>\n      <td>31.9</td>\n    </tr>\n    <tr>\n      <th>4</th>\n      <td>5</td>\n      <td>5</td>\n      <td>BOS</td>\n      <td>Jeff Green</td>\n      <td>Georgetown</td>\n      <td>13</td>\n      <td>976</td>\n      <td>28614</td>\n      <td>12523</td>\n      <td>4271</td>\n      <td>...</td>\n      <td>.340</td>\n      <td>.804</td>\n      <td>29.3</td>\n      <td>12.8</td>\n      <td>4.4</td>\n      <td>1.6</td>\n      <td>46.4</td>\n      <td>.078</td>\n      <td>-1.3</td>\n      <td>4.9</td>\n    </tr>\n    <tr>\n      <th>6</th>\n      <td>7</td>\n      <td>7</td>\n      <td>MIN</td>\n      <td>Corey Brewer</td>\n      <td>Florida</td>\n      <td>13</td>\n      <td>819</td>\n      <td>18771</td>\n      <td>7097</td>\n      <td>2287</td>\n      <td>...</td>\n      <td>.284</td>\n      <td>.713</td>\n      <td>22.9</td>\n      <td>8.7</td>\n      <td>2.8</td>\n      <td>1.5</td>\n      <td>22.5</td>\n      <td>.058</td>\n      <td>-1.6</td>\n      <td>2.0</td>\n    </tr>\n    <tr>\n      <th>7</th>\n      <td>8</td>\n      <td>8</td>\n      <td>CHA</td>\n      <td>Brandan Wright</td>\n      <td>UNC</td>\n      <td>10</td>\n      <td>428</td>\n      <td>6949</td>\n      <td>2976</td>\n      <td>1560</td>\n      <td>...</td>\n      <td>.000</td>\n      <td>.674</td>\n      <td>16.2</td>\n      <td>7.0</td>\n      <td>3.6</td>\n      <td>0.5</td>\n      <td>26.2</td>\n      <td>.181</td>\n      <td>2.3</td>\n      <td>7.5</td>\n    </tr>\n    <tr>\n      <th>8</th>\n      <td>9</td>\n      <td>9</td>\n      <td>CHI</td>\n      <td>Joakim Noah</td>\n      <td>Florida</td>\n      <td>13</td>\n      <td>672</td>\n      <td>18646</td>\n      <td>5881</td>\n      <td>6058</td>\n      <td>...</td>\n      <td>.000</td>\n      <td>.700</td>\n      <td>27.7</td>\n      <td>8.8</td>\n      <td>9.0</td>\n      <td>2.8</td>\n      <td>61.9</td>\n      <td>.159</td>\n      <td>2.5</td>\n      <td>20.9</td>\n    </tr>\n    <tr>\n      <th>9</th>\n      <td>10</td>\n      <td>10</td>\n      <td>SAC</td>\n      <td>Spencer Hawes</td>\n      <td>Washington</td>\n      <td>10</td>\n      <td>684</td>\n      <td>15541</td>\n      <td>5932</td>\n      <td>3893</td>\n      <td>...</td>\n      <td>.350</td>\n      <td>.716</td>\n      <td>22.7</td>\n      <td>8.7</td>\n      <td>5.7</td>\n      <td>1.9</td>\n      <td>22.6</td>\n      <td>.070</td>\n      <td>-1.1</td>\n      <td>3.4</td>\n    </tr>\n    <tr>\n      <th>10</th>\n      <td>11</td>\n      <td>11</td>\n      <td>ATL</td>\n      <td>Acie Law</td>\n      <td>Texas A&amp;M</td>\n      <td>4</td>\n      <td>188</td>\n      <td>2385</td>\n      <td>725</td>\n      <td>195</td>\n      <td>...</td>\n      <td>.235</td>\n      <td>.778</td>\n      <td>12.7</td>\n      <td>3.9</td>\n      <td>1.0</td>\n      <td>1.6</td>\n      <td>1.6</td>\n      <td>.032</td>\n      <td>-3.9</td>\n      <td>-1.1</td>\n    </tr>\n    <tr>\n      <th>11</th>\n      <td>12</td>\n      <td>12</td>\n      <td>PHI</td>\n      <td>Thaddeus Young</td>\n      <td>Georgia Tech</td>\n      <td>14</td>\n      <td>1033</td>\n      <td>30933</td>\n      <td>13526</td>\n      <td>6137</td>\n      <td>...</td>\n      <td>.331</td>\n      <td>.667</td>\n      <td>29.9</td>\n      <td>13.1</td>\n      <td>5.9</td>\n      <td>1.8</td>\n      <td>66.7</td>\n      <td>.103</td>\n      <td>0.4</td>\n      <td>19.0</td>\n    </tr>\n    <tr>\n      <th>12</th>\n      <td>13</td>\n      <td>13</td>\n      <td>NOK</td>\n      <td>Julian Wright</td>\n      <td>Kansas</td>\n      <td>4</td>\n      <td>231</td>\n      <td>3049</td>\n      <td>907</td>\n      <td>531</td>\n      <td>...</td>\n      <td>.262</td>\n      <td>.584</td>\n      <td>13.2</td>\n      <td>3.9</td>\n      <td>2.3</td>\n      <td>0.8</td>\n      <td>3.9</td>\n      <td>.061</td>\n      <td>-0.5</td>\n      <td>1.2</td>\n    </tr>\n    <tr>\n      <th>13</th>\n      <td>14</td>\n      <td>14</td>\n      <td>LAC</td>\n      <td>Al Thornton</td>\n      <td>Florida State</td>\n      <td>4</td>\n      <td>296</td>\n      <td>8274</td>\n      <td>3527</td>\n      <td>1233</td>\n      <td>...</td>\n      <td>.293</td>\n      <td>.747</td>\n      <td>28.0</td>\n      <td>11.9</td>\n      <td>4.2</td>\n      <td>1.2</td>\n      <td>6.1</td>\n      <td>.035</td>\n      <td>-3.5</td>\n      <td>-3.2</td>\n    </tr>\n    <tr>\n      <th>14</th>\n      <td>15</td>\n      <td>15</td>\n      <td>DET</td>\n      <td>Rodney Stuckey</td>\n      <td>Eastern Washington</td>\n      <td>10</td>\n      <td>651</td>\n      <td>17890</td>\n      <td>8185</td>\n      <td>1912</td>\n      <td>...</td>\n      <td>.300</td>\n      <td>.824</td>\n      <td>27.5</td>\n      <td>12.6</td>\n      <td>2.9</td>\n      <td>3.6</td>\n      <td>28.7</td>\n      <td>.077</td>\n      <td>-0.9</td>\n      <td>4.9</td>\n    </tr>\n    <tr>\n      <th>15</th>\n      <td>16</td>\n      <td>16</td>\n      <td>WAS</td>\n      <td>Nick Young</td>\n      <td>USC</td>\n      <td>12</td>\n      <td>720</td>\n      <td>16419</td>\n      <td>8194</td>\n      <td>1427</td>\n      <td>...</td>\n      <td>.376</td>\n      <td>.836</td>\n      <td>22.8</td>\n      <td>11.4</td>\n      <td>2.0</td>\n      <td>1.0</td>\n      <td>18.6</td>\n      <td>.054</td>\n      <td>-2.2</td>\n      <td>-0.8</td>\n    </tr>\n    <tr>\n      <th>16</th>\n      <td>17</td>\n      <td>17</td>\n      <td>NJN</td>\n      <td>Sean Williams</td>\n      <td>Boston College</td>\n      <td>4</td>\n      <td>137</td>\n      <td>1978</td>\n      <td>581</td>\n      <td>472</td>\n      <td>...</td>\n      <td>.000</td>\n      <td>.624</td>\n      <td>14.4</td>\n      <td>4.2</td>\n      <td>3.4</td>\n      <td>0.3</td>\n      <td>3.0</td>\n      <td>.073</td>\n      <td>-3.1</td>\n      <td>-0.6</td>\n    </tr>\n    <tr>\n      <th>18</th>\n      <td>19</td>\n      <td>19</td>\n      <td>LAL</td>\n      <td>Javaris Crittenton</td>\n      <td>Georgia Tech</td>\n      <td>2</td>\n      <td>113</td>\n      <td>1853</td>\n      <td>595</td>\n      <td>276</td>\n      <td>...</td>\n      <td>.231</td>\n      <td>.638</td>\n      <td>16.4</td>\n      <td>5.3</td>\n      <td>2.4</td>\n      <td>1.8</td>\n      <td>0.1</td>\n      <td>.002</td>\n      <td>-4.2</td>\n      <td>-1.0</td>\n    </tr>\n    <tr>\n      <th>19</th>\n      <td>20</td>\n      <td>20</td>\n      <td>MIA</td>\n      <td>Jason Smith</td>\n      <td>Colorado State</td>\n      <td>11</td>\n      <td>616</td>\n      <td>10029</td>\n      <td>3777</td>\n      <td>2075</td>\n      <td>...</td>\n      <td>.333</td>\n      <td>.783</td>\n      <td>16.3</td>\n      <td>6.1</td>\n      <td>3.4</td>\n      <td>0.7</td>\n      <td>14.1</td>\n      <td>.067</td>\n      <td>-2.9</td>\n      <td>-2.4</td>\n    </tr>\n    <tr>\n      <th>20</th>\n      <td>21</td>\n      <td>21</td>\n      <td>PHI</td>\n      <td>Daequan Cook</td>\n      <td>Ohio State</td>\n      <td>6</td>\n      <td>328</td>\n      <td>5993</td>\n      <td>2114</td>\n      <td>703</td>\n      <td>...</td>\n      <td>.359</td>\n      <td>.813</td>\n      <td>18.3</td>\n      <td>6.4</td>\n      <td>2.1</td>\n      <td>0.7</td>\n      <td>4.9</td>\n      <td>.039</td>\n      <td>-2.7</td>\n      <td>-1.1</td>\n    </tr>\n    <tr>\n      <th>21</th>\n      <td>22</td>\n      <td>22</td>\n      <td>CHA</td>\n      <td>Jared Dudley</td>\n      <td>Boston College</td>\n      <td>14</td>\n      <td>904</td>\n      <td>20117</td>\n      <td>6633</td>\n      <td>2849</td>\n      <td>...</td>\n      <td>.393</td>\n      <td>.732</td>\n      <td>22.3</td>\n      <td>7.3</td>\n      <td>3.2</td>\n      <td>1.5</td>\n      <td>43.0</td>\n      <td>.103</td>\n      <td>0.2</td>\n      <td>11.0</td>\n    </tr>\n    <tr>\n      <th>22</th>\n      <td>23</td>\n      <td>23</td>\n      <td>NYK</td>\n      <td>Wilson Chandler</td>\n      <td>DePaul</td>\n      <td>12</td>\n      <td>676</td>\n      <td>20287</td>\n      <td>8463</td>\n      <td>3574</td>\n      <td>...</td>\n      <td>.341</td>\n      <td>.770</td>\n      <td>30.0</td>\n      <td>12.5</td>\n      <td>5.3</td>\n      <td>1.8</td>\n      <td>29.0</td>\n      <td>.069</td>\n      <td>-1.3</td>\n      <td>3.5</td>\n    </tr>\n    <tr>\n      <th>24</th>\n      <td>25</td>\n      <td>25</td>\n      <td>UTA</td>\n      <td>Morris Almond</td>\n      <td>Rice University</td>\n      <td>3</td>\n      <td>38</td>\n      <td>361</td>\n      <td>119</td>\n      <td>46</td>\n      <td>...</td>\n      <td>.292</td>\n      <td>.743</td>\n      <td>9.5</td>\n      <td>3.1</td>\n      <td>1.2</td>\n      <td>0.3</td>\n      <td>0.0</td>\n      <td>.005</td>\n      <td>-6.1</td>\n      <td>-0.4</td>\n    </tr>\n    <tr>\n      <th>25</th>\n      <td>26</td>\n      <td>26</td>\n      <td>HOU</td>\n      <td>Aaron Brooks</td>\n      <td>Oregon</td>\n      <td>10</td>\n      <td>645</td>\n      <td>13439</td>\n      <td>6259</td>\n      <td>1079</td>\n      <td>...</td>\n      <td>.370</td>\n      <td>.837</td>\n      <td>20.8</td>\n      <td>9.7</td>\n      <td>1.7</td>\n      <td>3.0</td>\n      <td>19.2</td>\n      <td>.069</td>\n      <td>-1.2</td>\n      <td>2.7</td>\n    </tr>\n    <tr>\n      <th>26</th>\n      <td>27</td>\n      <td>27</td>\n      <td>DET</td>\n      <td>Arron Afflalo</td>\n      <td>UCLA</td>\n      <td>11</td>\n      <td>762</td>\n      <td>20829</td>\n      <td>8198</td>\n      <td>2176</td>\n      <td>...</td>\n      <td>.386</td>\n      <td>.825</td>\n      <td>27.3</td>\n      <td>10.8</td>\n      <td>2.9</td>\n      <td>1.8</td>\n      <td>33.5</td>\n      <td>.077</td>\n      <td>-1.5</td>\n      <td>2.4</td>\n    </tr>\n    <tr>\n      <th>28</th>\n      <td>29</td>\n      <td>29</td>\n      <td>PHO</td>\n      <td>Alando Tucker</td>\n      <td>Wisconsin</td>\n      <td>3</td>\n      <td>51</td>\n      <td>426</td>\n      <td>211</td>\n      <td>49</td>\n      <td>...</td>\n      <td>.294</td>\n      <td>.783</td>\n      <td>8.4</td>\n      <td>4.1</td>\n      <td>1.0</td>\n      <td>0.3</td>\n      <td>0.4</td>\n      <td>.045</td>\n      <td>-4.5</td>\n      <td>-0.3</td>\n    </tr>\n    <tr>\n      <th>32</th>\n      <td>31</td>\n      <td>31</td>\n      <td>SEA</td>\n      <td>Carl Landry</td>\n      <td>Purdue</td>\n      <td>9</td>\n      <td>513</td>\n      <td>11524</td>\n      <td>5541</td>\n      <td>2533</td>\n      <td>...</td>\n      <td>.300</td>\n      <td>.785</td>\n      <td>22.5</td>\n      <td>10.8</td>\n      <td>4.9</td>\n      <td>0.7</td>\n      <td>35.9</td>\n      <td>.149</td>\n      <td>-0.3</td>\n      <td>5.0</td>\n    </tr>\n    <tr>\n      <th>33</th>\n      <td>32</td>\n      <td>32</td>\n      <td>BOS</td>\n      <td>Gabe Pruitt</td>\n      <td>USC</td>\n      <td>2</td>\n      <td>62</td>\n      <td>461</td>\n      <td>125</td>\n      <td>51</td>\n      <td>...</td>\n      <td>.283</td>\n      <td>.783</td>\n      <td>7.4</td>\n      <td>2.0</td>\n      <td>0.8</td>\n      <td>0.8</td>\n      <td>0.4</td>\n      <td>.043</td>\n      <td>-2.8</td>\n      <td>-0.1</td>\n    </tr>\n    <tr>\n      <th>34</th>\n      <td>33</td>\n      <td>33</td>\n      <td>SAS</td>\n      <td>Marcus Williams</td>\n      <td>Arizona</td>\n      <td>2</td>\n      <td>13</td>\n      <td>39</td>\n      <td>14</td>\n      <td>12</td>\n      <td>...</td>\n      <td>NaN</td>\n      <td>NaN</td>\n      <td>3.0</td>\n      <td>1.1</td>\n      <td>0.9</td>\n      <td>0.2</td>\n      <td>-0.1</td>\n      <td>-.084</td>\n      <td>-5.4</td>\n      <td>0.0</td>\n    </tr>\n    <tr>\n      <th>35</th>\n      <td>34</td>\n      <td>34</td>\n      <td>DAL</td>\n      <td>Nick Fazekas</td>\n      <td>Nevada</td>\n      <td>1</td>\n      <td>26</td>\n      <td>269</td>\n      <td>107</td>\n      <td>89</td>\n      <td>...</td>\n      <td>.000</td>\n      <td>.682</td>\n      <td>10.3</td>\n      <td>4.1</td>\n      <td>3.4</td>\n      <td>0.4</td>\n      <td>0.8</td>\n      <td>.148</td>\n      <td>0.5</td>\n      <td>0.2</td>\n    </tr>\n    <tr>\n      <th>36</th>\n      <td>35</td>\n      <td>35</td>\n      <td>SEA</td>\n      <td>Glen Davis</td>\n      <td>LSU</td>\n      <td>8</td>\n      <td>514</td>\n      <td>10865</td>\n      <td>4111</td>\n      <td>2236</td>\n      <td>...</td>\n      <td>.182</td>\n      <td>.700</td>\n      <td>21.1</td>\n      <td>8.0</td>\n      <td>4.4</td>\n      <td>0.9</td>\n      <td>18.6</td>\n      <td>.082</td>\n      <td>-2.6</td>\n      <td>-1.7</td>\n    </tr>\n    <tr>\n      <th>37</th>\n      <td>36</td>\n      <td>36</td>\n      <td>GSW</td>\n      <td>Jermareo Davidson</td>\n      <td>Alabama</td>\n      <td>2</td>\n      <td>52</td>\n      <td>433</td>\n      <td>162</td>\n      <td>96</td>\n      <td>...</td>\n      <td>NaN</td>\n      <td>.578</td>\n      <td>8.3</td>\n      <td>3.1</td>\n      <td>1.8</td>\n      <td>0.3</td>\n      <td>0.0</td>\n      <td>.000</td>\n      <td>-5.2</td>\n      <td>-0.3</td>\n    </tr>\n    <tr>\n      <th>38</th>\n      <td>37</td>\n      <td>37</td>\n      <td>POR</td>\n      <td>Josh McRoberts</td>\n      <td>Duke</td>\n      <td>11</td>\n      <td>433</td>\n      <td>8271</td>\n      <td>2333</td>\n      <td>1686</td>\n      <td>...</td>\n      <td>.340</td>\n      <td>.705</td>\n      <td>19.1</td>\n      <td>5.4</td>\n      <td>3.9</td>\n      <td>2.1</td>\n      <td>18.5</td>\n      <td>.107</td>\n      <td>0.3</td>\n      <td>4.7</td>\n    </tr>\n    <tr>\n      <th>42</th>\n      <td>41</td>\n      <td>41</td>\n      <td>MIN</td>\n      <td>Chris Richard</td>\n      <td>Florida</td>\n      <td>2</td>\n      <td>70</td>\n      <td>780</td>\n      <td>135</td>\n      <td>194</td>\n      <td>...</td>\n      <td>NaN</td>\n      <td>.605</td>\n      <td>11.1</td>\n      <td>1.9</td>\n      <td>2.8</td>\n      <td>0.4</td>\n      <td>0.7</td>\n      <td>.045</td>\n      <td>-5.7</td>\n      <td>-0.7</td>\n    </tr>\n    <tr>\n      <th>43</th>\n      <td>42</td>\n      <td>42</td>\n      <td>POR</td>\n      <td>Derrick Byars</td>\n      <td>Vanderbilt</td>\n      <td>1</td>\n      <td>2</td>\n      <td>37</td>\n      <td>10</td>\n      <td>11</td>\n      <td>...</td>\n      <td>.000</td>\n      <td>1.000</td>\n      <td>18.5</td>\n      <td>5.0</td>\n      <td>5.5</td>\n      <td>0.5</td>\n      <td>0.1</td>\n      <td>.147</td>\n      <td>-4.7</td>\n      <td>0.0</td>\n    </tr>\n    <tr>\n      <th>44</th>\n      <td>43</td>\n      <td>43</td>\n      <td>NOK</td>\n      <td>Adam Haluska</td>\n      <td>Iowa</td>\n      <td>NaN</td>\n      <td>NaN</td>\n      <td>NaN</td>\n      <td>NaN</td>\n      <td>NaN</td>\n      <td>...</td>\n      <td>NaN</td>\n      <td>NaN</td>\n      <td>NaN</td>\n      <td>NaN</td>\n      <td>NaN</td>\n      <td>NaN</td>\n      <td>NaN</td>\n      <td>NaN</td>\n      <td>NaN</td>\n      <td>NaN</td>\n    </tr>\n    <tr>\n      <th>45</th>\n      <td>44</td>\n      <td>44</td>\n      <td>ORL</td>\n      <td>Reyshawn Terry</td>\n      <td>UNC</td>\n      <td>NaN</td>\n      <td>NaN</td>\n      <td>NaN</td>\n      <td>NaN</td>\n      <td>NaN</td>\n      <td>...</td>\n      <td>NaN</td>\n      <td>NaN</td>\n      <td>NaN</td>\n      <td>NaN</td>\n      <td>NaN</td>\n      <td>NaN</td>\n      <td>NaN</td>\n      <td>NaN</td>\n      <td>NaN</td>\n      <td>NaN</td>\n    </tr>\n    <tr>\n      <th>46</th>\n      <td>45</td>\n      <td>45</td>\n      <td>LAC</td>\n      <td>Jared Jordan</td>\n      <td>Marist College</td>\n      <td>NaN</td>\n      <td>NaN</td>\n      <td>NaN</td>\n      <td>NaN</td>\n      <td>NaN</td>\n      <td>...</td>\n      <td>NaN</td>\n      <td>NaN</td>\n      <td>NaN</td>\n      <td>NaN</td>\n      <td>NaN</td>\n      <td>NaN</td>\n      <td>NaN</td>\n      <td>NaN</td>\n      <td>NaN</td>\n      <td>NaN</td>\n    </tr>\n    <tr>\n      <th>47</th>\n      <td>46</td>\n      <td>46</td>\n      <td>GSW</td>\n      <td>Stéphane Lasme</td>\n      <td>UMass</td>\n      <td>1</td>\n      <td>16</td>\n      <td>303</td>\n      <td>83</td>\n      <td>53</td>\n      <td>...</td>\n      <td>NaN</td>\n      <td>.594</td>\n      <td>18.9</td>\n      <td>5.2</td>\n      <td>3.3</td>\n      <td>0.2</td>\n      <td>0.3</td>\n      <td>.041</td>\n      <td>-4.4</td>\n      <td>-0.2</td>\n    </tr>\n    <tr>\n      <th>48</th>\n      <td>47</td>\n      <td>47</td>\n      <td>WAS</td>\n      <td>Dominic McGuire</td>\n      <td>Fresno State</td>\n      <td>6</td>\n      <td>342</td>\n      <td>5348</td>\n      <td>939</td>\n      <td>1169</td>\n      <td>...</td>\n      <td>.188</td>\n      <td>.658</td>\n      <td>15.6</td>\n      <td>2.7</td>\n      <td>3.4</td>\n      <td>1.2</td>\n      <td>4.1</td>\n      <td>.037</td>\n      <td>-2.1</td>\n      <td>-0.1</td>\n    </tr>\n    <tr>\n      <th>50</th>\n      <td>49</td>\n      <td>49</td>\n      <td>CHI</td>\n      <td>Aaron Gray</td>\n      <td>Pitt</td>\n      <td>7</td>\n      <td>318</td>\n      <td>3851</td>\n      <td>1066</td>\n      <td>1190</td>\n      <td>...</td>\n      <td>.000</td>\n      <td>.562</td>\n      <td>12.1</td>\n      <td>3.4</td>\n      <td>3.7</td>\n      <td>0.7</td>\n      <td>6.2</td>\n      <td>.077</td>\n      <td>-3.6</td>\n      <td>-1.5</td>\n    </tr>\n    <tr>\n      <th>52</th>\n      <td>51</td>\n      <td>51</td>\n      <td>CHI</td>\n      <td>JamesOn Curry</td>\n      <td>Oklahoma State</td>\n      <td>1</td>\n      <td>1</td>\n      <td>0</td>\n      <td>0</td>\n      <td>0</td>\n      <td>...</td>\n      <td>NaN</td>\n      <td>NaN</td>\n      <td>0.0</td>\n      <td>0.0</td>\n      <td>0.0</td>\n      <td>0.0</td>\n      <td>0.0</td>\n      <td>NaN</td>\n      <td>NaN</td>\n      <td>0.0</td>\n    </tr>\n    <tr>\n      <th>53</th>\n      <td>52</td>\n      <td>52</td>\n      <td>POR</td>\n      <td>Taurean Green</td>\n      <td>Florida</td>\n      <td>1</td>\n      <td>17</td>\n      <td>74</td>\n      <td>27</td>\n      <td>10</td>\n      <td>...</td>\n      <td>.182</td>\n      <td>.917</td>\n      <td>4.4</td>\n      <td>1.6</td>\n      <td>0.6</td>\n      <td>0.6</td>\n      <td>-0.1</td>\n      <td>-.066</td>\n      <td>-7.5</td>\n      <td>-0.1</td>\n    </tr>\n    <tr>\n      <th>54</th>\n      <td>53</td>\n      <td>53</td>\n      <td>POR</td>\n      <td>Demetris Nichols</td>\n      <td>Syracuse</td>\n      <td>2</td>\n      <td>18</td>\n      <td>58</td>\n      <td>22</td>\n      <td>7</td>\n      <td>...</td>\n      <td>.200</td>\n      <td>.500</td>\n      <td>3.2</td>\n      <td>1.2</td>\n      <td>0.4</td>\n      <td>0.1</td>\n      <td>-0.2</td>\n      <td>-.203</td>\n      <td>-10.3</td>\n      <td>-0.1</td>\n    </tr>\n    <tr>\n      <th>56</th>\n      <td>55</td>\n      <td>55</td>\n      <td>UTA</td>\n      <td>Herbert Hill</td>\n      <td>Providence</td>\n      <td>NaN</td>\n      <td>NaN</td>\n      <td>NaN</td>\n      <td>NaN</td>\n      <td>NaN</td>\n      <td>...</td>\n      <td>NaN</td>\n      <td>NaN</td>\n      <td>NaN</td>\n      <td>NaN</td>\n      <td>NaN</td>\n      <td>NaN</td>\n      <td>NaN</td>\n      <td>NaN</td>\n      <td>NaN</td>\n      <td>NaN</td>\n    </tr>\n    <tr>\n      <th>57</th>\n      <td>56</td>\n      <td>56</td>\n      <td>MIL</td>\n      <td>Ramon Sessions</td>\n      <td>Nevada</td>\n      <td>11</td>\n      <td>691</td>\n      <td>16119</td>\n      <td>7141</td>\n      <td>1840</td>\n      <td>...</td>\n      <td>.316</td>\n      <td>.791</td>\n      <td>23.3</td>\n      <td>10.3</td>\n      <td>2.7</td>\n      <td>4.1</td>\n      <td>28.8</td>\n      <td>.086</td>\n      <td>-0.7</td>\n      <td>5.2</td>\n    </tr>\n    <tr>\n      <th>58</th>\n      <td>57</td>\n      <td>57</td>\n      <td>DET</td>\n      <td>Sammy Mejia</td>\n      <td>DePaul</td>\n      <td>NaN</td>\n      <td>NaN</td>\n      <td>NaN</td>\n      <td>NaN</td>\n      <td>NaN</td>\n      <td>...</td>\n      <td>NaN</td>\n      <td>NaN</td>\n      <td>NaN</td>\n      <td>NaN</td>\n      <td>NaN</td>\n      <td>NaN</td>\n      <td>NaN</td>\n      <td>NaN</td>\n      <td>NaN</td>\n      <td>NaN</td>\n    </tr>\n    <tr>\n      <th>60</th>\n      <td>59</td>\n      <td>59</td>\n      <td>PHO</td>\n      <td>D.J. Strawberry</td>\n      <td>Maryland</td>\n      <td>1</td>\n      <td>33</td>\n      <td>270</td>\n      <td>73</td>\n      <td>28</td>\n      <td>...</td>\n      <td>.240</td>\n      <td>.474</td>\n      <td>8.2</td>\n      <td>2.2</td>\n      <td>0.8</td>\n      <td>0.9</td>\n      <td>-0.2</td>\n      <td>-.031</td>\n      <td>-5.6</td>\n      <td>-0.2</td>\n    </tr>\n  </tbody>\n</table>\n<p>47 rows × 22 columns</p>\n</div>"
     },
     "metadata": {},
     "execution_count": 10
    }
   ],
   "source": [
    "clean_draft_df = draft_df.dropna(subset=[\"College\"])\n",
    "clean_draft_df"
   ]
  },
  {
   "cell_type": "code",
   "execution_count": 13,
   "metadata": {},
   "outputs": [
    {
     "output_type": "execute_result",
     "data": {
      "text/plain": [
       "    Pk   Tm              Player             College\n",
       "0    1  POR           Greg Oden          Ohio State\n",
       "1    2  SEA        Kevin Durant               Texas\n",
       "2    3  ATL          Al Horford             Florida\n",
       "3    4  MEM         Mike Conley          Ohio State\n",
       "4    5  BOS          Jeff Green          Georgetown\n",
       "6    7  MIN        Corey Brewer             Florida\n",
       "7    8  CHA      Brandan Wright                 UNC\n",
       "8    9  CHI         Joakim Noah             Florida\n",
       "9   10  SAC       Spencer Hawes          Washington\n",
       "10  11  ATL            Acie Law           Texas A&M\n",
       "11  12  PHI      Thaddeus Young        Georgia Tech\n",
       "12  13  NOK       Julian Wright              Kansas\n",
       "13  14  LAC         Al Thornton       Florida State\n",
       "14  15  DET      Rodney Stuckey  Eastern Washington\n",
       "15  16  WAS          Nick Young                 USC\n",
       "16  17  NJN       Sean Williams      Boston College\n",
       "18  19  LAL  Javaris Crittenton        Georgia Tech\n",
       "19  20  MIA         Jason Smith      Colorado State\n",
       "20  21  PHI        Daequan Cook          Ohio State\n",
       "21  22  CHA        Jared Dudley      Boston College\n",
       "22  23  NYK     Wilson Chandler              DePaul\n",
       "24  25  UTA       Morris Almond     Rice University\n",
       "25  26  HOU        Aaron Brooks              Oregon\n",
       "26  27  DET       Arron Afflalo                UCLA\n",
       "28  29  PHO       Alando Tucker           Wisconsin\n",
       "32  31  SEA         Carl Landry              Purdue\n",
       "33  32  BOS         Gabe Pruitt                 USC\n",
       "34  33  SAS     Marcus Williams             Arizona\n",
       "35  34  DAL        Nick Fazekas              Nevada\n",
       "36  35  SEA          Glen Davis                 LSU\n",
       "37  36  GSW   Jermareo Davidson             Alabama\n",
       "38  37  POR      Josh McRoberts                Duke\n",
       "42  41  MIN       Chris Richard             Florida\n",
       "43  42  POR       Derrick Byars          Vanderbilt\n",
       "44  43  NOK        Adam Haluska                Iowa\n",
       "45  44  ORL      Reyshawn Terry                 UNC\n",
       "46  45  LAC        Jared Jordan      Marist College\n",
       "47  46  GSW      Stéphane Lasme               UMass\n",
       "48  47  WAS     Dominic McGuire        Fresno State\n",
       "50  49  CHI          Aaron Gray                Pitt\n",
       "52  51  CHI       JamesOn Curry      Oklahoma State\n",
       "53  52  POR       Taurean Green             Florida\n",
       "54  53  POR    Demetris Nichols            Syracuse\n",
       "56  55  UTA        Herbert Hill          Providence\n",
       "57  56  MIL      Ramon Sessions              Nevada\n",
       "58  57  DET         Sammy Mejia              DePaul\n",
       "60  59  PHO     D.J. Strawberry            Maryland"
      ],
      "text/html": "<div>\n<style scoped>\n    .dataframe tbody tr th:only-of-type {\n        vertical-align: middle;\n    }\n\n    .dataframe tbody tr th {\n        vertical-align: top;\n    }\n\n    .dataframe thead th {\n        text-align: right;\n    }\n</style>\n<table border=\"1\" class=\"dataframe\">\n  <thead>\n    <tr style=\"text-align: right;\">\n      <th></th>\n      <th>Pk</th>\n      <th>Tm</th>\n      <th>Player</th>\n      <th>College</th>\n    </tr>\n  </thead>\n  <tbody>\n    <tr>\n      <th>0</th>\n      <td>1</td>\n      <td>POR</td>\n      <td>Greg Oden</td>\n      <td>Ohio State</td>\n    </tr>\n    <tr>\n      <th>1</th>\n      <td>2</td>\n      <td>SEA</td>\n      <td>Kevin Durant</td>\n      <td>Texas</td>\n    </tr>\n    <tr>\n      <th>2</th>\n      <td>3</td>\n      <td>ATL</td>\n      <td>Al Horford</td>\n      <td>Florida</td>\n    </tr>\n    <tr>\n      <th>3</th>\n      <td>4</td>\n      <td>MEM</td>\n      <td>Mike Conley</td>\n      <td>Ohio State</td>\n    </tr>\n    <tr>\n      <th>4</th>\n      <td>5</td>\n      <td>BOS</td>\n      <td>Jeff Green</td>\n      <td>Georgetown</td>\n    </tr>\n    <tr>\n      <th>6</th>\n      <td>7</td>\n      <td>MIN</td>\n      <td>Corey Brewer</td>\n      <td>Florida</td>\n    </tr>\n    <tr>\n      <th>7</th>\n      <td>8</td>\n      <td>CHA</td>\n      <td>Brandan Wright</td>\n      <td>UNC</td>\n    </tr>\n    <tr>\n      <th>8</th>\n      <td>9</td>\n      <td>CHI</td>\n      <td>Joakim Noah</td>\n      <td>Florida</td>\n    </tr>\n    <tr>\n      <th>9</th>\n      <td>10</td>\n      <td>SAC</td>\n      <td>Spencer Hawes</td>\n      <td>Washington</td>\n    </tr>\n    <tr>\n      <th>10</th>\n      <td>11</td>\n      <td>ATL</td>\n      <td>Acie Law</td>\n      <td>Texas A&amp;M</td>\n    </tr>\n    <tr>\n      <th>11</th>\n      <td>12</td>\n      <td>PHI</td>\n      <td>Thaddeus Young</td>\n      <td>Georgia Tech</td>\n    </tr>\n    <tr>\n      <th>12</th>\n      <td>13</td>\n      <td>NOK</td>\n      <td>Julian Wright</td>\n      <td>Kansas</td>\n    </tr>\n    <tr>\n      <th>13</th>\n      <td>14</td>\n      <td>LAC</td>\n      <td>Al Thornton</td>\n      <td>Florida State</td>\n    </tr>\n    <tr>\n      <th>14</th>\n      <td>15</td>\n      <td>DET</td>\n      <td>Rodney Stuckey</td>\n      <td>Eastern Washington</td>\n    </tr>\n    <tr>\n      <th>15</th>\n      <td>16</td>\n      <td>WAS</td>\n      <td>Nick Young</td>\n      <td>USC</td>\n    </tr>\n    <tr>\n      <th>16</th>\n      <td>17</td>\n      <td>NJN</td>\n      <td>Sean Williams</td>\n      <td>Boston College</td>\n    </tr>\n    <tr>\n      <th>18</th>\n      <td>19</td>\n      <td>LAL</td>\n      <td>Javaris Crittenton</td>\n      <td>Georgia Tech</td>\n    </tr>\n    <tr>\n      <th>19</th>\n      <td>20</td>\n      <td>MIA</td>\n      <td>Jason Smith</td>\n      <td>Colorado State</td>\n    </tr>\n    <tr>\n      <th>20</th>\n      <td>21</td>\n      <td>PHI</td>\n      <td>Daequan Cook</td>\n      <td>Ohio State</td>\n    </tr>\n    <tr>\n      <th>21</th>\n      <td>22</td>\n      <td>CHA</td>\n      <td>Jared Dudley</td>\n      <td>Boston College</td>\n    </tr>\n    <tr>\n      <th>22</th>\n      <td>23</td>\n      <td>NYK</td>\n      <td>Wilson Chandler</td>\n      <td>DePaul</td>\n    </tr>\n    <tr>\n      <th>24</th>\n      <td>25</td>\n      <td>UTA</td>\n      <td>Morris Almond</td>\n      <td>Rice University</td>\n    </tr>\n    <tr>\n      <th>25</th>\n      <td>26</td>\n      <td>HOU</td>\n      <td>Aaron Brooks</td>\n      <td>Oregon</td>\n    </tr>\n    <tr>\n      <th>26</th>\n      <td>27</td>\n      <td>DET</td>\n      <td>Arron Afflalo</td>\n      <td>UCLA</td>\n    </tr>\n    <tr>\n      <th>28</th>\n      <td>29</td>\n      <td>PHO</td>\n      <td>Alando Tucker</td>\n      <td>Wisconsin</td>\n    </tr>\n    <tr>\n      <th>32</th>\n      <td>31</td>\n      <td>SEA</td>\n      <td>Carl Landry</td>\n      <td>Purdue</td>\n    </tr>\n    <tr>\n      <th>33</th>\n      <td>32</td>\n      <td>BOS</td>\n      <td>Gabe Pruitt</td>\n      <td>USC</td>\n    </tr>\n    <tr>\n      <th>34</th>\n      <td>33</td>\n      <td>SAS</td>\n      <td>Marcus Williams</td>\n      <td>Arizona</td>\n    </tr>\n    <tr>\n      <th>35</th>\n      <td>34</td>\n      <td>DAL</td>\n      <td>Nick Fazekas</td>\n      <td>Nevada</td>\n    </tr>\n    <tr>\n      <th>36</th>\n      <td>35</td>\n      <td>SEA</td>\n      <td>Glen Davis</td>\n      <td>LSU</td>\n    </tr>\n    <tr>\n      <th>37</th>\n      <td>36</td>\n      <td>GSW</td>\n      <td>Jermareo Davidson</td>\n      <td>Alabama</td>\n    </tr>\n    <tr>\n      <th>38</th>\n      <td>37</td>\n      <td>POR</td>\n      <td>Josh McRoberts</td>\n      <td>Duke</td>\n    </tr>\n    <tr>\n      <th>42</th>\n      <td>41</td>\n      <td>MIN</td>\n      <td>Chris Richard</td>\n      <td>Florida</td>\n    </tr>\n    <tr>\n      <th>43</th>\n      <td>42</td>\n      <td>POR</td>\n      <td>Derrick Byars</td>\n      <td>Vanderbilt</td>\n    </tr>\n    <tr>\n      <th>44</th>\n      <td>43</td>\n      <td>NOK</td>\n      <td>Adam Haluska</td>\n      <td>Iowa</td>\n    </tr>\n    <tr>\n      <th>45</th>\n      <td>44</td>\n      <td>ORL</td>\n      <td>Reyshawn Terry</td>\n      <td>UNC</td>\n    </tr>\n    <tr>\n      <th>46</th>\n      <td>45</td>\n      <td>LAC</td>\n      <td>Jared Jordan</td>\n      <td>Marist College</td>\n    </tr>\n    <tr>\n      <th>47</th>\n      <td>46</td>\n      <td>GSW</td>\n      <td>Stéphane Lasme</td>\n      <td>UMass</td>\n    </tr>\n    <tr>\n      <th>48</th>\n      <td>47</td>\n      <td>WAS</td>\n      <td>Dominic McGuire</td>\n      <td>Fresno State</td>\n    </tr>\n    <tr>\n      <th>50</th>\n      <td>49</td>\n      <td>CHI</td>\n      <td>Aaron Gray</td>\n      <td>Pitt</td>\n    </tr>\n    <tr>\n      <th>52</th>\n      <td>51</td>\n      <td>CHI</td>\n      <td>JamesOn Curry</td>\n      <td>Oklahoma State</td>\n    </tr>\n    <tr>\n      <th>53</th>\n      <td>52</td>\n      <td>POR</td>\n      <td>Taurean Green</td>\n      <td>Florida</td>\n    </tr>\n    <tr>\n      <th>54</th>\n      <td>53</td>\n      <td>POR</td>\n      <td>Demetris Nichols</td>\n      <td>Syracuse</td>\n    </tr>\n    <tr>\n      <th>56</th>\n      <td>55</td>\n      <td>UTA</td>\n      <td>Herbert Hill</td>\n      <td>Providence</td>\n    </tr>\n    <tr>\n      <th>57</th>\n      <td>56</td>\n      <td>MIL</td>\n      <td>Ramon Sessions</td>\n      <td>Nevada</td>\n    </tr>\n    <tr>\n      <th>58</th>\n      <td>57</td>\n      <td>DET</td>\n      <td>Sammy Mejia</td>\n      <td>DePaul</td>\n    </tr>\n    <tr>\n      <th>60</th>\n      <td>59</td>\n      <td>PHO</td>\n      <td>D.J. Strawberry</td>\n      <td>Maryland</td>\n    </tr>\n  </tbody>\n</table>\n</div>"
     },
     "metadata": {},
     "execution_count": 13
    }
   ],
   "source": [
    "final_draft_df = clean_draft_df[[\"Pk\",\"Tm\",\"Player\",\"College\"]] \n",
    "final_draft_df"
   ]
  },
  {
   "cell_type": "code",
   "execution_count": 15,
   "metadata": {},
   "outputs": [],
   "source": [
    "final_draft_df.to_csv('./data/2007draft.csv',index=False)"
   ]
  },
  {
   "cell_type": "code",
   "execution_count": null,
   "metadata": {},
   "outputs": [],
   "source": []
  }
 ]
}
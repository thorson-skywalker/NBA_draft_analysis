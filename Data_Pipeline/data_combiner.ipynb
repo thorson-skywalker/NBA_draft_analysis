{
 "metadata": {
  "language_info": {
   "codemirror_mode": {
    "name": "ipython",
    "version": 3
   },
   "file_extension": ".py",
   "mimetype": "text/x-python",
   "name": "python",
   "nbconvert_exporter": "python",
   "pygments_lexer": "ipython3",
   "version": "3.7.9"
  },
  "orig_nbformat": 2,
  "kernelspec": {
   "name": "pythondata",
   "display_name": "PythonData",
   "language": "python"
  }
 },
 "nbformat": 4,
 "nbformat_minor": 2,
 "cells": [
  {
   "cell_type": "code",
   "execution_count": 3,
   "metadata": {},
   "outputs": [],
   "source": [
    "import pandas as pd"
   ]
  },
  {
   "cell_type": "code",
   "execution_count": 11,
   "metadata": {},
   "outputs": [],
   "source": [
    "combined_draft_data = pd.DataFrame(columns=['Pk','Tm','Player','College'])\n",
    "\n",
    "for year in range(2007,2021):\n",
    "\n",
    "    df = pd.read_csv(f\"./data/{year}draft.csv\")\n",
    "    \n",
    "    combined_draft_data = combined_draft_data.append(df, ignore_index=True)\n",
    "\n",
    "combined_draft_data.to_csv(\"./data/combined_draft_data.csv\",index=False)"
   ]
  },
  {
   "cell_type": "code",
   "execution_count": 16,
   "metadata": {},
   "outputs": [],
   "source": [
    "combined_stats_data = pd.DataFrame(columns=['#', 'Player', 'Team', 'GP', 'MPG', 'FGM', 'FGA', 'FG%', '3PM', '3PA', '3P%', 'FTM', 'FTA', 'FT%','TOV', 'PF', 'ORB', 'DRB', 'RPG', 'APG', 'SPG', 'BPG', 'PPG'])\n",
    "\n",
    "for year in range(2007,2021):\n",
    "\n",
    "    df = pd.read_csv(f\"./data/{year-1}-{year}stats.csv\")\n",
    "    \n",
    "    combined_stats_data = combined_stats_data.append(df, ignore_index=True)\n",
    "\n",
    "combined_stats_data.to_csv(\"./data/combined_stats_data.csv\",index=False)\n"
   ]
  },
  {
   "cell_type": "code",
   "execution_count": 45,
   "metadata": {},
   "outputs": [],
   "source": [
    "college_players = combined_stats_data['Player'].str.replace(' [J|S]r\\.$| I*$','', regex=True).to_list()"
   ]
  },
  {
   "cell_type": "code",
   "execution_count": 36,
   "metadata": {},
   "outputs": [
    {
     "output_type": "execute_result",
     "data": {
      "text/plain": [
       "'Frank Mason'"
      ]
     },
     "metadata": {},
     "execution_count": 36
    }
   ],
   "source": [
    "name = \"Frank Mason III\"\n",
    "name2 = name.replace(\" III\", '')\n",
    "name2"
   ]
  },
  {
   "cell_type": "code",
   "execution_count": 47,
   "metadata": {},
   "outputs": [],
   "source": [
    "drafted_players = combined_draft_data['Player'].str.replace(' [J|S]r\\.$| I*$','', regex=True).to_list()"
   ]
  },
  {
   "cell_type": "code",
   "execution_count": 48,
   "metadata": {},
   "outputs": [
    {
     "output_type": "stream",
     "name": "stdout",
     "text": [
      "Sean Williams 1\nGabe Pruitt 2\nStéphane Lasme 3\nDonté Greene 4\nWalter Sharpe 5\nPatrick Ewing 6\nGreivis Vásquez 7\nDaniel Orton 8\nHamady N'Diaye 9\nKyrie Irving 10\nNikola Vučević 11\nJosh Selby 12\nJeff Taylor 13\nNerlens Noel 14\nCJ McCollum 15\nRicky Ledo 16\nKelly Oubre 17\nRashad Vaughn 18\nLarry Nance 19\nChris McCullough 20\nSir'Dominic Pointer 21\nWade Baldwin 22\nSkal Labissière 23\nCheick Diallo 24\nMichael Gbinije 25\nHarry Giles 26\nOG Anunoby 27\nTony Bradley 28\nIke Anigbogu 29\nJaren Jackson 30\nMo Bamba 31\nWendell Carter 32\nMichael Porter 33\nTroy Brown 34\nMoritz Wagner 35\nMelvin Frazier 36\nGary Trent 37\nJarred Vanderbilt 38\nBruce Brown 39\nSviatoslav Mykhailiuk 40\nRay Spalding 41\nRJ Barrett 42\nKevin Porter 43\nBol Bol 44\nJames Wiseman 45\nKira Lewis 46\nVernon Carey 47\nXavier Tillman 48\nCJ Elleby 49\nJay Scrubb 50\nPaul Reed 51\n"
     ]
    }
   ],
   "source": [
    "count = 0\n",
    "for player in drafted_players:\n",
    "    \n",
    "    if player not in college_players:\n",
    "        count+= 1\n",
    "        print(player,count)"
   ]
  },
  {
   "cell_type": "code",
   "execution_count": 50,
   "metadata": {},
   "outputs": [
    {
     "output_type": "execute_result",
     "data": {
      "text/plain": [
       "0.07511045655375552"
      ]
     },
     "metadata": {},
     "execution_count": 50
    }
   ],
   "source": [
    "51 / len(drafted_players)"
   ]
  },
  {
   "cell_type": "code",
   "execution_count": null,
   "metadata": {},
   "outputs": [],
   "source": []
  }
 ]
}
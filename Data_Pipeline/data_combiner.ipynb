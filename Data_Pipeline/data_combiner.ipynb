{
 "metadata": {
  "language_info": {
   "codemirror_mode": {
    "name": "ipython",
    "version": 3
   },
   "file_extension": ".py",
   "mimetype": "text/x-python",
   "name": "python",
   "nbconvert_exporter": "python",
   "pygments_lexer": "ipython3",
   "version": "3.7.9"
  },
  "orig_nbformat": 2,
  "kernelspec": {
   "name": "pythondata",
   "display_name": "PythonData",
   "language": "python"
  }
 },
 "nbformat": 4,
 "nbformat_minor": 2,
 "cells": [
  {
   "cell_type": "code",
   "execution_count": 3,
   "metadata": {},
   "outputs": [],
   "source": [
    "import pandas as pd"
   ]
  },
  {
   "cell_type": "code",
   "execution_count": 10,
   "metadata": {},
   "outputs": [
    {
     "output_type": "execute_result",
     "data": {
      "text/plain": [
       "     Pk   Tm        Player                College\n",
       "0     1  POR     Greg Oden             Ohio State\n",
       "1     2  SEA  Kevin Durant                  Texas\n",
       "2     3  ATL    Al Horford                Florida\n",
       "3     4  MEM   Mike Conley             Ohio State\n",
       "4     5  BOS    Jeff Green             Georgetown\n",
       "..   ..  ...           ...                    ...\n",
       "674  56  CHO  Grant Riller  College of Charleston\n",
       "675  57  LAC  Reggie Perry      Mississippi State\n",
       "676  58  PHI     Paul Reed                 DePaul\n",
       "677  59  TOR  Jalen Harris                 Nevada\n",
       "678  60  NOP   Sam Merrill  Utah State University\n",
       "\n",
       "[679 rows x 4 columns]"
      ],
      "text/html": "<div>\n<style scoped>\n    .dataframe tbody tr th:only-of-type {\n        vertical-align: middle;\n    }\n\n    .dataframe tbody tr th {\n        vertical-align: top;\n    }\n\n    .dataframe thead th {\n        text-align: right;\n    }\n</style>\n<table border=\"1\" class=\"dataframe\">\n  <thead>\n    <tr style=\"text-align: right;\">\n      <th></th>\n      <th>Pk</th>\n      <th>Tm</th>\n      <th>Player</th>\n      <th>College</th>\n    </tr>\n  </thead>\n  <tbody>\n    <tr>\n      <th>0</th>\n      <td>1</td>\n      <td>POR</td>\n      <td>Greg Oden</td>\n      <td>Ohio State</td>\n    </tr>\n    <tr>\n      <th>1</th>\n      <td>2</td>\n      <td>SEA</td>\n      <td>Kevin Durant</td>\n      <td>Texas</td>\n    </tr>\n    <tr>\n      <th>2</th>\n      <td>3</td>\n      <td>ATL</td>\n      <td>Al Horford</td>\n      <td>Florida</td>\n    </tr>\n    <tr>\n      <th>3</th>\n      <td>4</td>\n      <td>MEM</td>\n      <td>Mike Conley</td>\n      <td>Ohio State</td>\n    </tr>\n    <tr>\n      <th>4</th>\n      <td>5</td>\n      <td>BOS</td>\n      <td>Jeff Green</td>\n      <td>Georgetown</td>\n    </tr>\n    <tr>\n      <th>...</th>\n      <td>...</td>\n      <td>...</td>\n      <td>...</td>\n      <td>...</td>\n    </tr>\n    <tr>\n      <th>674</th>\n      <td>56</td>\n      <td>CHO</td>\n      <td>Grant Riller</td>\n      <td>College of Charleston</td>\n    </tr>\n    <tr>\n      <th>675</th>\n      <td>57</td>\n      <td>LAC</td>\n      <td>Reggie Perry</td>\n      <td>Mississippi State</td>\n    </tr>\n    <tr>\n      <th>676</th>\n      <td>58</td>\n      <td>PHI</td>\n      <td>Paul Reed</td>\n      <td>DePaul</td>\n    </tr>\n    <tr>\n      <th>677</th>\n      <td>59</td>\n      <td>TOR</td>\n      <td>Jalen Harris</td>\n      <td>Nevada</td>\n    </tr>\n    <tr>\n      <th>678</th>\n      <td>60</td>\n      <td>NOP</td>\n      <td>Sam Merrill</td>\n      <td>Utah State University</td>\n    </tr>\n  </tbody>\n</table>\n<p>679 rows × 4 columns</p>\n</div>"
     },
     "metadata": {},
     "execution_count": 10
    }
   ],
   "source": [
    "combined_draft_data = pd.DataFrame(columns=['Pk','Tm','Player','College'])\n",
    "\n",
    "for year in range(2007,2021):\n",
    "\n",
    "    df = pd.read_csv(f\"./data/{year}draft.csv\")\n",
    "    \n",
    "    combined_draft_data = combined_draft_data.append(df, ignore_index=True)\n",
    "\n",
    "combined_draft_data.to_csv()"
   ]
  },
  {
   "cell_type": "code",
   "execution_count": 9,
   "metadata": {},
   "outputs": [
    {
     "output_type": "execute_result",
     "data": {
      "text/plain": [
       "    Pk   Tm             Player             College\n",
       "0    1  WAS          John Wall            Kentucky\n",
       "1    2  PHI        Evan Turner          Ohio State\n",
       "2    3  NJN     Derrick Favors        Georgia Tech\n",
       "3    4  MIN     Wesley Johnson            Syracuse\n",
       "4    5  SAC   DeMarcus Cousins            Kentucky\n",
       "5    6  GSW          Ekpe Udoh              Baylor\n",
       "6    7  DET        Greg Monroe          Georgetown\n",
       "7    8  LAC    Al-Farouq Aminu         Wake Forest\n",
       "8    9  UTA     Gordon Hayward              Butler\n",
       "9   10  IND        Paul George        Fresno State\n",
       "10  11  NOH       Cole Aldrich              Kansas\n",
       "11  12  MEM       Xavier Henry              Kansas\n",
       "12  13  TOR           Ed Davis                 UNC\n",
       "13  14  HOU  Patrick Patterson            Kentucky\n",
       "14  15  MIL      Larry Sanders                 VCU\n",
       "15  16  MIN       Luke Babbitt              Nevada\n",
       "16  18  OKC       Eric Bledsoe            Kentucky\n",
       "17  19  BOS      Avery Bradley               Texas\n",
       "18  20  SAS     James Anderson      Oklahoma State\n",
       "19  21  OKC     Craig Brackins          Iowa State\n",
       "20  22  POR    Elliot Williams             Memphis\n",
       "21  23  MIN      Trevor Booker             Clemson\n",
       "22  24  ATL       Damion James               Texas\n",
       "23  25  MEM    Dominique Jones       South Florida\n",
       "24  26  OKC   Quincy Pondexter          Washington\n",
       "25  27  NJN    Jordan Crawford              Xavier\n",
       "26  28  MEM    Greivis Vásquez            Maryland\n",
       "27  29  ORL       Daniel Orton            Kentucky\n",
       "28  30  WAS      Lazar Hayward           Marquette\n",
       "29  32  MIA     Dexter Pittman               Texas\n",
       "30  33  SAC   Hassan Whiteside            Marshall\n",
       "31  34  POR      Armon Johnson              Nevada\n",
       "32  36  DET      Terrico White            Ole Miss\n",
       "33  37  MIL   Darington Hobson          New Mexico\n",
       "34  38  NYK       Andy Rautins            Syracuse\n",
       "35  39  NYK      Landry Fields            Stanford\n",
       "36  40  IND   Lance Stephenson          Cincinnati\n",
       "37  41  MIA     Jarvis Varnado   Mississippi State\n",
       "38  42  MIA     Da'Sean Butler       West Virginia\n",
       "39  43  LAL       Devin Ebanks       West Virginia\n",
       "40  44  MIL      Jerome Jordan               Tulsa\n",
       "41  46  PHO         Gani Lawal        Georgia Tech\n",
       "42  47  MIL        Tiny Gallon            Oklahoma\n",
       "43  50  DAL      Solomon Alabi       Florida State\n",
       "44  51  OKC       Magnum Rolle      Louisiana Tech\n",
       "45  52  BOS     Luke Harangody          Notre Dame\n",
       "46  54  LAC      Willie Warren            Oklahoma\n",
       "47  55  UTA       Jeremy Evans    Western Kentucky\n",
       "48  56  MIN     Hamady N'Diaye  Rutgers University\n",
       "49  57  IND          Ryan Reid       Florida State\n",
       "50  58  LAL   Derrick Caracter       Texas-El Paso\n",
       "51  59  ORL   Stanley Robinson               UConn\n",
       "52  60  PHO     Dwayne Collins          Miami (FL)"
      ],
      "text/html": "<div>\n<style scoped>\n    .dataframe tbody tr th:only-of-type {\n        vertical-align: middle;\n    }\n\n    .dataframe tbody tr th {\n        vertical-align: top;\n    }\n\n    .dataframe thead th {\n        text-align: right;\n    }\n</style>\n<table border=\"1\" class=\"dataframe\">\n  <thead>\n    <tr style=\"text-align: right;\">\n      <th></th>\n      <th>Pk</th>\n      <th>Tm</th>\n      <th>Player</th>\n      <th>College</th>\n    </tr>\n  </thead>\n  <tbody>\n    <tr>\n      <th>0</th>\n      <td>1</td>\n      <td>WAS</td>\n      <td>John Wall</td>\n      <td>Kentucky</td>\n    </tr>\n    <tr>\n      <th>1</th>\n      <td>2</td>\n      <td>PHI</td>\n      <td>Evan Turner</td>\n      <td>Ohio State</td>\n    </tr>\n    <tr>\n      <th>2</th>\n      <td>3</td>\n      <td>NJN</td>\n      <td>Derrick Favors</td>\n      <td>Georgia Tech</td>\n    </tr>\n    <tr>\n      <th>3</th>\n      <td>4</td>\n      <td>MIN</td>\n      <td>Wesley Johnson</td>\n      <td>Syracuse</td>\n    </tr>\n    <tr>\n      <th>4</th>\n      <td>5</td>\n      <td>SAC</td>\n      <td>DeMarcus Cousins</td>\n      <td>Kentucky</td>\n    </tr>\n    <tr>\n      <th>5</th>\n      <td>6</td>\n      <td>GSW</td>\n      <td>Ekpe Udoh</td>\n      <td>Baylor</td>\n    </tr>\n    <tr>\n      <th>6</th>\n      <td>7</td>\n      <td>DET</td>\n      <td>Greg Monroe</td>\n      <td>Georgetown</td>\n    </tr>\n    <tr>\n      <th>7</th>\n      <td>8</td>\n      <td>LAC</td>\n      <td>Al-Farouq Aminu</td>\n      <td>Wake Forest</td>\n    </tr>\n    <tr>\n      <th>8</th>\n      <td>9</td>\n      <td>UTA</td>\n      <td>Gordon Hayward</td>\n      <td>Butler</td>\n    </tr>\n    <tr>\n      <th>9</th>\n      <td>10</td>\n      <td>IND</td>\n      <td>Paul George</td>\n      <td>Fresno State</td>\n    </tr>\n    <tr>\n      <th>10</th>\n      <td>11</td>\n      <td>NOH</td>\n      <td>Cole Aldrich</td>\n      <td>Kansas</td>\n    </tr>\n    <tr>\n      <th>11</th>\n      <td>12</td>\n      <td>MEM</td>\n      <td>Xavier Henry</td>\n      <td>Kansas</td>\n    </tr>\n    <tr>\n      <th>12</th>\n      <td>13</td>\n      <td>TOR</td>\n      <td>Ed Davis</td>\n      <td>UNC</td>\n    </tr>\n    <tr>\n      <th>13</th>\n      <td>14</td>\n      <td>HOU</td>\n      <td>Patrick Patterson</td>\n      <td>Kentucky</td>\n    </tr>\n    <tr>\n      <th>14</th>\n      <td>15</td>\n      <td>MIL</td>\n      <td>Larry Sanders</td>\n      <td>VCU</td>\n    </tr>\n    <tr>\n      <th>15</th>\n      <td>16</td>\n      <td>MIN</td>\n      <td>Luke Babbitt</td>\n      <td>Nevada</td>\n    </tr>\n    <tr>\n      <th>16</th>\n      <td>18</td>\n      <td>OKC</td>\n      <td>Eric Bledsoe</td>\n      <td>Kentucky</td>\n    </tr>\n    <tr>\n      <th>17</th>\n      <td>19</td>\n      <td>BOS</td>\n      <td>Avery Bradley</td>\n      <td>Texas</td>\n    </tr>\n    <tr>\n      <th>18</th>\n      <td>20</td>\n      <td>SAS</td>\n      <td>James Anderson</td>\n      <td>Oklahoma State</td>\n    </tr>\n    <tr>\n      <th>19</th>\n      <td>21</td>\n      <td>OKC</td>\n      <td>Craig Brackins</td>\n      <td>Iowa State</td>\n    </tr>\n    <tr>\n      <th>20</th>\n      <td>22</td>\n      <td>POR</td>\n      <td>Elliot Williams</td>\n      <td>Memphis</td>\n    </tr>\n    <tr>\n      <th>21</th>\n      <td>23</td>\n      <td>MIN</td>\n      <td>Trevor Booker</td>\n      <td>Clemson</td>\n    </tr>\n    <tr>\n      <th>22</th>\n      <td>24</td>\n      <td>ATL</td>\n      <td>Damion James</td>\n      <td>Texas</td>\n    </tr>\n    <tr>\n      <th>23</th>\n      <td>25</td>\n      <td>MEM</td>\n      <td>Dominique Jones</td>\n      <td>South Florida</td>\n    </tr>\n    <tr>\n      <th>24</th>\n      <td>26</td>\n      <td>OKC</td>\n      <td>Quincy Pondexter</td>\n      <td>Washington</td>\n    </tr>\n    <tr>\n      <th>25</th>\n      <td>27</td>\n      <td>NJN</td>\n      <td>Jordan Crawford</td>\n      <td>Xavier</td>\n    </tr>\n    <tr>\n      <th>26</th>\n      <td>28</td>\n      <td>MEM</td>\n      <td>Greivis Vásquez</td>\n      <td>Maryland</td>\n    </tr>\n    <tr>\n      <th>27</th>\n      <td>29</td>\n      <td>ORL</td>\n      <td>Daniel Orton</td>\n      <td>Kentucky</td>\n    </tr>\n    <tr>\n      <th>28</th>\n      <td>30</td>\n      <td>WAS</td>\n      <td>Lazar Hayward</td>\n      <td>Marquette</td>\n    </tr>\n    <tr>\n      <th>29</th>\n      <td>32</td>\n      <td>MIA</td>\n      <td>Dexter Pittman</td>\n      <td>Texas</td>\n    </tr>\n    <tr>\n      <th>30</th>\n      <td>33</td>\n      <td>SAC</td>\n      <td>Hassan Whiteside</td>\n      <td>Marshall</td>\n    </tr>\n    <tr>\n      <th>31</th>\n      <td>34</td>\n      <td>POR</td>\n      <td>Armon Johnson</td>\n      <td>Nevada</td>\n    </tr>\n    <tr>\n      <th>32</th>\n      <td>36</td>\n      <td>DET</td>\n      <td>Terrico White</td>\n      <td>Ole Miss</td>\n    </tr>\n    <tr>\n      <th>33</th>\n      <td>37</td>\n      <td>MIL</td>\n      <td>Darington Hobson</td>\n      <td>New Mexico</td>\n    </tr>\n    <tr>\n      <th>34</th>\n      <td>38</td>\n      <td>NYK</td>\n      <td>Andy Rautins</td>\n      <td>Syracuse</td>\n    </tr>\n    <tr>\n      <th>35</th>\n      <td>39</td>\n      <td>NYK</td>\n      <td>Landry Fields</td>\n      <td>Stanford</td>\n    </tr>\n    <tr>\n      <th>36</th>\n      <td>40</td>\n      <td>IND</td>\n      <td>Lance Stephenson</td>\n      <td>Cincinnati</td>\n    </tr>\n    <tr>\n      <th>37</th>\n      <td>41</td>\n      <td>MIA</td>\n      <td>Jarvis Varnado</td>\n      <td>Mississippi State</td>\n    </tr>\n    <tr>\n      <th>38</th>\n      <td>42</td>\n      <td>MIA</td>\n      <td>Da'Sean Butler</td>\n      <td>West Virginia</td>\n    </tr>\n    <tr>\n      <th>39</th>\n      <td>43</td>\n      <td>LAL</td>\n      <td>Devin Ebanks</td>\n      <td>West Virginia</td>\n    </tr>\n    <tr>\n      <th>40</th>\n      <td>44</td>\n      <td>MIL</td>\n      <td>Jerome Jordan</td>\n      <td>Tulsa</td>\n    </tr>\n    <tr>\n      <th>41</th>\n      <td>46</td>\n      <td>PHO</td>\n      <td>Gani Lawal</td>\n      <td>Georgia Tech</td>\n    </tr>\n    <tr>\n      <th>42</th>\n      <td>47</td>\n      <td>MIL</td>\n      <td>Tiny Gallon</td>\n      <td>Oklahoma</td>\n    </tr>\n    <tr>\n      <th>43</th>\n      <td>50</td>\n      <td>DAL</td>\n      <td>Solomon Alabi</td>\n      <td>Florida State</td>\n    </tr>\n    <tr>\n      <th>44</th>\n      <td>51</td>\n      <td>OKC</td>\n      <td>Magnum Rolle</td>\n      <td>Louisiana Tech</td>\n    </tr>\n    <tr>\n      <th>45</th>\n      <td>52</td>\n      <td>BOS</td>\n      <td>Luke Harangody</td>\n      <td>Notre Dame</td>\n    </tr>\n    <tr>\n      <th>46</th>\n      <td>54</td>\n      <td>LAC</td>\n      <td>Willie Warren</td>\n      <td>Oklahoma</td>\n    </tr>\n    <tr>\n      <th>47</th>\n      <td>55</td>\n      <td>UTA</td>\n      <td>Jeremy Evans</td>\n      <td>Western Kentucky</td>\n    </tr>\n    <tr>\n      <th>48</th>\n      <td>56</td>\n      <td>MIN</td>\n      <td>Hamady N'Diaye</td>\n      <td>Rutgers University</td>\n    </tr>\n    <tr>\n      <th>49</th>\n      <td>57</td>\n      <td>IND</td>\n      <td>Ryan Reid</td>\n      <td>Florida State</td>\n    </tr>\n    <tr>\n      <th>50</th>\n      <td>58</td>\n      <td>LAL</td>\n      <td>Derrick Caracter</td>\n      <td>Texas-El Paso</td>\n    </tr>\n    <tr>\n      <th>51</th>\n      <td>59</td>\n      <td>ORL</td>\n      <td>Stanley Robinson</td>\n      <td>UConn</td>\n    </tr>\n    <tr>\n      <th>52</th>\n      <td>60</td>\n      <td>PHO</td>\n      <td>Dwayne Collins</td>\n      <td>Miami (FL)</td>\n    </tr>\n  </tbody>\n</table>\n</div>"
     },
     "metadata": {},
     "execution_count": 9
    }
   ],
   "source": [
    "year=2010\n",
    "pd.read_csv(f\"./data/{year}draft.csv\")"
   ]
  },
  {
   "cell_type": "code",
   "execution_count": null,
   "metadata": {},
   "outputs": [],
   "source": []
  }
 ]
}
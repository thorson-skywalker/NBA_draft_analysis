{
 "metadata": {
  "language_info": {
   "codemirror_mode": {
    "name": "ipython",
    "version": 3
   },
   "file_extension": ".py",
   "mimetype": "text/x-python",
   "name": "python",
   "nbconvert_exporter": "python",
   "pygments_lexer": "ipython3",
   "version": "3.7.9"
  },
  "orig_nbformat": 2,
  "kernelspec": {
   "name": "pythondata",
   "display_name": "PythonData",
   "language": "python"
  }
 },
 "nbformat": 4,
 "nbformat_minor": 2,
 "cells": [
  {
   "cell_type": "code",
   "execution_count": 2,
   "metadata": {},
   "outputs": [],
   "source": [
    "import pandas as pd"
   ]
  },
  {
   "cell_type": "code",
   "execution_count": 3,
   "metadata": {},
   "outputs": [],
   "source": [
    "def data_combiner(first_year=2007,last_year=2020):\n",
    "\n",
    "    # Create empty DF for data to be combined into\n",
    "    combined_stats_data = pd.DataFrame(columns=['#', 'Player', 'Team', 'GP', 'MPG', 'FGM', 'FGA', 'FG%', '3PM', '3PA', '3P%', 'FTM', 'FTA', 'FT%','TOV', 'PF', 'ORB', 'DRB', 'RPG', 'APG', 'SPG', 'BPG', 'PPG'])\n",
    "\n",
    "    # Go through each year in inputted range\n",
    "    for year in range(first_year,last_year+1):\n",
    "\n",
    "        # Read csv into DF \n",
    "        df = pd.read_csv(f\"./data/{year-1}-{year}stats.csv\")\n",
    "\n",
    "        # Add a column for the season the data is coming from\n",
    "        df['Year'] = f'{year}'\n",
    "\n",
    "        # Use RegEx to conform Player name data to a standard\n",
    "        combined_stats_data['Player'] = combined_stats_data['Player'].str.replace(',? [J|S]r\\.$| I*$','', regex=True)\\\n",
    "        .str.replace('[ëèéê]','e', regex=True)\\\n",
    "        .str.replace('[áàãăâ]','a', regex=True)\\\n",
    "        .str.replace('[ćċčçȼḉƈ]','c', regex=True)\n",
    "        \n",
    "        # Append the latest data to the main DataFrame\n",
    "        combined_stats_data = combined_stats_data.append(df, ignore_index=True)\n",
    "\n",
    "    # Export the DataFrame \n",
    "    combined_stats_data.to_csv(f\"./data/combined_data/combined_stats_data_{first_year}-{last_year}.csv\",index=False)\n",
    "\n",
    "    # Create empty DF for data to be combined into\n",
    "    combined_draft_data = pd.DataFrame(columns=['Pk','Tm','Player','College'])\n",
    "\n",
    "    # Go through each year in inputted range\n",
    "    for year in range(first_year,last_year+1):\n",
    "\n",
    "        # Read csv into DF \n",
    "        df = pd.read_csv(f\"./data/{year}draft.csv\")\n",
    "\n",
    "        # Add a column for the season the data is coming from\n",
    "        df['Year'] = f'{year}'\n",
    "\n",
    "        # Use RegEx to conform Player name data to a standard\n",
    "        combined_draft_data['Player'] = combined_draft_data['Player'].str.replace(',? [J|S]r\\.$| I*$','', regex=True)\\\n",
    "        .str.replace('[ëèéê]','e', regex=True)\\\n",
    "        .str.replace('[áàãăâ]','a', regex=True)\\\n",
    "        .str.replace('[ćċčçȼḉƈ]','c', regex=True)\n",
    "        \n",
    "        # Append the latest data to the main DataFrame\n",
    "        combined_draft_data = combined_draft_data.append(df, ignore_index=True)\n",
    "\n",
    "    # Export the DataFrame\n",
    "    combined_draft_data.to_csv(f\"./data/combined_data/combined_draft_data_{first_year}-{last_year}.csv\",index=False)\n"
   ]
  },
  {
   "cell_type": "code",
   "execution_count": 27,
   "metadata": {},
   "outputs": [],
   "source": [
    "data_combiner(2007,2019)"
   ]
  },
  {
   "cell_type": "code",
   "execution_count": 4,
   "metadata": {},
   "outputs": [],
   "source": [
    "data_combiner(2007,2020)"
   ]
  },
  {
   "cell_type": "code",
   "execution_count": 4,
   "metadata": {},
   "outputs": [
    {
     "output_type": "stream",
     "name": "stdout",
     "text": [
      "2007\n2008\n2009\n2010\n2011\n2012\n2013\n2014\n2015\n2016\n2017\n2018\n2019\n2020\n"
     ]
    }
   ],
   "source": [
    "for n in range(2007,2021):\n",
    "    print(n)"
   ]
  },
  {
   "cell_type": "code",
   "execution_count": 11,
   "metadata": {},
   "outputs": [],
   "source": [
    "combined_draft_data = pd.DataFrame(columns=['Pk','Tm','Player','College'])\n",
    "\n",
    "for year in range(2007,2021):\n",
    "\n",
    "    df = pd.read_csv(f\"./data/{year}draft.csv\")\n",
    "\n",
    "    df['Year'] = f'{year}'\n",
    "\n",
    "    combined_draft_data['Player'] = combined_draft_data['Player'].str.replace(',? [J|S]r\\.$| I*$','', regex=True)\\\n",
    "    .str.replace('[ëèéê]','e', regex=True)\\\n",
    "    .str.replace('[áàãăâ]','a', regex=True)\\\n",
    "    .str.replace('[ćċčçȼḉƈ]','c', regex=True)\n",
    "    \n",
    "    combined_draft_data = combined_draft_data.append(df, ignore_index=True)\n",
    "\n",
    "combined_draft_data.to_csv(\"./data/combined_data/combined_draft_data.csv\",index=False)"
   ]
  },
  {
   "cell_type": "code",
   "execution_count": 16,
   "metadata": {},
   "outputs": [],
   "source": [
    "combined_stats_data = pd.DataFrame(columns=['#', 'Player', 'Team', 'GP', 'MPG', 'FGM', 'FGA', 'FG%', '3PM', '3PA', '3P%', 'FTM', 'FTA', 'FT%','TOV', 'PF', 'ORB', 'DRB', 'RPG', 'APG', 'SPG', 'BPG', 'PPG'])\n",
    "\n",
    "for year in range(2007,2021):\n",
    "\n",
    "    df = pd.read_csv(f\"./data/{year-1}-{year}stats.csv\")\n",
    "\n",
    "    df['Year'] = f'{year}'\n",
    "\n",
    "    combined_stats_data['Player'] = combined_stats_data['Player'].str.replace(',? [J|S]r\\.$| I*$','', regex=True)\\\n",
    "    .str.replace('[ëèéê]','e', regex=True)\\\n",
    "    .str.replace('[áàãăâ]','a', regex=True)\\\n",
    "    .str.replace('[ćċčçȼḉƈ]','c', regex=True)\n",
    "    \n",
    "    combined_stats_data = combined_stats_data.append(df, ignore_index=True)\n",
    "\n",
    "combined_stats_data.to_csv(f\"./data/combined_data/combined_stats_data_{input_year}-{output_year}.csv\",index=False)\n"
   ]
  },
  {
   "cell_type": "code",
   "execution_count": 23,
   "metadata": {},
   "outputs": [],
   "source": [
    "combined_stats_data = pd.read_csv(\"./data/combined_stats_data.csv\")\n",
    "\n",
    "college_players = combined_stats_data['Player'].str.replace(',? [J|S]r\\.$| I*$','', regex=True)\\\n",
    "    .str.replace('[ëèéê]','e', regex=True)\\\n",
    "    .str.replace('[áàãăâ]','a', regex=True)\\\n",
    "    .str.replace('[ćċčçȼḉƈ]','c', regex=True).to_list()"
   ]
  },
  {
   "cell_type": "code",
   "execution_count": 24,
   "metadata": {},
   "outputs": [],
   "source": [
    "combined_draft_data = pd.read_csv(\"./data/combined_draft_data.csv\")\n",
    "\n",
    "drafted_players = combined_draft_data['Player'].str.replace(',? [J|S]r\\.$| I*$','', regex=True)\\\n",
    "    .str.replace('[ëèéê]','e', regex=True)\\\n",
    "    .str.replace('[áàãăâ]','a', regex=True)\\\n",
    "    .str.replace('[ćċčçȼḉƈ]','c', regex=True).to_list()"
   ]
  },
  {
   "cell_type": "code",
   "execution_count": 25,
   "metadata": {},
   "outputs": [
    {
     "output_type": "stream",
     "name": "stdout",
     "text": [
      "Sean Williams 1\nGabe Pruitt 2\nWalter Sharpe 3\nPatrick Ewing 4\nDaniel Orton 5\nHamady N'Diaye 6\nKyrie Irving 7\nJosh Selby 8\nJeff Taylor 9\nNerlens Noel 10\nCJ McCollum 11\nRicky Ledo 12\nRashad Vaughn 13\nChris McCullough 14\nSir'Dominic Pointer 15\nWade Baldwin 16\nCheick Diallo 17\nMichael Gbinije 18\nHarry Giles 19\nOG Anunoby 20\nTony Bradley 21\nIke Anigbogu 22\nMo Bamba 23\nMichael Porter 24\nMoritz Wagner 25\nJarred Vanderbilt 26\nSviatoslav Mykhailiuk 27\nRay Spalding 28\nRJ Barrett 29\nKevin Porter 30\nBol Bol 31\nJames Wiseman 32\nCJ Elleby 33\nJay Scrubb 34\n"
     ]
    }
   ],
   "source": [
    "count = 0\n",
    "for player in drafted_players:\n",
    "    \n",
    "    if player not in college_players:\n",
    "        count+= 1\n",
    "        print(player,count)"
   ]
  },
  {
   "cell_type": "code",
   "execution_count": 50,
   "metadata": {},
   "outputs": [
    {
     "output_type": "execute_result",
     "data": {
      "text/plain": [
       "0.07511045655375552"
      ]
     },
     "metadata": {},
     "execution_count": 50
    }
   ],
   "source": [
    "51 / len(drafted_players)"
   ]
  },
  {
   "cell_type": "code",
   "execution_count": null,
   "metadata": {},
   "outputs": [],
   "source": []
  }
 ]
}
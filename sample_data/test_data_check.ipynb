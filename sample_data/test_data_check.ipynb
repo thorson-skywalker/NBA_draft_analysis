{
 "metadata": {
  "language_info": {
   "codemirror_mode": {
    "name": "ipython",
    "version": 3
   },
   "file_extension": ".py",
   "mimetype": "text/x-python",
   "name": "python",
   "nbconvert_exporter": "python",
   "pygments_lexer": "ipython3",
   "version": "3.7.9"
  },
  "orig_nbformat": 2,
  "kernelspec": {
   "name": "pythondata",
   "display_name": "Python 3.7.9 64-bit ('PythonData': conda)"
  }
 },
 "nbformat": 4,
 "nbformat_minor": 2,
 "cells": [
  {
   "cell_type": "code",
   "execution_count": 1,
   "metadata": {},
   "outputs": [],
   "source": [
    "import pandas as pd\n",
    "from path import Path"
   ]
  },
  {
   "cell_type": "code",
   "execution_count": 9,
   "metadata": {},
   "outputs": [
    {
     "output_type": "execute_result",
     "data": {
      "text/plain": [
       "                  Player  Team  GP   MPG  FGM   FGA    FG%  3PM   3PA    3P%  \\\n",
       "0             Trae Young    OU  32  35.4  8.2  19.3  0.422  3.7  10.2  0.360   \n",
       "1          Kendrick Nunn    OU  30  37.9  8.7  20.1  0.435  4.5  11.3  0.394   \n",
       "2          Jordan Howard   UCA  35  36.0  8.0  17.5  0.457  3.2   8.2  0.394   \n",
       "3          Chris Clemons   CAM  31  34.0  7.5  16.6  0.452  3.1   8.3  0.371   \n",
       "4  Justin Wright-Foreman   HOF  31  37.8  8.5  19.0  0.449  3.1   8.5  0.366   \n",
       "5              Mike Daum  SDSU  35  31.1  7.8  16.9  0.462  2.7   6.5  0.425   \n",
       "6              R.J. Cole    HU  33  37.9  7.3  18.5  0.394  3.3   9.2  0.359   \n",
       "7    Demontrae Jefferson   TSU  27  37.6  7.7  18.3  0.420  3.1   8.0  0.394   \n",
       "8             Jon Elmore    MU  36  38.3  6.8  15.4  0.438  2.7   7.7  0.355   \n",
       "9           Bryson Scott  IPFW  33  31.1  7.5  16.4  0.457  1.5   5.1  0.296   \n",
       "\n",
       "   ...    FT%  TOV   PF  ORB  DRB   RPG  APG  SPG  BPG   PPG  \n",
       "0  ...  0.861  5.2  1.8  0.4  3.5   3.9  8.7  1.7  0.2  27.4  \n",
       "1  ...  0.838  2.9  2.2  0.9  3.8   4.7  3.8  1.5  0.4  25.9  \n",
       "2  ...  0.888  2.3  1.2  0.3  3.3   3.6  2.7  1.0  0.0  25.1  \n",
       "3  ...  0.861  2.7  1.9  0.3  4.3   4.6  3.1  1.6  0.3  24.9  \n",
       "4  ...  0.799  2.2  2.0  0.3  3.0   3.3  3.2  0.8  0.2  24.4  \n",
       "5  ...  0.851  2.1  2.4  1.8  8.4  10.3  1.3  0.5  0.7  23.9  \n",
       "6  ...  0.770  3.8  2.6  0.8  3.1   3.9  6.0  1.7  0.0  23.7  \n",
       "7  ...  0.823  3.1  2.5  0.7  2.4   3.1  4.6  1.3  0.0  23.3  \n",
       "8  ...  0.826  3.7  1.6  0.4  5.4   5.8  6.7  1.6  0.4  22.7  \n",
       "9  ...  0.818  2.8  2.0  0.6  3.9   4.5  2.6  2.0  0.2  22.6  \n",
       "\n",
       "[10 rows x 22 columns]"
      ],
      "text/html": "<div>\n<style scoped>\n    .dataframe tbody tr th:only-of-type {\n        vertical-align: middle;\n    }\n\n    .dataframe tbody tr th {\n        vertical-align: top;\n    }\n\n    .dataframe thead th {\n        text-align: right;\n    }\n</style>\n<table border=\"1\" class=\"dataframe\">\n  <thead>\n    <tr style=\"text-align: right;\">\n      <th></th>\n      <th>Player</th>\n      <th>Team</th>\n      <th>GP</th>\n      <th>MPG</th>\n      <th>FGM</th>\n      <th>FGA</th>\n      <th>FG%</th>\n      <th>3PM</th>\n      <th>3PA</th>\n      <th>3P%</th>\n      <th>...</th>\n      <th>FT%</th>\n      <th>TOV</th>\n      <th>PF</th>\n      <th>ORB</th>\n      <th>DRB</th>\n      <th>RPG</th>\n      <th>APG</th>\n      <th>SPG</th>\n      <th>BPG</th>\n      <th>PPG</th>\n    </tr>\n  </thead>\n  <tbody>\n    <tr>\n      <th>0</th>\n      <td>Trae Young</td>\n      <td>OU</td>\n      <td>32</td>\n      <td>35.4</td>\n      <td>8.2</td>\n      <td>19.3</td>\n      <td>0.422</td>\n      <td>3.7</td>\n      <td>10.2</td>\n      <td>0.360</td>\n      <td>...</td>\n      <td>0.861</td>\n      <td>5.2</td>\n      <td>1.8</td>\n      <td>0.4</td>\n      <td>3.5</td>\n      <td>3.9</td>\n      <td>8.7</td>\n      <td>1.7</td>\n      <td>0.2</td>\n      <td>27.4</td>\n    </tr>\n    <tr>\n      <th>1</th>\n      <td>Kendrick Nunn</td>\n      <td>OU</td>\n      <td>30</td>\n      <td>37.9</td>\n      <td>8.7</td>\n      <td>20.1</td>\n      <td>0.435</td>\n      <td>4.5</td>\n      <td>11.3</td>\n      <td>0.394</td>\n      <td>...</td>\n      <td>0.838</td>\n      <td>2.9</td>\n      <td>2.2</td>\n      <td>0.9</td>\n      <td>3.8</td>\n      <td>4.7</td>\n      <td>3.8</td>\n      <td>1.5</td>\n      <td>0.4</td>\n      <td>25.9</td>\n    </tr>\n    <tr>\n      <th>2</th>\n      <td>Jordan Howard</td>\n      <td>UCA</td>\n      <td>35</td>\n      <td>36.0</td>\n      <td>8.0</td>\n      <td>17.5</td>\n      <td>0.457</td>\n      <td>3.2</td>\n      <td>8.2</td>\n      <td>0.394</td>\n      <td>...</td>\n      <td>0.888</td>\n      <td>2.3</td>\n      <td>1.2</td>\n      <td>0.3</td>\n      <td>3.3</td>\n      <td>3.6</td>\n      <td>2.7</td>\n      <td>1.0</td>\n      <td>0.0</td>\n      <td>25.1</td>\n    </tr>\n    <tr>\n      <th>3</th>\n      <td>Chris Clemons</td>\n      <td>CAM</td>\n      <td>31</td>\n      <td>34.0</td>\n      <td>7.5</td>\n      <td>16.6</td>\n      <td>0.452</td>\n      <td>3.1</td>\n      <td>8.3</td>\n      <td>0.371</td>\n      <td>...</td>\n      <td>0.861</td>\n      <td>2.7</td>\n      <td>1.9</td>\n      <td>0.3</td>\n      <td>4.3</td>\n      <td>4.6</td>\n      <td>3.1</td>\n      <td>1.6</td>\n      <td>0.3</td>\n      <td>24.9</td>\n    </tr>\n    <tr>\n      <th>4</th>\n      <td>Justin Wright-Foreman</td>\n      <td>HOF</td>\n      <td>31</td>\n      <td>37.8</td>\n      <td>8.5</td>\n      <td>19.0</td>\n      <td>0.449</td>\n      <td>3.1</td>\n      <td>8.5</td>\n      <td>0.366</td>\n      <td>...</td>\n      <td>0.799</td>\n      <td>2.2</td>\n      <td>2.0</td>\n      <td>0.3</td>\n      <td>3.0</td>\n      <td>3.3</td>\n      <td>3.2</td>\n      <td>0.8</td>\n      <td>0.2</td>\n      <td>24.4</td>\n    </tr>\n    <tr>\n      <th>5</th>\n      <td>Mike Daum</td>\n      <td>SDSU</td>\n      <td>35</td>\n      <td>31.1</td>\n      <td>7.8</td>\n      <td>16.9</td>\n      <td>0.462</td>\n      <td>2.7</td>\n      <td>6.5</td>\n      <td>0.425</td>\n      <td>...</td>\n      <td>0.851</td>\n      <td>2.1</td>\n      <td>2.4</td>\n      <td>1.8</td>\n      <td>8.4</td>\n      <td>10.3</td>\n      <td>1.3</td>\n      <td>0.5</td>\n      <td>0.7</td>\n      <td>23.9</td>\n    </tr>\n    <tr>\n      <th>6</th>\n      <td>R.J. Cole</td>\n      <td>HU</td>\n      <td>33</td>\n      <td>37.9</td>\n      <td>7.3</td>\n      <td>18.5</td>\n      <td>0.394</td>\n      <td>3.3</td>\n      <td>9.2</td>\n      <td>0.359</td>\n      <td>...</td>\n      <td>0.770</td>\n      <td>3.8</td>\n      <td>2.6</td>\n      <td>0.8</td>\n      <td>3.1</td>\n      <td>3.9</td>\n      <td>6.0</td>\n      <td>1.7</td>\n      <td>0.0</td>\n      <td>23.7</td>\n    </tr>\n    <tr>\n      <th>7</th>\n      <td>Demontrae Jefferson</td>\n      <td>TSU</td>\n      <td>27</td>\n      <td>37.6</td>\n      <td>7.7</td>\n      <td>18.3</td>\n      <td>0.420</td>\n      <td>3.1</td>\n      <td>8.0</td>\n      <td>0.394</td>\n      <td>...</td>\n      <td>0.823</td>\n      <td>3.1</td>\n      <td>2.5</td>\n      <td>0.7</td>\n      <td>2.4</td>\n      <td>3.1</td>\n      <td>4.6</td>\n      <td>1.3</td>\n      <td>0.0</td>\n      <td>23.3</td>\n    </tr>\n    <tr>\n      <th>8</th>\n      <td>Jon Elmore</td>\n      <td>MU</td>\n      <td>36</td>\n      <td>38.3</td>\n      <td>6.8</td>\n      <td>15.4</td>\n      <td>0.438</td>\n      <td>2.7</td>\n      <td>7.7</td>\n      <td>0.355</td>\n      <td>...</td>\n      <td>0.826</td>\n      <td>3.7</td>\n      <td>1.6</td>\n      <td>0.4</td>\n      <td>5.4</td>\n      <td>5.8</td>\n      <td>6.7</td>\n      <td>1.6</td>\n      <td>0.4</td>\n      <td>22.7</td>\n    </tr>\n    <tr>\n      <th>9</th>\n      <td>Bryson Scott</td>\n      <td>IPFW</td>\n      <td>33</td>\n      <td>31.1</td>\n      <td>7.5</td>\n      <td>16.4</td>\n      <td>0.457</td>\n      <td>1.5</td>\n      <td>5.1</td>\n      <td>0.296</td>\n      <td>...</td>\n      <td>0.818</td>\n      <td>2.8</td>\n      <td>2.0</td>\n      <td>0.6</td>\n      <td>3.9</td>\n      <td>4.5</td>\n      <td>2.6</td>\n      <td>2.0</td>\n      <td>0.2</td>\n      <td>22.6</td>\n    </tr>\n  </tbody>\n</table>\n<p>10 rows × 22 columns</p>\n</div>"
     },
     "metadata": {},
     "execution_count": 9
    }
   ],
   "source": [
    "file_path = Path(\"./NCAAMB2017-18.csv\")\n",
    "draft_path = Path(\"./2018draft.csv\")\n",
    "\n",
    "draft_2018 = pd.read_csv(draft_path)\n",
    "\n",
    "ncaa_stats = pd.read_csv(file_path)\n",
    "ncaa_stats.head(10)"
   ]
  },
  {
   "cell_type": "code",
   "execution_count": 6,
   "metadata": {},
   "outputs": [
    {
     "output_type": "execute_result",
     "data": {
      "text/plain": [
       "              Player  Team  GP   MPG  FGM   FGA    FG%  3PM  3PA    3P%  ...  \\\n",
       "55  Kyle Allman, Jr.  CSUF  32  32.9  6.2  12.7  0.489  1.4  3.3  0.429  ...   \n",
       "\n",
       "      FT%  TOV   PF  ORB  DRB  RPG  APG  SPG  BPG   PPG  \n",
       "55  0.746  2.3  2.1  0.3  3.1  3.5  2.3  1.1  0.2  19.5  \n",
       "\n",
       "[1 rows x 22 columns]"
      ],
      "text/html": "<div>\n<style scoped>\n    .dataframe tbody tr th:only-of-type {\n        vertical-align: middle;\n    }\n\n    .dataframe tbody tr th {\n        vertical-align: top;\n    }\n\n    .dataframe thead th {\n        text-align: right;\n    }\n</style>\n<table border=\"1\" class=\"dataframe\">\n  <thead>\n    <tr style=\"text-align: right;\">\n      <th></th>\n      <th>Player</th>\n      <th>Team</th>\n      <th>GP</th>\n      <th>MPG</th>\n      <th>FGM</th>\n      <th>FGA</th>\n      <th>FG%</th>\n      <th>3PM</th>\n      <th>3PA</th>\n      <th>3P%</th>\n      <th>...</th>\n      <th>FT%</th>\n      <th>TOV</th>\n      <th>PF</th>\n      <th>ORB</th>\n      <th>DRB</th>\n      <th>RPG</th>\n      <th>APG</th>\n      <th>SPG</th>\n      <th>BPG</th>\n      <th>PPG</th>\n    </tr>\n  </thead>\n  <tbody>\n    <tr>\n      <th>55</th>\n      <td>Kyle Allman, Jr.</td>\n      <td>CSUF</td>\n      <td>32</td>\n      <td>32.9</td>\n      <td>6.2</td>\n      <td>12.7</td>\n      <td>0.489</td>\n      <td>1.4</td>\n      <td>3.3</td>\n      <td>0.429</td>\n      <td>...</td>\n      <td>0.746</td>\n      <td>2.3</td>\n      <td>2.1</td>\n      <td>0.3</td>\n      <td>3.1</td>\n      <td>3.5</td>\n      <td>2.3</td>\n      <td>1.1</td>\n      <td>0.2</td>\n      <td>19.5</td>\n    </tr>\n  </tbody>\n</table>\n<p>1 rows × 22 columns</p>\n</div>"
     },
     "metadata": {},
     "execution_count": 6
    }
   ],
   "source": [
    "# Checking row 55 to see if name is in quotes as seen in CSV\n",
    "ncaa_stats.iloc[55:56]"
   ]
  },
  {
   "cell_type": "code",
   "execution_count": 7,
   "metadata": {},
   "outputs": [
    {
     "output_type": "execute_result",
     "data": {
      "text/plain": [
       "Player     object\n",
       "Team       object\n",
       "GP          int64\n",
       "MPG       float64\n",
       "FGM       float64\n",
       "FGA       float64\n",
       "FG%       float64\n",
       "3PM       float64\n",
       "3PA       float64\n",
       "3P%       float64\n",
       "FTM       float64\n",
       "FTA       float64\n",
       "FT%       float64\n",
       "TOV       float64\n",
       "PF        float64\n",
       "ORB       float64\n",
       "DRB       float64\n",
       "RPG       float64\n",
       "APG       float64\n",
       "SPG       float64\n",
       "BPG       float64\n",
       "PPG       float64\n",
       "dtype: object"
      ]
     },
     "metadata": {},
     "execution_count": 7
    }
   ],
   "source": [
    "ncaa_stats.dtypes"
   ]
  },
  {
   "cell_type": "code",
   "execution_count": null,
   "metadata": {},
   "outputs": [],
   "source": []
  },
  {
   "cell_type": "code",
   "execution_count": 10,
   "metadata": {},
   "outputs": [
    {
     "output_type": "execute_result",
     "data": {
      "text/plain": [
       "Pk          int64\n",
       "Tm         object\n",
       "Player     object\n",
       "College    object\n",
       "dtype: object"
      ]
     },
     "metadata": {},
     "execution_count": 10
    }
   ],
   "source": [
    "draft_2018.dtypes"
   ]
  },
  {
   "cell_type": "code",
   "execution_count": 12,
   "metadata": {},
   "outputs": [
    {
     "output_type": "execute_result",
     "data": {
      "text/plain": [
       "   Pk   Tm              Player         College\n",
       "0   1  PHO       Deandre Ayton         Arizona\n",
       "1   2  SAC   Marvin Bagley III            Duke\n",
       "2   3  ATL         Luka Dončić             NaN\n",
       "3   4  MEM   Jaren Jackson Jr.  Michigan State\n",
       "4   5  DAL          Trae Young        Oklahoma\n",
       "5   6  ORL            Mo Bamba           Texas\n",
       "6   7  CHI  Wendell Carter Jr.            Duke\n",
       "7   8  CLE       Collin Sexton         Alabama\n",
       "8   9  NYK          Kevin Knox        Kentucky\n",
       "9  10  PHI       Mikal Bridges       Villanova"
      ],
      "text/html": "<div>\n<style scoped>\n    .dataframe tbody tr th:only-of-type {\n        vertical-align: middle;\n    }\n\n    .dataframe tbody tr th {\n        vertical-align: top;\n    }\n\n    .dataframe thead th {\n        text-align: right;\n    }\n</style>\n<table border=\"1\" class=\"dataframe\">\n  <thead>\n    <tr style=\"text-align: right;\">\n      <th></th>\n      <th>Pk</th>\n      <th>Tm</th>\n      <th>Player</th>\n      <th>College</th>\n    </tr>\n  </thead>\n  <tbody>\n    <tr>\n      <th>0</th>\n      <td>1</td>\n      <td>PHO</td>\n      <td>Deandre Ayton</td>\n      <td>Arizona</td>\n    </tr>\n    <tr>\n      <th>1</th>\n      <td>2</td>\n      <td>SAC</td>\n      <td>Marvin Bagley III</td>\n      <td>Duke</td>\n    </tr>\n    <tr>\n      <th>2</th>\n      <td>3</td>\n      <td>ATL</td>\n      <td>Luka Dončić</td>\n      <td>NaN</td>\n    </tr>\n    <tr>\n      <th>3</th>\n      <td>4</td>\n      <td>MEM</td>\n      <td>Jaren Jackson Jr.</td>\n      <td>Michigan State</td>\n    </tr>\n    <tr>\n      <th>4</th>\n      <td>5</td>\n      <td>DAL</td>\n      <td>Trae Young</td>\n      <td>Oklahoma</td>\n    </tr>\n    <tr>\n      <th>5</th>\n      <td>6</td>\n      <td>ORL</td>\n      <td>Mo Bamba</td>\n      <td>Texas</td>\n    </tr>\n    <tr>\n      <th>6</th>\n      <td>7</td>\n      <td>CHI</td>\n      <td>Wendell Carter Jr.</td>\n      <td>Duke</td>\n    </tr>\n    <tr>\n      <th>7</th>\n      <td>8</td>\n      <td>CLE</td>\n      <td>Collin Sexton</td>\n      <td>Alabama</td>\n    </tr>\n    <tr>\n      <th>8</th>\n      <td>9</td>\n      <td>NYK</td>\n      <td>Kevin Knox</td>\n      <td>Kentucky</td>\n    </tr>\n    <tr>\n      <th>9</th>\n      <td>10</td>\n      <td>PHI</td>\n      <td>Mikal Bridges</td>\n      <td>Villanova</td>\n    </tr>\n  </tbody>\n</table>\n</div>"
     },
     "metadata": {},
     "execution_count": 12
    }
   ],
   "source": [
    "draft_2018.head(10)"
   ]
  },
  {
   "cell_type": "code",
   "execution_count": null,
   "metadata": {},
   "outputs": [],
   "source": []
  }
 ]
}